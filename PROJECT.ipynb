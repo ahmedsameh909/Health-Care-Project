{
 "cells": [
  {
   "cell_type": "markdown",
   "id": "11d73dbb",
   "metadata": {},
   "source": [
    "### <b> Step 1: Importing Required Libraries </b>\n",
    "We import essential Python libraries for data manipulation and visualization:  \n",
    "- **Pandas** for handling datasets.  \n",
    "- **NumPy** for numerical computations.  \n",
    "- **Matplotlib** and **Seaborn** for static data visualizations.  \n",
    "- **Plotly Express** for interactive charts.\n"
   ]
  },
  {
   "cell_type": "code",
   "execution_count": 1,
   "id": "bd96b7de",
   "metadata": {},
   "outputs": [
    {
     "name": "stderr",
     "output_type": "stream",
     "text": [
      "C:\\Users\\Lenovo\\AppData\\Roaming\\Python\\Python313\\site-packages\\tqdm\\auto.py:21: TqdmWarning: IProgress not found. Please update jupyter and ipywidgets. See https://ipywidgets.readthedocs.io/en/stable/user_install.html\n",
      "  from .autonotebook import tqdm as notebook_tqdm\n"
     ]
    }
   ],
   "source": [
    "import pandas as pd\n",
    "import numpy as np\n",
    "import matplotlib.pyplot as plt\n",
    "import seaborn as sns\n",
    "import plotly.express as px\n",
    "import kagglehub\n",
    "import warnings\n",
    "warnings.filterwarnings('ignore')\n",
    "\n",
    "colors = [\"#89CFF0\", \"#FF69B4\", \"#FFD700\", \"#7B68EE\", \"#FF4500\",\n",
    "          \"#9370DB\", \"#32CD32\", \"#8A2BE2\", \"#AE4532\", \"#20B2AA\",\n",
    "          \"#FF69B4\", \"#00CED1\", \"#FF7F50\", \"#7FFF00\", \"#DA70D6\"]"
   ]
  },
  {
   "cell_type": "markdown",
   "id": "cb90761c",
   "metadata": {},
   "source": [
    "### <b> Step2: Downloading the Dataset from Kaggle </b>\n",
    "\n",
    "In this step, we use the **KaggleHub** library to download the dataset directly from Kaggle.  \n",
    "- `kagglehub.dataset_download(\"kamilpytlak/personal-key-indicators-of-heart-disease\")` fetches the dataset titled *\"Personal Key Indicators of Heart Disease\"* from Kaggle and stores it locally.  \n",
    "- The variable `path` stores the local directory path where the dataset files are downloaded.  \n",
    "- `print(\"Path to dataset files:\", path)` displays the location so we can easily access and load the data in the next steps.\n"
   ]
  },
  {
   "cell_type": "code",
   "execution_count": 2,
   "id": "139f8695",
   "metadata": {},
   "outputs": [
    {
     "name": "stdout",
     "output_type": "stream",
     "text": [
      "Path to dataset files: C:\\Users\\Lenovo\\.cache\\kagglehub\\datasets\\kamilpytlak\\personal-key-indicators-of-heart-disease\\versions\\6\n"
     ]
    }
   ],
   "source": [
    "path = kagglehub.dataset_download(\"kamilpytlak/personal-key-indicators-of-heart-disease\")\n",
    "\n",
    "print(\"Path to dataset files:\", path)"
   ]
  },
  {
   "cell_type": "code",
   "execution_count": 3,
   "id": "c4bf181d",
   "metadata": {},
   "outputs": [],
   "source": [
    "Data_path=path+'/2022/heart_2022_with_nans.csv'\n",
    "Data =pd.read_csv(Data_path)"
   ]
  },
  {
   "cell_type": "markdown",
   "id": "276f72ea",
   "metadata": {},
   "source": [
    "### <b> Step 3: Exploring the Dataset </b>\n",
    "We start exploring the dataset to understand its structure and content.  \n",
    "- `Data.info()` → shows data types and missing values.  \n",
    "- `Data.head()` → displays the first few rows.  \n",
    "- `Data.describe()` → gives statistical summaries of numerical columns.\n",
    "- `Data.columns` → to display the names of all columns (features) in the dataset."
   ]
  },
  {
   "cell_type": "code",
   "execution_count": 4,
   "id": "f5cba99d",
   "metadata": {},
   "outputs": [
    {
     "data": {
      "text/html": [
       "<div>\n",
       "<style scoped>\n",
       "    .dataframe tbody tr th:only-of-type {\n",
       "        vertical-align: middle;\n",
       "    }\n",
       "\n",
       "    .dataframe tbody tr th {\n",
       "        vertical-align: top;\n",
       "    }\n",
       "\n",
       "    .dataframe thead th {\n",
       "        text-align: right;\n",
       "    }\n",
       "</style>\n",
       "<table border=\"1\" class=\"dataframe\">\n",
       "  <thead>\n",
       "    <tr style=\"text-align: right;\">\n",
       "      <th></th>\n",
       "      <th>State</th>\n",
       "      <th>Sex</th>\n",
       "      <th>GeneralHealth</th>\n",
       "      <th>PhysicalHealthDays</th>\n",
       "      <th>MentalHealthDays</th>\n",
       "      <th>LastCheckupTime</th>\n",
       "      <th>PhysicalActivities</th>\n",
       "      <th>SleepHours</th>\n",
       "      <th>RemovedTeeth</th>\n",
       "      <th>HadHeartAttack</th>\n",
       "      <th>...</th>\n",
       "      <th>HeightInMeters</th>\n",
       "      <th>WeightInKilograms</th>\n",
       "      <th>BMI</th>\n",
       "      <th>AlcoholDrinkers</th>\n",
       "      <th>HIVTesting</th>\n",
       "      <th>FluVaxLast12</th>\n",
       "      <th>PneumoVaxEver</th>\n",
       "      <th>TetanusLast10Tdap</th>\n",
       "      <th>HighRiskLastYear</th>\n",
       "      <th>CovidPos</th>\n",
       "    </tr>\n",
       "  </thead>\n",
       "  <tbody>\n",
       "    <tr>\n",
       "      <th>0</th>\n",
       "      <td>Alabama</td>\n",
       "      <td>Female</td>\n",
       "      <td>Very good</td>\n",
       "      <td>0.0</td>\n",
       "      <td>0.0</td>\n",
       "      <td>Within past year (anytime less than 12 months ...</td>\n",
       "      <td>No</td>\n",
       "      <td>8.0</td>\n",
       "      <td>NaN</td>\n",
       "      <td>No</td>\n",
       "      <td>...</td>\n",
       "      <td>NaN</td>\n",
       "      <td>NaN</td>\n",
       "      <td>NaN</td>\n",
       "      <td>No</td>\n",
       "      <td>No</td>\n",
       "      <td>Yes</td>\n",
       "      <td>No</td>\n",
       "      <td>Yes, received tetanus shot but not sure what type</td>\n",
       "      <td>No</td>\n",
       "      <td>No</td>\n",
       "    </tr>\n",
       "    <tr>\n",
       "      <th>1</th>\n",
       "      <td>Alabama</td>\n",
       "      <td>Female</td>\n",
       "      <td>Excellent</td>\n",
       "      <td>0.0</td>\n",
       "      <td>0.0</td>\n",
       "      <td>NaN</td>\n",
       "      <td>No</td>\n",
       "      <td>6.0</td>\n",
       "      <td>NaN</td>\n",
       "      <td>No</td>\n",
       "      <td>...</td>\n",
       "      <td>1.60</td>\n",
       "      <td>68.04</td>\n",
       "      <td>26.57</td>\n",
       "      <td>No</td>\n",
       "      <td>No</td>\n",
       "      <td>No</td>\n",
       "      <td>No</td>\n",
       "      <td>No, did not receive any tetanus shot in the pa...</td>\n",
       "      <td>No</td>\n",
       "      <td>No</td>\n",
       "    </tr>\n",
       "    <tr>\n",
       "      <th>2</th>\n",
       "      <td>Alabama</td>\n",
       "      <td>Female</td>\n",
       "      <td>Very good</td>\n",
       "      <td>2.0</td>\n",
       "      <td>3.0</td>\n",
       "      <td>Within past year (anytime less than 12 months ...</td>\n",
       "      <td>Yes</td>\n",
       "      <td>5.0</td>\n",
       "      <td>NaN</td>\n",
       "      <td>No</td>\n",
       "      <td>...</td>\n",
       "      <td>1.57</td>\n",
       "      <td>63.50</td>\n",
       "      <td>25.61</td>\n",
       "      <td>No</td>\n",
       "      <td>No</td>\n",
       "      <td>No</td>\n",
       "      <td>No</td>\n",
       "      <td>NaN</td>\n",
       "      <td>No</td>\n",
       "      <td>Yes</td>\n",
       "    </tr>\n",
       "    <tr>\n",
       "      <th>3</th>\n",
       "      <td>Alabama</td>\n",
       "      <td>Female</td>\n",
       "      <td>Excellent</td>\n",
       "      <td>0.0</td>\n",
       "      <td>0.0</td>\n",
       "      <td>Within past year (anytime less than 12 months ...</td>\n",
       "      <td>Yes</td>\n",
       "      <td>7.0</td>\n",
       "      <td>NaN</td>\n",
       "      <td>No</td>\n",
       "      <td>...</td>\n",
       "      <td>1.65</td>\n",
       "      <td>63.50</td>\n",
       "      <td>23.30</td>\n",
       "      <td>No</td>\n",
       "      <td>No</td>\n",
       "      <td>Yes</td>\n",
       "      <td>Yes</td>\n",
       "      <td>No, did not receive any tetanus shot in the pa...</td>\n",
       "      <td>No</td>\n",
       "      <td>No</td>\n",
       "    </tr>\n",
       "    <tr>\n",
       "      <th>4</th>\n",
       "      <td>Alabama</td>\n",
       "      <td>Female</td>\n",
       "      <td>Fair</td>\n",
       "      <td>2.0</td>\n",
       "      <td>0.0</td>\n",
       "      <td>Within past year (anytime less than 12 months ...</td>\n",
       "      <td>Yes</td>\n",
       "      <td>9.0</td>\n",
       "      <td>NaN</td>\n",
       "      <td>No</td>\n",
       "      <td>...</td>\n",
       "      <td>1.57</td>\n",
       "      <td>53.98</td>\n",
       "      <td>21.77</td>\n",
       "      <td>Yes</td>\n",
       "      <td>No</td>\n",
       "      <td>No</td>\n",
       "      <td>Yes</td>\n",
       "      <td>No, did not receive any tetanus shot in the pa...</td>\n",
       "      <td>No</td>\n",
       "      <td>No</td>\n",
       "    </tr>\n",
       "  </tbody>\n",
       "</table>\n",
       "<p>5 rows × 40 columns</p>\n",
       "</div>"
      ],
      "text/plain": [
       "     State     Sex GeneralHealth  PhysicalHealthDays  MentalHealthDays  \\\n",
       "0  Alabama  Female     Very good                 0.0               0.0   \n",
       "1  Alabama  Female     Excellent                 0.0               0.0   \n",
       "2  Alabama  Female     Very good                 2.0               3.0   \n",
       "3  Alabama  Female     Excellent                 0.0               0.0   \n",
       "4  Alabama  Female          Fair                 2.0               0.0   \n",
       "\n",
       "                                     LastCheckupTime PhysicalActivities  \\\n",
       "0  Within past year (anytime less than 12 months ...                 No   \n",
       "1                                                NaN                 No   \n",
       "2  Within past year (anytime less than 12 months ...                Yes   \n",
       "3  Within past year (anytime less than 12 months ...                Yes   \n",
       "4  Within past year (anytime less than 12 months ...                Yes   \n",
       "\n",
       "   SleepHours RemovedTeeth HadHeartAttack  ... HeightInMeters  \\\n",
       "0         8.0          NaN             No  ...            NaN   \n",
       "1         6.0          NaN             No  ...           1.60   \n",
       "2         5.0          NaN             No  ...           1.57   \n",
       "3         7.0          NaN             No  ...           1.65   \n",
       "4         9.0          NaN             No  ...           1.57   \n",
       "\n",
       "  WeightInKilograms    BMI AlcoholDrinkers HIVTesting FluVaxLast12  \\\n",
       "0               NaN    NaN              No         No          Yes   \n",
       "1             68.04  26.57              No         No           No   \n",
       "2             63.50  25.61              No         No           No   \n",
       "3             63.50  23.30              No         No          Yes   \n",
       "4             53.98  21.77             Yes         No           No   \n",
       "\n",
       "  PneumoVaxEver                                  TetanusLast10Tdap  \\\n",
       "0            No  Yes, received tetanus shot but not sure what type   \n",
       "1            No  No, did not receive any tetanus shot in the pa...   \n",
       "2            No                                                NaN   \n",
       "3           Yes  No, did not receive any tetanus shot in the pa...   \n",
       "4           Yes  No, did not receive any tetanus shot in the pa...   \n",
       "\n",
       "  HighRiskLastYear CovidPos  \n",
       "0               No       No  \n",
       "1               No       No  \n",
       "2               No      Yes  \n",
       "3               No       No  \n",
       "4               No       No  \n",
       "\n",
       "[5 rows x 40 columns]"
      ]
     },
     "execution_count": 4,
     "metadata": {},
     "output_type": "execute_result"
    }
   ],
   "source": [
    "Data.head()"
   ]
  },
  {
   "cell_type": "code",
   "execution_count": 5,
   "id": "0eeab731",
   "metadata": {},
   "outputs": [
    {
     "name": "stdout",
     "output_type": "stream",
     "text": [
      "<class 'pandas.core.frame.DataFrame'>\n",
      "RangeIndex: 445132 entries, 0 to 445131\n",
      "Data columns (total 40 columns):\n",
      " #   Column                     Non-Null Count   Dtype  \n",
      "---  ------                     --------------   -----  \n",
      " 0   State                      445132 non-null  object \n",
      " 1   Sex                        445132 non-null  object \n",
      " 2   GeneralHealth              443934 non-null  object \n",
      " 3   PhysicalHealthDays         434205 non-null  float64\n",
      " 4   MentalHealthDays           436065 non-null  float64\n",
      " 5   LastCheckupTime            436824 non-null  object \n",
      " 6   PhysicalActivities         444039 non-null  object \n",
      " 7   SleepHours                 439679 non-null  float64\n",
      " 8   RemovedTeeth               433772 non-null  object \n",
      " 9   HadHeartAttack             442067 non-null  object \n",
      " 10  HadAngina                  440727 non-null  object \n",
      " 11  HadStroke                  443575 non-null  object \n",
      " 12  HadAsthma                  443359 non-null  object \n",
      " 13  HadSkinCancer              441989 non-null  object \n",
      " 14  HadCOPD                    442913 non-null  object \n",
      " 15  HadDepressiveDisorder      442320 non-null  object \n",
      " 16  HadKidneyDisease           443206 non-null  object \n",
      " 17  HadArthritis               442499 non-null  object \n",
      " 18  HadDiabetes                444045 non-null  object \n",
      " 19  DeafOrHardOfHearing        424485 non-null  object \n",
      " 20  BlindOrVisionDifficulty    423568 non-null  object \n",
      " 21  DifficultyConcentrating    420892 non-null  object \n",
      " 22  DifficultyWalking          421120 non-null  object \n",
      " 23  DifficultyDressingBathing  421217 non-null  object \n",
      " 24  DifficultyErrands          419476 non-null  object \n",
      " 25  SmokerStatus               409670 non-null  object \n",
      " 26  ECigaretteUsage            409472 non-null  object \n",
      " 27  ChestScan                  389086 non-null  object \n",
      " 28  RaceEthnicityCategory      431075 non-null  object \n",
      " 29  AgeCategory                436053 non-null  object \n",
      " 30  HeightInMeters             416480 non-null  float64\n",
      " 31  WeightInKilograms          403054 non-null  float64\n",
      " 32  BMI                        396326 non-null  float64\n",
      " 33  AlcoholDrinkers            398558 non-null  object \n",
      " 34  HIVTesting                 379005 non-null  object \n",
      " 35  FluVaxLast12               398011 non-null  object \n",
      " 36  PneumoVaxEver              368092 non-null  object \n",
      " 37  TetanusLast10Tdap          362616 non-null  object \n",
      " 38  HighRiskLastYear           394509 non-null  object \n",
      " 39  CovidPos                   394368 non-null  object \n",
      "dtypes: float64(6), object(34)\n",
      "memory usage: 135.8+ MB\n"
     ]
    }
   ],
   "source": [
    "Data.info()"
   ]
  },
  {
   "cell_type": "code",
   "execution_count": 6,
   "id": "857a15cf",
   "metadata": {},
   "outputs": [
    {
     "data": {
      "text/html": [
       "<div>\n",
       "<style scoped>\n",
       "    .dataframe tbody tr th:only-of-type {\n",
       "        vertical-align: middle;\n",
       "    }\n",
       "\n",
       "    .dataframe tbody tr th {\n",
       "        vertical-align: top;\n",
       "    }\n",
       "\n",
       "    .dataframe thead th {\n",
       "        text-align: right;\n",
       "    }\n",
       "</style>\n",
       "<table border=\"1\" class=\"dataframe\">\n",
       "  <thead>\n",
       "    <tr style=\"text-align: right;\">\n",
       "      <th></th>\n",
       "      <th>PhysicalHealthDays</th>\n",
       "      <th>MentalHealthDays</th>\n",
       "      <th>SleepHours</th>\n",
       "      <th>HeightInMeters</th>\n",
       "      <th>WeightInKilograms</th>\n",
       "      <th>BMI</th>\n",
       "    </tr>\n",
       "  </thead>\n",
       "  <tbody>\n",
       "    <tr>\n",
       "      <th>count</th>\n",
       "      <td>434205.000000</td>\n",
       "      <td>436065.000000</td>\n",
       "      <td>439679.000000</td>\n",
       "      <td>416480.000000</td>\n",
       "      <td>403054.000000</td>\n",
       "      <td>396326.000000</td>\n",
       "    </tr>\n",
       "    <tr>\n",
       "      <th>mean</th>\n",
       "      <td>4.347919</td>\n",
       "      <td>4.382649</td>\n",
       "      <td>7.022983</td>\n",
       "      <td>1.702691</td>\n",
       "      <td>83.074470</td>\n",
       "      <td>28.529842</td>\n",
       "    </tr>\n",
       "    <tr>\n",
       "      <th>std</th>\n",
       "      <td>8.688912</td>\n",
       "      <td>8.387475</td>\n",
       "      <td>1.502425</td>\n",
       "      <td>0.107177</td>\n",
       "      <td>21.448173</td>\n",
       "      <td>6.554889</td>\n",
       "    </tr>\n",
       "    <tr>\n",
       "      <th>min</th>\n",
       "      <td>0.000000</td>\n",
       "      <td>0.000000</td>\n",
       "      <td>1.000000</td>\n",
       "      <td>0.910000</td>\n",
       "      <td>22.680000</td>\n",
       "      <td>12.020000</td>\n",
       "    </tr>\n",
       "    <tr>\n",
       "      <th>25%</th>\n",
       "      <td>0.000000</td>\n",
       "      <td>0.000000</td>\n",
       "      <td>6.000000</td>\n",
       "      <td>1.630000</td>\n",
       "      <td>68.040000</td>\n",
       "      <td>24.130000</td>\n",
       "    </tr>\n",
       "    <tr>\n",
       "      <th>50%</th>\n",
       "      <td>0.000000</td>\n",
       "      <td>0.000000</td>\n",
       "      <td>7.000000</td>\n",
       "      <td>1.700000</td>\n",
       "      <td>80.740000</td>\n",
       "      <td>27.440000</td>\n",
       "    </tr>\n",
       "    <tr>\n",
       "      <th>75%</th>\n",
       "      <td>3.000000</td>\n",
       "      <td>5.000000</td>\n",
       "      <td>8.000000</td>\n",
       "      <td>1.780000</td>\n",
       "      <td>95.250000</td>\n",
       "      <td>31.750000</td>\n",
       "    </tr>\n",
       "    <tr>\n",
       "      <th>max</th>\n",
       "      <td>30.000000</td>\n",
       "      <td>30.000000</td>\n",
       "      <td>24.000000</td>\n",
       "      <td>2.410000</td>\n",
       "      <td>292.570000</td>\n",
       "      <td>99.640000</td>\n",
       "    </tr>\n",
       "  </tbody>\n",
       "</table>\n",
       "</div>"
      ],
      "text/plain": [
       "       PhysicalHealthDays  MentalHealthDays     SleepHours  HeightInMeters  \\\n",
       "count       434205.000000     436065.000000  439679.000000   416480.000000   \n",
       "mean             4.347919          4.382649       7.022983        1.702691   \n",
       "std              8.688912          8.387475       1.502425        0.107177   \n",
       "min              0.000000          0.000000       1.000000        0.910000   \n",
       "25%              0.000000          0.000000       6.000000        1.630000   \n",
       "50%              0.000000          0.000000       7.000000        1.700000   \n",
       "75%              3.000000          5.000000       8.000000        1.780000   \n",
       "max             30.000000         30.000000      24.000000        2.410000   \n",
       "\n",
       "       WeightInKilograms            BMI  \n",
       "count      403054.000000  396326.000000  \n",
       "mean           83.074470      28.529842  \n",
       "std            21.448173       6.554889  \n",
       "min            22.680000      12.020000  \n",
       "25%            68.040000      24.130000  \n",
       "50%            80.740000      27.440000  \n",
       "75%            95.250000      31.750000  \n",
       "max           292.570000      99.640000  "
      ]
     },
     "execution_count": 6,
     "metadata": {},
     "output_type": "execute_result"
    }
   ],
   "source": [
    "Data.describe()"
   ]
  },
  {
   "cell_type": "code",
   "execution_count": 7,
   "id": "c508588f",
   "metadata": {},
   "outputs": [
    {
     "data": {
      "text/plain": [
       "Index(['State', 'Sex', 'GeneralHealth', 'PhysicalHealthDays',\n",
       "       'MentalHealthDays', 'LastCheckupTime', 'PhysicalActivities',\n",
       "       'SleepHours', 'RemovedTeeth', 'HadHeartAttack', 'HadAngina',\n",
       "       'HadStroke', 'HadAsthma', 'HadSkinCancer', 'HadCOPD',\n",
       "       'HadDepressiveDisorder', 'HadKidneyDisease', 'HadArthritis',\n",
       "       'HadDiabetes', 'DeafOrHardOfHearing', 'BlindOrVisionDifficulty',\n",
       "       'DifficultyConcentrating', 'DifficultyWalking',\n",
       "       'DifficultyDressingBathing', 'DifficultyErrands', 'SmokerStatus',\n",
       "       'ECigaretteUsage', 'ChestScan', 'RaceEthnicityCategory', 'AgeCategory',\n",
       "       'HeightInMeters', 'WeightInKilograms', 'BMI', 'AlcoholDrinkers',\n",
       "       'HIVTesting', 'FluVaxLast12', 'PneumoVaxEver', 'TetanusLast10Tdap',\n",
       "       'HighRiskLastYear', 'CovidPos'],\n",
       "      dtype='object')"
      ]
     },
     "execution_count": 7,
     "metadata": {},
     "output_type": "execute_result"
    }
   ],
   "source": [
    "Data.columns"
   ]
  },
  {
   "cell_type": "code",
   "execution_count": 8,
   "id": "ef173b30",
   "metadata": {},
   "outputs": [
    {
     "data": {
      "text/plain": [
       "State                            0\n",
       "Sex                              0\n",
       "GeneralHealth                 1198\n",
       "PhysicalHealthDays           10927\n",
       "MentalHealthDays              9067\n",
       "LastCheckupTime               8308\n",
       "PhysicalActivities            1093\n",
       "SleepHours                    5453\n",
       "RemovedTeeth                 11360\n",
       "HadHeartAttack                3065\n",
       "HadAngina                     4405\n",
       "HadStroke                     1557\n",
       "HadAsthma                     1773\n",
       "HadSkinCancer                 3143\n",
       "HadCOPD                       2219\n",
       "HadDepressiveDisorder         2812\n",
       "HadKidneyDisease              1926\n",
       "HadArthritis                  2633\n",
       "HadDiabetes                   1087\n",
       "DeafOrHardOfHearing          20647\n",
       "BlindOrVisionDifficulty      21564\n",
       "DifficultyConcentrating      24240\n",
       "DifficultyWalking            24012\n",
       "DifficultyDressingBathing    23915\n",
       "DifficultyErrands            25656\n",
       "SmokerStatus                 35462\n",
       "ECigaretteUsage              35660\n",
       "ChestScan                    56046\n",
       "RaceEthnicityCategory        14057\n",
       "AgeCategory                   9079\n",
       "HeightInMeters               28652\n",
       "WeightInKilograms            42078\n",
       "BMI                          48806\n",
       "AlcoholDrinkers              46574\n",
       "HIVTesting                   66127\n",
       "FluVaxLast12                 47121\n",
       "PneumoVaxEver                77040\n",
       "TetanusLast10Tdap            82516\n",
       "HighRiskLastYear             50623\n",
       "CovidPos                     50764\n",
       "dtype: int64"
      ]
     },
     "execution_count": 8,
     "metadata": {},
     "output_type": "execute_result"
    }
   ],
   "source": [
    "Data.isna().sum()"
   ]
  },
  {
   "cell_type": "markdown",
   "id": "13451912",
   "metadata": {},
   "source": [
    "###  <b>Step 4: Splitting the Dataset into Logical Feature Groups</b>\n",
    "\n",
    "In this step, we organize the dataset into multiple smaller DataFrames based on feature categories.  \n",
    "This makes the analysis, cleaning, and visualization process more structured and manageable, especially since the dataset has many columns.\n",
    "\n",
    "- **`Data_Demographics`** →\n",
    "  *These features describe personal and social background.*\n",
    "\n",
    "- **`Data_lifestyle`** →\n",
    "  *Used to study how daily habits affect health risks.*\n",
    "\n",
    "- **`Data_general`** → \n",
    "  *Helps understand overall well-being and recent checkup frequency.*\n",
    "\n",
    "- **`Data_disease`** → \n",
    "  *These columns will be key predictors for heart disease risk.*\n",
    "\n",
    "- **`Data_disability`** → \n",
    "  *Represents functional limitations that may correlate with health status.*\n",
    "\n",
    "- **`Data_body`** → \n",
    "  *Useful for identifying patterns related to obesity or general physical condition.*\n",
    "\n",
    "- **`Data_vaccine`** →  *May help assess preventive healthcare behavior.*\n",
    "\n",
    "- **`target`** →  *These are the outcomes that predictive models can be trained on later.*\n",
    "\n",
    "<b> Overall, this segmentation improves clarity, reduces complexity, and prepares the dataset for focused EDA and modeling. </b>\n"
   ]
  },
  {
   "cell_type": "code",
   "execution_count": 9,
   "id": "b1d5a648",
   "metadata": {},
   "outputs": [],
   "source": [
    "Data_Demographics=Data[['State','Sex','RaceEthnicityCategory','AgeCategory']]\n",
    "Data_lifestyle = Data[['PhysicalActivities', 'SleepHours', 'SmokerStatus', 'AlcoholDrinkers', 'ECigaretteUsage']]\n",
    "Data_general = Data[['GeneralHealth', 'PhysicalHealthDays', 'MentalHealthDays', 'LastCheckupTime']]\n",
    "Data_disease = Data[['HadHeartAttack','HadAngina','HadStroke','HadAsthma','HadSkinCancer','HadCOPD','HadDepressiveDisorder','HadKidneyDisease','HadArthritis','HadDiabetes']]\n",
    "Data_disability = Data[['DeafOrHardOfHearing','BlindOrVisionDifficulty','DifficultyConcentrating','DifficultyWalking','DifficultyDressingBathing','DifficultyErrands']]\n",
    "Data_body = Data[['HeightInMeters','WeightInKilograms','BMI','RemovedTeeth']]\n",
    "Data_vaccine = Data[['ChestScan','HIVTesting','FluVaxLast12','PneumoVaxEver','TetanusLast10Tdap','HighRiskLastYear']]\n",
    "target = Data[['HadHeartAttack','CovidPos']]"
   ]
  },
  {
   "cell_type": "markdown",
   "id": "cebf0f1f",
   "metadata": {},
   "source": [
    "### <b> Detecting Outliers Using IQR </b>\n",
    "\n",
    "This function identifies outliers in a numeric column using the **Interquartile Range (IQR)** method.\n",
    "\n",
    "- Calculates the **25th percentile (Q1)** and **75th percentile (Q3)**.  \n",
    "- Computes the **IQR** as Q3 − Q1.  \n",
    "- Defines outliers as values below Q1 − 1.5×IQR or above Q3 + 1.5×IQR.  \n",
    "- Returns only the rows containing these outlier values.\n",
    "\n",
    "**Purpose:**  \n",
    "<b>To detect extreme values that may distort analysis or modeling results.</b>\n"
   ]
  },
  {
   "cell_type": "code",
   "execution_count": 10,
   "id": "12dcab9d",
   "metadata": {},
   "outputs": [],
   "source": [
    "def detect_outliers(df, column):\n",
    "    \"\"\"\n",
    "    Detect outliers in a specific column using the IQR method.\n",
    "    Returns only the rows that contain outliers.\n",
    "    \"\"\"\n",
    "    Q1 = df[column].quantile(0.25)\n",
    "    Q3 = df[column].quantile(0.75)\n",
    "    IQR = Q3 - Q1\n",
    "    lower_bound = Q1 - 1.5 * IQR\n",
    "    upper_bound = Q3 + 1.5 * IQR\n",
    "    outliers = df[(df[column] < lower_bound) | (df[column] > upper_bound)]\n",
    "    return outliers"
   ]
  },
  {
   "cell_type": "markdown",
   "id": "07b9cf1e",
   "metadata": {},
   "source": [
    "### <b> Imputing Missing Values Using Distribution </b>\n",
    "\n",
    "This function fills missing values in a column while preserving the original distribution of categories.  \n",
    "\n",
    "- It first identifies missing entries in the specified column.  \n",
    "- If there are no missing values, it returns the column unchanged.  \n",
    "- Otherwise, it calculates the relative frequency (probability) of each category.  \n",
    "- Missing values are then randomly assigned based on these probabilities, ensuring the distribution remains consistent.  \n",
    "\n",
    "**Purpose:**  \n",
    "<b>To handle missing categorical data without distorting the dataset’s natural proportions. </b>"
   ]
  },
  {
   "cell_type": "code",
   "execution_count": 11,
   "id": "0eb9e396",
   "metadata": {},
   "outputs": [],
   "source": [
    "def fill_column_by_distribution(df, col_name):\n",
    "    column = df[col_name]\n",
    "    mask = column.isna()\n",
    "    \n",
    "    if mask.sum() == 0:\n",
    "        return column\n",
    "    \n",
    "    probs = column.value_counts(normalize=True)\n",
    "    categories = probs.index\n",
    "    weights = probs.values\n",
    "    \n",
    "    column.loc[mask] = np.random.choice(categories, size=mask.sum(), p=weights)\n",
    "    return column\n"
   ]
  },
  {
   "cell_type": "markdown",
   "id": "90b13084",
   "metadata": {},
   "source": [
    "### Step: Cleaning <b>Demographic Data</b>\n",
    "\n",
    "We checked the demographic features for missing values and inconsistencies.  \n",
    "Missing `RaceEthnicityCategory` values were replaced with the most frequent category.  \n",
    "Missing `AgeCategory` values were filled while keeping the original distribution.  \n",
    "<b> Now, the demographic data is complete, consistent, and ready for analysis.</b>\n"
   ]
  },
  {
   "cell_type": "code",
   "execution_count": 12,
   "id": "2e4a0eb7",
   "metadata": {},
   "outputs": [
    {
     "data": {
      "text/html": [
       "<div>\n",
       "<style scoped>\n",
       "    .dataframe tbody tr th:only-of-type {\n",
       "        vertical-align: middle;\n",
       "    }\n",
       "\n",
       "    .dataframe tbody tr th {\n",
       "        vertical-align: top;\n",
       "    }\n",
       "\n",
       "    .dataframe thead th {\n",
       "        text-align: right;\n",
       "    }\n",
       "</style>\n",
       "<table border=\"1\" class=\"dataframe\">\n",
       "  <thead>\n",
       "    <tr style=\"text-align: right;\">\n",
       "      <th></th>\n",
       "      <th>State</th>\n",
       "      <th>Sex</th>\n",
       "      <th>RaceEthnicityCategory</th>\n",
       "      <th>AgeCategory</th>\n",
       "    </tr>\n",
       "  </thead>\n",
       "  <tbody>\n",
       "    <tr>\n",
       "      <th>182526</th>\n",
       "      <td>Michigan</td>\n",
       "      <td>Female</td>\n",
       "      <td>White only, Non-Hispanic</td>\n",
       "      <td>Age 65 to 69</td>\n",
       "    </tr>\n",
       "    <tr>\n",
       "      <th>104939</th>\n",
       "      <td>Indiana</td>\n",
       "      <td>Male</td>\n",
       "      <td>White only, Non-Hispanic</td>\n",
       "      <td>Age 65 to 69</td>\n",
       "    </tr>\n",
       "    <tr>\n",
       "      <th>291590</th>\n",
       "      <td>Ohio</td>\n",
       "      <td>Male</td>\n",
       "      <td>White only, Non-Hispanic</td>\n",
       "      <td>Age 55 to 59</td>\n",
       "    </tr>\n",
       "    <tr>\n",
       "      <th>369812</th>\n",
       "      <td>Utah</td>\n",
       "      <td>Female</td>\n",
       "      <td>White only, Non-Hispanic</td>\n",
       "      <td>Age 30 to 34</td>\n",
       "    </tr>\n",
       "    <tr>\n",
       "      <th>177934</th>\n",
       "      <td>Massachusetts</td>\n",
       "      <td>Female</td>\n",
       "      <td>Hispanic</td>\n",
       "      <td>Age 60 to 64</td>\n",
       "    </tr>\n",
       "  </tbody>\n",
       "</table>\n",
       "</div>"
      ],
      "text/plain": [
       "                State     Sex     RaceEthnicityCategory   AgeCategory\n",
       "182526       Michigan  Female  White only, Non-Hispanic  Age 65 to 69\n",
       "104939        Indiana    Male  White only, Non-Hispanic  Age 65 to 69\n",
       "291590           Ohio    Male  White only, Non-Hispanic  Age 55 to 59\n",
       "369812           Utah  Female  White only, Non-Hispanic  Age 30 to 34\n",
       "177934  Massachusetts  Female                  Hispanic  Age 60 to 64"
      ]
     },
     "execution_count": 12,
     "metadata": {},
     "output_type": "execute_result"
    }
   ],
   "source": [
    "Data_Demographics.sample(5)"
   ]
  },
  {
   "cell_type": "code",
   "execution_count": 13,
   "id": "c6850ea0",
   "metadata": {},
   "outputs": [
    {
     "name": "stdout",
     "output_type": "stream",
     "text": [
      "<class 'pandas.core.frame.DataFrame'>\n",
      "RangeIndex: 445132 entries, 0 to 445131\n",
      "Data columns (total 4 columns):\n",
      " #   Column                 Non-Null Count   Dtype \n",
      "---  ------                 --------------   ----- \n",
      " 0   State                  445132 non-null  object\n",
      " 1   Sex                    445132 non-null  object\n",
      " 2   RaceEthnicityCategory  431075 non-null  object\n",
      " 3   AgeCategory            436053 non-null  object\n",
      "dtypes: object(4)\n",
      "memory usage: 13.6+ MB\n"
     ]
    }
   ],
   "source": [
    "Data_Demographics.info()"
   ]
  },
  {
   "cell_type": "code",
   "execution_count": 14,
   "id": "5ab51faa",
   "metadata": {},
   "outputs": [
    {
     "data": {
      "text/html": [
       "<div>\n",
       "<style scoped>\n",
       "    .dataframe tbody tr th:only-of-type {\n",
       "        vertical-align: middle;\n",
       "    }\n",
       "\n",
       "    .dataframe tbody tr th {\n",
       "        vertical-align: top;\n",
       "    }\n",
       "\n",
       "    .dataframe thead th {\n",
       "        text-align: right;\n",
       "    }\n",
       "</style>\n",
       "<table border=\"1\" class=\"dataframe\">\n",
       "  <thead>\n",
       "    <tr style=\"text-align: right;\">\n",
       "      <th></th>\n",
       "      <th>State</th>\n",
       "      <th>Sex</th>\n",
       "      <th>RaceEthnicityCategory</th>\n",
       "      <th>AgeCategory</th>\n",
       "    </tr>\n",
       "  </thead>\n",
       "  <tbody>\n",
       "    <tr>\n",
       "      <th>count</th>\n",
       "      <td>445132</td>\n",
       "      <td>445132</td>\n",
       "      <td>431075</td>\n",
       "      <td>436053</td>\n",
       "    </tr>\n",
       "    <tr>\n",
       "      <th>unique</th>\n",
       "      <td>54</td>\n",
       "      <td>2</td>\n",
       "      <td>5</td>\n",
       "      <td>13</td>\n",
       "    </tr>\n",
       "    <tr>\n",
       "      <th>top</th>\n",
       "      <td>Washington</td>\n",
       "      <td>Female</td>\n",
       "      <td>White only, Non-Hispanic</td>\n",
       "      <td>Age 65 to 69</td>\n",
       "    </tr>\n",
       "    <tr>\n",
       "      <th>freq</th>\n",
       "      <td>26152</td>\n",
       "      <td>235893</td>\n",
       "      <td>320421</td>\n",
       "      <td>47099</td>\n",
       "    </tr>\n",
       "  </tbody>\n",
       "</table>\n",
       "</div>"
      ],
      "text/plain": [
       "             State     Sex     RaceEthnicityCategory   AgeCategory\n",
       "count       445132  445132                    431075        436053\n",
       "unique          54       2                         5            13\n",
       "top     Washington  Female  White only, Non-Hispanic  Age 65 to 69\n",
       "freq         26152  235893                    320421         47099"
      ]
     },
     "execution_count": 14,
     "metadata": {},
     "output_type": "execute_result"
    }
   ],
   "source": [
    "Data_Demographics.describe()"
   ]
  },
  {
   "cell_type": "code",
   "execution_count": 15,
   "id": "5249b316",
   "metadata": {},
   "outputs": [
    {
     "data": {
      "text/plain": [
       "State                        0\n",
       "Sex                          0\n",
       "RaceEthnicityCategory    14057\n",
       "AgeCategory               9079\n",
       "dtype: int64"
      ]
     },
     "execution_count": 15,
     "metadata": {},
     "output_type": "execute_result"
    }
   ],
   "source": [
    "Data_Demographics.isna().sum()"
   ]
  },
  {
   "cell_type": "code",
   "execution_count": 16,
   "id": "aaf220dd",
   "metadata": {},
   "outputs": [],
   "source": [
    "Data['RaceEthnicityCategory'].fillna(Data['RaceEthnicityCategory'].mode()[0], inplace=True)"
   ]
  },
  {
   "cell_type": "code",
   "execution_count": 17,
   "id": "b712ca50",
   "metadata": {},
   "outputs": [
    {
     "data": {
      "text/plain": [
       "AgeCategory\n",
       "Age 65 to 69       0.108012\n",
       "Age 60 to 64       0.102077\n",
       "Age 70 to 74       0.099694\n",
       "Age 55 to 59       0.084442\n",
       "Age 80 or older    0.083134\n",
       "Age 50 to 54       0.077156\n",
       "Age 75 to 79       0.074574\n",
       "Age 40 to 44       0.068666\n",
       "Age 45 to 49       0.065430\n",
       "Age 35 to 39       0.065419\n",
       "Age 18 to 24       0.061784\n",
       "Age 30 to 34       0.059183\n",
       "Age 25 to 29       0.050430\n",
       "Name: proportion, dtype: float64"
      ]
     },
     "execution_count": 17,
     "metadata": {},
     "output_type": "execute_result"
    }
   ],
   "source": [
    "probs=Data['AgeCategory'].value_counts(normalize=True)\n",
    "probs"
   ]
  },
  {
   "cell_type": "code",
   "execution_count": 18,
   "id": "2906a11a",
   "metadata": {},
   "outputs": [
    {
     "data": {
      "text/plain": [
       "0         Age 80 or older\n",
       "1         Age 80 or older\n",
       "2            Age 55 to 59\n",
       "3            Age 18 to 24\n",
       "4            Age 40 to 44\n",
       "               ...       \n",
       "445127       Age 18 to 24\n",
       "445128       Age 50 to 54\n",
       "445129       Age 65 to 69\n",
       "445130       Age 70 to 74\n",
       "445131       Age 40 to 44\n",
       "Name: AgeCategory, Length: 445132, dtype: object"
      ]
     },
     "execution_count": 18,
     "metadata": {},
     "output_type": "execute_result"
    }
   ],
   "source": [
    "fill_column_by_distribution(Data,'AgeCategory')"
   ]
  },
  {
   "cell_type": "code",
   "execution_count": 19,
   "id": "b87c2c27",
   "metadata": {},
   "outputs": [
    {
     "data": {
      "text/plain": [
       "AgeCategory              0\n",
       "RaceEthnicityCategory    0\n",
       "dtype: int64"
      ]
     },
     "execution_count": 19,
     "metadata": {},
     "output_type": "execute_result"
    }
   ],
   "source": [
    "Data[['AgeCategory','RaceEthnicityCategory']].isna().sum()"
   ]
  },
  {
   "cell_type": "markdown",
   "id": "e77217f1",
   "metadata": {},
   "source": [
    "### Step: Cleaning <b>Lifestyle Data</b>\n",
    "\n",
    "In this step, we focused on ensuring the lifestyle-related features are complete and accurate.  \n",
    "We started by checking the dataset for missing values and inspecting the overall structure.  \n",
    "Rows with missing entries in key columns such as `PhysicalActivities`, `SleepHours`, `SmokerStatus`, `AlcoholDrinkers`, and `ECigaretteUsage` were removed to maintain data integrity.  \n",
    "Next, we identified extreme values in `SleepHours` using the <b>IQR method</b> and removed these outliers to avoid skewing the analysis.  \n",
    "After these steps, the `Data_lifestyle` dataset is clean, consistent, and ready for exploration, visualization, and further analysis.\n"
   ]
  },
  {
   "cell_type": "code",
   "execution_count": 20,
   "id": "1828e72d",
   "metadata": {},
   "outputs": [
    {
     "data": {
      "text/html": [
       "<div>\n",
       "<style scoped>\n",
       "    .dataframe tbody tr th:only-of-type {\n",
       "        vertical-align: middle;\n",
       "    }\n",
       "\n",
       "    .dataframe tbody tr th {\n",
       "        vertical-align: top;\n",
       "    }\n",
       "\n",
       "    .dataframe thead th {\n",
       "        text-align: right;\n",
       "    }\n",
       "</style>\n",
       "<table border=\"1\" class=\"dataframe\">\n",
       "  <thead>\n",
       "    <tr style=\"text-align: right;\">\n",
       "      <th></th>\n",
       "      <th>PhysicalActivities</th>\n",
       "      <th>SleepHours</th>\n",
       "      <th>SmokerStatus</th>\n",
       "      <th>AlcoholDrinkers</th>\n",
       "      <th>ECigaretteUsage</th>\n",
       "    </tr>\n",
       "  </thead>\n",
       "  <tbody>\n",
       "    <tr>\n",
       "      <th>67158</th>\n",
       "      <td>Yes</td>\n",
       "      <td>7.0</td>\n",
       "      <td>Never smoked</td>\n",
       "      <td>No</td>\n",
       "      <td>Not at all (right now)</td>\n",
       "    </tr>\n",
       "    <tr>\n",
       "      <th>278093</th>\n",
       "      <td>Yes</td>\n",
       "      <td>8.0</td>\n",
       "      <td>Current smoker - now smokes every day</td>\n",
       "      <td>Yes</td>\n",
       "      <td>Not at all (right now)</td>\n",
       "    </tr>\n",
       "    <tr>\n",
       "      <th>356591</th>\n",
       "      <td>Yes</td>\n",
       "      <td>8.0</td>\n",
       "      <td>Never smoked</td>\n",
       "      <td>No</td>\n",
       "      <td>Never used e-cigarettes in my entire life</td>\n",
       "    </tr>\n",
       "    <tr>\n",
       "      <th>168440</th>\n",
       "      <td>Yes</td>\n",
       "      <td>7.0</td>\n",
       "      <td>Never smoked</td>\n",
       "      <td>Yes</td>\n",
       "      <td>Never used e-cigarettes in my entire life</td>\n",
       "    </tr>\n",
       "    <tr>\n",
       "      <th>195514</th>\n",
       "      <td>Yes</td>\n",
       "      <td>9.0</td>\n",
       "      <td>Never smoked</td>\n",
       "      <td>NaN</td>\n",
       "      <td>NaN</td>\n",
       "    </tr>\n",
       "  </tbody>\n",
       "</table>\n",
       "</div>"
      ],
      "text/plain": [
       "       PhysicalActivities  SleepHours                           SmokerStatus  \\\n",
       "67158                 Yes         7.0                           Never smoked   \n",
       "278093                Yes         8.0  Current smoker - now smokes every day   \n",
       "356591                Yes         8.0                           Never smoked   \n",
       "168440                Yes         7.0                           Never smoked   \n",
       "195514                Yes         9.0                           Never smoked   \n",
       "\n",
       "       AlcoholDrinkers                            ECigaretteUsage  \n",
       "67158               No                     Not at all (right now)  \n",
       "278093             Yes                     Not at all (right now)  \n",
       "356591              No  Never used e-cigarettes in my entire life  \n",
       "168440             Yes  Never used e-cigarettes in my entire life  \n",
       "195514             NaN                                        NaN  "
      ]
     },
     "execution_count": 20,
     "metadata": {},
     "output_type": "execute_result"
    }
   ],
   "source": [
    "Data_lifestyle.sample(5)"
   ]
  },
  {
   "cell_type": "code",
   "execution_count": 21,
   "id": "8a2f2093",
   "metadata": {},
   "outputs": [
    {
     "name": "stdout",
     "output_type": "stream",
     "text": [
      "<class 'pandas.core.frame.DataFrame'>\n",
      "RangeIndex: 445132 entries, 0 to 445131\n",
      "Data columns (total 5 columns):\n",
      " #   Column              Non-Null Count   Dtype  \n",
      "---  ------              --------------   -----  \n",
      " 0   PhysicalActivities  444039 non-null  object \n",
      " 1   SleepHours          439679 non-null  float64\n",
      " 2   SmokerStatus        409670 non-null  object \n",
      " 3   AlcoholDrinkers     398558 non-null  object \n",
      " 4   ECigaretteUsage     409472 non-null  object \n",
      "dtypes: float64(1), object(4)\n",
      "memory usage: 17.0+ MB\n"
     ]
    }
   ],
   "source": [
    "Data_lifestyle.info()"
   ]
  },
  {
   "cell_type": "code",
   "execution_count": 22,
   "id": "9a7cb951",
   "metadata": {},
   "outputs": [
    {
     "data": {
      "text/html": [
       "<div>\n",
       "<style scoped>\n",
       "    .dataframe tbody tr th:only-of-type {\n",
       "        vertical-align: middle;\n",
       "    }\n",
       "\n",
       "    .dataframe tbody tr th {\n",
       "        vertical-align: top;\n",
       "    }\n",
       "\n",
       "    .dataframe thead th {\n",
       "        text-align: right;\n",
       "    }\n",
       "</style>\n",
       "<table border=\"1\" class=\"dataframe\">\n",
       "  <thead>\n",
       "    <tr style=\"text-align: right;\">\n",
       "      <th></th>\n",
       "      <th>PhysicalActivities</th>\n",
       "      <th>SmokerStatus</th>\n",
       "      <th>AlcoholDrinkers</th>\n",
       "      <th>ECigaretteUsage</th>\n",
       "    </tr>\n",
       "  </thead>\n",
       "  <tbody>\n",
       "    <tr>\n",
       "      <th>count</th>\n",
       "      <td>444039</td>\n",
       "      <td>409670</td>\n",
       "      <td>398558</td>\n",
       "      <td>409472</td>\n",
       "    </tr>\n",
       "    <tr>\n",
       "      <th>unique</th>\n",
       "      <td>2</td>\n",
       "      <td>4</td>\n",
       "      <td>2</td>\n",
       "      <td>4</td>\n",
       "    </tr>\n",
       "    <tr>\n",
       "      <th>top</th>\n",
       "      <td>Yes</td>\n",
       "      <td>Never smoked</td>\n",
       "      <td>Yes</td>\n",
       "      <td>Never used e-cigarettes in my entire life</td>\n",
       "    </tr>\n",
       "    <tr>\n",
       "      <th>freq</th>\n",
       "      <td>337559</td>\n",
       "      <td>245955</td>\n",
       "      <td>210891</td>\n",
       "      <td>311988</td>\n",
       "    </tr>\n",
       "  </tbody>\n",
       "</table>\n",
       "</div>"
      ],
      "text/plain": [
       "       PhysicalActivities  SmokerStatus AlcoholDrinkers  \\\n",
       "count              444039        409670          398558   \n",
       "unique                  2             4               2   \n",
       "top                   Yes  Never smoked             Yes   \n",
       "freq               337559        245955          210891   \n",
       "\n",
       "                                  ECigaretteUsage  \n",
       "count                                      409472  \n",
       "unique                                          4  \n",
       "top     Never used e-cigarettes in my entire life  \n",
       "freq                                       311988  "
      ]
     },
     "metadata": {},
     "output_type": "display_data"
    },
    {
     "data": {
      "text/html": [
       "<div>\n",
       "<style scoped>\n",
       "    .dataframe tbody tr th:only-of-type {\n",
       "        vertical-align: middle;\n",
       "    }\n",
       "\n",
       "    .dataframe tbody tr th {\n",
       "        vertical-align: top;\n",
       "    }\n",
       "\n",
       "    .dataframe thead th {\n",
       "        text-align: right;\n",
       "    }\n",
       "</style>\n",
       "<table border=\"1\" class=\"dataframe\">\n",
       "  <thead>\n",
       "    <tr style=\"text-align: right;\">\n",
       "      <th></th>\n",
       "      <th>SleepHours</th>\n",
       "    </tr>\n",
       "  </thead>\n",
       "  <tbody>\n",
       "    <tr>\n",
       "      <th>count</th>\n",
       "      <td>439679.000000</td>\n",
       "    </tr>\n",
       "    <tr>\n",
       "      <th>mean</th>\n",
       "      <td>7.022983</td>\n",
       "    </tr>\n",
       "    <tr>\n",
       "      <th>std</th>\n",
       "      <td>1.502425</td>\n",
       "    </tr>\n",
       "    <tr>\n",
       "      <th>min</th>\n",
       "      <td>1.000000</td>\n",
       "    </tr>\n",
       "    <tr>\n",
       "      <th>25%</th>\n",
       "      <td>6.000000</td>\n",
       "    </tr>\n",
       "    <tr>\n",
       "      <th>50%</th>\n",
       "      <td>7.000000</td>\n",
       "    </tr>\n",
       "    <tr>\n",
       "      <th>75%</th>\n",
       "      <td>8.000000</td>\n",
       "    </tr>\n",
       "    <tr>\n",
       "      <th>max</th>\n",
       "      <td>24.000000</td>\n",
       "    </tr>\n",
       "  </tbody>\n",
       "</table>\n",
       "</div>"
      ],
      "text/plain": [
       "          SleepHours\n",
       "count  439679.000000\n",
       "mean        7.022983\n",
       "std         1.502425\n",
       "min         1.000000\n",
       "25%         6.000000\n",
       "50%         7.000000\n",
       "75%         8.000000\n",
       "max        24.000000"
      ]
     },
     "metadata": {},
     "output_type": "display_data"
    }
   ],
   "source": [
    "display(Data_lifestyle.describe(include=object),Data_lifestyle.describe())"
   ]
  },
  {
   "cell_type": "code",
   "execution_count": 23,
   "id": "a287ae65",
   "metadata": {},
   "outputs": [
    {
     "data": {
      "text/plain": [
       "PhysicalActivities     1093\n",
       "SleepHours             5453\n",
       "SmokerStatus          35462\n",
       "AlcoholDrinkers       46574\n",
       "ECigaretteUsage       35660\n",
       "dtype: int64"
      ]
     },
     "execution_count": 23,
     "metadata": {},
     "output_type": "execute_result"
    }
   ],
   "source": [
    "Data_lifestyle.isna().sum()"
   ]
  },
  {
   "cell_type": "code",
   "execution_count": 24,
   "id": "9d2d8212",
   "metadata": {},
   "outputs": [],
   "source": [
    "Data.dropna(subset=['PhysicalActivities','SleepHours','SmokerStatus','AlcoholDrinkers','ECigaretteUsage'],inplace=True)"
   ]
  },
  {
   "cell_type": "code",
   "execution_count": 25,
   "id": "a66d6114",
   "metadata": {},
   "outputs": [
    {
     "data": {
      "text/plain": [
       "SleepHours            0\n",
       "PhysicalActivities    0\n",
       "SmokerStatus          0\n",
       "AlcoholDrinkers       0\n",
       "ECigaretteUsage       0\n",
       "dtype: int64"
      ]
     },
     "execution_count": 25,
     "metadata": {},
     "output_type": "execute_result"
    }
   ],
   "source": [
    "Data[['SleepHours','PhysicalActivities','SmokerStatus','AlcoholDrinkers','ECigaretteUsage']].isna().sum()"
   ]
  },
  {
   "cell_type": "code",
   "execution_count": 26,
   "id": "12984744",
   "metadata": {},
   "outputs": [],
   "source": [
    "outliers = detect_outliers(Data, 'SleepHours')\n",
    "Data = Data.drop(outliers.index)"
   ]
  },
  {
   "cell_type": "markdown",
   "id": "5f6dff15",
   "metadata": {},
   "source": [
    "### Step: Cleaning <b>General Health Features</b>\n",
    "\n",
    "We reviewed the general health data for completeness and accuracy.  \n",
    "Missing values in `LastCheckupTime` were replaced with the most common category.  \n",
    "Missing entries in `GeneralHealth` were filled using probability-based sampling to maintain the original distribution.  \n",
    "The dataset is now clean, consistent, and ready for further analysis.\n"
   ]
  },
  {
   "cell_type": "code",
   "execution_count": 27,
   "id": "df7e517b",
   "metadata": {},
   "outputs": [
    {
     "data": {
      "text/html": [
       "<div>\n",
       "<style scoped>\n",
       "    .dataframe tbody tr th:only-of-type {\n",
       "        vertical-align: middle;\n",
       "    }\n",
       "\n",
       "    .dataframe tbody tr th {\n",
       "        vertical-align: top;\n",
       "    }\n",
       "\n",
       "    .dataframe thead th {\n",
       "        text-align: right;\n",
       "    }\n",
       "</style>\n",
       "<table border=\"1\" class=\"dataframe\">\n",
       "  <thead>\n",
       "    <tr style=\"text-align: right;\">\n",
       "      <th></th>\n",
       "      <th>GeneralHealth</th>\n",
       "      <th>PhysicalHealthDays</th>\n",
       "      <th>MentalHealthDays</th>\n",
       "      <th>LastCheckupTime</th>\n",
       "    </tr>\n",
       "  </thead>\n",
       "  <tbody>\n",
       "    <tr>\n",
       "      <th>337510</th>\n",
       "      <td>Very good</td>\n",
       "      <td>30.0</td>\n",
       "      <td>0.0</td>\n",
       "      <td>Within past year (anytime less than 12 months ...</td>\n",
       "    </tr>\n",
       "    <tr>\n",
       "      <th>230110</th>\n",
       "      <td>Very good</td>\n",
       "      <td>0.0</td>\n",
       "      <td>0.0</td>\n",
       "      <td>Within past year (anytime less than 12 months ...</td>\n",
       "    </tr>\n",
       "    <tr>\n",
       "      <th>53540</th>\n",
       "      <td>Excellent</td>\n",
       "      <td>0.0</td>\n",
       "      <td>11.0</td>\n",
       "      <td>Within past year (anytime less than 12 months ...</td>\n",
       "    </tr>\n",
       "    <tr>\n",
       "      <th>31842</th>\n",
       "      <td>Fair</td>\n",
       "      <td>2.0</td>\n",
       "      <td>0.0</td>\n",
       "      <td>Within past 2 years (1 year but less than 2 ye...</td>\n",
       "    </tr>\n",
       "    <tr>\n",
       "      <th>101715</th>\n",
       "      <td>Excellent</td>\n",
       "      <td>0.0</td>\n",
       "      <td>0.0</td>\n",
       "      <td>Within past 2 years (1 year but less than 2 ye...</td>\n",
       "    </tr>\n",
       "  </tbody>\n",
       "</table>\n",
       "</div>"
      ],
      "text/plain": [
       "       GeneralHealth  PhysicalHealthDays  MentalHealthDays  \\\n",
       "337510     Very good                30.0               0.0   \n",
       "230110     Very good                 0.0               0.0   \n",
       "53540      Excellent                 0.0              11.0   \n",
       "31842           Fair                 2.0               0.0   \n",
       "101715     Excellent                 0.0               0.0   \n",
       "\n",
       "                                          LastCheckupTime  \n",
       "337510  Within past year (anytime less than 12 months ...  \n",
       "230110  Within past year (anytime less than 12 months ...  \n",
       "53540   Within past year (anytime less than 12 months ...  \n",
       "31842   Within past 2 years (1 year but less than 2 ye...  \n",
       "101715  Within past 2 years (1 year but less than 2 ye...  "
      ]
     },
     "execution_count": 27,
     "metadata": {},
     "output_type": "execute_result"
    }
   ],
   "source": [
    "Data_general.sample(5)"
   ]
  },
  {
   "cell_type": "code",
   "execution_count": 28,
   "id": "f8baee82",
   "metadata": {},
   "outputs": [
    {
     "name": "stdout",
     "output_type": "stream",
     "text": [
      "<class 'pandas.core.frame.DataFrame'>\n",
      "RangeIndex: 445132 entries, 0 to 445131\n",
      "Data columns (total 4 columns):\n",
      " #   Column              Non-Null Count   Dtype  \n",
      "---  ------              --------------   -----  \n",
      " 0   GeneralHealth       443934 non-null  object \n",
      " 1   PhysicalHealthDays  434205 non-null  float64\n",
      " 2   MentalHealthDays    436065 non-null  float64\n",
      " 3   LastCheckupTime     436824 non-null  object \n",
      "dtypes: float64(2), object(2)\n",
      "memory usage: 13.6+ MB\n"
     ]
    }
   ],
   "source": [
    "Data_general.info()"
   ]
  },
  {
   "cell_type": "code",
   "execution_count": 29,
   "id": "ec9a6394",
   "metadata": {},
   "outputs": [
    {
     "data": {
      "text/html": [
       "<div>\n",
       "<style scoped>\n",
       "    .dataframe tbody tr th:only-of-type {\n",
       "        vertical-align: middle;\n",
       "    }\n",
       "\n",
       "    .dataframe tbody tr th {\n",
       "        vertical-align: top;\n",
       "    }\n",
       "\n",
       "    .dataframe thead th {\n",
       "        text-align: right;\n",
       "    }\n",
       "</style>\n",
       "<table border=\"1\" class=\"dataframe\">\n",
       "  <thead>\n",
       "    <tr style=\"text-align: right;\">\n",
       "      <th></th>\n",
       "      <th>GeneralHealth</th>\n",
       "      <th>LastCheckupTime</th>\n",
       "    </tr>\n",
       "  </thead>\n",
       "  <tbody>\n",
       "    <tr>\n",
       "      <th>count</th>\n",
       "      <td>443934</td>\n",
       "      <td>436824</td>\n",
       "    </tr>\n",
       "    <tr>\n",
       "      <th>unique</th>\n",
       "      <td>5</td>\n",
       "      <td>4</td>\n",
       "    </tr>\n",
       "    <tr>\n",
       "      <th>top</th>\n",
       "      <td>Very good</td>\n",
       "      <td>Within past year (anytime less than 12 months ...</td>\n",
       "    </tr>\n",
       "    <tr>\n",
       "      <th>freq</th>\n",
       "      <td>148444</td>\n",
       "      <td>350944</td>\n",
       "    </tr>\n",
       "  </tbody>\n",
       "</table>\n",
       "</div>"
      ],
      "text/plain": [
       "       GeneralHealth                                    LastCheckupTime\n",
       "count         443934                                             436824\n",
       "unique             5                                                  4\n",
       "top        Very good  Within past year (anytime less than 12 months ...\n",
       "freq          148444                                             350944"
      ]
     },
     "metadata": {},
     "output_type": "display_data"
    },
    {
     "data": {
      "text/html": [
       "<div>\n",
       "<style scoped>\n",
       "    .dataframe tbody tr th:only-of-type {\n",
       "        vertical-align: middle;\n",
       "    }\n",
       "\n",
       "    .dataframe tbody tr th {\n",
       "        vertical-align: top;\n",
       "    }\n",
       "\n",
       "    .dataframe thead th {\n",
       "        text-align: right;\n",
       "    }\n",
       "</style>\n",
       "<table border=\"1\" class=\"dataframe\">\n",
       "  <thead>\n",
       "    <tr style=\"text-align: right;\">\n",
       "      <th></th>\n",
       "      <th>PhysicalHealthDays</th>\n",
       "      <th>MentalHealthDays</th>\n",
       "    </tr>\n",
       "  </thead>\n",
       "  <tbody>\n",
       "    <tr>\n",
       "      <th>count</th>\n",
       "      <td>434205.000000</td>\n",
       "      <td>436065.000000</td>\n",
       "    </tr>\n",
       "    <tr>\n",
       "      <th>mean</th>\n",
       "      <td>4.347919</td>\n",
       "      <td>4.382649</td>\n",
       "    </tr>\n",
       "    <tr>\n",
       "      <th>std</th>\n",
       "      <td>8.688912</td>\n",
       "      <td>8.387475</td>\n",
       "    </tr>\n",
       "    <tr>\n",
       "      <th>min</th>\n",
       "      <td>0.000000</td>\n",
       "      <td>0.000000</td>\n",
       "    </tr>\n",
       "    <tr>\n",
       "      <th>25%</th>\n",
       "      <td>0.000000</td>\n",
       "      <td>0.000000</td>\n",
       "    </tr>\n",
       "    <tr>\n",
       "      <th>50%</th>\n",
       "      <td>0.000000</td>\n",
       "      <td>0.000000</td>\n",
       "    </tr>\n",
       "    <tr>\n",
       "      <th>75%</th>\n",
       "      <td>3.000000</td>\n",
       "      <td>5.000000</td>\n",
       "    </tr>\n",
       "    <tr>\n",
       "      <th>max</th>\n",
       "      <td>30.000000</td>\n",
       "      <td>30.000000</td>\n",
       "    </tr>\n",
       "  </tbody>\n",
       "</table>\n",
       "</div>"
      ],
      "text/plain": [
       "       PhysicalHealthDays  MentalHealthDays\n",
       "count       434205.000000     436065.000000\n",
       "mean             4.347919          4.382649\n",
       "std              8.688912          8.387475\n",
       "min              0.000000          0.000000\n",
       "25%              0.000000          0.000000\n",
       "50%              0.000000          0.000000\n",
       "75%              3.000000          5.000000\n",
       "max             30.000000         30.000000"
      ]
     },
     "metadata": {},
     "output_type": "display_data"
    }
   ],
   "source": [
    "display(Data_general.describe(include=object),Data_general.describe())"
   ]
  },
  {
   "cell_type": "code",
   "execution_count": 30,
   "id": "8484621a",
   "metadata": {},
   "outputs": [
    {
     "data": {
      "text/plain": [
       "GeneralHealth          1198\n",
       "PhysicalHealthDays    10927\n",
       "MentalHealthDays       9067\n",
       "LastCheckupTime        8308\n",
       "dtype: int64"
      ]
     },
     "execution_count": 30,
     "metadata": {},
     "output_type": "execute_result"
    }
   ],
   "source": [
    "Data_general.isna().sum()"
   ]
  },
  {
   "cell_type": "code",
   "execution_count": 31,
   "id": "7cb167d9",
   "metadata": {},
   "outputs": [],
   "source": [
    "Data.dropna(subset=['MentalHealthDays','PhysicalHealthDays'], inplace=True)"
   ]
  },
  {
   "cell_type": "code",
   "execution_count": 32,
   "id": "eb7dc953",
   "metadata": {},
   "outputs": [
    {
     "data": {
      "text/plain": [
       "MentalHealthDays      0\n",
       "PhysicalHealthDays    0\n",
       "dtype: int64"
      ]
     },
     "execution_count": 32,
     "metadata": {},
     "output_type": "execute_result"
    }
   ],
   "source": [
    "Data[['MentalHealthDays','PhysicalHealthDays']].isna().sum()"
   ]
  },
  {
   "cell_type": "code",
   "execution_count": 33,
   "id": "20b5a7fc",
   "metadata": {},
   "outputs": [
    {
     "data": {
      "text/plain": [
       "GeneralHealth\n",
       "Very good    0.346887\n",
       "Good         0.321439\n",
       "Excellent    0.163782\n",
       "Fair         0.128635\n",
       "Poor         0.039256\n",
       "Name: proportion, dtype: float64"
      ]
     },
     "execution_count": 33,
     "metadata": {},
     "output_type": "execute_result"
    }
   ],
   "source": [
    "Data['GeneralHealth'].value_counts(normalize=True)"
   ]
  },
  {
   "cell_type": "code",
   "execution_count": 34,
   "id": "5d82f4cf",
   "metadata": {},
   "outputs": [
    {
     "data": {
      "text/plain": [
       "0         Very good\n",
       "1         Excellent\n",
       "2         Very good\n",
       "3         Excellent\n",
       "4              Fair\n",
       "            ...    \n",
       "445124         Good\n",
       "445126         Good\n",
       "445128    Excellent\n",
       "445130    Very good\n",
       "445131    Very good\n",
       "Name: GeneralHealth, Length: 371174, dtype: object"
      ]
     },
     "execution_count": 34,
     "metadata": {},
     "output_type": "execute_result"
    }
   ],
   "source": [
    "Data['LastCheckupTime'].fillna(Data['LastCheckupTime'].mode()[0],inplace=True)\n",
    "fill_column_by_distribution(Data,'GeneralHealth')"
   ]
  },
  {
   "cell_type": "code",
   "execution_count": 35,
   "id": "26baa0b3",
   "metadata": {},
   "outputs": [
    {
     "data": {
      "text/plain": [
       "LastCheckupTime    0\n",
       "GeneralHealth      0\n",
       "dtype: int64"
      ]
     },
     "execution_count": 35,
     "metadata": {},
     "output_type": "execute_result"
    }
   ],
   "source": [
    "Data[['LastCheckupTime','GeneralHealth']].isna().sum()"
   ]
  },
  {
   "cell_type": "markdown",
   "id": "7cd25f89",
   "metadata": {},
   "source": [
    "### Step: Cleaning <b>Disease Features</b>\n",
    "\n",
    "We reviewed the disease-related columns for missing values.  \n",
    "Rows with missing data in key features were removed, as the proportion of nulls was small.  \n",
    "Categorical responses (`Yes`/`No`) were converted to numeric values (1/0) for consistency.  \n",
    "Removing these few nulls ensures data integrity and reliable analysis.  \n",
    "The dataset is now complete, clean, and ready for modeling.  \n",
    "All disease features are consistent and numeric.\n"
   ]
  },
  {
   "cell_type": "code",
   "execution_count": 36,
   "id": "d6290070",
   "metadata": {},
   "outputs": [
    {
     "data": {
      "text/html": [
       "<div>\n",
       "<style scoped>\n",
       "    .dataframe tbody tr th:only-of-type {\n",
       "        vertical-align: middle;\n",
       "    }\n",
       "\n",
       "    .dataframe tbody tr th {\n",
       "        vertical-align: top;\n",
       "    }\n",
       "\n",
       "    .dataframe thead th {\n",
       "        text-align: right;\n",
       "    }\n",
       "</style>\n",
       "<table border=\"1\" class=\"dataframe\">\n",
       "  <thead>\n",
       "    <tr style=\"text-align: right;\">\n",
       "      <th></th>\n",
       "      <th>HadHeartAttack</th>\n",
       "      <th>HadAngina</th>\n",
       "      <th>HadStroke</th>\n",
       "      <th>HadAsthma</th>\n",
       "      <th>HadSkinCancer</th>\n",
       "      <th>HadCOPD</th>\n",
       "      <th>HadDepressiveDisorder</th>\n",
       "      <th>HadKidneyDisease</th>\n",
       "      <th>HadArthritis</th>\n",
       "      <th>HadDiabetes</th>\n",
       "    </tr>\n",
       "  </thead>\n",
       "  <tbody>\n",
       "    <tr>\n",
       "      <th>252939</th>\n",
       "      <td>No</td>\n",
       "      <td>No</td>\n",
       "      <td>No</td>\n",
       "      <td>No</td>\n",
       "      <td>No</td>\n",
       "      <td>Yes</td>\n",
       "      <td>No</td>\n",
       "      <td>Yes</td>\n",
       "      <td>Yes</td>\n",
       "      <td>No</td>\n",
       "    </tr>\n",
       "    <tr>\n",
       "      <th>332688</th>\n",
       "      <td>No</td>\n",
       "      <td>No</td>\n",
       "      <td>No</td>\n",
       "      <td>No</td>\n",
       "      <td>No</td>\n",
       "      <td>No</td>\n",
       "      <td>No</td>\n",
       "      <td>No</td>\n",
       "      <td>No</td>\n",
       "      <td>No</td>\n",
       "    </tr>\n",
       "    <tr>\n",
       "      <th>281420</th>\n",
       "      <td>No</td>\n",
       "      <td>No</td>\n",
       "      <td>No</td>\n",
       "      <td>Yes</td>\n",
       "      <td>No</td>\n",
       "      <td>No</td>\n",
       "      <td>No</td>\n",
       "      <td>No</td>\n",
       "      <td>NaN</td>\n",
       "      <td>Yes</td>\n",
       "    </tr>\n",
       "    <tr>\n",
       "      <th>375328</th>\n",
       "      <td>No</td>\n",
       "      <td>No</td>\n",
       "      <td>No</td>\n",
       "      <td>No</td>\n",
       "      <td>No</td>\n",
       "      <td>No</td>\n",
       "      <td>No</td>\n",
       "      <td>No</td>\n",
       "      <td>No</td>\n",
       "      <td>No</td>\n",
       "    </tr>\n",
       "    <tr>\n",
       "      <th>303722</th>\n",
       "      <td>Yes</td>\n",
       "      <td>No</td>\n",
       "      <td>No</td>\n",
       "      <td>No</td>\n",
       "      <td>No</td>\n",
       "      <td>No</td>\n",
       "      <td>No</td>\n",
       "      <td>No</td>\n",
       "      <td>No</td>\n",
       "      <td>No</td>\n",
       "    </tr>\n",
       "  </tbody>\n",
       "</table>\n",
       "</div>"
      ],
      "text/plain": [
       "       HadHeartAttack HadAngina HadStroke HadAsthma HadSkinCancer HadCOPD  \\\n",
       "252939             No        No        No        No            No     Yes   \n",
       "332688             No        No        No        No            No      No   \n",
       "281420             No        No        No       Yes            No      No   \n",
       "375328             No        No        No        No            No      No   \n",
       "303722            Yes        No        No        No            No      No   \n",
       "\n",
       "       HadDepressiveDisorder HadKidneyDisease HadArthritis HadDiabetes  \n",
       "252939                    No              Yes          Yes          No  \n",
       "332688                    No               No           No          No  \n",
       "281420                    No               No          NaN         Yes  \n",
       "375328                    No               No           No          No  \n",
       "303722                    No               No           No          No  "
      ]
     },
     "execution_count": 36,
     "metadata": {},
     "output_type": "execute_result"
    }
   ],
   "source": [
    "Data_disease.sample(5)"
   ]
  },
  {
   "cell_type": "code",
   "execution_count": 37,
   "id": "45aa07ab",
   "metadata": {},
   "outputs": [
    {
     "name": "stdout",
     "output_type": "stream",
     "text": [
      "<class 'pandas.core.frame.DataFrame'>\n",
      "RangeIndex: 445132 entries, 0 to 445131\n",
      "Data columns (total 10 columns):\n",
      " #   Column                 Non-Null Count   Dtype \n",
      "---  ------                 --------------   ----- \n",
      " 0   HadHeartAttack         442067 non-null  object\n",
      " 1   HadAngina              440727 non-null  object\n",
      " 2   HadStroke              443575 non-null  object\n",
      " 3   HadAsthma              443359 non-null  object\n",
      " 4   HadSkinCancer          441989 non-null  object\n",
      " 5   HadCOPD                442913 non-null  object\n",
      " 6   HadDepressiveDisorder  442320 non-null  object\n",
      " 7   HadKidneyDisease       443206 non-null  object\n",
      " 8   HadArthritis           442499 non-null  object\n",
      " 9   HadDiabetes            444045 non-null  object\n",
      "dtypes: object(10)\n",
      "memory usage: 34.0+ MB\n"
     ]
    }
   ],
   "source": [
    "Data_disease.info()"
   ]
  },
  {
   "cell_type": "code",
   "execution_count": 38,
   "id": "7e7914b4",
   "metadata": {},
   "outputs": [
    {
     "data": {
      "text/html": [
       "<div>\n",
       "<style scoped>\n",
       "    .dataframe tbody tr th:only-of-type {\n",
       "        vertical-align: middle;\n",
       "    }\n",
       "\n",
       "    .dataframe tbody tr th {\n",
       "        vertical-align: top;\n",
       "    }\n",
       "\n",
       "    .dataframe thead th {\n",
       "        text-align: right;\n",
       "    }\n",
       "</style>\n",
       "<table border=\"1\" class=\"dataframe\">\n",
       "  <thead>\n",
       "    <tr style=\"text-align: right;\">\n",
       "      <th></th>\n",
       "      <th>HadHeartAttack</th>\n",
       "      <th>HadAngina</th>\n",
       "      <th>HadStroke</th>\n",
       "      <th>HadAsthma</th>\n",
       "      <th>HadSkinCancer</th>\n",
       "      <th>HadCOPD</th>\n",
       "      <th>HadDepressiveDisorder</th>\n",
       "      <th>HadKidneyDisease</th>\n",
       "      <th>HadArthritis</th>\n",
       "      <th>HadDiabetes</th>\n",
       "    </tr>\n",
       "  </thead>\n",
       "  <tbody>\n",
       "    <tr>\n",
       "      <th>count</th>\n",
       "      <td>442067</td>\n",
       "      <td>440727</td>\n",
       "      <td>443575</td>\n",
       "      <td>443359</td>\n",
       "      <td>441989</td>\n",
       "      <td>442913</td>\n",
       "      <td>442320</td>\n",
       "      <td>443206</td>\n",
       "      <td>442499</td>\n",
       "      <td>444045</td>\n",
       "    </tr>\n",
       "    <tr>\n",
       "      <th>unique</th>\n",
       "      <td>2</td>\n",
       "      <td>2</td>\n",
       "      <td>2</td>\n",
       "      <td>2</td>\n",
       "      <td>2</td>\n",
       "      <td>2</td>\n",
       "      <td>2</td>\n",
       "      <td>2</td>\n",
       "      <td>2</td>\n",
       "      <td>4</td>\n",
       "    </tr>\n",
       "    <tr>\n",
       "      <th>top</th>\n",
       "      <td>No</td>\n",
       "      <td>No</td>\n",
       "      <td>No</td>\n",
       "      <td>No</td>\n",
       "      <td>No</td>\n",
       "      <td>No</td>\n",
       "      <td>No</td>\n",
       "      <td>No</td>\n",
       "      <td>No</td>\n",
       "      <td>No</td>\n",
       "    </tr>\n",
       "    <tr>\n",
       "      <th>freq</th>\n",
       "      <td>416959</td>\n",
       "      <td>414176</td>\n",
       "      <td>424336</td>\n",
       "      <td>376665</td>\n",
       "      <td>406504</td>\n",
       "      <td>407257</td>\n",
       "      <td>350910</td>\n",
       "      <td>422891</td>\n",
       "      <td>291351</td>\n",
       "      <td>368722</td>\n",
       "    </tr>\n",
       "  </tbody>\n",
       "</table>\n",
       "</div>"
      ],
      "text/plain": [
       "       HadHeartAttack HadAngina HadStroke HadAsthma HadSkinCancer HadCOPD  \\\n",
       "count          442067    440727    443575    443359        441989  442913   \n",
       "unique              2         2         2         2             2       2   \n",
       "top                No        No        No        No            No      No   \n",
       "freq           416959    414176    424336    376665        406504  407257   \n",
       "\n",
       "       HadDepressiveDisorder HadKidneyDisease HadArthritis HadDiabetes  \n",
       "count                 442320           443206       442499      444045  \n",
       "unique                     2                2            2           4  \n",
       "top                       No               No           No          No  \n",
       "freq                  350910           422891       291351      368722  "
      ]
     },
     "execution_count": 38,
     "metadata": {},
     "output_type": "execute_result"
    }
   ],
   "source": [
    "Data_disease.describe()"
   ]
  },
  {
   "cell_type": "code",
   "execution_count": 39,
   "id": "4fb6dee3",
   "metadata": {},
   "outputs": [
    {
     "data": {
      "text/plain": [
       "HadDiabetes\n",
       "No                                         309016\n",
       "Yes                                         49828\n",
       "No, pre-diabetes or borderline diabetes      8531\n",
       "Yes, but only during pregnancy (female)      3194\n",
       "NaN                                           605\n",
       "Name: count, dtype: int64"
      ]
     },
     "execution_count": 39,
     "metadata": {},
     "output_type": "execute_result"
    }
   ],
   "source": [
    "Data['HadDiabetes'].value_counts(dropna=False)"
   ]
  },
  {
   "cell_type": "code",
   "execution_count": 40,
   "id": "9b1ff827",
   "metadata": {},
   "outputs": [
    {
     "data": {
      "text/html": [
       "<div>\n",
       "<style scoped>\n",
       "    .dataframe tbody tr th:only-of-type {\n",
       "        vertical-align: middle;\n",
       "    }\n",
       "\n",
       "    .dataframe tbody tr th {\n",
       "        vertical-align: top;\n",
       "    }\n",
       "\n",
       "    .dataframe thead th {\n",
       "        text-align: right;\n",
       "    }\n",
       "</style>\n",
       "<table border=\"1\" class=\"dataframe\">\n",
       "  <thead>\n",
       "    <tr style=\"text-align: right;\">\n",
       "      <th></th>\n",
       "      <th>MissingCount</th>\n",
       "      <th>MissingPercentage</th>\n",
       "    </tr>\n",
       "  </thead>\n",
       "  <tbody>\n",
       "    <tr>\n",
       "      <th>HadAngina</th>\n",
       "      <td>4405</td>\n",
       "      <td>1.187</td>\n",
       "    </tr>\n",
       "    <tr>\n",
       "      <th>HadSkinCancer</th>\n",
       "      <td>3143</td>\n",
       "      <td>0.847</td>\n",
       "    </tr>\n",
       "    <tr>\n",
       "      <th>HadHeartAttack</th>\n",
       "      <td>3065</td>\n",
       "      <td>0.826</td>\n",
       "    </tr>\n",
       "    <tr>\n",
       "      <th>HadDepressiveDisorder</th>\n",
       "      <td>2812</td>\n",
       "      <td>0.758</td>\n",
       "    </tr>\n",
       "    <tr>\n",
       "      <th>HadArthritis</th>\n",
       "      <td>2633</td>\n",
       "      <td>0.709</td>\n",
       "    </tr>\n",
       "    <tr>\n",
       "      <th>HadCOPD</th>\n",
       "      <td>2219</td>\n",
       "      <td>0.598</td>\n",
       "    </tr>\n",
       "    <tr>\n",
       "      <th>HadKidneyDisease</th>\n",
       "      <td>1926</td>\n",
       "      <td>0.519</td>\n",
       "    </tr>\n",
       "    <tr>\n",
       "      <th>HadAsthma</th>\n",
       "      <td>1773</td>\n",
       "      <td>0.478</td>\n",
       "    </tr>\n",
       "    <tr>\n",
       "      <th>HadStroke</th>\n",
       "      <td>1557</td>\n",
       "      <td>0.419</td>\n",
       "    </tr>\n",
       "    <tr>\n",
       "      <th>HadDiabetes</th>\n",
       "      <td>1087</td>\n",
       "      <td>0.293</td>\n",
       "    </tr>\n",
       "  </tbody>\n",
       "</table>\n",
       "</div>"
      ],
      "text/plain": [
       "                       MissingCount  MissingPercentage\n",
       "HadAngina                      4405              1.187\n",
       "HadSkinCancer                  3143              0.847\n",
       "HadHeartAttack                 3065              0.826\n",
       "HadDepressiveDisorder          2812              0.758\n",
       "HadArthritis                   2633              0.709\n",
       "HadCOPD                        2219              0.598\n",
       "HadKidneyDisease               1926              0.519\n",
       "HadAsthma                      1773              0.478\n",
       "HadStroke                      1557              0.419\n",
       "HadDiabetes                    1087              0.293"
      ]
     },
     "execution_count": 40,
     "metadata": {},
     "output_type": "execute_result"
    }
   ],
   "source": [
    "missing_count = Data_disease.isna().sum()\n",
    "missing_percentage = ((missing_count / len(Data)) * 100).round(3)\n",
    "missing_summary = pd.DataFrame({'MissingCount': missing_count,'MissingPercentage': missing_percentage})\n",
    "missing_summary[missing_summary['MissingCount'] > 0].sort_values(by='MissingPercentage', ascending=False)"
   ]
  },
  {
   "cell_type": "code",
   "execution_count": 41,
   "id": "9bf6ca28",
   "metadata": {},
   "outputs": [],
   "source": [
    "columns = ['HadAngina','HadSkinCancer','HadHeartAttack','HadDepressiveDisorder',\n",
    "           'HadArthritis','HadCOPD','HadKidneyDisease','HadAsthma','HadStroke','HadDiabetes']\n",
    "Data.dropna(subset=columns, inplace=True)"
   ]
  },
  {
   "cell_type": "code",
   "execution_count": 42,
   "id": "13290503",
   "metadata": {},
   "outputs": [
    {
     "data": {
      "text/plain": [
       "HadAngina                0\n",
       "HadSkinCancer            0\n",
       "HadHeartAttack           0\n",
       "HadDepressiveDisorder    0\n",
       "HadArthritis             0\n",
       "HadCOPD                  0\n",
       "HadKidneyDisease         0\n",
       "HadAsthma                0\n",
       "HadStroke                0\n",
       "HadDiabetes              0\n",
       "dtype: int64"
      ]
     },
     "execution_count": 42,
     "metadata": {},
     "output_type": "execute_result"
    }
   ],
   "source": [
    "Data[columns].isna().sum()"
   ]
  },
  {
   "cell_type": "code",
   "execution_count": 43,
   "id": "fc6c47d5",
   "metadata": {},
   "outputs": [],
   "source": [
    "Data[columns] = Data[columns].replace({'Yes':1,'No':0})\n",
    "Data['HadDiabetes'] = Data['HadDiabetes'].replace({'No, pre-diabetes or borderline diabetes': 0,'Yes, but only during pregnancy (female)': 1})"
   ]
  },
  {
   "cell_type": "code",
   "execution_count": 44,
   "id": "8353af63",
   "metadata": {},
   "outputs": [
    {
     "data": {
      "text/html": [
       "<div>\n",
       "<style scoped>\n",
       "    .dataframe tbody tr th:only-of-type {\n",
       "        vertical-align: middle;\n",
       "    }\n",
       "\n",
       "    .dataframe tbody tr th {\n",
       "        vertical-align: top;\n",
       "    }\n",
       "\n",
       "    .dataframe thead th {\n",
       "        text-align: right;\n",
       "    }\n",
       "</style>\n",
       "<table border=\"1\" class=\"dataframe\">\n",
       "  <thead>\n",
       "    <tr style=\"text-align: right;\">\n",
       "      <th></th>\n",
       "      <th>HadAngina</th>\n",
       "      <th>HadSkinCancer</th>\n",
       "      <th>HadHeartAttack</th>\n",
       "      <th>HadDepressiveDisorder</th>\n",
       "      <th>HadArthritis</th>\n",
       "      <th>HadCOPD</th>\n",
       "      <th>HadKidneyDisease</th>\n",
       "      <th>HadAsthma</th>\n",
       "      <th>HadStroke</th>\n",
       "      <th>HadDiabetes</th>\n",
       "    </tr>\n",
       "  </thead>\n",
       "  <tbody>\n",
       "    <tr>\n",
       "      <th>0</th>\n",
       "      <td>0</td>\n",
       "      <td>0</td>\n",
       "      <td>0</td>\n",
       "      <td>0</td>\n",
       "      <td>0</td>\n",
       "      <td>0</td>\n",
       "      <td>0</td>\n",
       "      <td>0</td>\n",
       "      <td>0</td>\n",
       "      <td>1</td>\n",
       "    </tr>\n",
       "    <tr>\n",
       "      <th>1</th>\n",
       "      <td>0</td>\n",
       "      <td>1</td>\n",
       "      <td>0</td>\n",
       "      <td>0</td>\n",
       "      <td>0</td>\n",
       "      <td>0</td>\n",
       "      <td>0</td>\n",
       "      <td>0</td>\n",
       "      <td>0</td>\n",
       "      <td>0</td>\n",
       "    </tr>\n",
       "    <tr>\n",
       "      <th>2</th>\n",
       "      <td>0</td>\n",
       "      <td>1</td>\n",
       "      <td>0</td>\n",
       "      <td>0</td>\n",
       "      <td>0</td>\n",
       "      <td>0</td>\n",
       "      <td>0</td>\n",
       "      <td>0</td>\n",
       "      <td>0</td>\n",
       "      <td>0</td>\n",
       "    </tr>\n",
       "    <tr>\n",
       "      <th>3</th>\n",
       "      <td>0</td>\n",
       "      <td>0</td>\n",
       "      <td>0</td>\n",
       "      <td>0</td>\n",
       "      <td>1</td>\n",
       "      <td>0</td>\n",
       "      <td>0</td>\n",
       "      <td>1</td>\n",
       "      <td>0</td>\n",
       "      <td>0</td>\n",
       "    </tr>\n",
       "    <tr>\n",
       "      <th>4</th>\n",
       "      <td>0</td>\n",
       "      <td>0</td>\n",
       "      <td>0</td>\n",
       "      <td>0</td>\n",
       "      <td>0</td>\n",
       "      <td>0</td>\n",
       "      <td>0</td>\n",
       "      <td>0</td>\n",
       "      <td>0</td>\n",
       "      <td>0</td>\n",
       "    </tr>\n",
       "    <tr>\n",
       "      <th>...</th>\n",
       "      <td>...</td>\n",
       "      <td>...</td>\n",
       "      <td>...</td>\n",
       "      <td>...</td>\n",
       "      <td>...</td>\n",
       "      <td>...</td>\n",
       "      <td>...</td>\n",
       "      <td>...</td>\n",
       "      <td>...</td>\n",
       "      <td>...</td>\n",
       "    </tr>\n",
       "    <tr>\n",
       "      <th>445124</th>\n",
       "      <td>0</td>\n",
       "      <td>0</td>\n",
       "      <td>0</td>\n",
       "      <td>0</td>\n",
       "      <td>1</td>\n",
       "      <td>0</td>\n",
       "      <td>0</td>\n",
       "      <td>0</td>\n",
       "      <td>1</td>\n",
       "      <td>1</td>\n",
       "    </tr>\n",
       "    <tr>\n",
       "      <th>445126</th>\n",
       "      <td>0</td>\n",
       "      <td>0</td>\n",
       "      <td>0</td>\n",
       "      <td>0</td>\n",
       "      <td>0</td>\n",
       "      <td>0</td>\n",
       "      <td>0</td>\n",
       "      <td>0</td>\n",
       "      <td>0</td>\n",
       "      <td>0</td>\n",
       "    </tr>\n",
       "    <tr>\n",
       "      <th>445128</th>\n",
       "      <td>0</td>\n",
       "      <td>0</td>\n",
       "      <td>0</td>\n",
       "      <td>0</td>\n",
       "      <td>0</td>\n",
       "      <td>0</td>\n",
       "      <td>0</td>\n",
       "      <td>0</td>\n",
       "      <td>0</td>\n",
       "      <td>0</td>\n",
       "    </tr>\n",
       "    <tr>\n",
       "      <th>445130</th>\n",
       "      <td>0</td>\n",
       "      <td>0</td>\n",
       "      <td>1</td>\n",
       "      <td>0</td>\n",
       "      <td>0</td>\n",
       "      <td>0</td>\n",
       "      <td>0</td>\n",
       "      <td>1</td>\n",
       "      <td>0</td>\n",
       "      <td>0</td>\n",
       "    </tr>\n",
       "    <tr>\n",
       "      <th>445131</th>\n",
       "      <td>0</td>\n",
       "      <td>0</td>\n",
       "      <td>0</td>\n",
       "      <td>0</td>\n",
       "      <td>0</td>\n",
       "      <td>0</td>\n",
       "      <td>0</td>\n",
       "      <td>0</td>\n",
       "      <td>0</td>\n",
       "      <td>0</td>\n",
       "    </tr>\n",
       "  </tbody>\n",
       "</table>\n",
       "<p>357944 rows × 10 columns</p>\n",
       "</div>"
      ],
      "text/plain": [
       "        HadAngina  HadSkinCancer  HadHeartAttack  HadDepressiveDisorder  \\\n",
       "0               0              0               0                      0   \n",
       "1               0              1               0                      0   \n",
       "2               0              1               0                      0   \n",
       "3               0              0               0                      0   \n",
       "4               0              0               0                      0   \n",
       "...           ...            ...             ...                    ...   \n",
       "445124          0              0               0                      0   \n",
       "445126          0              0               0                      0   \n",
       "445128          0              0               0                      0   \n",
       "445130          0              0               1                      0   \n",
       "445131          0              0               0                      0   \n",
       "\n",
       "        HadArthritis  HadCOPD  HadKidneyDisease  HadAsthma  HadStroke  \\\n",
       "0                  0        0                 0          0          0   \n",
       "1                  0        0                 0          0          0   \n",
       "2                  0        0                 0          0          0   \n",
       "3                  1        0                 0          1          0   \n",
       "4                  0        0                 0          0          0   \n",
       "...              ...      ...               ...        ...        ...   \n",
       "445124             1        0                 0          0          1   \n",
       "445126             0        0                 0          0          0   \n",
       "445128             0        0                 0          0          0   \n",
       "445130             0        0                 0          1          0   \n",
       "445131             0        0                 0          0          0   \n",
       "\n",
       "        HadDiabetes  \n",
       "0                 1  \n",
       "1                 0  \n",
       "2                 0  \n",
       "3                 0  \n",
       "4                 0  \n",
       "...             ...  \n",
       "445124            1  \n",
       "445126            0  \n",
       "445128            0  \n",
       "445130            0  \n",
       "445131            0  \n",
       "\n",
       "[357944 rows x 10 columns]"
      ]
     },
     "execution_count": 44,
     "metadata": {},
     "output_type": "execute_result"
    }
   ],
   "source": [
    "Data[columns]"
   ]
  },
  {
   "cell_type": "code",
   "execution_count": 45,
   "id": "bc465f39",
   "metadata": {},
   "outputs": [
    {
     "name": "stdout",
     "output_type": "stream",
     "text": [
      "<class 'pandas.core.frame.DataFrame'>\n",
      "Index: 357944 entries, 0 to 445131\n",
      "Data columns (total 10 columns):\n",
      " #   Column                 Non-Null Count   Dtype\n",
      "---  ------                 --------------   -----\n",
      " 0   HadAngina              357944 non-null  int64\n",
      " 1   HadSkinCancer          357944 non-null  int64\n",
      " 2   HadHeartAttack         357944 non-null  int64\n",
      " 3   HadDepressiveDisorder  357944 non-null  int64\n",
      " 4   HadArthritis           357944 non-null  int64\n",
      " 5   HadCOPD                357944 non-null  int64\n",
      " 6   HadKidneyDisease       357944 non-null  int64\n",
      " 7   HadAsthma              357944 non-null  int64\n",
      " 8   HadStroke              357944 non-null  int64\n",
      " 9   HadDiabetes            357944 non-null  int64\n",
      "dtypes: int64(10)\n",
      "memory usage: 30.0 MB\n"
     ]
    }
   ],
   "source": [
    "(Data[columns]).info()"
   ]
  },
  {
   "cell_type": "code",
   "execution_count": 46,
   "id": "a3602944",
   "metadata": {},
   "outputs": [
    {
     "data": {
      "text/plain": [
       "HadDiabetes\n",
       "0    307633\n",
       "1     50311\n",
       "Name: count, dtype: int64"
      ]
     },
     "execution_count": 46,
     "metadata": {},
     "output_type": "execute_result"
    }
   ],
   "source": [
    "Data['HadDiabetes'].value_counts()"
   ]
  }
 ],
 "metadata": {
  "kernelspec": {
   "display_name": "Python 3",
   "language": "python",
   "name": "python3"
  },
  "language_info": {
   "codemirror_mode": {
    "name": "ipython",
    "version": 3
   },
   "file_extension": ".py",
   "mimetype": "text/x-python",
   "name": "python",
   "nbconvert_exporter": "python",
   "pygments_lexer": "ipython3",
   "version": "3.13.6"
  }
 },
 "nbformat": 4,
 "nbformat_minor": 5
}
