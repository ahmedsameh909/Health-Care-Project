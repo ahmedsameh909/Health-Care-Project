{
 "cells": [
  {
   "cell_type": "markdown",
   "id": "11d73dbb",
   "metadata": {},
   "source": [
    "### <b> Step 1: Importing Required Libraries </b>\n",
    "We import essential Python libraries for data manipulation and visualization:  \n",
    "- **Pandas** for handling datasets.  \n",
    "- **NumPy** for numerical computations.  \n",
    "- **Matplotlib** and **Seaborn** for static data visualizations.  \n",
    "- **Plotly Express** for interactive charts.\n"
   ]
  },
  {
   "cell_type": "code",
   "execution_count": 2,
   "id": "bd96b7de",
   "metadata": {
    "execution": {
     "iopub.execute_input": "2025-10-15T15:15:43.547217Z",
     "iopub.status.busy": "2025-10-15T15:15:43.547038Z",
     "iopub.status.idle": "2025-10-15T15:15:45.353833Z",
     "shell.execute_reply": "2025-10-15T15:15:45.353364Z"
    }
   },
   "outputs": [
    {
     "name": "stderr",
     "output_type": "stream",
     "text": [
      "C:\\Users\\Lenovo\\AppData\\Roaming\\Python\\Python313\\site-packages\\tqdm\\auto.py:21: TqdmWarning: IProgress not found. Please update jupyter and ipywidgets. See https://ipywidgets.readthedocs.io/en/stable/user_install.html\n",
      "  from .autonotebook import tqdm as notebook_tqdm\n"
     ]
    }
   ],
   "source": [
    "import pandas as pd\n",
    "import numpy as np\n",
    "import matplotlib.pyplot as plt\n",
    "import seaborn as sns\n",
    "import plotly.express as px\n",
    "import kagglehub\n",
    "import warnings\n",
    "warnings.filterwarnings('ignore')\n",
    "\n",
    "colors = [\"#89CFF0\", \"#FF69B4\", \"#FFD700\", \"#7B68EE\", \"#FF4500\",\n",
    "          \"#9370DB\", \"#32CD32\", \"#8A2BE2\", \"#AE4532\", \"#20B2AA\",\n",
    "          \"#FF69B4\", \"#00CED1\", \"#FF7F50\", \"#7FFF00\", \"#DA70D6\"]"
   ]
  },
  {
   "cell_type": "markdown",
   "id": "cb90761c",
   "metadata": {},
   "source": [
    "### <b> Step2: Downloading the Dataset from Kaggle </b>\n",
    "\n",
    "In this step, we use the **KaggleHub** library to download the dataset directly from Kaggle.  \n",
    "- `kagglehub.dataset_download(\"kamilpytlak/personal-key-indicators-of-heart-disease\")` fetches the dataset titled *\"Personal Key Indicators of Heart Disease\"* from Kaggle and stores it locally.  \n",
    "- The variable `path` stores the local directory path where the dataset files are downloaded.  \n",
    "- `print(\"Path to dataset files:\", path)` displays the location so we can easily access and load the data in the next steps.\n"
   ]
  },
  {
   "cell_type": "code",
   "execution_count": 3,
   "id": "139f8695",
   "metadata": {
    "execution": {
     "iopub.execute_input": "2025-10-15T15:15:45.356064Z",
     "iopub.status.busy": "2025-10-15T15:15:45.355800Z",
     "iopub.status.idle": "2025-10-15T15:15:46.992052Z",
     "shell.execute_reply": "2025-10-15T15:15:46.991427Z"
    }
   },
   "outputs": [
    {
     "name": "stdout",
     "output_type": "stream",
     "text": [
      "Path to dataset files: C:\\Users\\Lenovo\\.cache\\kagglehub\\datasets\\kamilpytlak\\personal-key-indicators-of-heart-disease\\versions\\6\n"
     ]
    }
   ],
   "source": [
    "path = kagglehub.dataset_download(\"kamilpytlak/personal-key-indicators-of-heart-disease\")\n",
    "\n",
    "print(\"Path to dataset files:\", path)"
   ]
  },
  {
   "cell_type": "code",
   "execution_count": 4,
   "id": "c4bf181d",
   "metadata": {
    "execution": {
     "iopub.execute_input": "2025-10-15T15:15:46.994059Z",
     "iopub.status.busy": "2025-10-15T15:15:46.993772Z",
     "iopub.status.idle": "2025-10-15T15:15:49.044827Z",
     "shell.execute_reply": "2025-10-15T15:15:49.044250Z"
    }
   },
   "outputs": [],
   "source": [
    "Data_path=path+'/2022/heart_2022_with_nans.csv'\n",
    "Data =pd.read_csv(Data_path)"
   ]
  },
  {
   "cell_type": "markdown",
   "id": "276f72ea",
   "metadata": {},
   "source": [
    "### <b> Step 3: Exploring the Dataset </b>\n",
    "We start exploring the dataset to understand its structure and content.  \n",
    "- `Data.info()` → shows data types and missing values.  \n",
    "- `Data.head()` → displays the first few rows.  \n",
    "- `Data.describe()` → gives statistical summaries of numerical columns.\n",
    "- `Data.columns` → to display the names of all columns (features) in the dataset."
   ]
  },
  {
   "cell_type": "code",
   "execution_count": 5,
   "id": "f5cba99d",
   "metadata": {
    "execution": {
     "iopub.execute_input": "2025-10-15T15:15:49.047484Z",
     "iopub.status.busy": "2025-10-15T15:15:49.047234Z",
     "iopub.status.idle": "2025-10-15T15:15:49.064948Z",
     "shell.execute_reply": "2025-10-15T15:15:49.064257Z"
    }
   },
   "outputs": [
    {
     "data": {
      "text/html": [
       "<div>\n",
       "<style scoped>\n",
       "    .dataframe tbody tr th:only-of-type {\n",
       "        vertical-align: middle;\n",
       "    }\n",
       "\n",
       "    .dataframe tbody tr th {\n",
       "        vertical-align: top;\n",
       "    }\n",
       "\n",
       "    .dataframe thead th {\n",
       "        text-align: right;\n",
       "    }\n",
       "</style>\n",
       "<table border=\"1\" class=\"dataframe\">\n",
       "  <thead>\n",
       "    <tr style=\"text-align: right;\">\n",
       "      <th></th>\n",
       "      <th>State</th>\n",
       "      <th>Sex</th>\n",
       "      <th>GeneralHealth</th>\n",
       "      <th>PhysicalHealthDays</th>\n",
       "      <th>MentalHealthDays</th>\n",
       "      <th>LastCheckupTime</th>\n",
       "      <th>PhysicalActivities</th>\n",
       "      <th>SleepHours</th>\n",
       "      <th>RemovedTeeth</th>\n",
       "      <th>HadHeartAttack</th>\n",
       "      <th>...</th>\n",
       "      <th>HeightInMeters</th>\n",
       "      <th>WeightInKilograms</th>\n",
       "      <th>BMI</th>\n",
       "      <th>AlcoholDrinkers</th>\n",
       "      <th>HIVTesting</th>\n",
       "      <th>FluVaxLast12</th>\n",
       "      <th>PneumoVaxEver</th>\n",
       "      <th>TetanusLast10Tdap</th>\n",
       "      <th>HighRiskLastYear</th>\n",
       "      <th>CovidPos</th>\n",
       "    </tr>\n",
       "  </thead>\n",
       "  <tbody>\n",
       "    <tr>\n",
       "      <th>0</th>\n",
       "      <td>Alabama</td>\n",
       "      <td>Female</td>\n",
       "      <td>Very good</td>\n",
       "      <td>0.0</td>\n",
       "      <td>0.0</td>\n",
       "      <td>Within past year (anytime less than 12 months ...</td>\n",
       "      <td>No</td>\n",
       "      <td>8.0</td>\n",
       "      <td>NaN</td>\n",
       "      <td>No</td>\n",
       "      <td>...</td>\n",
       "      <td>NaN</td>\n",
       "      <td>NaN</td>\n",
       "      <td>NaN</td>\n",
       "      <td>No</td>\n",
       "      <td>No</td>\n",
       "      <td>Yes</td>\n",
       "      <td>No</td>\n",
       "      <td>Yes, received tetanus shot but not sure what type</td>\n",
       "      <td>No</td>\n",
       "      <td>No</td>\n",
       "    </tr>\n",
       "    <tr>\n",
       "      <th>1</th>\n",
       "      <td>Alabama</td>\n",
       "      <td>Female</td>\n",
       "      <td>Excellent</td>\n",
       "      <td>0.0</td>\n",
       "      <td>0.0</td>\n",
       "      <td>NaN</td>\n",
       "      <td>No</td>\n",
       "      <td>6.0</td>\n",
       "      <td>NaN</td>\n",
       "      <td>No</td>\n",
       "      <td>...</td>\n",
       "      <td>1.60</td>\n",
       "      <td>68.04</td>\n",
       "      <td>26.57</td>\n",
       "      <td>No</td>\n",
       "      <td>No</td>\n",
       "      <td>No</td>\n",
       "      <td>No</td>\n",
       "      <td>No, did not receive any tetanus shot in the pa...</td>\n",
       "      <td>No</td>\n",
       "      <td>No</td>\n",
       "    </tr>\n",
       "    <tr>\n",
       "      <th>2</th>\n",
       "      <td>Alabama</td>\n",
       "      <td>Female</td>\n",
       "      <td>Very good</td>\n",
       "      <td>2.0</td>\n",
       "      <td>3.0</td>\n",
       "      <td>Within past year (anytime less than 12 months ...</td>\n",
       "      <td>Yes</td>\n",
       "      <td>5.0</td>\n",
       "      <td>NaN</td>\n",
       "      <td>No</td>\n",
       "      <td>...</td>\n",
       "      <td>1.57</td>\n",
       "      <td>63.50</td>\n",
       "      <td>25.61</td>\n",
       "      <td>No</td>\n",
       "      <td>No</td>\n",
       "      <td>No</td>\n",
       "      <td>No</td>\n",
       "      <td>NaN</td>\n",
       "      <td>No</td>\n",
       "      <td>Yes</td>\n",
       "    </tr>\n",
       "    <tr>\n",
       "      <th>3</th>\n",
       "      <td>Alabama</td>\n",
       "      <td>Female</td>\n",
       "      <td>Excellent</td>\n",
       "      <td>0.0</td>\n",
       "      <td>0.0</td>\n",
       "      <td>Within past year (anytime less than 12 months ...</td>\n",
       "      <td>Yes</td>\n",
       "      <td>7.0</td>\n",
       "      <td>NaN</td>\n",
       "      <td>No</td>\n",
       "      <td>...</td>\n",
       "      <td>1.65</td>\n",
       "      <td>63.50</td>\n",
       "      <td>23.30</td>\n",
       "      <td>No</td>\n",
       "      <td>No</td>\n",
       "      <td>Yes</td>\n",
       "      <td>Yes</td>\n",
       "      <td>No, did not receive any tetanus shot in the pa...</td>\n",
       "      <td>No</td>\n",
       "      <td>No</td>\n",
       "    </tr>\n",
       "    <tr>\n",
       "      <th>4</th>\n",
       "      <td>Alabama</td>\n",
       "      <td>Female</td>\n",
       "      <td>Fair</td>\n",
       "      <td>2.0</td>\n",
       "      <td>0.0</td>\n",
       "      <td>Within past year (anytime less than 12 months ...</td>\n",
       "      <td>Yes</td>\n",
       "      <td>9.0</td>\n",
       "      <td>NaN</td>\n",
       "      <td>No</td>\n",
       "      <td>...</td>\n",
       "      <td>1.57</td>\n",
       "      <td>53.98</td>\n",
       "      <td>21.77</td>\n",
       "      <td>Yes</td>\n",
       "      <td>No</td>\n",
       "      <td>No</td>\n",
       "      <td>Yes</td>\n",
       "      <td>No, did not receive any tetanus shot in the pa...</td>\n",
       "      <td>No</td>\n",
       "      <td>No</td>\n",
       "    </tr>\n",
       "  </tbody>\n",
       "</table>\n",
       "<p>5 rows × 40 columns</p>\n",
       "</div>"
      ],
      "text/plain": [
       "     State     Sex GeneralHealth  PhysicalHealthDays  MentalHealthDays  \\\n",
       "0  Alabama  Female     Very good                 0.0               0.0   \n",
       "1  Alabama  Female     Excellent                 0.0               0.0   \n",
       "2  Alabama  Female     Very good                 2.0               3.0   \n",
       "3  Alabama  Female     Excellent                 0.0               0.0   \n",
       "4  Alabama  Female          Fair                 2.0               0.0   \n",
       "\n",
       "                                     LastCheckupTime PhysicalActivities  \\\n",
       "0  Within past year (anytime less than 12 months ...                 No   \n",
       "1                                                NaN                 No   \n",
       "2  Within past year (anytime less than 12 months ...                Yes   \n",
       "3  Within past year (anytime less than 12 months ...                Yes   \n",
       "4  Within past year (anytime less than 12 months ...                Yes   \n",
       "\n",
       "   SleepHours RemovedTeeth HadHeartAttack  ... HeightInMeters  \\\n",
       "0         8.0          NaN             No  ...            NaN   \n",
       "1         6.0          NaN             No  ...           1.60   \n",
       "2         5.0          NaN             No  ...           1.57   \n",
       "3         7.0          NaN             No  ...           1.65   \n",
       "4         9.0          NaN             No  ...           1.57   \n",
       "\n",
       "  WeightInKilograms    BMI AlcoholDrinkers HIVTesting FluVaxLast12  \\\n",
       "0               NaN    NaN              No         No          Yes   \n",
       "1             68.04  26.57              No         No           No   \n",
       "2             63.50  25.61              No         No           No   \n",
       "3             63.50  23.30              No         No          Yes   \n",
       "4             53.98  21.77             Yes         No           No   \n",
       "\n",
       "  PneumoVaxEver                                  TetanusLast10Tdap  \\\n",
       "0            No  Yes, received tetanus shot but not sure what type   \n",
       "1            No  No, did not receive any tetanus shot in the pa...   \n",
       "2            No                                                NaN   \n",
       "3           Yes  No, did not receive any tetanus shot in the pa...   \n",
       "4           Yes  No, did not receive any tetanus shot in the pa...   \n",
       "\n",
       "  HighRiskLastYear CovidPos  \n",
       "0               No       No  \n",
       "1               No       No  \n",
       "2               No      Yes  \n",
       "3               No       No  \n",
       "4               No       No  \n",
       "\n",
       "[5 rows x 40 columns]"
      ]
     },
     "execution_count": 5,
     "metadata": {},
     "output_type": "execute_result"
    }
   ],
   "source": [
    "Data.head()"
   ]
  },
  {
   "cell_type": "code",
   "execution_count": 6,
   "id": "0eeab731",
   "metadata": {
    "execution": {
     "iopub.execute_input": "2025-10-15T15:15:49.067137Z",
     "iopub.status.busy": "2025-10-15T15:15:49.066947Z",
     "iopub.status.idle": "2025-10-15T15:15:49.479838Z",
     "shell.execute_reply": "2025-10-15T15:15:49.479163Z"
    }
   },
   "outputs": [
    {
     "name": "stdout",
     "output_type": "stream",
     "text": [
      "<class 'pandas.core.frame.DataFrame'>\n",
      "RangeIndex: 445132 entries, 0 to 445131\n",
      "Data columns (total 40 columns):\n",
      " #   Column                     Non-Null Count   Dtype  \n",
      "---  ------                     --------------   -----  \n",
      " 0   State                      445132 non-null  object \n",
      " 1   Sex                        445132 non-null  object \n",
      " 2   GeneralHealth              443934 non-null  object \n",
      " 3   PhysicalHealthDays         434205 non-null  float64\n",
      " 4   MentalHealthDays           436065 non-null  float64\n",
      " 5   LastCheckupTime            436824 non-null  object \n",
      " 6   PhysicalActivities         444039 non-null  object \n",
      " 7   SleepHours                 439679 non-null  float64\n",
      " 8   RemovedTeeth               433772 non-null  object \n",
      " 9   HadHeartAttack             442067 non-null  object \n",
      " 10  HadAngina                  440727 non-null  object \n",
      " 11  HadStroke                  443575 non-null  object \n",
      " 12  HadAsthma                  443359 non-null  object \n",
      " 13  HadSkinCancer              441989 non-null  object \n",
      " 14  HadCOPD                    442913 non-null  object \n",
      " 15  HadDepressiveDisorder      442320 non-null  object \n",
      " 16  HadKidneyDisease           443206 non-null  object \n",
      " 17  HadArthritis               442499 non-null  object \n",
      " 18  HadDiabetes                444045 non-null  object \n",
      " 19  DeafOrHardOfHearing        424485 non-null  object \n",
      " 20  BlindOrVisionDifficulty    423568 non-null  object \n",
      " 21  DifficultyConcentrating    420892 non-null  object \n",
      " 22  DifficultyWalking          421120 non-null  object \n",
      " 23  DifficultyDressingBathing  421217 non-null  object \n",
      " 24  DifficultyErrands          419476 non-null  object \n",
      " 25  SmokerStatus               409670 non-null  object \n",
      " 26  ECigaretteUsage            409472 non-null  object \n",
      " 27  ChestScan                  389086 non-null  object \n",
      " 28  RaceEthnicityCategory      431075 non-null  object \n",
      " 29  AgeCategory                436053 non-null  object \n",
      " 30  HeightInMeters             416480 non-null  float64\n",
      " 31  WeightInKilograms          403054 non-null  float64\n",
      " 32  BMI                        396326 non-null  float64\n",
      " 33  AlcoholDrinkers            398558 non-null  object \n",
      " 34  HIVTesting                 379005 non-null  object \n",
      " 35  FluVaxLast12               398011 non-null  object \n",
      " 36  PneumoVaxEver              368092 non-null  object \n",
      " 37  TetanusLast10Tdap          362616 non-null  object \n",
      " 38  HighRiskLastYear           394509 non-null  object \n",
      " 39  CovidPos                   394368 non-null  object \n",
      "dtypes: float64(6), object(34)\n",
      "memory usage: 135.8+ MB\n"
     ]
    }
   ],
   "source": [
    "Data.info()"
   ]
  },
  {
   "cell_type": "code",
   "execution_count": 7,
   "id": "857a15cf",
   "metadata": {
    "execution": {
     "iopub.execute_input": "2025-10-15T15:15:49.483848Z",
     "iopub.status.busy": "2025-10-15T15:15:49.483467Z",
     "iopub.status.idle": "2025-10-15T15:15:49.641727Z",
     "shell.execute_reply": "2025-10-15T15:15:49.641007Z"
    }
   },
   "outputs": [
    {
     "data": {
      "text/html": [
       "<div>\n",
       "<style scoped>\n",
       "    .dataframe tbody tr th:only-of-type {\n",
       "        vertical-align: middle;\n",
       "    }\n",
       "\n",
       "    .dataframe tbody tr th {\n",
       "        vertical-align: top;\n",
       "    }\n",
       "\n",
       "    .dataframe thead th {\n",
       "        text-align: right;\n",
       "    }\n",
       "</style>\n",
       "<table border=\"1\" class=\"dataframe\">\n",
       "  <thead>\n",
       "    <tr style=\"text-align: right;\">\n",
       "      <th></th>\n",
       "      <th>PhysicalHealthDays</th>\n",
       "      <th>MentalHealthDays</th>\n",
       "      <th>SleepHours</th>\n",
       "      <th>HeightInMeters</th>\n",
       "      <th>WeightInKilograms</th>\n",
       "      <th>BMI</th>\n",
       "    </tr>\n",
       "  </thead>\n",
       "  <tbody>\n",
       "    <tr>\n",
       "      <th>count</th>\n",
       "      <td>434205.000000</td>\n",
       "      <td>436065.000000</td>\n",
       "      <td>439679.000000</td>\n",
       "      <td>416480.000000</td>\n",
       "      <td>403054.000000</td>\n",
       "      <td>396326.000000</td>\n",
       "    </tr>\n",
       "    <tr>\n",
       "      <th>mean</th>\n",
       "      <td>4.347919</td>\n",
       "      <td>4.382649</td>\n",
       "      <td>7.022983</td>\n",
       "      <td>1.702691</td>\n",
       "      <td>83.074470</td>\n",
       "      <td>28.529842</td>\n",
       "    </tr>\n",
       "    <tr>\n",
       "      <th>std</th>\n",
       "      <td>8.688912</td>\n",
       "      <td>8.387475</td>\n",
       "      <td>1.502425</td>\n",
       "      <td>0.107177</td>\n",
       "      <td>21.448173</td>\n",
       "      <td>6.554889</td>\n",
       "    </tr>\n",
       "    <tr>\n",
       "      <th>min</th>\n",
       "      <td>0.000000</td>\n",
       "      <td>0.000000</td>\n",
       "      <td>1.000000</td>\n",
       "      <td>0.910000</td>\n",
       "      <td>22.680000</td>\n",
       "      <td>12.020000</td>\n",
       "    </tr>\n",
       "    <tr>\n",
       "      <th>25%</th>\n",
       "      <td>0.000000</td>\n",
       "      <td>0.000000</td>\n",
       "      <td>6.000000</td>\n",
       "      <td>1.630000</td>\n",
       "      <td>68.040000</td>\n",
       "      <td>24.130000</td>\n",
       "    </tr>\n",
       "    <tr>\n",
       "      <th>50%</th>\n",
       "      <td>0.000000</td>\n",
       "      <td>0.000000</td>\n",
       "      <td>7.000000</td>\n",
       "      <td>1.700000</td>\n",
       "      <td>80.740000</td>\n",
       "      <td>27.440000</td>\n",
       "    </tr>\n",
       "    <tr>\n",
       "      <th>75%</th>\n",
       "      <td>3.000000</td>\n",
       "      <td>5.000000</td>\n",
       "      <td>8.000000</td>\n",
       "      <td>1.780000</td>\n",
       "      <td>95.250000</td>\n",
       "      <td>31.750000</td>\n",
       "    </tr>\n",
       "    <tr>\n",
       "      <th>max</th>\n",
       "      <td>30.000000</td>\n",
       "      <td>30.000000</td>\n",
       "      <td>24.000000</td>\n",
       "      <td>2.410000</td>\n",
       "      <td>292.570000</td>\n",
       "      <td>99.640000</td>\n",
       "    </tr>\n",
       "  </tbody>\n",
       "</table>\n",
       "</div>"
      ],
      "text/plain": [
       "       PhysicalHealthDays  MentalHealthDays     SleepHours  HeightInMeters  \\\n",
       "count       434205.000000     436065.000000  439679.000000   416480.000000   \n",
       "mean             4.347919          4.382649       7.022983        1.702691   \n",
       "std              8.688912          8.387475       1.502425        0.107177   \n",
       "min              0.000000          0.000000       1.000000        0.910000   \n",
       "25%              0.000000          0.000000       6.000000        1.630000   \n",
       "50%              0.000000          0.000000       7.000000        1.700000   \n",
       "75%              3.000000          5.000000       8.000000        1.780000   \n",
       "max             30.000000         30.000000      24.000000        2.410000   \n",
       "\n",
       "       WeightInKilograms            BMI  \n",
       "count      403054.000000  396326.000000  \n",
       "mean           83.074470      28.529842  \n",
       "std            21.448173       6.554889  \n",
       "min            22.680000      12.020000  \n",
       "25%            68.040000      24.130000  \n",
       "50%            80.740000      27.440000  \n",
       "75%            95.250000      31.750000  \n",
       "max           292.570000      99.640000  "
      ]
     },
     "execution_count": 7,
     "metadata": {},
     "output_type": "execute_result"
    }
   ],
   "source": [
    "Data.describe()"
   ]
  },
  {
   "cell_type": "code",
   "execution_count": 8,
   "id": "c508588f",
   "metadata": {
    "execution": {
     "iopub.execute_input": "2025-10-15T15:15:49.644312Z",
     "iopub.status.busy": "2025-10-15T15:15:49.644095Z",
     "iopub.status.idle": "2025-10-15T15:15:49.648796Z",
     "shell.execute_reply": "2025-10-15T15:15:49.648112Z"
    }
   },
   "outputs": [
    {
     "data": {
      "text/plain": [
       "Index(['State', 'Sex', 'GeneralHealth', 'PhysicalHealthDays',\n",
       "       'MentalHealthDays', 'LastCheckupTime', 'PhysicalActivities',\n",
       "       'SleepHours', 'RemovedTeeth', 'HadHeartAttack', 'HadAngina',\n",
       "       'HadStroke', 'HadAsthma', 'HadSkinCancer', 'HadCOPD',\n",
       "       'HadDepressiveDisorder', 'HadKidneyDisease', 'HadArthritis',\n",
       "       'HadDiabetes', 'DeafOrHardOfHearing', 'BlindOrVisionDifficulty',\n",
       "       'DifficultyConcentrating', 'DifficultyWalking',\n",
       "       'DifficultyDressingBathing', 'DifficultyErrands', 'SmokerStatus',\n",
       "       'ECigaretteUsage', 'ChestScan', 'RaceEthnicityCategory', 'AgeCategory',\n",
       "       'HeightInMeters', 'WeightInKilograms', 'BMI', 'AlcoholDrinkers',\n",
       "       'HIVTesting', 'FluVaxLast12', 'PneumoVaxEver', 'TetanusLast10Tdap',\n",
       "       'HighRiskLastYear', 'CovidPos'],\n",
       "      dtype='object')"
      ]
     },
     "execution_count": 8,
     "metadata": {},
     "output_type": "execute_result"
    }
   ],
   "source": [
    "Data.columns"
   ]
  },
  {
   "cell_type": "code",
   "execution_count": 9,
   "id": "ef173b30",
   "metadata": {
    "execution": {
     "iopub.execute_input": "2025-10-15T15:15:49.651011Z",
     "iopub.status.busy": "2025-10-15T15:15:49.650733Z",
     "iopub.status.idle": "2025-10-15T15:15:50.029903Z",
     "shell.execute_reply": "2025-10-15T15:15:50.029042Z"
    }
   },
   "outputs": [
    {
     "data": {
      "text/plain": [
       "State                            0\n",
       "Sex                              0\n",
       "GeneralHealth                 1198\n",
       "PhysicalHealthDays           10927\n",
       "MentalHealthDays              9067\n",
       "LastCheckupTime               8308\n",
       "PhysicalActivities            1093\n",
       "SleepHours                    5453\n",
       "RemovedTeeth                 11360\n",
       "HadHeartAttack                3065\n",
       "HadAngina                     4405\n",
       "HadStroke                     1557\n",
       "HadAsthma                     1773\n",
       "HadSkinCancer                 3143\n",
       "HadCOPD                       2219\n",
       "HadDepressiveDisorder         2812\n",
       "HadKidneyDisease              1926\n",
       "HadArthritis                  2633\n",
       "HadDiabetes                   1087\n",
       "DeafOrHardOfHearing          20647\n",
       "BlindOrVisionDifficulty      21564\n",
       "DifficultyConcentrating      24240\n",
       "DifficultyWalking            24012\n",
       "DifficultyDressingBathing    23915\n",
       "DifficultyErrands            25656\n",
       "SmokerStatus                 35462\n",
       "ECigaretteUsage              35660\n",
       "ChestScan                    56046\n",
       "RaceEthnicityCategory        14057\n",
       "AgeCategory                   9079\n",
       "HeightInMeters               28652\n",
       "WeightInKilograms            42078\n",
       "BMI                          48806\n",
       "AlcoholDrinkers              46574\n",
       "HIVTesting                   66127\n",
       "FluVaxLast12                 47121\n",
       "PneumoVaxEver                77040\n",
       "TetanusLast10Tdap            82516\n",
       "HighRiskLastYear             50623\n",
       "CovidPos                     50764\n",
       "dtype: int64"
      ]
     },
     "execution_count": 9,
     "metadata": {},
     "output_type": "execute_result"
    }
   ],
   "source": [
    "Data.isna().sum()"
   ]
  },
  {
   "cell_type": "markdown",
   "id": "13451912",
   "metadata": {},
   "source": [
    "###  <b>Step 4: Splitting the Dataset into Logical Feature Groups</b>\n",
    "\n",
    "In this step, we organize the dataset into multiple smaller DataFrames based on feature categories.  \n",
    "This makes the analysis, cleaning, and visualization process more structured and manageable, especially since the dataset has many columns.\n",
    "\n",
    "- **`Data_Demographics`** →\n",
    "  *These features describe personal and social background.*\n",
    "\n",
    "- **`Data_lifestyle`** →\n",
    "  *Used to study how daily habits affect health risks.*\n",
    "\n",
    "- **`Data_general`** → \n",
    "  *Helps understand overall well-being and recent checkup frequency.*\n",
    "\n",
    "- **`Data_disease`** → \n",
    "  *These columns will be key predictors for heart disease risk.*\n",
    "\n",
    "- **`Data_disability`** → \n",
    "  *Represents functional limitations that may correlate with health status.*\n",
    "\n",
    "- **`Data_body`** → \n",
    "  *Useful for identifying patterns related to obesity or general physical condition.*\n",
    "\n",
    "- **`Data_vaccine`** →  *May help assess preventive healthcare behavior.*\n",
    "\n",
    "- **`target`** →  *These are the outcomes that predictive models can be trained on later.*\n",
    "\n",
    "<b> Overall, this segmentation improves clarity, reduces complexity, and prepares the dataset for focused EDA and modeling. </b>\n"
   ]
  },
  {
   "cell_type": "code",
   "execution_count": 10,
   "id": "b1d5a648",
   "metadata": {
    "execution": {
     "iopub.execute_input": "2025-10-15T15:15:50.032126Z",
     "iopub.status.busy": "2025-10-15T15:15:50.031845Z",
     "iopub.status.idle": "2025-10-15T15:15:50.144908Z",
     "shell.execute_reply": "2025-10-15T15:15:50.144154Z"
    }
   },
   "outputs": [],
   "source": [
    "Data_Demographics=Data[['State','Sex','RaceEthnicityCategory','AgeCategory']]\n",
    "Data_lifestyle = Data[['PhysicalActivities', 'SleepHours', 'SmokerStatus', 'AlcoholDrinkers', 'ECigaretteUsage']]\n",
    "Data_general = Data[['GeneralHealth', 'PhysicalHealthDays', 'MentalHealthDays', 'LastCheckupTime']]\n",
    "Data_disease = Data[['HadHeartAttack','HadAngina','HadStroke','HadAsthma','HadSkinCancer','HadCOPD','HadDepressiveDisorder','HadKidneyDisease','HadArthritis','HadDiabetes']]\n",
    "Data_disability = Data[['DeafOrHardOfHearing','BlindOrVisionDifficulty','DifficultyConcentrating','DifficultyWalking','DifficultyDressingBathing','DifficultyErrands']]\n",
    "Data_body = Data[['HeightInMeters','WeightInKilograms','BMI','RemovedTeeth']]\n",
    "Data_vaccine = Data[['ChestScan','HIVTesting','FluVaxLast12','PneumoVaxEver','TetanusLast10Tdap','HighRiskLastYear']]\n",
    "target = Data[['HadHeartAttack','CovidPos']]"
   ]
  },
  {
   "cell_type": "markdown",
   "id": "cebf0f1f",
   "metadata": {},
   "source": [
    "### <b> Detecting Outliers Using IQR </b>\n",
    "\n",
    "This function identifies outliers in a numeric column using the **Interquartile Range (IQR)** method.\n",
    "\n",
    "- Calculates the **25th percentile (Q1)** and **75th percentile (Q3)**.  \n",
    "- Computes the **IQR** as Q3 − Q1.  \n",
    "- Defines outliers as values below Q1 − 1.5×IQR or above Q3 + 1.5×IQR.  \n",
    "- Returns only the rows containing these outlier values.\n",
    "\n",
    "**Purpose:**  \n",
    "<b>To detect extreme values that may distort analysis or modeling results.</b>\n"
   ]
  },
  {
   "cell_type": "code",
   "execution_count": 11,
   "id": "12dcab9d",
   "metadata": {
    "execution": {
     "iopub.execute_input": "2025-10-15T15:15:50.147462Z",
     "iopub.status.busy": "2025-10-15T15:15:50.147096Z",
     "iopub.status.idle": "2025-10-15T15:15:50.151196Z",
     "shell.execute_reply": "2025-10-15T15:15:50.150311Z"
    }
   },
   "outputs": [],
   "source": [
    "def detect_outliers(df, column):\n",
    "    \"\"\"\n",
    "    Detect outliers in a specific column using the IQR method.\n",
    "    Returns only the rows that contain outliers.\n",
    "    \"\"\"\n",
    "    Q1 = df[column].quantile(0.25)\n",
    "    Q3 = df[column].quantile(0.75)\n",
    "    IQR = Q3 - Q1\n",
    "    lower_bound = Q1 - 1.5 * IQR\n",
    "    upper_bound = Q3 + 1.5 * IQR\n",
    "    outliers = df[(df[column] < lower_bound) | (df[column] > upper_bound)]\n",
    "    return outliers"
   ]
  },
  {
   "cell_type": "markdown",
   "id": "07b9cf1e",
   "metadata": {},
   "source": [
    "### <b> Imputing Missing Values Using Distribution </b>\n",
    "\n",
    "This function fills missing values in a column while preserving the original distribution of categories.  \n",
    "\n",
    "- It first identifies missing entries in the specified column.  \n",
    "- If there are no missing values, it returns the column unchanged.  \n",
    "- Otherwise, it calculates the relative frequency (probability) of each category.  \n",
    "- Missing values are then randomly assigned based on these probabilities, ensuring the distribution remains consistent.  \n",
    "\n",
    "**Purpose:**  \n",
    "<b>To handle missing categorical data without distorting the dataset’s natural proportions. </b>"
   ]
  },
  {
   "cell_type": "code",
   "execution_count": 12,
   "id": "0eb9e396",
   "metadata": {
    "execution": {
     "iopub.execute_input": "2025-10-15T15:15:50.153353Z",
     "iopub.status.busy": "2025-10-15T15:15:50.153074Z",
     "iopub.status.idle": "2025-10-15T15:15:50.156885Z",
     "shell.execute_reply": "2025-10-15T15:15:50.156261Z"
    }
   },
   "outputs": [],
   "source": [
    "def fill_column_by_distribution(df, col_name):\n",
    "    column = df[col_name]\n",
    "    mask = column.isna()\n",
    "    \n",
    "    if mask.sum() == 0:\n",
    "        return column\n",
    "    \n",
    "    probs = column.value_counts(normalize=True)\n",
    "    categories = probs.index\n",
    "    weights = probs.values\n",
    "    \n",
    "    column.loc[mask] = np.random.choice(categories, size=mask.sum(), p=weights)\n",
    "    return column\n"
   ]
  },
  {
   "cell_type": "markdown",
   "id": "90b13084",
   "metadata": {},
   "source": [
    "### Step: Cleaning <b>Demographic Data</b>\n",
    "\n",
    "We checked the demographic features for missing values and inconsistencies.  \n",
    "Missing `RaceEthnicityCategory` values were replaced with the most frequent category.  \n",
    "Missing `AgeCategory` values were filled while keeping the original distribution.  \n",
    "<b> Now, the demographic data is complete, consistent, and ready for analysis.</b>\n"
   ]
  },
  {
   "cell_type": "code",
   "execution_count": 13,
   "id": "2e4a0eb7",
   "metadata": {
    "execution": {
     "iopub.execute_input": "2025-10-15T15:15:50.159483Z",
     "iopub.status.busy": "2025-10-15T15:15:50.159125Z",
     "iopub.status.idle": "2025-10-15T15:15:50.179466Z",
     "shell.execute_reply": "2025-10-15T15:15:50.178852Z"
    }
   },
   "outputs": [
    {
     "data": {
      "text/html": [
       "<div>\n",
       "<style scoped>\n",
       "    .dataframe tbody tr th:only-of-type {\n",
       "        vertical-align: middle;\n",
       "    }\n",
       "\n",
       "    .dataframe tbody tr th {\n",
       "        vertical-align: top;\n",
       "    }\n",
       "\n",
       "    .dataframe thead th {\n",
       "        text-align: right;\n",
       "    }\n",
       "</style>\n",
       "<table border=\"1\" class=\"dataframe\">\n",
       "  <thead>\n",
       "    <tr style=\"text-align: right;\">\n",
       "      <th></th>\n",
       "      <th>State</th>\n",
       "      <th>Sex</th>\n",
       "      <th>RaceEthnicityCategory</th>\n",
       "      <th>AgeCategory</th>\n",
       "    </tr>\n",
       "  </thead>\n",
       "  <tbody>\n",
       "    <tr>\n",
       "      <th>439009</th>\n",
       "      <td>Puerto Rico</td>\n",
       "      <td>Male</td>\n",
       "      <td>Hispanic</td>\n",
       "      <td>Age 35 to 39</td>\n",
       "    </tr>\n",
       "    <tr>\n",
       "      <th>229286</th>\n",
       "      <td>Nebraska</td>\n",
       "      <td>Female</td>\n",
       "      <td>White only, Non-Hispanic</td>\n",
       "      <td>Age 80 or older</td>\n",
       "    </tr>\n",
       "    <tr>\n",
       "      <th>395524</th>\n",
       "      <td>Washington</td>\n",
       "      <td>Male</td>\n",
       "      <td>Multiracial, Non-Hispanic</td>\n",
       "      <td>Age 18 to 24</td>\n",
       "    </tr>\n",
       "    <tr>\n",
       "      <th>176383</th>\n",
       "      <td>Massachusetts</td>\n",
       "      <td>Male</td>\n",
       "      <td>White only, Non-Hispanic</td>\n",
       "      <td>Age 18 to 24</td>\n",
       "    </tr>\n",
       "    <tr>\n",
       "      <th>414201</th>\n",
       "      <td>Washington</td>\n",
       "      <td>Female</td>\n",
       "      <td>White only, Non-Hispanic</td>\n",
       "      <td>Age 65 to 69</td>\n",
       "    </tr>\n",
       "  </tbody>\n",
       "</table>\n",
       "</div>"
      ],
      "text/plain": [
       "                State     Sex      RaceEthnicityCategory      AgeCategory\n",
       "439009    Puerto Rico    Male                   Hispanic     Age 35 to 39\n",
       "229286       Nebraska  Female   White only, Non-Hispanic  Age 80 or older\n",
       "395524     Washington    Male  Multiracial, Non-Hispanic     Age 18 to 24\n",
       "176383  Massachusetts    Male   White only, Non-Hispanic     Age 18 to 24\n",
       "414201     Washington  Female   White only, Non-Hispanic     Age 65 to 69"
      ]
     },
     "execution_count": 13,
     "metadata": {},
     "output_type": "execute_result"
    }
   ],
   "source": [
    "Data_Demographics.sample(5)"
   ]
  },
  {
   "cell_type": "code",
   "execution_count": 14,
   "id": "c6850ea0",
   "metadata": {
    "execution": {
     "iopub.execute_input": "2025-10-15T15:15:50.181588Z",
     "iopub.status.busy": "2025-10-15T15:15:50.181268Z",
     "iopub.status.idle": "2025-10-15T15:15:50.233306Z",
     "shell.execute_reply": "2025-10-15T15:15:50.232816Z"
    }
   },
   "outputs": [
    {
     "name": "stdout",
     "output_type": "stream",
     "text": [
      "<class 'pandas.core.frame.DataFrame'>\n",
      "RangeIndex: 445132 entries, 0 to 445131\n",
      "Data columns (total 4 columns):\n",
      " #   Column                 Non-Null Count   Dtype \n",
      "---  ------                 --------------   ----- \n",
      " 0   State                  445132 non-null  object\n",
      " 1   Sex                    445132 non-null  object\n",
      " 2   RaceEthnicityCategory  431075 non-null  object\n",
      " 3   AgeCategory            436053 non-null  object\n",
      "dtypes: object(4)\n",
      "memory usage: 13.6+ MB\n"
     ]
    }
   ],
   "source": [
    "Data_Demographics.info()"
   ]
  },
  {
   "cell_type": "code",
   "execution_count": 15,
   "id": "5ab51faa",
   "metadata": {
    "execution": {
     "iopub.execute_input": "2025-10-15T15:15:50.235303Z",
     "iopub.status.busy": "2025-10-15T15:15:50.235034Z",
     "iopub.status.idle": "2025-10-15T15:15:50.361003Z",
     "shell.execute_reply": "2025-10-15T15:15:50.360442Z"
    }
   },
   "outputs": [
    {
     "data": {
      "text/html": [
       "<div>\n",
       "<style scoped>\n",
       "    .dataframe tbody tr th:only-of-type {\n",
       "        vertical-align: middle;\n",
       "    }\n",
       "\n",
       "    .dataframe tbody tr th {\n",
       "        vertical-align: top;\n",
       "    }\n",
       "\n",
       "    .dataframe thead th {\n",
       "        text-align: right;\n",
       "    }\n",
       "</style>\n",
       "<table border=\"1\" class=\"dataframe\">\n",
       "  <thead>\n",
       "    <tr style=\"text-align: right;\">\n",
       "      <th></th>\n",
       "      <th>State</th>\n",
       "      <th>Sex</th>\n",
       "      <th>RaceEthnicityCategory</th>\n",
       "      <th>AgeCategory</th>\n",
       "    </tr>\n",
       "  </thead>\n",
       "  <tbody>\n",
       "    <tr>\n",
       "      <th>count</th>\n",
       "      <td>445132</td>\n",
       "      <td>445132</td>\n",
       "      <td>431075</td>\n",
       "      <td>436053</td>\n",
       "    </tr>\n",
       "    <tr>\n",
       "      <th>unique</th>\n",
       "      <td>54</td>\n",
       "      <td>2</td>\n",
       "      <td>5</td>\n",
       "      <td>13</td>\n",
       "    </tr>\n",
       "    <tr>\n",
       "      <th>top</th>\n",
       "      <td>Washington</td>\n",
       "      <td>Female</td>\n",
       "      <td>White only, Non-Hispanic</td>\n",
       "      <td>Age 65 to 69</td>\n",
       "    </tr>\n",
       "    <tr>\n",
       "      <th>freq</th>\n",
       "      <td>26152</td>\n",
       "      <td>235893</td>\n",
       "      <td>320421</td>\n",
       "      <td>47099</td>\n",
       "    </tr>\n",
       "  </tbody>\n",
       "</table>\n",
       "</div>"
      ],
      "text/plain": [
       "             State     Sex     RaceEthnicityCategory   AgeCategory\n",
       "count       445132  445132                    431075        436053\n",
       "unique          54       2                         5            13\n",
       "top     Washington  Female  White only, Non-Hispanic  Age 65 to 69\n",
       "freq         26152  235893                    320421         47099"
      ]
     },
     "execution_count": 15,
     "metadata": {},
     "output_type": "execute_result"
    }
   ],
   "source": [
    "Data_Demographics.describe()"
   ]
  },
  {
   "cell_type": "code",
   "execution_count": 16,
   "id": "5249b316",
   "metadata": {
    "execution": {
     "iopub.execute_input": "2025-10-15T15:15:50.363061Z",
     "iopub.status.busy": "2025-10-15T15:15:50.362829Z",
     "iopub.status.idle": "2025-10-15T15:15:50.410821Z",
     "shell.execute_reply": "2025-10-15T15:15:50.410187Z"
    }
   },
   "outputs": [
    {
     "data": {
      "text/plain": [
       "State                        0\n",
       "Sex                          0\n",
       "RaceEthnicityCategory    14057\n",
       "AgeCategory               9079\n",
       "dtype: int64"
      ]
     },
     "execution_count": 16,
     "metadata": {},
     "output_type": "execute_result"
    }
   ],
   "source": [
    "Data_Demographics.isna().sum()"
   ]
  },
  {
   "cell_type": "code",
   "execution_count": 17,
   "id": "aaf220dd",
   "metadata": {
    "execution": {
     "iopub.execute_input": "2025-10-15T15:15:50.412869Z",
     "iopub.status.busy": "2025-10-15T15:15:50.412679Z",
     "iopub.status.idle": "2025-10-15T15:15:50.451230Z",
     "shell.execute_reply": "2025-10-15T15:15:50.450037Z"
    }
   },
   "outputs": [],
   "source": [
    "Data['RaceEthnicityCategory'].fillna(Data['RaceEthnicityCategory'].mode()[0], inplace=True)"
   ]
  },
  {
   "cell_type": "code",
   "execution_count": 18,
   "id": "b712ca50",
   "metadata": {
    "execution": {
     "iopub.execute_input": "2025-10-15T15:15:50.453725Z",
     "iopub.status.busy": "2025-10-15T15:15:50.453477Z",
     "iopub.status.idle": "2025-10-15T15:15:50.481458Z",
     "shell.execute_reply": "2025-10-15T15:15:50.481022Z"
    }
   },
   "outputs": [
    {
     "data": {
      "text/plain": [
       "AgeCategory\n",
       "Age 65 to 69       0.108012\n",
       "Age 60 to 64       0.102077\n",
       "Age 70 to 74       0.099694\n",
       "Age 55 to 59       0.084442\n",
       "Age 80 or older    0.083134\n",
       "Age 50 to 54       0.077156\n",
       "Age 75 to 79       0.074574\n",
       "Age 40 to 44       0.068666\n",
       "Age 45 to 49       0.065430\n",
       "Age 35 to 39       0.065419\n",
       "Age 18 to 24       0.061784\n",
       "Age 30 to 34       0.059183\n",
       "Age 25 to 29       0.050430\n",
       "Name: proportion, dtype: float64"
      ]
     },
     "execution_count": 18,
     "metadata": {},
     "output_type": "execute_result"
    }
   ],
   "source": [
    "probs=Data['AgeCategory'].value_counts(normalize=True)\n",
    "probs"
   ]
  },
  {
   "cell_type": "code",
   "execution_count": 19,
   "id": "2906a11a",
   "metadata": {
    "execution": {
     "iopub.execute_input": "2025-10-15T15:15:50.484301Z",
     "iopub.status.busy": "2025-10-15T15:15:50.484034Z",
     "iopub.status.idle": "2025-10-15T15:15:50.525073Z",
     "shell.execute_reply": "2025-10-15T15:15:50.524274Z"
    }
   },
   "outputs": [
    {
     "data": {
      "text/plain": [
       "0         Age 80 or older\n",
       "1         Age 80 or older\n",
       "2            Age 55 to 59\n",
       "3            Age 75 to 79\n",
       "4            Age 40 to 44\n",
       "               ...       \n",
       "445127       Age 18 to 24\n",
       "445128       Age 50 to 54\n",
       "445129       Age 65 to 69\n",
       "445130       Age 70 to 74\n",
       "445131       Age 40 to 44\n",
       "Name: AgeCategory, Length: 445132, dtype: object"
      ]
     },
     "execution_count": 19,
     "metadata": {},
     "output_type": "execute_result"
    }
   ],
   "source": [
    "fill_column_by_distribution(Data,'AgeCategory')"
   ]
  },
  {
   "cell_type": "code",
   "execution_count": 20,
   "id": "b87c2c27",
   "metadata": {
    "execution": {
     "iopub.execute_input": "2025-10-15T15:15:50.529060Z",
     "iopub.status.busy": "2025-10-15T15:15:50.528771Z",
     "iopub.status.idle": "2025-10-15T15:15:50.570570Z",
     "shell.execute_reply": "2025-10-15T15:15:50.569971Z"
    }
   },
   "outputs": [
    {
     "data": {
      "text/plain": [
       "AgeCategory              0\n",
       "RaceEthnicityCategory    0\n",
       "dtype: int64"
      ]
     },
     "execution_count": 20,
     "metadata": {},
     "output_type": "execute_result"
    }
   ],
   "source": [
    "Data[['AgeCategory','RaceEthnicityCategory']].isna().sum()"
   ]
  },
  {
   "cell_type": "markdown",
   "id": "e77217f1",
   "metadata": {},
   "source": [
    "### Step: Cleaning <b>Lifestyle Data</b>\n",
    "\n",
    "In this step, we focused on ensuring the lifestyle-related features are complete and accurate.  \n",
    "We started by checking the dataset for missing values and inspecting the overall structure.  \n",
    "Rows with missing entries in key columns such as `PhysicalActivities`, `SleepHours`, `SmokerStatus`, `AlcoholDrinkers`, and `ECigaretteUsage` were removed to maintain data integrity.  \n",
    "Next, we identified extreme values in `SleepHours` using the <b>IQR method</b> and removed these outliers to avoid skewing the analysis.  \n",
    "After these steps, the `Data_lifestyle` dataset is clean, consistent, and ready for exploration, visualization, and further analysis.\n"
   ]
  },
  {
   "cell_type": "code",
   "execution_count": 21,
   "id": "1828e72d",
   "metadata": {
    "execution": {
     "iopub.execute_input": "2025-10-15T15:15:50.572626Z",
     "iopub.status.busy": "2025-10-15T15:15:50.572436Z",
     "iopub.status.idle": "2025-10-15T15:15:50.590105Z",
     "shell.execute_reply": "2025-10-15T15:15:50.589437Z"
    }
   },
   "outputs": [
    {
     "data": {
      "text/html": [
       "<div>\n",
       "<style scoped>\n",
       "    .dataframe tbody tr th:only-of-type {\n",
       "        vertical-align: middle;\n",
       "    }\n",
       "\n",
       "    .dataframe tbody tr th {\n",
       "        vertical-align: top;\n",
       "    }\n",
       "\n",
       "    .dataframe thead th {\n",
       "        text-align: right;\n",
       "    }\n",
       "</style>\n",
       "<table border=\"1\" class=\"dataframe\">\n",
       "  <thead>\n",
       "    <tr style=\"text-align: right;\">\n",
       "      <th></th>\n",
       "      <th>PhysicalActivities</th>\n",
       "      <th>SleepHours</th>\n",
       "      <th>SmokerStatus</th>\n",
       "      <th>AlcoholDrinkers</th>\n",
       "      <th>ECigaretteUsage</th>\n",
       "    </tr>\n",
       "  </thead>\n",
       "  <tbody>\n",
       "    <tr>\n",
       "      <th>253099</th>\n",
       "      <td>Yes</td>\n",
       "      <td>6.0</td>\n",
       "      <td>Former smoker</td>\n",
       "      <td>No</td>\n",
       "      <td>Never used e-cigarettes in my entire life</td>\n",
       "    </tr>\n",
       "    <tr>\n",
       "      <th>383818</th>\n",
       "      <td>Yes</td>\n",
       "      <td>7.0</td>\n",
       "      <td>Former smoker</td>\n",
       "      <td>Yes</td>\n",
       "      <td>Never used e-cigarettes in my entire life</td>\n",
       "    </tr>\n",
       "    <tr>\n",
       "      <th>181202</th>\n",
       "      <td>Yes</td>\n",
       "      <td>7.0</td>\n",
       "      <td>Never smoked</td>\n",
       "      <td>No</td>\n",
       "      <td>Never used e-cigarettes in my entire life</td>\n",
       "    </tr>\n",
       "    <tr>\n",
       "      <th>283196</th>\n",
       "      <td>Yes</td>\n",
       "      <td>6.0</td>\n",
       "      <td>Never smoked</td>\n",
       "      <td>Yes</td>\n",
       "      <td>Never used e-cigarettes in my entire life</td>\n",
       "    </tr>\n",
       "    <tr>\n",
       "      <th>125569</th>\n",
       "      <td>Yes</td>\n",
       "      <td>6.0</td>\n",
       "      <td>Never smoked</td>\n",
       "      <td>No</td>\n",
       "      <td>Never used e-cigarettes in my entire life</td>\n",
       "    </tr>\n",
       "  </tbody>\n",
       "</table>\n",
       "</div>"
      ],
      "text/plain": [
       "       PhysicalActivities  SleepHours   SmokerStatus AlcoholDrinkers  \\\n",
       "253099                Yes         6.0  Former smoker              No   \n",
       "383818                Yes         7.0  Former smoker             Yes   \n",
       "181202                Yes         7.0   Never smoked              No   \n",
       "283196                Yes         6.0   Never smoked             Yes   \n",
       "125569                Yes         6.0   Never smoked              No   \n",
       "\n",
       "                                  ECigaretteUsage  \n",
       "253099  Never used e-cigarettes in my entire life  \n",
       "383818  Never used e-cigarettes in my entire life  \n",
       "181202  Never used e-cigarettes in my entire life  \n",
       "283196  Never used e-cigarettes in my entire life  \n",
       "125569  Never used e-cigarettes in my entire life  "
      ]
     },
     "execution_count": 21,
     "metadata": {},
     "output_type": "execute_result"
    }
   ],
   "source": [
    "Data_lifestyle.sample(5)"
   ]
  },
  {
   "cell_type": "code",
   "execution_count": 22,
   "id": "8a2f2093",
   "metadata": {
    "execution": {
     "iopub.execute_input": "2025-10-15T15:15:50.592390Z",
     "iopub.status.busy": "2025-10-15T15:15:50.592152Z",
     "iopub.status.idle": "2025-10-15T15:15:50.649387Z",
     "shell.execute_reply": "2025-10-15T15:15:50.648781Z"
    }
   },
   "outputs": [
    {
     "name": "stdout",
     "output_type": "stream",
     "text": [
      "<class 'pandas.core.frame.DataFrame'>\n",
      "RangeIndex: 445132 entries, 0 to 445131\n",
      "Data columns (total 5 columns):\n",
      " #   Column              Non-Null Count   Dtype  \n",
      "---  ------              --------------   -----  \n",
      " 0   PhysicalActivities  444039 non-null  object \n",
      " 1   SleepHours          439679 non-null  float64\n",
      " 2   SmokerStatus        409670 non-null  object \n",
      " 3   AlcoholDrinkers     398558 non-null  object \n",
      " 4   ECigaretteUsage     409472 non-null  object \n",
      "dtypes: float64(1), object(4)\n",
      "memory usage: 17.0+ MB\n"
     ]
    }
   ],
   "source": [
    "Data_lifestyle.info()"
   ]
  },
  {
   "cell_type": "code",
   "execution_count": 23,
   "id": "9a7cb951",
   "metadata": {
    "execution": {
     "iopub.execute_input": "2025-10-15T15:15:50.651492Z",
     "iopub.status.busy": "2025-10-15T15:15:50.651300Z",
     "iopub.status.idle": "2025-10-15T15:15:50.809268Z",
     "shell.execute_reply": "2025-10-15T15:15:50.808735Z"
    }
   },
   "outputs": [
    {
     "data": {
      "text/html": [
       "<div>\n",
       "<style scoped>\n",
       "    .dataframe tbody tr th:only-of-type {\n",
       "        vertical-align: middle;\n",
       "    }\n",
       "\n",
       "    .dataframe tbody tr th {\n",
       "        vertical-align: top;\n",
       "    }\n",
       "\n",
       "    .dataframe thead th {\n",
       "        text-align: right;\n",
       "    }\n",
       "</style>\n",
       "<table border=\"1\" class=\"dataframe\">\n",
       "  <thead>\n",
       "    <tr style=\"text-align: right;\">\n",
       "      <th></th>\n",
       "      <th>PhysicalActivities</th>\n",
       "      <th>SmokerStatus</th>\n",
       "      <th>AlcoholDrinkers</th>\n",
       "      <th>ECigaretteUsage</th>\n",
       "    </tr>\n",
       "  </thead>\n",
       "  <tbody>\n",
       "    <tr>\n",
       "      <th>count</th>\n",
       "      <td>444039</td>\n",
       "      <td>409670</td>\n",
       "      <td>398558</td>\n",
       "      <td>409472</td>\n",
       "    </tr>\n",
       "    <tr>\n",
       "      <th>unique</th>\n",
       "      <td>2</td>\n",
       "      <td>4</td>\n",
       "      <td>2</td>\n",
       "      <td>4</td>\n",
       "    </tr>\n",
       "    <tr>\n",
       "      <th>top</th>\n",
       "      <td>Yes</td>\n",
       "      <td>Never smoked</td>\n",
       "      <td>Yes</td>\n",
       "      <td>Never used e-cigarettes in my entire life</td>\n",
       "    </tr>\n",
       "    <tr>\n",
       "      <th>freq</th>\n",
       "      <td>337559</td>\n",
       "      <td>245955</td>\n",
       "      <td>210891</td>\n",
       "      <td>311988</td>\n",
       "    </tr>\n",
       "  </tbody>\n",
       "</table>\n",
       "</div>"
      ],
      "text/plain": [
       "       PhysicalActivities  SmokerStatus AlcoholDrinkers  \\\n",
       "count              444039        409670          398558   \n",
       "unique                  2             4               2   \n",
       "top                   Yes  Never smoked             Yes   \n",
       "freq               337559        245955          210891   \n",
       "\n",
       "                                  ECigaretteUsage  \n",
       "count                                      409472  \n",
       "unique                                          4  \n",
       "top     Never used e-cigarettes in my entire life  \n",
       "freq                                       311988  "
      ]
     },
     "metadata": {},
     "output_type": "display_data"
    },
    {
     "data": {
      "text/html": [
       "<div>\n",
       "<style scoped>\n",
       "    .dataframe tbody tr th:only-of-type {\n",
       "        vertical-align: middle;\n",
       "    }\n",
       "\n",
       "    .dataframe tbody tr th {\n",
       "        vertical-align: top;\n",
       "    }\n",
       "\n",
       "    .dataframe thead th {\n",
       "        text-align: right;\n",
       "    }\n",
       "</style>\n",
       "<table border=\"1\" class=\"dataframe\">\n",
       "  <thead>\n",
       "    <tr style=\"text-align: right;\">\n",
       "      <th></th>\n",
       "      <th>SleepHours</th>\n",
       "    </tr>\n",
       "  </thead>\n",
       "  <tbody>\n",
       "    <tr>\n",
       "      <th>count</th>\n",
       "      <td>439679.000000</td>\n",
       "    </tr>\n",
       "    <tr>\n",
       "      <th>mean</th>\n",
       "      <td>7.022983</td>\n",
       "    </tr>\n",
       "    <tr>\n",
       "      <th>std</th>\n",
       "      <td>1.502425</td>\n",
       "    </tr>\n",
       "    <tr>\n",
       "      <th>min</th>\n",
       "      <td>1.000000</td>\n",
       "    </tr>\n",
       "    <tr>\n",
       "      <th>25%</th>\n",
       "      <td>6.000000</td>\n",
       "    </tr>\n",
       "    <tr>\n",
       "      <th>50%</th>\n",
       "      <td>7.000000</td>\n",
       "    </tr>\n",
       "    <tr>\n",
       "      <th>75%</th>\n",
       "      <td>8.000000</td>\n",
       "    </tr>\n",
       "    <tr>\n",
       "      <th>max</th>\n",
       "      <td>24.000000</td>\n",
       "    </tr>\n",
       "  </tbody>\n",
       "</table>\n",
       "</div>"
      ],
      "text/plain": [
       "          SleepHours\n",
       "count  439679.000000\n",
       "mean        7.022983\n",
       "std         1.502425\n",
       "min         1.000000\n",
       "25%         6.000000\n",
       "50%         7.000000\n",
       "75%         8.000000\n",
       "max        24.000000"
      ]
     },
     "metadata": {},
     "output_type": "display_data"
    }
   ],
   "source": [
    "display(Data_lifestyle.describe(include=object),Data_lifestyle.describe())"
   ]
  },
  {
   "cell_type": "code",
   "execution_count": 24,
   "id": "a287ae65",
   "metadata": {
    "execution": {
     "iopub.execute_input": "2025-10-15T15:15:50.811501Z",
     "iopub.status.busy": "2025-10-15T15:15:50.811308Z",
     "iopub.status.idle": "2025-10-15T15:15:50.860151Z",
     "shell.execute_reply": "2025-10-15T15:15:50.859573Z"
    }
   },
   "outputs": [
    {
     "data": {
      "text/plain": [
       "PhysicalActivities     1093\n",
       "SleepHours             5453\n",
       "SmokerStatus          35462\n",
       "AlcoholDrinkers       46574\n",
       "ECigaretteUsage       35660\n",
       "dtype: int64"
      ]
     },
     "execution_count": 24,
     "metadata": {},
     "output_type": "execute_result"
    }
   ],
   "source": [
    "Data_lifestyle.isna().sum()"
   ]
  },
  {
   "cell_type": "code",
   "execution_count": 25,
   "id": "9d2d8212",
   "metadata": {
    "execution": {
     "iopub.execute_input": "2025-10-15T15:15:50.862031Z",
     "iopub.status.busy": "2025-10-15T15:15:50.861852Z",
     "iopub.status.idle": "2025-10-15T15:15:51.014560Z",
     "shell.execute_reply": "2025-10-15T15:15:51.013050Z"
    }
   },
   "outputs": [],
   "source": [
    "Data.dropna(subset=['PhysicalActivities','SleepHours','SmokerStatus','AlcoholDrinkers','ECigaretteUsage'],inplace=True)"
   ]
  },
  {
   "cell_type": "code",
   "execution_count": 26,
   "id": "a66d6114",
   "metadata": {
    "execution": {
     "iopub.execute_input": "2025-10-15T15:15:51.018284Z",
     "iopub.status.busy": "2025-10-15T15:15:51.017870Z",
     "iopub.status.idle": "2025-10-15T15:15:51.079398Z",
     "shell.execute_reply": "2025-10-15T15:15:51.078797Z"
    }
   },
   "outputs": [
    {
     "data": {
      "text/plain": [
       "SleepHours            0\n",
       "PhysicalActivities    0\n",
       "SmokerStatus          0\n",
       "AlcoholDrinkers       0\n",
       "ECigaretteUsage       0\n",
       "dtype: int64"
      ]
     },
     "execution_count": 26,
     "metadata": {},
     "output_type": "execute_result"
    }
   ],
   "source": [
    "Data[['SleepHours','PhysicalActivities','SmokerStatus','AlcoholDrinkers','ECigaretteUsage']].isna().sum()"
   ]
  },
  {
   "cell_type": "code",
   "execution_count": 27,
   "id": "12984744",
   "metadata": {
    "execution": {
     "iopub.execute_input": "2025-10-15T15:15:51.081377Z",
     "iopub.status.busy": "2025-10-15T15:15:51.081095Z",
     "iopub.status.idle": "2025-10-15T15:15:51.233557Z",
     "shell.execute_reply": "2025-10-15T15:15:51.232625Z"
    }
   },
   "outputs": [],
   "source": [
    "outliers = detect_outliers(Data, 'SleepHours')\n",
    "Data = Data.drop(outliers.index)"
   ]
  },
  {
   "cell_type": "markdown",
   "id": "5f6dff15",
   "metadata": {},
   "source": [
    "### Step: Cleaning <b>General Health Features</b>\n",
    "\n",
    "We reviewed the general health data for completeness and accuracy.  \n",
    "Missing values in `LastCheckupTime` were replaced with the most common category.  \n",
    "Missing entries in `GeneralHealth` were filled using probability-based sampling to maintain the original distribution.  \n",
    "The dataset is now clean, consistent, and ready for further analysis.\n"
   ]
  },
  {
   "cell_type": "code",
   "execution_count": 28,
   "id": "df7e517b",
   "metadata": {
    "execution": {
     "iopub.execute_input": "2025-10-15T15:15:51.236588Z",
     "iopub.status.busy": "2025-10-15T15:15:51.236345Z",
     "iopub.status.idle": "2025-10-15T15:15:51.253730Z",
     "shell.execute_reply": "2025-10-15T15:15:51.252938Z"
    }
   },
   "outputs": [
    {
     "data": {
      "text/html": [
       "<div>\n",
       "<style scoped>\n",
       "    .dataframe tbody tr th:only-of-type {\n",
       "        vertical-align: middle;\n",
       "    }\n",
       "\n",
       "    .dataframe tbody tr th {\n",
       "        vertical-align: top;\n",
       "    }\n",
       "\n",
       "    .dataframe thead th {\n",
       "        text-align: right;\n",
       "    }\n",
       "</style>\n",
       "<table border=\"1\" class=\"dataframe\">\n",
       "  <thead>\n",
       "    <tr style=\"text-align: right;\">\n",
       "      <th></th>\n",
       "      <th>GeneralHealth</th>\n",
       "      <th>PhysicalHealthDays</th>\n",
       "      <th>MentalHealthDays</th>\n",
       "      <th>LastCheckupTime</th>\n",
       "    </tr>\n",
       "  </thead>\n",
       "  <tbody>\n",
       "    <tr>\n",
       "      <th>290230</th>\n",
       "      <td>Poor</td>\n",
       "      <td>30.0</td>\n",
       "      <td>0.0</td>\n",
       "      <td>Within past 2 years (1 year but less than 2 ye...</td>\n",
       "    </tr>\n",
       "    <tr>\n",
       "      <th>389351</th>\n",
       "      <td>Very good</td>\n",
       "      <td>0.0</td>\n",
       "      <td>3.0</td>\n",
       "      <td>Within past year (anytime less than 12 months ...</td>\n",
       "    </tr>\n",
       "    <tr>\n",
       "      <th>177126</th>\n",
       "      <td>Good</td>\n",
       "      <td>0.0</td>\n",
       "      <td>0.0</td>\n",
       "      <td>5 or more years ago</td>\n",
       "    </tr>\n",
       "    <tr>\n",
       "      <th>249509</th>\n",
       "      <td>Very good</td>\n",
       "      <td>0.0</td>\n",
       "      <td>0.0</td>\n",
       "      <td>Within past year (anytime less than 12 months ...</td>\n",
       "    </tr>\n",
       "    <tr>\n",
       "      <th>326949</th>\n",
       "      <td>Good</td>\n",
       "      <td>0.0</td>\n",
       "      <td>10.0</td>\n",
       "      <td>Within past 2 years (1 year but less than 2 ye...</td>\n",
       "    </tr>\n",
       "  </tbody>\n",
       "</table>\n",
       "</div>"
      ],
      "text/plain": [
       "       GeneralHealth  PhysicalHealthDays  MentalHealthDays  \\\n",
       "290230          Poor                30.0               0.0   \n",
       "389351     Very good                 0.0               3.0   \n",
       "177126          Good                 0.0               0.0   \n",
       "249509     Very good                 0.0               0.0   \n",
       "326949          Good                 0.0              10.0   \n",
       "\n",
       "                                          LastCheckupTime  \n",
       "290230  Within past 2 years (1 year but less than 2 ye...  \n",
       "389351  Within past year (anytime less than 12 months ...  \n",
       "177126                                5 or more years ago  \n",
       "249509  Within past year (anytime less than 12 months ...  \n",
       "326949  Within past 2 years (1 year but less than 2 ye...  "
      ]
     },
     "execution_count": 28,
     "metadata": {},
     "output_type": "execute_result"
    }
   ],
   "source": [
    "Data_general.sample(5)"
   ]
  },
  {
   "cell_type": "code",
   "execution_count": 29,
   "id": "f8baee82",
   "metadata": {
    "execution": {
     "iopub.execute_input": "2025-10-15T15:15:51.256139Z",
     "iopub.status.busy": "2025-10-15T15:15:51.255912Z",
     "iopub.status.idle": "2025-10-15T15:15:51.285617Z",
     "shell.execute_reply": "2025-10-15T15:15:51.284952Z"
    }
   },
   "outputs": [
    {
     "name": "stdout",
     "output_type": "stream",
     "text": [
      "<class 'pandas.core.frame.DataFrame'>\n",
      "RangeIndex: 445132 entries, 0 to 445131\n",
      "Data columns (total 4 columns):\n",
      " #   Column              Non-Null Count   Dtype  \n",
      "---  ------              --------------   -----  \n",
      " 0   GeneralHealth       443934 non-null  object \n",
      " 1   PhysicalHealthDays  434205 non-null  float64\n",
      " 2   MentalHealthDays    436065 non-null  float64\n",
      " 3   LastCheckupTime     436824 non-null  object \n",
      "dtypes: float64(2), object(2)\n",
      "memory usage: 13.6+ MB\n"
     ]
    }
   ],
   "source": [
    "Data_general.info()"
   ]
  },
  {
   "cell_type": "code",
   "execution_count": 30,
   "id": "ec9a6394",
   "metadata": {
    "execution": {
     "iopub.execute_input": "2025-10-15T15:15:51.287623Z",
     "iopub.status.busy": "2025-10-15T15:15:51.287380Z",
     "iopub.status.idle": "2025-10-15T15:15:51.407765Z",
     "shell.execute_reply": "2025-10-15T15:15:51.407073Z"
    }
   },
   "outputs": [
    {
     "data": {
      "text/html": [
       "<div>\n",
       "<style scoped>\n",
       "    .dataframe tbody tr th:only-of-type {\n",
       "        vertical-align: middle;\n",
       "    }\n",
       "\n",
       "    .dataframe tbody tr th {\n",
       "        vertical-align: top;\n",
       "    }\n",
       "\n",
       "    .dataframe thead th {\n",
       "        text-align: right;\n",
       "    }\n",
       "</style>\n",
       "<table border=\"1\" class=\"dataframe\">\n",
       "  <thead>\n",
       "    <tr style=\"text-align: right;\">\n",
       "      <th></th>\n",
       "      <th>GeneralHealth</th>\n",
       "      <th>LastCheckupTime</th>\n",
       "    </tr>\n",
       "  </thead>\n",
       "  <tbody>\n",
       "    <tr>\n",
       "      <th>count</th>\n",
       "      <td>443934</td>\n",
       "      <td>436824</td>\n",
       "    </tr>\n",
       "    <tr>\n",
       "      <th>unique</th>\n",
       "      <td>5</td>\n",
       "      <td>4</td>\n",
       "    </tr>\n",
       "    <tr>\n",
       "      <th>top</th>\n",
       "      <td>Very good</td>\n",
       "      <td>Within past year (anytime less than 12 months ...</td>\n",
       "    </tr>\n",
       "    <tr>\n",
       "      <th>freq</th>\n",
       "      <td>148444</td>\n",
       "      <td>350944</td>\n",
       "    </tr>\n",
       "  </tbody>\n",
       "</table>\n",
       "</div>"
      ],
      "text/plain": [
       "       GeneralHealth                                    LastCheckupTime\n",
       "count         443934                                             436824\n",
       "unique             5                                                  4\n",
       "top        Very good  Within past year (anytime less than 12 months ...\n",
       "freq          148444                                             350944"
      ]
     },
     "metadata": {},
     "output_type": "display_data"
    },
    {
     "data": {
      "text/html": [
       "<div>\n",
       "<style scoped>\n",
       "    .dataframe tbody tr th:only-of-type {\n",
       "        vertical-align: middle;\n",
       "    }\n",
       "\n",
       "    .dataframe tbody tr th {\n",
       "        vertical-align: top;\n",
       "    }\n",
       "\n",
       "    .dataframe thead th {\n",
       "        text-align: right;\n",
       "    }\n",
       "</style>\n",
       "<table border=\"1\" class=\"dataframe\">\n",
       "  <thead>\n",
       "    <tr style=\"text-align: right;\">\n",
       "      <th></th>\n",
       "      <th>PhysicalHealthDays</th>\n",
       "      <th>MentalHealthDays</th>\n",
       "    </tr>\n",
       "  </thead>\n",
       "  <tbody>\n",
       "    <tr>\n",
       "      <th>count</th>\n",
       "      <td>434205.000000</td>\n",
       "      <td>436065.000000</td>\n",
       "    </tr>\n",
       "    <tr>\n",
       "      <th>mean</th>\n",
       "      <td>4.347919</td>\n",
       "      <td>4.382649</td>\n",
       "    </tr>\n",
       "    <tr>\n",
       "      <th>std</th>\n",
       "      <td>8.688912</td>\n",
       "      <td>8.387475</td>\n",
       "    </tr>\n",
       "    <tr>\n",
       "      <th>min</th>\n",
       "      <td>0.000000</td>\n",
       "      <td>0.000000</td>\n",
       "    </tr>\n",
       "    <tr>\n",
       "      <th>25%</th>\n",
       "      <td>0.000000</td>\n",
       "      <td>0.000000</td>\n",
       "    </tr>\n",
       "    <tr>\n",
       "      <th>50%</th>\n",
       "      <td>0.000000</td>\n",
       "      <td>0.000000</td>\n",
       "    </tr>\n",
       "    <tr>\n",
       "      <th>75%</th>\n",
       "      <td>3.000000</td>\n",
       "      <td>5.000000</td>\n",
       "    </tr>\n",
       "    <tr>\n",
       "      <th>max</th>\n",
       "      <td>30.000000</td>\n",
       "      <td>30.000000</td>\n",
       "    </tr>\n",
       "  </tbody>\n",
       "</table>\n",
       "</div>"
      ],
      "text/plain": [
       "       PhysicalHealthDays  MentalHealthDays\n",
       "count       434205.000000     436065.000000\n",
       "mean             4.347919          4.382649\n",
       "std              8.688912          8.387475\n",
       "min              0.000000          0.000000\n",
       "25%              0.000000          0.000000\n",
       "50%              0.000000          0.000000\n",
       "75%              3.000000          5.000000\n",
       "max             30.000000         30.000000"
      ]
     },
     "metadata": {},
     "output_type": "display_data"
    }
   ],
   "source": [
    "display(Data_general.describe(include=object),Data_general.describe())"
   ]
  },
  {
   "cell_type": "code",
   "execution_count": 31,
   "id": "8484621a",
   "metadata": {
    "execution": {
     "iopub.execute_input": "2025-10-15T15:15:51.409994Z",
     "iopub.status.busy": "2025-10-15T15:15:51.409716Z",
     "iopub.status.idle": "2025-10-15T15:15:51.439790Z",
     "shell.execute_reply": "2025-10-15T15:15:51.438963Z"
    }
   },
   "outputs": [
    {
     "data": {
      "text/plain": [
       "GeneralHealth          1198\n",
       "PhysicalHealthDays    10927\n",
       "MentalHealthDays       9067\n",
       "LastCheckupTime        8308\n",
       "dtype: int64"
      ]
     },
     "execution_count": 31,
     "metadata": {},
     "output_type": "execute_result"
    }
   ],
   "source": [
    "Data_general.isna().sum()"
   ]
  },
  {
   "cell_type": "code",
   "execution_count": 32,
   "id": "7cb167d9",
   "metadata": {
    "execution": {
     "iopub.execute_input": "2025-10-15T15:15:51.441936Z",
     "iopub.status.busy": "2025-10-15T15:15:51.441597Z",
     "iopub.status.idle": "2025-10-15T15:15:51.567158Z",
     "shell.execute_reply": "2025-10-15T15:15:51.566358Z"
    }
   },
   "outputs": [],
   "source": [
    "Data.dropna(subset=['MentalHealthDays','PhysicalHealthDays'], inplace=True)"
   ]
  },
  {
   "cell_type": "code",
   "execution_count": 33,
   "id": "eb7dc953",
   "metadata": {
    "execution": {
     "iopub.execute_input": "2025-10-15T15:15:51.569938Z",
     "iopub.status.busy": "2025-10-15T15:15:51.569653Z",
     "iopub.status.idle": "2025-10-15T15:15:51.578723Z",
     "shell.execute_reply": "2025-10-15T15:15:51.577465Z"
    }
   },
   "outputs": [
    {
     "data": {
      "text/plain": [
       "MentalHealthDays      0\n",
       "PhysicalHealthDays    0\n",
       "dtype: int64"
      ]
     },
     "execution_count": 33,
     "metadata": {},
     "output_type": "execute_result"
    }
   ],
   "source": [
    "Data[['MentalHealthDays','PhysicalHealthDays']].isna().sum()"
   ]
  },
  {
   "cell_type": "code",
   "execution_count": 34,
   "id": "20b5a7fc",
   "metadata": {
    "execution": {
     "iopub.execute_input": "2025-10-15T15:15:51.581763Z",
     "iopub.status.busy": "2025-10-15T15:15:51.581473Z",
     "iopub.status.idle": "2025-10-15T15:15:51.604957Z",
     "shell.execute_reply": "2025-10-15T15:15:51.604227Z"
    }
   },
   "outputs": [
    {
     "data": {
      "text/plain": [
       "GeneralHealth\n",
       "Very good    0.346887\n",
       "Good         0.321439\n",
       "Excellent    0.163782\n",
       "Fair         0.128635\n",
       "Poor         0.039256\n",
       "Name: proportion, dtype: float64"
      ]
     },
     "execution_count": 34,
     "metadata": {},
     "output_type": "execute_result"
    }
   ],
   "source": [
    "Data['GeneralHealth'].value_counts(normalize=True)"
   ]
  },
  {
   "cell_type": "code",
   "execution_count": 35,
   "id": "5d82f4cf",
   "metadata": {
    "execution": {
     "iopub.execute_input": "2025-10-15T15:15:51.607082Z",
     "iopub.status.busy": "2025-10-15T15:15:51.606766Z",
     "iopub.status.idle": "2025-10-15T15:15:51.673479Z",
     "shell.execute_reply": "2025-10-15T15:15:51.672902Z"
    }
   },
   "outputs": [
    {
     "data": {
      "text/plain": [
       "0         Very good\n",
       "1         Excellent\n",
       "2         Very good\n",
       "3         Excellent\n",
       "4              Fair\n",
       "            ...    \n",
       "445124         Good\n",
       "445126         Good\n",
       "445128    Excellent\n",
       "445130    Very good\n",
       "445131    Very good\n",
       "Name: GeneralHealth, Length: 371174, dtype: object"
      ]
     },
     "execution_count": 35,
     "metadata": {},
     "output_type": "execute_result"
    }
   ],
   "source": [
    "Data['LastCheckupTime'].fillna(Data['LastCheckupTime'].mode()[0],inplace=True)\n",
    "fill_column_by_distribution(Data,'GeneralHealth')"
   ]
  },
  {
   "cell_type": "code",
   "execution_count": 36,
   "id": "26baa0b3",
   "metadata": {
    "execution": {
     "iopub.execute_input": "2025-10-15T15:15:51.675607Z",
     "iopub.status.busy": "2025-10-15T15:15:51.675404Z",
     "iopub.status.idle": "2025-10-15T15:15:51.705046Z",
     "shell.execute_reply": "2025-10-15T15:15:51.704439Z"
    }
   },
   "outputs": [
    {
     "data": {
      "text/plain": [
       "LastCheckupTime    0\n",
       "GeneralHealth      0\n",
       "dtype: int64"
      ]
     },
     "execution_count": 36,
     "metadata": {},
     "output_type": "execute_result"
    }
   ],
   "source": [
    "Data[['LastCheckupTime','GeneralHealth']].isna().sum()"
   ]
  },
  {
   "cell_type": "markdown",
   "id": "7cd25f89",
   "metadata": {},
   "source": [
    "### Step: Cleaning <b>Disease Features</b>\n",
    "\n",
    "We reviewed the disease-related columns for missing values.  \n",
    "Rows with missing data in key features were removed, as the proportion of nulls was small.  \n",
    "Categorical responses (`Yes`/`No`) were converted to numeric values (1/0) for consistency.  \n",
    "Removing these few nulls ensures data integrity and reliable analysis.  \n",
    "The dataset is now complete, clean, and ready for modeling.  \n",
    "All disease features are consistent and numeric.\n"
   ]
  },
  {
   "cell_type": "code",
   "execution_count": 37,
   "id": "d6290070",
   "metadata": {
    "execution": {
     "iopub.execute_input": "2025-10-15T15:15:51.707234Z",
     "iopub.status.busy": "2025-10-15T15:15:51.706960Z",
     "iopub.status.idle": "2025-10-15T15:15:51.723475Z",
     "shell.execute_reply": "2025-10-15T15:15:51.722925Z"
    }
   },
   "outputs": [
    {
     "data": {
      "text/html": [
       "<div>\n",
       "<style scoped>\n",
       "    .dataframe tbody tr th:only-of-type {\n",
       "        vertical-align: middle;\n",
       "    }\n",
       "\n",
       "    .dataframe tbody tr th {\n",
       "        vertical-align: top;\n",
       "    }\n",
       "\n",
       "    .dataframe thead th {\n",
       "        text-align: right;\n",
       "    }\n",
       "</style>\n",
       "<table border=\"1\" class=\"dataframe\">\n",
       "  <thead>\n",
       "    <tr style=\"text-align: right;\">\n",
       "      <th></th>\n",
       "      <th>HadHeartAttack</th>\n",
       "      <th>HadAngina</th>\n",
       "      <th>HadStroke</th>\n",
       "      <th>HadAsthma</th>\n",
       "      <th>HadSkinCancer</th>\n",
       "      <th>HadCOPD</th>\n",
       "      <th>HadDepressiveDisorder</th>\n",
       "      <th>HadKidneyDisease</th>\n",
       "      <th>HadArthritis</th>\n",
       "      <th>HadDiabetes</th>\n",
       "    </tr>\n",
       "  </thead>\n",
       "  <tbody>\n",
       "    <tr>\n",
       "      <th>409055</th>\n",
       "      <td>No</td>\n",
       "      <td>No</td>\n",
       "      <td>No</td>\n",
       "      <td>No</td>\n",
       "      <td>No</td>\n",
       "      <td>No</td>\n",
       "      <td>No</td>\n",
       "      <td>No</td>\n",
       "      <td>No</td>\n",
       "      <td>No</td>\n",
       "    </tr>\n",
       "    <tr>\n",
       "      <th>111081</th>\n",
       "      <td>No</td>\n",
       "      <td>No</td>\n",
       "      <td>No</td>\n",
       "      <td>No</td>\n",
       "      <td>No</td>\n",
       "      <td>No</td>\n",
       "      <td>No</td>\n",
       "      <td>No</td>\n",
       "      <td>No</td>\n",
       "      <td>No</td>\n",
       "    </tr>\n",
       "    <tr>\n",
       "      <th>333070</th>\n",
       "      <td>Yes</td>\n",
       "      <td>No</td>\n",
       "      <td>No</td>\n",
       "      <td>No</td>\n",
       "      <td>No</td>\n",
       "      <td>No</td>\n",
       "      <td>No</td>\n",
       "      <td>No</td>\n",
       "      <td>Yes</td>\n",
       "      <td>No</td>\n",
       "    </tr>\n",
       "    <tr>\n",
       "      <th>392697</th>\n",
       "      <td>No</td>\n",
       "      <td>No</td>\n",
       "      <td>No</td>\n",
       "      <td>No</td>\n",
       "      <td>No</td>\n",
       "      <td>No</td>\n",
       "      <td>Yes</td>\n",
       "      <td>No</td>\n",
       "      <td>No</td>\n",
       "      <td>Yes</td>\n",
       "    </tr>\n",
       "    <tr>\n",
       "      <th>86046</th>\n",
       "      <td>No</td>\n",
       "      <td>No</td>\n",
       "      <td>No</td>\n",
       "      <td>No</td>\n",
       "      <td>No</td>\n",
       "      <td>No</td>\n",
       "      <td>No</td>\n",
       "      <td>No</td>\n",
       "      <td>Yes</td>\n",
       "      <td>No</td>\n",
       "    </tr>\n",
       "  </tbody>\n",
       "</table>\n",
       "</div>"
      ],
      "text/plain": [
       "       HadHeartAttack HadAngina HadStroke HadAsthma HadSkinCancer HadCOPD  \\\n",
       "409055             No        No        No        No            No      No   \n",
       "111081             No        No        No        No            No      No   \n",
       "333070            Yes        No        No        No            No      No   \n",
       "392697             No        No        No        No            No      No   \n",
       "86046              No        No        No        No            No      No   \n",
       "\n",
       "       HadDepressiveDisorder HadKidneyDisease HadArthritis HadDiabetes  \n",
       "409055                    No               No           No          No  \n",
       "111081                    No               No           No          No  \n",
       "333070                    No               No          Yes          No  \n",
       "392697                   Yes               No           No         Yes  \n",
       "86046                     No               No          Yes          No  "
      ]
     },
     "execution_count": 37,
     "metadata": {},
     "output_type": "execute_result"
    }
   ],
   "source": [
    "Data_disease.sample(5)"
   ]
  },
  {
   "cell_type": "code",
   "execution_count": 38,
   "id": "45aa07ab",
   "metadata": {
    "execution": {
     "iopub.execute_input": "2025-10-15T15:15:51.725566Z",
     "iopub.status.busy": "2025-10-15T15:15:51.725366Z",
     "iopub.status.idle": "2025-10-15T15:15:51.853494Z",
     "shell.execute_reply": "2025-10-15T15:15:51.852076Z"
    }
   },
   "outputs": [
    {
     "name": "stdout",
     "output_type": "stream",
     "text": [
      "<class 'pandas.core.frame.DataFrame'>\n",
      "RangeIndex: 445132 entries, 0 to 445131\n",
      "Data columns (total 10 columns):\n",
      " #   Column                 Non-Null Count   Dtype \n",
      "---  ------                 --------------   ----- \n",
      " 0   HadHeartAttack         442067 non-null  object\n",
      " 1   HadAngina              440727 non-null  object\n",
      " 2   HadStroke              443575 non-null  object\n",
      " 3   HadAsthma              443359 non-null  object\n",
      " 4   HadSkinCancer          441989 non-null  object\n",
      " 5   HadCOPD                442913 non-null  object\n",
      " 6   HadDepressiveDisorder  442320 non-null  object\n",
      " 7   HadKidneyDisease       443206 non-null  object\n",
      " 8   HadArthritis           442499 non-null  object\n",
      " 9   HadDiabetes            444045 non-null  object\n",
      "dtypes: object(10)\n",
      "memory usage: 34.0+ MB\n"
     ]
    }
   ],
   "source": [
    "Data_disease.info()"
   ]
  },
  {
   "cell_type": "code",
   "execution_count": 39,
   "id": "7e7914b4",
   "metadata": {
    "execution": {
     "iopub.execute_input": "2025-10-15T15:15:51.855947Z",
     "iopub.status.busy": "2025-10-15T15:15:51.855615Z",
     "iopub.status.idle": "2025-10-15T15:15:52.185629Z",
     "shell.execute_reply": "2025-10-15T15:15:52.184976Z"
    }
   },
   "outputs": [
    {
     "data": {
      "text/html": [
       "<div>\n",
       "<style scoped>\n",
       "    .dataframe tbody tr th:only-of-type {\n",
       "        vertical-align: middle;\n",
       "    }\n",
       "\n",
       "    .dataframe tbody tr th {\n",
       "        vertical-align: top;\n",
       "    }\n",
       "\n",
       "    .dataframe thead th {\n",
       "        text-align: right;\n",
       "    }\n",
       "</style>\n",
       "<table border=\"1\" class=\"dataframe\">\n",
       "  <thead>\n",
       "    <tr style=\"text-align: right;\">\n",
       "      <th></th>\n",
       "      <th>HadHeartAttack</th>\n",
       "      <th>HadAngina</th>\n",
       "      <th>HadStroke</th>\n",
       "      <th>HadAsthma</th>\n",
       "      <th>HadSkinCancer</th>\n",
       "      <th>HadCOPD</th>\n",
       "      <th>HadDepressiveDisorder</th>\n",
       "      <th>HadKidneyDisease</th>\n",
       "      <th>HadArthritis</th>\n",
       "      <th>HadDiabetes</th>\n",
       "    </tr>\n",
       "  </thead>\n",
       "  <tbody>\n",
       "    <tr>\n",
       "      <th>count</th>\n",
       "      <td>442067</td>\n",
       "      <td>440727</td>\n",
       "      <td>443575</td>\n",
       "      <td>443359</td>\n",
       "      <td>441989</td>\n",
       "      <td>442913</td>\n",
       "      <td>442320</td>\n",
       "      <td>443206</td>\n",
       "      <td>442499</td>\n",
       "      <td>444045</td>\n",
       "    </tr>\n",
       "    <tr>\n",
       "      <th>unique</th>\n",
       "      <td>2</td>\n",
       "      <td>2</td>\n",
       "      <td>2</td>\n",
       "      <td>2</td>\n",
       "      <td>2</td>\n",
       "      <td>2</td>\n",
       "      <td>2</td>\n",
       "      <td>2</td>\n",
       "      <td>2</td>\n",
       "      <td>4</td>\n",
       "    </tr>\n",
       "    <tr>\n",
       "      <th>top</th>\n",
       "      <td>No</td>\n",
       "      <td>No</td>\n",
       "      <td>No</td>\n",
       "      <td>No</td>\n",
       "      <td>No</td>\n",
       "      <td>No</td>\n",
       "      <td>No</td>\n",
       "      <td>No</td>\n",
       "      <td>No</td>\n",
       "      <td>No</td>\n",
       "    </tr>\n",
       "    <tr>\n",
       "      <th>freq</th>\n",
       "      <td>416959</td>\n",
       "      <td>414176</td>\n",
       "      <td>424336</td>\n",
       "      <td>376665</td>\n",
       "      <td>406504</td>\n",
       "      <td>407257</td>\n",
       "      <td>350910</td>\n",
       "      <td>422891</td>\n",
       "      <td>291351</td>\n",
       "      <td>368722</td>\n",
       "    </tr>\n",
       "  </tbody>\n",
       "</table>\n",
       "</div>"
      ],
      "text/plain": [
       "       HadHeartAttack HadAngina HadStroke HadAsthma HadSkinCancer HadCOPD  \\\n",
       "count          442067    440727    443575    443359        441989  442913   \n",
       "unique              2         2         2         2             2       2   \n",
       "top                No        No        No        No            No      No   \n",
       "freq           416959    414176    424336    376665        406504  407257   \n",
       "\n",
       "       HadDepressiveDisorder HadKidneyDisease HadArthritis HadDiabetes  \n",
       "count                 442320           443206       442499      444045  \n",
       "unique                     2                2            2           4  \n",
       "top                       No               No           No          No  \n",
       "freq                  350910           422891       291351      368722  "
      ]
     },
     "execution_count": 39,
     "metadata": {},
     "output_type": "execute_result"
    }
   ],
   "source": [
    "Data_disease.describe()"
   ]
  },
  {
   "cell_type": "code",
   "execution_count": 40,
   "id": "4fb6dee3",
   "metadata": {
    "execution": {
     "iopub.execute_input": "2025-10-15T15:15:52.187616Z",
     "iopub.status.busy": "2025-10-15T15:15:52.187366Z",
     "iopub.status.idle": "2025-10-15T15:15:52.201502Z",
     "shell.execute_reply": "2025-10-15T15:15:52.200885Z"
    }
   },
   "outputs": [
    {
     "data": {
      "text/plain": [
       "HadDiabetes\n",
       "No                                         309016\n",
       "Yes                                         49828\n",
       "No, pre-diabetes or borderline diabetes      8531\n",
       "Yes, but only during pregnancy (female)      3194\n",
       "NaN                                           605\n",
       "Name: count, dtype: int64"
      ]
     },
     "execution_count": 40,
     "metadata": {},
     "output_type": "execute_result"
    }
   ],
   "source": [
    "Data['HadDiabetes'].value_counts(dropna=False)"
   ]
  },
  {
   "cell_type": "code",
   "execution_count": 41,
   "id": "9b1ff827",
   "metadata": {
    "execution": {
     "iopub.execute_input": "2025-10-15T15:15:52.203350Z",
     "iopub.status.busy": "2025-10-15T15:15:52.203104Z",
     "iopub.status.idle": "2025-10-15T15:15:52.324314Z",
     "shell.execute_reply": "2025-10-15T15:15:52.323727Z"
    }
   },
   "outputs": [
    {
     "data": {
      "text/html": [
       "<div>\n",
       "<style scoped>\n",
       "    .dataframe tbody tr th:only-of-type {\n",
       "        vertical-align: middle;\n",
       "    }\n",
       "\n",
       "    .dataframe tbody tr th {\n",
       "        vertical-align: top;\n",
       "    }\n",
       "\n",
       "    .dataframe thead th {\n",
       "        text-align: right;\n",
       "    }\n",
       "</style>\n",
       "<table border=\"1\" class=\"dataframe\">\n",
       "  <thead>\n",
       "    <tr style=\"text-align: right;\">\n",
       "      <th></th>\n",
       "      <th>MissingCount</th>\n",
       "      <th>MissingPercentage</th>\n",
       "    </tr>\n",
       "  </thead>\n",
       "  <tbody>\n",
       "    <tr>\n",
       "      <th>HadAngina</th>\n",
       "      <td>4405</td>\n",
       "      <td>1.187</td>\n",
       "    </tr>\n",
       "    <tr>\n",
       "      <th>HadSkinCancer</th>\n",
       "      <td>3143</td>\n",
       "      <td>0.847</td>\n",
       "    </tr>\n",
       "    <tr>\n",
       "      <th>HadHeartAttack</th>\n",
       "      <td>3065</td>\n",
       "      <td>0.826</td>\n",
       "    </tr>\n",
       "    <tr>\n",
       "      <th>HadDepressiveDisorder</th>\n",
       "      <td>2812</td>\n",
       "      <td>0.758</td>\n",
       "    </tr>\n",
       "    <tr>\n",
       "      <th>HadArthritis</th>\n",
       "      <td>2633</td>\n",
       "      <td>0.709</td>\n",
       "    </tr>\n",
       "    <tr>\n",
       "      <th>HadCOPD</th>\n",
       "      <td>2219</td>\n",
       "      <td>0.598</td>\n",
       "    </tr>\n",
       "    <tr>\n",
       "      <th>HadKidneyDisease</th>\n",
       "      <td>1926</td>\n",
       "      <td>0.519</td>\n",
       "    </tr>\n",
       "    <tr>\n",
       "      <th>HadAsthma</th>\n",
       "      <td>1773</td>\n",
       "      <td>0.478</td>\n",
       "    </tr>\n",
       "    <tr>\n",
       "      <th>HadStroke</th>\n",
       "      <td>1557</td>\n",
       "      <td>0.419</td>\n",
       "    </tr>\n",
       "    <tr>\n",
       "      <th>HadDiabetes</th>\n",
       "      <td>1087</td>\n",
       "      <td>0.293</td>\n",
       "    </tr>\n",
       "  </tbody>\n",
       "</table>\n",
       "</div>"
      ],
      "text/plain": [
       "                       MissingCount  MissingPercentage\n",
       "HadAngina                      4405              1.187\n",
       "HadSkinCancer                  3143              0.847\n",
       "HadHeartAttack                 3065              0.826\n",
       "HadDepressiveDisorder          2812              0.758\n",
       "HadArthritis                   2633              0.709\n",
       "HadCOPD                        2219              0.598\n",
       "HadKidneyDisease               1926              0.519\n",
       "HadAsthma                      1773              0.478\n",
       "HadStroke                      1557              0.419\n",
       "HadDiabetes                    1087              0.293"
      ]
     },
     "execution_count": 41,
     "metadata": {},
     "output_type": "execute_result"
    }
   ],
   "source": [
    "missing_count = Data_disease.isna().sum()\n",
    "missing_percentage = ((missing_count / len(Data)) * 100).round(3)\n",
    "missing_summary = pd.DataFrame({'MissingCount': missing_count,'MissingPercentage': missing_percentage})\n",
    "missing_summary[missing_summary['MissingCount'] > 0].sort_values(by='MissingPercentage', ascending=False)"
   ]
  },
  {
   "cell_type": "code",
   "execution_count": 42,
   "id": "9bf6ca28",
   "metadata": {
    "execution": {
     "iopub.execute_input": "2025-10-15T15:15:52.326519Z",
     "iopub.status.busy": "2025-10-15T15:15:52.326202Z",
     "iopub.status.idle": "2025-10-15T15:15:52.539866Z",
     "shell.execute_reply": "2025-10-15T15:15:52.539035Z"
    }
   },
   "outputs": [],
   "source": [
    "columns = ['HadAngina','HadSkinCancer','HadHeartAttack','HadDepressiveDisorder',\n",
    "           'HadArthritis','HadCOPD','HadKidneyDisease','HadAsthma','HadStroke','HadDiabetes']\n",
    "Data.dropna(subset=columns, inplace=True)"
   ]
  },
  {
   "cell_type": "code",
   "execution_count": 43,
   "id": "13290503",
   "metadata": {
    "execution": {
     "iopub.execute_input": "2025-10-15T15:15:52.542156Z",
     "iopub.status.busy": "2025-10-15T15:15:52.541972Z",
     "iopub.status.idle": "2025-10-15T15:15:52.661339Z",
     "shell.execute_reply": "2025-10-15T15:15:52.660775Z"
    }
   },
   "outputs": [
    {
     "data": {
      "text/plain": [
       "HadAngina                0\n",
       "HadSkinCancer            0\n",
       "HadHeartAttack           0\n",
       "HadDepressiveDisorder    0\n",
       "HadArthritis             0\n",
       "HadCOPD                  0\n",
       "HadKidneyDisease         0\n",
       "HadAsthma                0\n",
       "HadStroke                0\n",
       "HadDiabetes              0\n",
       "dtype: int64"
      ]
     },
     "execution_count": 43,
     "metadata": {},
     "output_type": "execute_result"
    }
   ],
   "source": [
    "Data[columns].isna().sum()"
   ]
  },
  {
   "cell_type": "code",
   "execution_count": 44,
   "id": "fc6c47d5",
   "metadata": {
    "execution": {
     "iopub.execute_input": "2025-10-15T15:15:52.663365Z",
     "iopub.status.busy": "2025-10-15T15:15:52.663182Z",
     "iopub.status.idle": "2025-10-15T15:15:53.568221Z",
     "shell.execute_reply": "2025-10-15T15:15:53.567500Z"
    }
   },
   "outputs": [],
   "source": [
    "Data[columns] = Data[columns].replace({'Yes':1,'No':0})\n",
    "Data['HadDiabetes'] = Data['HadDiabetes'].replace({'No, pre-diabetes or borderline diabetes': 0,'Yes, but only during pregnancy (female)': 1})"
   ]
  },
  {
   "cell_type": "code",
   "execution_count": 45,
   "id": "8353af63",
   "metadata": {
    "execution": {
     "iopub.execute_input": "2025-10-15T15:15:53.570370Z",
     "iopub.status.busy": "2025-10-15T15:15:53.570185Z",
     "iopub.status.idle": "2025-10-15T15:15:53.586065Z",
     "shell.execute_reply": "2025-10-15T15:15:53.585407Z"
    }
   },
   "outputs": [
    {
     "data": {
      "text/html": [
       "<div>\n",
       "<style scoped>\n",
       "    .dataframe tbody tr th:only-of-type {\n",
       "        vertical-align: middle;\n",
       "    }\n",
       "\n",
       "    .dataframe tbody tr th {\n",
       "        vertical-align: top;\n",
       "    }\n",
       "\n",
       "    .dataframe thead th {\n",
       "        text-align: right;\n",
       "    }\n",
       "</style>\n",
       "<table border=\"1\" class=\"dataframe\">\n",
       "  <thead>\n",
       "    <tr style=\"text-align: right;\">\n",
       "      <th></th>\n",
       "      <th>HadAngina</th>\n",
       "      <th>HadSkinCancer</th>\n",
       "      <th>HadHeartAttack</th>\n",
       "      <th>HadDepressiveDisorder</th>\n",
       "      <th>HadArthritis</th>\n",
       "      <th>HadCOPD</th>\n",
       "      <th>HadKidneyDisease</th>\n",
       "      <th>HadAsthma</th>\n",
       "      <th>HadStroke</th>\n",
       "      <th>HadDiabetes</th>\n",
       "    </tr>\n",
       "  </thead>\n",
       "  <tbody>\n",
       "    <tr>\n",
       "      <th>0</th>\n",
       "      <td>0</td>\n",
       "      <td>0</td>\n",
       "      <td>0</td>\n",
       "      <td>0</td>\n",
       "      <td>0</td>\n",
       "      <td>0</td>\n",
       "      <td>0</td>\n",
       "      <td>0</td>\n",
       "      <td>0</td>\n",
       "      <td>1</td>\n",
       "    </tr>\n",
       "    <tr>\n",
       "      <th>1</th>\n",
       "      <td>0</td>\n",
       "      <td>1</td>\n",
       "      <td>0</td>\n",
       "      <td>0</td>\n",
       "      <td>0</td>\n",
       "      <td>0</td>\n",
       "      <td>0</td>\n",
       "      <td>0</td>\n",
       "      <td>0</td>\n",
       "      <td>0</td>\n",
       "    </tr>\n",
       "    <tr>\n",
       "      <th>2</th>\n",
       "      <td>0</td>\n",
       "      <td>1</td>\n",
       "      <td>0</td>\n",
       "      <td>0</td>\n",
       "      <td>0</td>\n",
       "      <td>0</td>\n",
       "      <td>0</td>\n",
       "      <td>0</td>\n",
       "      <td>0</td>\n",
       "      <td>0</td>\n",
       "    </tr>\n",
       "    <tr>\n",
       "      <th>3</th>\n",
       "      <td>0</td>\n",
       "      <td>0</td>\n",
       "      <td>0</td>\n",
       "      <td>0</td>\n",
       "      <td>1</td>\n",
       "      <td>0</td>\n",
       "      <td>0</td>\n",
       "      <td>1</td>\n",
       "      <td>0</td>\n",
       "      <td>0</td>\n",
       "    </tr>\n",
       "    <tr>\n",
       "      <th>4</th>\n",
       "      <td>0</td>\n",
       "      <td>0</td>\n",
       "      <td>0</td>\n",
       "      <td>0</td>\n",
       "      <td>0</td>\n",
       "      <td>0</td>\n",
       "      <td>0</td>\n",
       "      <td>0</td>\n",
       "      <td>0</td>\n",
       "      <td>0</td>\n",
       "    </tr>\n",
       "    <tr>\n",
       "      <th>...</th>\n",
       "      <td>...</td>\n",
       "      <td>...</td>\n",
       "      <td>...</td>\n",
       "      <td>...</td>\n",
       "      <td>...</td>\n",
       "      <td>...</td>\n",
       "      <td>...</td>\n",
       "      <td>...</td>\n",
       "      <td>...</td>\n",
       "      <td>...</td>\n",
       "    </tr>\n",
       "    <tr>\n",
       "      <th>445124</th>\n",
       "      <td>0</td>\n",
       "      <td>0</td>\n",
       "      <td>0</td>\n",
       "      <td>0</td>\n",
       "      <td>1</td>\n",
       "      <td>0</td>\n",
       "      <td>0</td>\n",
       "      <td>0</td>\n",
       "      <td>1</td>\n",
       "      <td>1</td>\n",
       "    </tr>\n",
       "    <tr>\n",
       "      <th>445126</th>\n",
       "      <td>0</td>\n",
       "      <td>0</td>\n",
       "      <td>0</td>\n",
       "      <td>0</td>\n",
       "      <td>0</td>\n",
       "      <td>0</td>\n",
       "      <td>0</td>\n",
       "      <td>0</td>\n",
       "      <td>0</td>\n",
       "      <td>0</td>\n",
       "    </tr>\n",
       "    <tr>\n",
       "      <th>445128</th>\n",
       "      <td>0</td>\n",
       "      <td>0</td>\n",
       "      <td>0</td>\n",
       "      <td>0</td>\n",
       "      <td>0</td>\n",
       "      <td>0</td>\n",
       "      <td>0</td>\n",
       "      <td>0</td>\n",
       "      <td>0</td>\n",
       "      <td>0</td>\n",
       "    </tr>\n",
       "    <tr>\n",
       "      <th>445130</th>\n",
       "      <td>0</td>\n",
       "      <td>0</td>\n",
       "      <td>1</td>\n",
       "      <td>0</td>\n",
       "      <td>0</td>\n",
       "      <td>0</td>\n",
       "      <td>0</td>\n",
       "      <td>1</td>\n",
       "      <td>0</td>\n",
       "      <td>0</td>\n",
       "    </tr>\n",
       "    <tr>\n",
       "      <th>445131</th>\n",
       "      <td>0</td>\n",
       "      <td>0</td>\n",
       "      <td>0</td>\n",
       "      <td>0</td>\n",
       "      <td>0</td>\n",
       "      <td>0</td>\n",
       "      <td>0</td>\n",
       "      <td>0</td>\n",
       "      <td>0</td>\n",
       "      <td>0</td>\n",
       "    </tr>\n",
       "  </tbody>\n",
       "</table>\n",
       "<p>357944 rows × 10 columns</p>\n",
       "</div>"
      ],
      "text/plain": [
       "        HadAngina  HadSkinCancer  HadHeartAttack  HadDepressiveDisorder  \\\n",
       "0               0              0               0                      0   \n",
       "1               0              1               0                      0   \n",
       "2               0              1               0                      0   \n",
       "3               0              0               0                      0   \n",
       "4               0              0               0                      0   \n",
       "...           ...            ...             ...                    ...   \n",
       "445124          0              0               0                      0   \n",
       "445126          0              0               0                      0   \n",
       "445128          0              0               0                      0   \n",
       "445130          0              0               1                      0   \n",
       "445131          0              0               0                      0   \n",
       "\n",
       "        HadArthritis  HadCOPD  HadKidneyDisease  HadAsthma  HadStroke  \\\n",
       "0                  0        0                 0          0          0   \n",
       "1                  0        0                 0          0          0   \n",
       "2                  0        0                 0          0          0   \n",
       "3                  1        0                 0          1          0   \n",
       "4                  0        0                 0          0          0   \n",
       "...              ...      ...               ...        ...        ...   \n",
       "445124             1        0                 0          0          1   \n",
       "445126             0        0                 0          0          0   \n",
       "445128             0        0                 0          0          0   \n",
       "445130             0        0                 0          1          0   \n",
       "445131             0        0                 0          0          0   \n",
       "\n",
       "        HadDiabetes  \n",
       "0                 1  \n",
       "1                 0  \n",
       "2                 0  \n",
       "3                 0  \n",
       "4                 0  \n",
       "...             ...  \n",
       "445124            1  \n",
       "445126            0  \n",
       "445128            0  \n",
       "445130            0  \n",
       "445131            0  \n",
       "\n",
       "[357944 rows x 10 columns]"
      ]
     },
     "execution_count": 45,
     "metadata": {},
     "output_type": "execute_result"
    }
   ],
   "source": [
    "Data[columns]"
   ]
  },
  {
   "cell_type": "code",
   "execution_count": 46,
   "id": "bc465f39",
   "metadata": {
    "execution": {
     "iopub.execute_input": "2025-10-15T15:15:53.587906Z",
     "iopub.status.busy": "2025-10-15T15:15:53.587727Z",
     "iopub.status.idle": "2025-10-15T15:15:53.609518Z",
     "shell.execute_reply": "2025-10-15T15:15:53.608859Z"
    }
   },
   "outputs": [
    {
     "name": "stdout",
     "output_type": "stream",
     "text": [
      "<class 'pandas.core.frame.DataFrame'>\n",
      "Index: 357944 entries, 0 to 445131\n",
      "Data columns (total 10 columns):\n",
      " #   Column                 Non-Null Count   Dtype\n",
      "---  ------                 --------------   -----\n",
      " 0   HadAngina              357944 non-null  int64\n",
      " 1   HadSkinCancer          357944 non-null  int64\n",
      " 2   HadHeartAttack         357944 non-null  int64\n",
      " 3   HadDepressiveDisorder  357944 non-null  int64\n",
      " 4   HadArthritis           357944 non-null  int64\n",
      " 5   HadCOPD                357944 non-null  int64\n",
      " 6   HadKidneyDisease       357944 non-null  int64\n",
      " 7   HadAsthma              357944 non-null  int64\n",
      " 8   HadStroke              357944 non-null  int64\n",
      " 9   HadDiabetes            357944 non-null  int64\n",
      "dtypes: int64(10)\n",
      "memory usage: 30.0 MB\n"
     ]
    }
   ],
   "source": [
    "(Data[columns]).info()"
   ]
  },
  {
   "cell_type": "code",
   "execution_count": 47,
   "id": "a3602944",
   "metadata": {
    "execution": {
     "iopub.execute_input": "2025-10-15T15:15:53.611634Z",
     "iopub.status.busy": "2025-10-15T15:15:53.611451Z",
     "iopub.status.idle": "2025-10-15T15:15:53.617824Z",
     "shell.execute_reply": "2025-10-15T15:15:53.617248Z"
    }
   },
   "outputs": [
    {
     "data": {
      "text/plain": [
       "HadDiabetes\n",
       "0    307633\n",
       "1     50311\n",
       "Name: count, dtype: int64"
      ]
     },
     "execution_count": 47,
     "metadata": {},
     "output_type": "execute_result"
    }
   ],
   "source": [
    "Data['HadDiabetes'].value_counts()"
   ]
  },
  {
   "cell_type": "markdown",
   "id": "9da4352a",
   "metadata": {},
   "source": [
    "### STEP :cleaning  <b>Disability features</b>\n",
    "We identified missing values within the Disability columns.\n",
    "Since the proportion of nulls was minimal, those rows were removed to maintain data quality.\n",
    "All categorical responses `(Yes/No)` were then encoded as numeric values `(1/0)` for uniformity.\n",
    "By eliminating the few missing entries, the dataset became more consistent and reliable for analysis.\n",
    "Now, all disability-related features are `numeric` , `clean` , and `fully prepared for modeling` ."
   ]
  },
  {
   "cell_type": "code",
   "execution_count": 48,
   "id": "e0a48d17",
   "metadata": {
    "execution": {
     "iopub.execute_input": "2025-10-15T15:15:53.619741Z",
     "iopub.status.busy": "2025-10-15T15:15:53.619564Z",
     "iopub.status.idle": "2025-10-15T15:15:53.634097Z",
     "shell.execute_reply": "2025-10-15T15:15:53.633428Z"
    }
   },
   "outputs": [
    {
     "data": {
      "text/html": [
       "<div>\n",
       "<style scoped>\n",
       "    .dataframe tbody tr th:only-of-type {\n",
       "        vertical-align: middle;\n",
       "    }\n",
       "\n",
       "    .dataframe tbody tr th {\n",
       "        vertical-align: top;\n",
       "    }\n",
       "\n",
       "    .dataframe thead th {\n",
       "        text-align: right;\n",
       "    }\n",
       "</style>\n",
       "<table border=\"1\" class=\"dataframe\">\n",
       "  <thead>\n",
       "    <tr style=\"text-align: right;\">\n",
       "      <th></th>\n",
       "      <th>DeafOrHardOfHearing</th>\n",
       "      <th>BlindOrVisionDifficulty</th>\n",
       "      <th>DifficultyConcentrating</th>\n",
       "      <th>DifficultyWalking</th>\n",
       "      <th>DifficultyDressingBathing</th>\n",
       "      <th>DifficultyErrands</th>\n",
       "    </tr>\n",
       "  </thead>\n",
       "  <tbody>\n",
       "    <tr>\n",
       "      <th>398340</th>\n",
       "      <td>No</td>\n",
       "      <td>No</td>\n",
       "      <td>No</td>\n",
       "      <td>No</td>\n",
       "      <td>No</td>\n",
       "      <td>No</td>\n",
       "    </tr>\n",
       "    <tr>\n",
       "      <th>106</th>\n",
       "      <td>No</td>\n",
       "      <td>No</td>\n",
       "      <td>No</td>\n",
       "      <td>No</td>\n",
       "      <td>No</td>\n",
       "      <td>No</td>\n",
       "    </tr>\n",
       "    <tr>\n",
       "      <th>405662</th>\n",
       "      <td>No</td>\n",
       "      <td>No</td>\n",
       "      <td>No</td>\n",
       "      <td>No</td>\n",
       "      <td>No</td>\n",
       "      <td>No</td>\n",
       "    </tr>\n",
       "    <tr>\n",
       "      <th>335717</th>\n",
       "      <td>No</td>\n",
       "      <td>No</td>\n",
       "      <td>No</td>\n",
       "      <td>No</td>\n",
       "      <td>No</td>\n",
       "      <td>No</td>\n",
       "    </tr>\n",
       "    <tr>\n",
       "      <th>442292</th>\n",
       "      <td>No</td>\n",
       "      <td>No</td>\n",
       "      <td>No</td>\n",
       "      <td>No</td>\n",
       "      <td>No</td>\n",
       "      <td>No</td>\n",
       "    </tr>\n",
       "  </tbody>\n",
       "</table>\n",
       "</div>"
      ],
      "text/plain": [
       "       DeafOrHardOfHearing BlindOrVisionDifficulty DifficultyConcentrating  \\\n",
       "398340                  No                      No                      No   \n",
       "106                     No                      No                      No   \n",
       "405662                  No                      No                      No   \n",
       "335717                  No                      No                      No   \n",
       "442292                  No                      No                      No   \n",
       "\n",
       "       DifficultyWalking DifficultyDressingBathing DifficultyErrands  \n",
       "398340                No                        No                No  \n",
       "106                   No                        No                No  \n",
       "405662                No                        No                No  \n",
       "335717                No                        No                No  \n",
       "442292                No                        No                No  "
      ]
     },
     "execution_count": 48,
     "metadata": {},
     "output_type": "execute_result"
    }
   ],
   "source": [
    "Data_disability.sample(5)"
   ]
  },
  {
   "cell_type": "code",
   "execution_count": 49,
   "id": "9f611d09",
   "metadata": {
    "execution": {
     "iopub.execute_input": "2025-10-15T15:15:53.636079Z",
     "iopub.status.busy": "2025-10-15T15:15:53.635899Z",
     "iopub.status.idle": "2025-10-15T15:15:53.707040Z",
     "shell.execute_reply": "2025-10-15T15:15:53.706483Z"
    }
   },
   "outputs": [
    {
     "name": "stdout",
     "output_type": "stream",
     "text": [
      "<class 'pandas.core.frame.DataFrame'>\n",
      "RangeIndex: 445132 entries, 0 to 445131\n",
      "Data columns (total 6 columns):\n",
      " #   Column                     Non-Null Count   Dtype \n",
      "---  ------                     --------------   ----- \n",
      " 0   DeafOrHardOfHearing        424485 non-null  object\n",
      " 1   BlindOrVisionDifficulty    423568 non-null  object\n",
      " 2   DifficultyConcentrating    420892 non-null  object\n",
      " 3   DifficultyWalking          421120 non-null  object\n",
      " 4   DifficultyDressingBathing  421217 non-null  object\n",
      " 5   DifficultyErrands          419476 non-null  object\n",
      "dtypes: object(6)\n",
      "memory usage: 20.4+ MB\n"
     ]
    }
   ],
   "source": [
    "Data_disability.info()"
   ]
  },
  {
   "cell_type": "code",
   "execution_count": 50,
   "id": "b18c2633",
   "metadata": {
    "execution": {
     "iopub.execute_input": "2025-10-15T15:15:53.708988Z",
     "iopub.status.busy": "2025-10-15T15:15:53.708813Z",
     "iopub.status.idle": "2025-10-15T15:15:53.910524Z",
     "shell.execute_reply": "2025-10-15T15:15:53.910010Z"
    }
   },
   "outputs": [
    {
     "data": {
      "text/html": [
       "<div>\n",
       "<style scoped>\n",
       "    .dataframe tbody tr th:only-of-type {\n",
       "        vertical-align: middle;\n",
       "    }\n",
       "\n",
       "    .dataframe tbody tr th {\n",
       "        vertical-align: top;\n",
       "    }\n",
       "\n",
       "    .dataframe thead th {\n",
       "        text-align: right;\n",
       "    }\n",
       "</style>\n",
       "<table border=\"1\" class=\"dataframe\">\n",
       "  <thead>\n",
       "    <tr style=\"text-align: right;\">\n",
       "      <th></th>\n",
       "      <th>Non-Null Count</th>\n",
       "      <th>Missing Count</th>\n",
       "      <th>Missing Percentage</th>\n",
       "    </tr>\n",
       "  </thead>\n",
       "  <tbody>\n",
       "    <tr>\n",
       "      <th>DeafOrHardOfHearing</th>\n",
       "      <td>424485</td>\n",
       "      <td>20647</td>\n",
       "      <td>4.638</td>\n",
       "    </tr>\n",
       "    <tr>\n",
       "      <th>BlindOrVisionDifficulty</th>\n",
       "      <td>423568</td>\n",
       "      <td>21564</td>\n",
       "      <td>4.844</td>\n",
       "    </tr>\n",
       "    <tr>\n",
       "      <th>DifficultyConcentrating</th>\n",
       "      <td>420892</td>\n",
       "      <td>24240</td>\n",
       "      <td>5.446</td>\n",
       "    </tr>\n",
       "    <tr>\n",
       "      <th>DifficultyWalking</th>\n",
       "      <td>421120</td>\n",
       "      <td>24012</td>\n",
       "      <td>5.394</td>\n",
       "    </tr>\n",
       "    <tr>\n",
       "      <th>DifficultyDressingBathing</th>\n",
       "      <td>421217</td>\n",
       "      <td>23915</td>\n",
       "      <td>5.373</td>\n",
       "    </tr>\n",
       "    <tr>\n",
       "      <th>DifficultyErrands</th>\n",
       "      <td>419476</td>\n",
       "      <td>25656</td>\n",
       "      <td>5.764</td>\n",
       "    </tr>\n",
       "  </tbody>\n",
       "</table>\n",
       "</div>"
      ],
      "text/plain": [
       "                           Non-Null Count  Missing Count  Missing Percentage\n",
       "DeafOrHardOfHearing                424485          20647               4.638\n",
       "BlindOrVisionDifficulty            423568          21564               4.844\n",
       "DifficultyConcentrating            420892          24240               5.446\n",
       "DifficultyWalking                  421120          24012               5.394\n",
       "DifficultyDressingBathing          421217          23915               5.373\n",
       "DifficultyErrands                  419476          25656               5.764"
      ]
     },
     "metadata": {},
     "output_type": "display_data"
    }
   ],
   "source": [
    "display(pd.DataFrame({\n",
    "    'Non-Null Count': Data_disability.count(),\n",
    "    'Missing Count': Data_disability.isna().sum(),\n",
    "    'Missing Percentage': (Data_disability.isna().sum() / len(Data_disability) * 100).round(3),\n",
    "}))\n"
   ]
  },
  {
   "cell_type": "code",
   "execution_count": 51,
   "id": "72baaff0",
   "metadata": {
    "execution": {
     "iopub.execute_input": "2025-10-15T15:15:53.912404Z",
     "iopub.status.busy": "2025-10-15T15:15:53.912219Z",
     "iopub.status.idle": "2025-10-15T15:15:54.112382Z",
     "shell.execute_reply": "2025-10-15T15:15:54.111512Z"
    }
   },
   "outputs": [],
   "source": [
    "disability_columns = ['DeafOrHardOfHearing','BlindOrVisionDifficulty','DifficultyConcentrating',\n",
    "                    'DifficultyWalking','DifficultyDressingBathing','DifficultyErrands']\n",
    "Data.dropna(subset=disability_columns,inplace=True)"
   ]
  },
  {
   "cell_type": "code",
   "execution_count": 52,
   "id": "2c9ce6aa",
   "metadata": {
    "execution": {
     "iopub.execute_input": "2025-10-15T15:15:54.114480Z",
     "iopub.status.busy": "2025-10-15T15:15:54.114285Z",
     "iopub.status.idle": "2025-10-15T15:15:54.191127Z",
     "shell.execute_reply": "2025-10-15T15:15:54.190495Z"
    }
   },
   "outputs": [
    {
     "data": {
      "text/plain": [
       "DeafOrHardOfHearing          0\n",
       "BlindOrVisionDifficulty      0\n",
       "DifficultyConcentrating      0\n",
       "DifficultyWalking            0\n",
       "DifficultyDressingBathing    0\n",
       "DifficultyErrands            0\n",
       "dtype: int64"
      ]
     },
     "execution_count": 52,
     "metadata": {},
     "output_type": "execute_result"
    }
   ],
   "source": [
    "Data[disability_columns].isna().sum()"
   ]
  },
  {
   "cell_type": "code",
   "execution_count": 53,
   "id": "a7fc6027",
   "metadata": {
    "execution": {
     "iopub.execute_input": "2025-10-15T15:15:54.193171Z",
     "iopub.status.busy": "2025-10-15T15:15:54.192923Z",
     "iopub.status.idle": "2025-10-15T15:15:54.337533Z",
     "shell.execute_reply": "2025-10-15T15:15:54.336901Z"
    }
   },
   "outputs": [
    {
     "name": "stdout",
     "output_type": "stream",
     "text": [
      "\n",
      "DeafOrHardOfHearing : 2 unique values\n",
      "['No' 'Yes']\n",
      "\n",
      "BlindOrVisionDifficulty : 2 unique values\n",
      "['No' 'Yes']\n",
      "\n",
      "DifficultyConcentrating : 2 unique values\n",
      "['No' 'Yes']\n",
      "\n",
      "DifficultyWalking : 2 unique values\n",
      "['No' 'Yes']\n",
      "\n",
      "DifficultyDressingBathing : 2 unique values\n",
      "['No' 'Yes']\n",
      "\n",
      "DifficultyErrands : 2 unique values\n",
      "['No' 'Yes']\n"
     ]
    }
   ],
   "source": [
    "for col in Data[disability_columns]:\n",
    "    print(f\"\\n{col} : {Data[col].nunique()} unique values\")\n",
    "    print(Data[col].unique())\n"
   ]
  },
  {
   "cell_type": "code",
   "execution_count": 54,
   "id": "c082ce46",
   "metadata": {
    "execution": {
     "iopub.execute_input": "2025-10-15T15:15:54.339617Z",
     "iopub.status.busy": "2025-10-15T15:15:54.339436Z",
     "iopub.status.idle": "2025-10-15T15:15:54.772394Z",
     "shell.execute_reply": "2025-10-15T15:15:54.771563Z"
    }
   },
   "outputs": [],
   "source": [
    "Data[disability_columns] = Data[disability_columns].replace({'Yes':1,'No':0})\n"
   ]
  },
  {
   "cell_type": "markdown",
   "id": "de085e4a",
   "metadata": {},
   "source": [
    "### STEP : cleaning <b>Body features </b>\n",
    "We handled missing values in the HeightInMeters, WeightInKilograms, and BMI columns carefully to ensure realistic and consistent data.\n",
    "Since the missing proportion was small, missing values were replaced using the `median` , which is `less sensitive` to outliers and preserves the overall data distribution.\n",
    "All extreme values were examined and retained, as they represent possible real human variations.\n",
    "\n",
    "The outliers were real values but rare so not deleted.\n",
    "\n",
    "For the RemovedTeeth column, which contained categorical responses (None of them, 1 to 5, 6 or more, but not all, All), missing values were filled based on the `Mode` becouse, the missing proportion was small.\n"
   ]
  },
  {
   "cell_type": "code",
   "execution_count": 55,
   "id": "1a42c830",
   "metadata": {
    "execution": {
     "iopub.execute_input": "2025-10-15T15:15:54.774661Z",
     "iopub.status.busy": "2025-10-15T15:15:54.774480Z",
     "iopub.status.idle": "2025-10-15T15:15:54.788905Z",
     "shell.execute_reply": "2025-10-15T15:15:54.788357Z"
    }
   },
   "outputs": [
    {
     "data": {
      "text/html": [
       "<div>\n",
       "<style scoped>\n",
       "    .dataframe tbody tr th:only-of-type {\n",
       "        vertical-align: middle;\n",
       "    }\n",
       "\n",
       "    .dataframe tbody tr th {\n",
       "        vertical-align: top;\n",
       "    }\n",
       "\n",
       "    .dataframe thead th {\n",
       "        text-align: right;\n",
       "    }\n",
       "</style>\n",
       "<table border=\"1\" class=\"dataframe\">\n",
       "  <thead>\n",
       "    <tr style=\"text-align: right;\">\n",
       "      <th></th>\n",
       "      <th>HeightInMeters</th>\n",
       "      <th>WeightInKilograms</th>\n",
       "      <th>BMI</th>\n",
       "      <th>RemovedTeeth</th>\n",
       "    </tr>\n",
       "  </thead>\n",
       "  <tbody>\n",
       "    <tr>\n",
       "      <th>124947</th>\n",
       "      <td>1.60</td>\n",
       "      <td>71.21</td>\n",
       "      <td>27.81</td>\n",
       "      <td>None of them</td>\n",
       "    </tr>\n",
       "    <tr>\n",
       "      <th>77179</th>\n",
       "      <td>NaN</td>\n",
       "      <td>NaN</td>\n",
       "      <td>NaN</td>\n",
       "      <td>All</td>\n",
       "    </tr>\n",
       "    <tr>\n",
       "      <th>67066</th>\n",
       "      <td>1.83</td>\n",
       "      <td>92.99</td>\n",
       "      <td>27.80</td>\n",
       "      <td>None of them</td>\n",
       "    </tr>\n",
       "    <tr>\n",
       "      <th>55950</th>\n",
       "      <td>1.45</td>\n",
       "      <td>99.79</td>\n",
       "      <td>47.61</td>\n",
       "      <td>6 or more, but not all</td>\n",
       "    </tr>\n",
       "    <tr>\n",
       "      <th>21961</th>\n",
       "      <td>1.91</td>\n",
       "      <td>86.18</td>\n",
       "      <td>23.75</td>\n",
       "      <td>6 or more, but not all</td>\n",
       "    </tr>\n",
       "  </tbody>\n",
       "</table>\n",
       "</div>"
      ],
      "text/plain": [
       "        HeightInMeters  WeightInKilograms    BMI            RemovedTeeth\n",
       "124947            1.60              71.21  27.81            None of them\n",
       "77179              NaN                NaN    NaN                     All\n",
       "67066             1.83              92.99  27.80            None of them\n",
       "55950             1.45              99.79  47.61  6 or more, but not all\n",
       "21961             1.91              86.18  23.75  6 or more, but not all"
      ]
     },
     "execution_count": 55,
     "metadata": {},
     "output_type": "execute_result"
    }
   ],
   "source": [
    "Data_body.sample(5)"
   ]
  },
  {
   "cell_type": "code",
   "execution_count": 56,
   "id": "abed4435",
   "metadata": {
    "execution": {
     "iopub.execute_input": "2025-10-15T15:15:54.790847Z",
     "iopub.status.busy": "2025-10-15T15:15:54.790671Z",
     "iopub.status.idle": "2025-10-15T15:15:54.810825Z",
     "shell.execute_reply": "2025-10-15T15:15:54.810050Z"
    }
   },
   "outputs": [
    {
     "name": "stdout",
     "output_type": "stream",
     "text": [
      "<class 'pandas.core.frame.DataFrame'>\n",
      "RangeIndex: 445132 entries, 0 to 445131\n",
      "Data columns (total 4 columns):\n",
      " #   Column             Non-Null Count   Dtype  \n",
      "---  ------             --------------   -----  \n",
      " 0   HeightInMeters     416480 non-null  float64\n",
      " 1   WeightInKilograms  403054 non-null  float64\n",
      " 2   BMI                396326 non-null  float64\n",
      " 3   RemovedTeeth       433772 non-null  object \n",
      "dtypes: float64(3), object(1)\n",
      "memory usage: 13.6+ MB\n"
     ]
    }
   ],
   "source": [
    "Data_body.info()"
   ]
  },
  {
   "cell_type": "code",
   "execution_count": 57,
   "id": "f7d6b18e",
   "metadata": {
    "execution": {
     "iopub.execute_input": "2025-10-15T15:15:54.813506Z",
     "iopub.status.busy": "2025-10-15T15:15:54.813189Z",
     "iopub.status.idle": "2025-10-15T15:15:54.833109Z",
     "shell.execute_reply": "2025-10-15T15:15:54.832201Z"
    }
   },
   "outputs": [
    {
     "data": {
      "text/html": [
       "<div>\n",
       "<style scoped>\n",
       "    .dataframe tbody tr th:only-of-type {\n",
       "        vertical-align: middle;\n",
       "    }\n",
       "\n",
       "    .dataframe tbody tr th {\n",
       "        vertical-align: top;\n",
       "    }\n",
       "\n",
       "    .dataframe thead th {\n",
       "        text-align: right;\n",
       "    }\n",
       "</style>\n",
       "<table border=\"1\" class=\"dataframe\">\n",
       "  <thead>\n",
       "    <tr style=\"text-align: right;\">\n",
       "      <th></th>\n",
       "      <th>HeightInMeters</th>\n",
       "      <th>WeightInKilograms</th>\n",
       "      <th>BMI</th>\n",
       "      <th>RemovedTeeth</th>\n",
       "    </tr>\n",
       "  </thead>\n",
       "  <tbody>\n",
       "    <tr>\n",
       "      <th>555</th>\n",
       "      <td>1.24</td>\n",
       "      <td>86.18</td>\n",
       "      <td>55.64</td>\n",
       "      <td>6 or more, but not all</td>\n",
       "    </tr>\n",
       "    <tr>\n",
       "      <th>874</th>\n",
       "      <td>1.22</td>\n",
       "      <td>136.08</td>\n",
       "      <td>91.55</td>\n",
       "      <td>1 to 5</td>\n",
       "    </tr>\n",
       "    <tr>\n",
       "      <th>902</th>\n",
       "      <td>1.22</td>\n",
       "      <td>44.91</td>\n",
       "      <td>30.21</td>\n",
       "      <td>All</td>\n",
       "    </tr>\n",
       "    <tr>\n",
       "      <th>1534</th>\n",
       "      <td>2.03</td>\n",
       "      <td>70.31</td>\n",
       "      <td>17.03</td>\n",
       "      <td>NaN</td>\n",
       "    </tr>\n",
       "    <tr>\n",
       "      <th>1551</th>\n",
       "      <td>2.01</td>\n",
       "      <td>95.25</td>\n",
       "      <td>23.66</td>\n",
       "      <td>NaN</td>\n",
       "    </tr>\n",
       "    <tr>\n",
       "      <th>...</th>\n",
       "      <td>...</td>\n",
       "      <td>...</td>\n",
       "      <td>...</td>\n",
       "      <td>...</td>\n",
       "    </tr>\n",
       "    <tr>\n",
       "      <th>444695</th>\n",
       "      <td>2.13</td>\n",
       "      <td>68.04</td>\n",
       "      <td>14.95</td>\n",
       "      <td>1 to 5</td>\n",
       "    </tr>\n",
       "    <tr>\n",
       "      <th>444721</th>\n",
       "      <td>1.27</td>\n",
       "      <td>63.50</td>\n",
       "      <td>39.37</td>\n",
       "      <td>None of them</td>\n",
       "    </tr>\n",
       "    <tr>\n",
       "      <th>444851</th>\n",
       "      <td>2.01</td>\n",
       "      <td>106.14</td>\n",
       "      <td>26.36</td>\n",
       "      <td>NaN</td>\n",
       "    </tr>\n",
       "    <tr>\n",
       "      <th>444939</th>\n",
       "      <td>1.35</td>\n",
       "      <td>63.05</td>\n",
       "      <td>34.79</td>\n",
       "      <td>6 or more, but not all</td>\n",
       "    </tr>\n",
       "    <tr>\n",
       "      <th>445109</th>\n",
       "      <td>1.35</td>\n",
       "      <td>36.29</td>\n",
       "      <td>20.02</td>\n",
       "      <td>None of them</td>\n",
       "    </tr>\n",
       "  </tbody>\n",
       "</table>\n",
       "<p>1556 rows × 4 columns</p>\n",
       "</div>"
      ],
      "text/plain": [
       "        HeightInMeters  WeightInKilograms    BMI            RemovedTeeth\n",
       "555               1.24              86.18  55.64  6 or more, but not all\n",
       "874               1.22             136.08  91.55                  1 to 5\n",
       "902               1.22              44.91  30.21                     All\n",
       "1534              2.03              70.31  17.03                     NaN\n",
       "1551              2.01              95.25  23.66                     NaN\n",
       "...                ...                ...    ...                     ...\n",
       "444695            2.13              68.04  14.95                  1 to 5\n",
       "444721            1.27              63.50  39.37            None of them\n",
       "444851            2.01             106.14  26.36                     NaN\n",
       "444939            1.35              63.05  34.79  6 or more, but not all\n",
       "445109            1.35              36.29  20.02            None of them\n",
       "\n",
       "[1556 rows x 4 columns]"
      ]
     },
     "execution_count": 57,
     "metadata": {},
     "output_type": "execute_result"
    }
   ],
   "source": [
    "outliers_height= detect_outliers(Data_body,'HeightInMeters')\n",
    "outliers_height"
   ]
  },
  {
   "cell_type": "code",
   "execution_count": 58,
   "id": "2198510b",
   "metadata": {
    "execution": {
     "iopub.execute_input": "2025-10-15T15:15:54.835145Z",
     "iopub.status.busy": "2025-10-15T15:15:54.834966Z",
     "iopub.status.idle": "2025-10-15T15:15:54.853258Z",
     "shell.execute_reply": "2025-10-15T15:15:54.852709Z"
    }
   },
   "outputs": [
    {
     "data": {
      "text/html": [
       "<div>\n",
       "<style scoped>\n",
       "    .dataframe tbody tr th:only-of-type {\n",
       "        vertical-align: middle;\n",
       "    }\n",
       "\n",
       "    .dataframe tbody tr th {\n",
       "        vertical-align: top;\n",
       "    }\n",
       "\n",
       "    .dataframe thead th {\n",
       "        text-align: right;\n",
       "    }\n",
       "</style>\n",
       "<table border=\"1\" class=\"dataframe\">\n",
       "  <thead>\n",
       "    <tr style=\"text-align: right;\">\n",
       "      <th></th>\n",
       "      <th>HeightInMeters</th>\n",
       "      <th>WeightInKilograms</th>\n",
       "      <th>BMI</th>\n",
       "      <th>RemovedTeeth</th>\n",
       "    </tr>\n",
       "  </thead>\n",
       "  <tbody>\n",
       "    <tr>\n",
       "      <th>48</th>\n",
       "      <td>1.73</td>\n",
       "      <td>136.08</td>\n",
       "      <td>45.61</td>\n",
       "      <td>NaN</td>\n",
       "    </tr>\n",
       "    <tr>\n",
       "      <th>142</th>\n",
       "      <td>1.60</td>\n",
       "      <td>145.15</td>\n",
       "      <td>56.68</td>\n",
       "      <td>NaN</td>\n",
       "    </tr>\n",
       "    <tr>\n",
       "      <th>158</th>\n",
       "      <td>1.83</td>\n",
       "      <td>158.76</td>\n",
       "      <td>47.47</td>\n",
       "      <td>NaN</td>\n",
       "    </tr>\n",
       "    <tr>\n",
       "      <th>208</th>\n",
       "      <td>1.63</td>\n",
       "      <td>136.08</td>\n",
       "      <td>51.49</td>\n",
       "      <td>NaN</td>\n",
       "    </tr>\n",
       "    <tr>\n",
       "      <th>336</th>\n",
       "      <td>1.85</td>\n",
       "      <td>136.08</td>\n",
       "      <td>39.58</td>\n",
       "      <td>NaN</td>\n",
       "    </tr>\n",
       "    <tr>\n",
       "      <th>...</th>\n",
       "      <td>...</td>\n",
       "      <td>...</td>\n",
       "      <td>...</td>\n",
       "      <td>...</td>\n",
       "    </tr>\n",
       "    <tr>\n",
       "      <th>444674</th>\n",
       "      <td>1.73</td>\n",
       "      <td>136.08</td>\n",
       "      <td>45.61</td>\n",
       "      <td>6 or more, but not all</td>\n",
       "    </tr>\n",
       "    <tr>\n",
       "      <th>444854</th>\n",
       "      <td>1.83</td>\n",
       "      <td>158.76</td>\n",
       "      <td>47.47</td>\n",
       "      <td>1 to 5</td>\n",
       "    </tr>\n",
       "    <tr>\n",
       "      <th>444987</th>\n",
       "      <td>1.83</td>\n",
       "      <td>170.10</td>\n",
       "      <td>50.86</td>\n",
       "      <td>1 to 5</td>\n",
       "    </tr>\n",
       "    <tr>\n",
       "      <th>445008</th>\n",
       "      <td>1.68</td>\n",
       "      <td>163.29</td>\n",
       "      <td>58.10</td>\n",
       "      <td>1 to 5</td>\n",
       "    </tr>\n",
       "    <tr>\n",
       "      <th>445081</th>\n",
       "      <td>1.73</td>\n",
       "      <td>142.88</td>\n",
       "      <td>47.90</td>\n",
       "      <td>6 or more, but not all</td>\n",
       "    </tr>\n",
       "  </tbody>\n",
       "</table>\n",
       "<p>9643 rows × 4 columns</p>\n",
       "</div>"
      ],
      "text/plain": [
       "        HeightInMeters  WeightInKilograms    BMI            RemovedTeeth\n",
       "48                1.73             136.08  45.61                     NaN\n",
       "142               1.60             145.15  56.68                     NaN\n",
       "158               1.83             158.76  47.47                     NaN\n",
       "208               1.63             136.08  51.49                     NaN\n",
       "336               1.85             136.08  39.58                     NaN\n",
       "...                ...                ...    ...                     ...\n",
       "444674            1.73             136.08  45.61  6 or more, but not all\n",
       "444854            1.83             158.76  47.47                  1 to 5\n",
       "444987            1.83             170.10  50.86                  1 to 5\n",
       "445008            1.68             163.29  58.10                  1 to 5\n",
       "445081            1.73             142.88  47.90  6 or more, but not all\n",
       "\n",
       "[9643 rows x 4 columns]"
      ]
     },
     "execution_count": 58,
     "metadata": {},
     "output_type": "execute_result"
    }
   ],
   "source": [
    "outliers_weight= detect_outliers(Data_body, 'WeightInKilograms')\n",
    "outliers_weight"
   ]
  },
  {
   "cell_type": "code",
   "execution_count": 59,
   "id": "6fc6abc3",
   "metadata": {
    "execution": {
     "iopub.execute_input": "2025-10-15T15:15:54.855476Z",
     "iopub.status.busy": "2025-10-15T15:15:54.855227Z",
     "iopub.status.idle": "2025-10-15T15:15:54.866143Z",
     "shell.execute_reply": "2025-10-15T15:15:54.865515Z"
    }
   },
   "outputs": [
    {
     "name": "stdout",
     "output_type": "stream",
     "text": [
      "Max height: 2.41\n",
      "Min height: 0.91\n",
      "Max weight: 292.57\n",
      "Min weight: 22.68\n"
     ]
    }
   ],
   "source": [
    "print(\"Max height:\", Data_body['HeightInMeters'].max())\n",
    "print(\"Min height:\", Data_body['HeightInMeters'].min())\n",
    "print(\"Max weight:\", Data_body['WeightInKilograms'].max())\n",
    "print(\"Min weight:\", Data_body['WeightInKilograms'].min())"
   ]
  },
  {
   "cell_type": "code",
   "execution_count": 60,
   "id": "16ab8e51",
   "metadata": {
    "execution": {
     "iopub.execute_input": "2025-10-15T15:15:54.868108Z",
     "iopub.status.busy": "2025-10-15T15:15:54.867884Z",
     "iopub.status.idle": "2025-10-15T15:15:54.911809Z",
     "shell.execute_reply": "2025-10-15T15:15:54.911115Z"
    }
   },
   "outputs": [
    {
     "data": {
      "text/html": [
       "<div>\n",
       "<style scoped>\n",
       "    .dataframe tbody tr th:only-of-type {\n",
       "        vertical-align: middle;\n",
       "    }\n",
       "\n",
       "    .dataframe tbody tr th {\n",
       "        vertical-align: top;\n",
       "    }\n",
       "\n",
       "    .dataframe thead th {\n",
       "        text-align: right;\n",
       "    }\n",
       "</style>\n",
       "<table border=\"1\" class=\"dataframe\">\n",
       "  <thead>\n",
       "    <tr style=\"text-align: right;\">\n",
       "      <th></th>\n",
       "      <th>Non-Null Count</th>\n",
       "      <th>Missing Count</th>\n",
       "      <th>Missing Percentage</th>\n",
       "    </tr>\n",
       "  </thead>\n",
       "  <tbody>\n",
       "    <tr>\n",
       "      <th>HeightInMeters</th>\n",
       "      <td>416480</td>\n",
       "      <td>28652</td>\n",
       "      <td>6.437</td>\n",
       "    </tr>\n",
       "    <tr>\n",
       "      <th>WeightInKilograms</th>\n",
       "      <td>403054</td>\n",
       "      <td>42078</td>\n",
       "      <td>9.453</td>\n",
       "    </tr>\n",
       "    <tr>\n",
       "      <th>BMI</th>\n",
       "      <td>396326</td>\n",
       "      <td>48806</td>\n",
       "      <td>10.964</td>\n",
       "    </tr>\n",
       "    <tr>\n",
       "      <th>RemovedTeeth</th>\n",
       "      <td>433772</td>\n",
       "      <td>11360</td>\n",
       "      <td>2.552</td>\n",
       "    </tr>\n",
       "  </tbody>\n",
       "</table>\n",
       "</div>"
      ],
      "text/plain": [
       "                   Non-Null Count  Missing Count  Missing Percentage\n",
       "HeightInMeters             416480          28652               6.437\n",
       "WeightInKilograms          403054          42078               9.453\n",
       "BMI                        396326          48806              10.964\n",
       "RemovedTeeth               433772          11360               2.552"
      ]
     },
     "metadata": {},
     "output_type": "display_data"
    }
   ],
   "source": [
    "display(pd.DataFrame({\n",
    "    'Non-Null Count': Data_body.count(),\n",
    "    'Missing Count': Data_body.isna().sum(),\n",
    "    'Missing Percentage': (Data_body.isna().sum() / len(Data_body) * 100).round(3),\n",
    "}))"
   ]
  },
  {
   "cell_type": "code",
   "execution_count": 61,
   "id": "c2f2026f",
   "metadata": {
    "execution": {
     "iopub.execute_input": "2025-10-15T15:15:54.914271Z",
     "iopub.status.busy": "2025-10-15T15:15:54.913958Z",
     "iopub.status.idle": "2025-10-15T15:15:54.932369Z",
     "shell.execute_reply": "2025-10-15T15:15:54.931667Z"
    }
   },
   "outputs": [
    {
     "name": "stdout",
     "output_type": "stream",
     "text": [
      "[nan 'None of them' '1 to 5' '6 or more, but not all' 'All']\n"
     ]
    }
   ],
   "source": [
    "print(Data_body['RemovedTeeth'].unique())"
   ]
  },
  {
   "cell_type": "code",
   "execution_count": 62,
   "id": "f5eb8dcc",
   "metadata": {
    "execution": {
     "iopub.execute_input": "2025-10-15T15:15:54.934570Z",
     "iopub.status.busy": "2025-10-15T15:15:54.934275Z",
     "iopub.status.idle": "2025-10-15T15:15:54.994026Z",
     "shell.execute_reply": "2025-10-15T15:15:54.993334Z"
    }
   },
   "outputs": [],
   "source": [
    "Data['HeightInMeters'].fillna(Data['HeightInMeters'].median(), inplace=True)\n",
    "Data['WeightInKilograms'].fillna(Data['WeightInKilograms'].median(), inplace=True)\n",
    "Data['BMI'] = (Data['WeightInKilograms'] / (Data['HeightInMeters'] ** 2)).round(2)\n",
    "Data['RemovedTeeth'].fillna(Data['RemovedTeeth'].mode()[0], inplace=True)"
   ]
  },
  {
   "cell_type": "code",
   "execution_count": 63,
   "id": "8761479b",
   "metadata": {
    "execution": {
     "iopub.execute_input": "2025-10-15T15:15:54.996392Z",
     "iopub.status.busy": "2025-10-15T15:15:54.996075Z",
     "iopub.status.idle": "2025-10-15T15:15:55.017037Z",
     "shell.execute_reply": "2025-10-15T15:15:55.016394Z"
    }
   },
   "outputs": [
    {
     "data": {
      "text/html": [
       "<div>\n",
       "<style scoped>\n",
       "    .dataframe tbody tr th:only-of-type {\n",
       "        vertical-align: middle;\n",
       "    }\n",
       "\n",
       "    .dataframe tbody tr th {\n",
       "        vertical-align: top;\n",
       "    }\n",
       "\n",
       "    .dataframe thead th {\n",
       "        text-align: right;\n",
       "    }\n",
       "</style>\n",
       "<table border=\"1\" class=\"dataframe\">\n",
       "  <thead>\n",
       "    <tr style=\"text-align: right;\">\n",
       "      <th></th>\n",
       "      <th>HeightInMeters</th>\n",
       "      <th>WeightInKilograms</th>\n",
       "      <th>BMI</th>\n",
       "      <th>RemovedTeeth</th>\n",
       "    </tr>\n",
       "  </thead>\n",
       "  <tbody>\n",
       "    <tr>\n",
       "      <th>83766</th>\n",
       "      <td>1.52</td>\n",
       "      <td>54.43</td>\n",
       "      <td>23.56</td>\n",
       "      <td>None of them</td>\n",
       "    </tr>\n",
       "    <tr>\n",
       "      <th>395312</th>\n",
       "      <td>1.88</td>\n",
       "      <td>77.11</td>\n",
       "      <td>21.82</td>\n",
       "      <td>None of them</td>\n",
       "    </tr>\n",
       "    <tr>\n",
       "      <th>353228</th>\n",
       "      <td>1.85</td>\n",
       "      <td>81.65</td>\n",
       "      <td>23.86</td>\n",
       "      <td>None of them</td>\n",
       "    </tr>\n",
       "    <tr>\n",
       "      <th>273811</th>\n",
       "      <td>1.60</td>\n",
       "      <td>77.11</td>\n",
       "      <td>30.12</td>\n",
       "      <td>1 to 5</td>\n",
       "    </tr>\n",
       "    <tr>\n",
       "      <th>166348</th>\n",
       "      <td>1.70</td>\n",
       "      <td>81.65</td>\n",
       "      <td>28.25</td>\n",
       "      <td>None of them</td>\n",
       "    </tr>\n",
       "  </tbody>\n",
       "</table>\n",
       "</div>"
      ],
      "text/plain": [
       "        HeightInMeters  WeightInKilograms    BMI  RemovedTeeth\n",
       "83766             1.52              54.43  23.56  None of them\n",
       "395312            1.88              77.11  21.82  None of them\n",
       "353228            1.85              81.65  23.86  None of them\n",
       "273811            1.60              77.11  30.12        1 to 5\n",
       "166348            1.70              81.65  28.25  None of them"
      ]
     },
     "execution_count": 63,
     "metadata": {},
     "output_type": "execute_result"
    }
   ],
   "source": [
    "body_columns = ['HeightInMeters','WeightInKilograms','BMI','RemovedTeeth']\n",
    "Data[body_columns].sample(5)"
   ]
  },
  {
   "cell_type": "code",
   "execution_count": 64,
   "id": "2ecd5c72",
   "metadata": {
    "execution": {
     "iopub.execute_input": "2025-10-15T15:15:55.019338Z",
     "iopub.status.busy": "2025-10-15T15:15:55.019030Z",
     "iopub.status.idle": "2025-10-15T15:15:55.040667Z",
     "shell.execute_reply": "2025-10-15T15:15:55.040088Z"
    }
   },
   "outputs": [
    {
     "data": {
      "text/plain": [
       "HeightInMeters       0\n",
       "WeightInKilograms    0\n",
       "BMI                  0\n",
       "RemovedTeeth         0\n",
       "dtype: int64"
      ]
     },
     "execution_count": 64,
     "metadata": {},
     "output_type": "execute_result"
    }
   ],
   "source": [
    "Data[body_columns].isna().sum()"
   ]
  },
  {
   "cell_type": "markdown",
   "id": "f94709d8",
   "metadata": {},
   "source": [
    "###  STEP: Cleaning **Vaccine Tests**\n",
    "\n",
    "We standardized the values in the **`TetanusLast10Tdap`** column by:\n",
    "- Replacing all valid entries with either **`Yes`** or **`No`**.\n",
    "- Handling and imputing **missing values** to maintain data consistency."
   ]
  },
  {
   "cell_type": "code",
   "execution_count": 65,
   "id": "4c9374c7",
   "metadata": {
    "execution": {
     "iopub.execute_input": "2025-10-15T15:15:55.042759Z",
     "iopub.status.busy": "2025-10-15T15:15:55.042490Z",
     "iopub.status.idle": "2025-10-15T15:15:55.063624Z",
     "shell.execute_reply": "2025-10-15T15:15:55.062859Z"
    }
   },
   "outputs": [
    {
     "data": {
      "text/html": [
       "<div>\n",
       "<style scoped>\n",
       "    .dataframe tbody tr th:only-of-type {\n",
       "        vertical-align: middle;\n",
       "    }\n",
       "\n",
       "    .dataframe tbody tr th {\n",
       "        vertical-align: top;\n",
       "    }\n",
       "\n",
       "    .dataframe thead th {\n",
       "        text-align: right;\n",
       "    }\n",
       "</style>\n",
       "<table border=\"1\" class=\"dataframe\">\n",
       "  <thead>\n",
       "    <tr style=\"text-align: right;\">\n",
       "      <th></th>\n",
       "      <th>ChestScan</th>\n",
       "      <th>HIVTesting</th>\n",
       "      <th>FluVaxLast12</th>\n",
       "      <th>PneumoVaxEver</th>\n",
       "      <th>TetanusLast10Tdap</th>\n",
       "      <th>HighRiskLastYear</th>\n",
       "    </tr>\n",
       "  </thead>\n",
       "  <tbody>\n",
       "    <tr>\n",
       "      <th>84296</th>\n",
       "      <td>Yes</td>\n",
       "      <td>Yes</td>\n",
       "      <td>Yes</td>\n",
       "      <td>No</td>\n",
       "      <td>Yes, received Tdap</td>\n",
       "      <td>No</td>\n",
       "    </tr>\n",
       "    <tr>\n",
       "      <th>8178</th>\n",
       "      <td>NaN</td>\n",
       "      <td>NaN</td>\n",
       "      <td>NaN</td>\n",
       "      <td>NaN</td>\n",
       "      <td>NaN</td>\n",
       "      <td>NaN</td>\n",
       "    </tr>\n",
       "    <tr>\n",
       "      <th>152711</th>\n",
       "      <td>Yes</td>\n",
       "      <td>No</td>\n",
       "      <td>No</td>\n",
       "      <td>Yes</td>\n",
       "      <td>Yes, received tetanus shot but not sure what type</td>\n",
       "      <td>No</td>\n",
       "    </tr>\n",
       "    <tr>\n",
       "      <th>29369</th>\n",
       "      <td>No</td>\n",
       "      <td>No</td>\n",
       "      <td>No</td>\n",
       "      <td>No</td>\n",
       "      <td>NaN</td>\n",
       "      <td>No</td>\n",
       "    </tr>\n",
       "    <tr>\n",
       "      <th>362342</th>\n",
       "      <td>No</td>\n",
       "      <td>Yes</td>\n",
       "      <td>Yes</td>\n",
       "      <td>No</td>\n",
       "      <td>Yes, received tetanus shot but not sure what type</td>\n",
       "      <td>Yes</td>\n",
       "    </tr>\n",
       "  </tbody>\n",
       "</table>\n",
       "</div>"
      ],
      "text/plain": [
       "       ChestScan HIVTesting FluVaxLast12 PneumoVaxEver  \\\n",
       "84296        Yes        Yes          Yes            No   \n",
       "8178         NaN        NaN          NaN           NaN   \n",
       "152711       Yes         No           No           Yes   \n",
       "29369         No         No           No            No   \n",
       "362342        No        Yes          Yes            No   \n",
       "\n",
       "                                        TetanusLast10Tdap HighRiskLastYear  \n",
       "84296                                  Yes, received Tdap               No  \n",
       "8178                                                  NaN              NaN  \n",
       "152711  Yes, received tetanus shot but not sure what type               No  \n",
       "29369                                                 NaN               No  \n",
       "362342  Yes, received tetanus shot but not sure what type              Yes  "
      ]
     },
     "execution_count": 65,
     "metadata": {},
     "output_type": "execute_result"
    }
   ],
   "source": [
    "Data_vaccine.sample(5)"
   ]
  },
  {
   "cell_type": "code",
   "execution_count": 66,
   "id": "18a10500",
   "metadata": {
    "execution": {
     "iopub.execute_input": "2025-10-15T15:15:55.067299Z",
     "iopub.status.busy": "2025-10-15T15:15:55.066753Z",
     "iopub.status.idle": "2025-10-15T15:15:55.140360Z",
     "shell.execute_reply": "2025-10-15T15:15:55.139771Z"
    }
   },
   "outputs": [
    {
     "name": "stdout",
     "output_type": "stream",
     "text": [
      "<class 'pandas.core.frame.DataFrame'>\n",
      "RangeIndex: 445132 entries, 0 to 445131\n",
      "Data columns (total 6 columns):\n",
      " #   Column             Non-Null Count   Dtype \n",
      "---  ------             --------------   ----- \n",
      " 0   ChestScan          389086 non-null  object\n",
      " 1   HIVTesting         379005 non-null  object\n",
      " 2   FluVaxLast12       398011 non-null  object\n",
      " 3   PneumoVaxEver      368092 non-null  object\n",
      " 4   TetanusLast10Tdap  362616 non-null  object\n",
      " 5   HighRiskLastYear   394509 non-null  object\n",
      "dtypes: object(6)\n",
      "memory usage: 20.4+ MB\n"
     ]
    }
   ],
   "source": [
    "Data_vaccine.info()"
   ]
  },
  {
   "cell_type": "code",
   "execution_count": 67,
   "id": "28290db7",
   "metadata": {
    "execution": {
     "iopub.execute_input": "2025-10-15T15:15:55.142569Z",
     "iopub.status.busy": "2025-10-15T15:15:55.142344Z",
     "iopub.status.idle": "2025-10-15T15:15:55.326587Z",
     "shell.execute_reply": "2025-10-15T15:15:55.326012Z"
    }
   },
   "outputs": [
    {
     "data": {
      "text/html": [
       "<div>\n",
       "<style scoped>\n",
       "    .dataframe tbody tr th:only-of-type {\n",
       "        vertical-align: middle;\n",
       "    }\n",
       "\n",
       "    .dataframe tbody tr th {\n",
       "        vertical-align: top;\n",
       "    }\n",
       "\n",
       "    .dataframe thead th {\n",
       "        text-align: right;\n",
       "    }\n",
       "</style>\n",
       "<table border=\"1\" class=\"dataframe\">\n",
       "  <thead>\n",
       "    <tr style=\"text-align: right;\">\n",
       "      <th></th>\n",
       "      <th>ChestScan</th>\n",
       "      <th>HIVTesting</th>\n",
       "      <th>FluVaxLast12</th>\n",
       "      <th>PneumoVaxEver</th>\n",
       "      <th>TetanusLast10Tdap</th>\n",
       "      <th>HighRiskLastYear</th>\n",
       "    </tr>\n",
       "  </thead>\n",
       "  <tbody>\n",
       "    <tr>\n",
       "      <th>count</th>\n",
       "      <td>389086</td>\n",
       "      <td>379005</td>\n",
       "      <td>398011</td>\n",
       "      <td>368092</td>\n",
       "      <td>362616</td>\n",
       "      <td>394509</td>\n",
       "    </tr>\n",
       "    <tr>\n",
       "      <th>unique</th>\n",
       "      <td>2</td>\n",
       "      <td>2</td>\n",
       "      <td>2</td>\n",
       "      <td>2</td>\n",
       "      <td>4</td>\n",
       "      <td>2</td>\n",
       "    </tr>\n",
       "    <tr>\n",
       "      <th>top</th>\n",
       "      <td>No</td>\n",
       "      <td>No</td>\n",
       "      <td>Yes</td>\n",
       "      <td>No</td>\n",
       "      <td>No, did not receive any tetanus shot in the pa...</td>\n",
       "      <td>No</td>\n",
       "    </tr>\n",
       "    <tr>\n",
       "      <th>freq</th>\n",
       "      <td>223221</td>\n",
       "      <td>249919</td>\n",
       "      <td>209256</td>\n",
       "      <td>215604</td>\n",
       "      <td>121493</td>\n",
       "      <td>377324</td>\n",
       "    </tr>\n",
       "  </tbody>\n",
       "</table>\n",
       "</div>"
      ],
      "text/plain": [
       "       ChestScan HIVTesting FluVaxLast12 PneumoVaxEver  \\\n",
       "count     389086     379005       398011        368092   \n",
       "unique         2          2            2             2   \n",
       "top           No         No          Yes            No   \n",
       "freq      223221     249919       209256        215604   \n",
       "\n",
       "                                        TetanusLast10Tdap HighRiskLastYear  \n",
       "count                                              362616           394509  \n",
       "unique                                                  4                2  \n",
       "top     No, did not receive any tetanus shot in the pa...               No  \n",
       "freq                                               121493           377324  "
      ]
     },
     "execution_count": 67,
     "metadata": {},
     "output_type": "execute_result"
    }
   ],
   "source": [
    "Data_vaccine.describe()"
   ]
  },
  {
   "cell_type": "code",
   "execution_count": 68,
   "id": "0a104258",
   "metadata": {
    "execution": {
     "iopub.execute_input": "2025-10-15T15:15:55.328586Z",
     "iopub.status.busy": "2025-10-15T15:15:55.328346Z",
     "iopub.status.idle": "2025-10-15T15:15:55.345185Z",
     "shell.execute_reply": "2025-10-15T15:15:55.344462Z"
    }
   },
   "outputs": [
    {
     "data": {
      "text/plain": [
       "array(['Yes, received tetanus shot but not sure what type',\n",
       "       'No, did not receive any tetanus shot in the past 10 years', nan,\n",
       "       'Yes, received Tdap', 'Yes, received tetanus shot, but not Tdap'],\n",
       "      dtype=object)"
      ]
     },
     "execution_count": 68,
     "metadata": {},
     "output_type": "execute_result"
    }
   ],
   "source": [
    "Data_vaccine['TetanusLast10Tdap'].unique()"
   ]
  },
  {
   "cell_type": "code",
   "execution_count": 69,
   "id": "b042ad68",
   "metadata": {
    "execution": {
     "iopub.execute_input": "2025-10-15T15:15:55.347403Z",
     "iopub.status.busy": "2025-10-15T15:15:55.347197Z",
     "iopub.status.idle": "2025-10-15T15:15:55.390029Z",
     "shell.execute_reply": "2025-10-15T15:15:55.389326Z"
    }
   },
   "outputs": [],
   "source": [
    "Data['TetanusLast10Tdap'].replace({'Yes, received tetanus shot but not sure what type': 'Yes',\n",
    "                                           'No, did not receive any tetanus shot in the past 10 years': 'No',\n",
    "                                           'Yes, received Tdap': 'Yes',\n",
    "                                           'Yes, received tetanus shot, but not Tdap': 'Yes'}, inplace=True)"
   ]
  },
  {
   "cell_type": "code",
   "execution_count": 70,
   "id": "562534c1",
   "metadata": {
    "execution": {
     "iopub.execute_input": "2025-10-15T15:15:55.392122Z",
     "iopub.status.busy": "2025-10-15T15:15:55.391835Z",
     "iopub.status.idle": "2025-10-15T15:15:55.458530Z",
     "shell.execute_reply": "2025-10-15T15:15:55.458013Z"
    }
   },
   "outputs": [
    {
     "data": {
      "text/plain": [
       "ChestScan            56046\n",
       "HIVTesting           66127\n",
       "FluVaxLast12         47121\n",
       "PneumoVaxEver        77040\n",
       "TetanusLast10Tdap    82516\n",
       "HighRiskLastYear     50623\n",
       "dtype: int64"
      ]
     },
     "metadata": {},
     "output_type": "display_data"
    }
   ],
   "source": [
    "display(Data_vaccine.isna().sum())"
   ]
  },
  {
   "cell_type": "code",
   "execution_count": 71,
   "id": "384c13d6",
   "metadata": {
    "execution": {
     "iopub.execute_input": "2025-10-15T15:15:55.460458Z",
     "iopub.status.busy": "2025-10-15T15:15:55.460234Z",
     "iopub.status.idle": "2025-10-15T15:15:55.602850Z",
     "shell.execute_reply": "2025-10-15T15:15:55.602351Z"
    }
   },
   "outputs": [
    {
     "data": {
      "text/plain": [
       "(273614, 40)"
      ]
     },
     "execution_count": 71,
     "metadata": {},
     "output_type": "execute_result"
    }
   ],
   "source": [
    "Data.dropna(subset=Data_vaccine.columns, inplace=True)\n",
    "Data.shape"
   ]
  },
  {
   "cell_type": "code",
   "execution_count": 72,
   "id": "850a1e71",
   "metadata": {
    "execution": {
     "iopub.execute_input": "2025-10-15T15:15:55.604814Z",
     "iopub.status.busy": "2025-10-15T15:15:55.604574Z",
     "iopub.status.idle": "2025-10-15T15:15:55.661353Z",
     "shell.execute_reply": "2025-10-15T15:15:55.660651Z"
    }
   },
   "outputs": [
    {
     "data": {
      "text/plain": [
       "ChestScan            0\n",
       "HIVTesting           0\n",
       "FluVaxLast12         0\n",
       "PneumoVaxEver        0\n",
       "TetanusLast10Tdap    0\n",
       "HighRiskLastYear     0\n",
       "dtype: int64"
      ]
     },
     "execution_count": 72,
     "metadata": {},
     "output_type": "execute_result"
    }
   ],
   "source": [
    "Data[Data_vaccine.columns].isna().sum()"
   ]
  },
  {
   "cell_type": "code",
   "execution_count": 73,
   "id": "d26d1fcd",
   "metadata": {
    "execution": {
     "iopub.execute_input": "2025-10-15T15:15:55.663509Z",
     "iopub.status.busy": "2025-10-15T15:15:55.663326Z",
     "iopub.status.idle": "2025-10-15T15:15:56.019147Z",
     "shell.execute_reply": "2025-10-15T15:15:56.018302Z"
    }
   },
   "outputs": [],
   "source": [
    "Data[Data_vaccine.columns]=Data[Data_vaccine.columns].replace({'Yes':1,'No':0})"
   ]
  },
  {
   "cell_type": "code",
   "execution_count": 74,
   "id": "8708bf0a",
   "metadata": {
    "execution": {
     "iopub.execute_input": "2025-10-15T15:15:56.021438Z",
     "iopub.status.busy": "2025-10-15T15:15:56.021254Z",
     "iopub.status.idle": "2025-10-15T15:15:56.032549Z",
     "shell.execute_reply": "2025-10-15T15:15:56.031985Z"
    }
   },
   "outputs": [
    {
     "data": {
      "text/html": [
       "<div>\n",
       "<style scoped>\n",
       "    .dataframe tbody tr th:only-of-type {\n",
       "        vertical-align: middle;\n",
       "    }\n",
       "\n",
       "    .dataframe tbody tr th {\n",
       "        vertical-align: top;\n",
       "    }\n",
       "\n",
       "    .dataframe thead th {\n",
       "        text-align: right;\n",
       "    }\n",
       "</style>\n",
       "<table border=\"1\" class=\"dataframe\">\n",
       "  <thead>\n",
       "    <tr style=\"text-align: right;\">\n",
       "      <th></th>\n",
       "      <th>ChestScan</th>\n",
       "      <th>HIVTesting</th>\n",
       "      <th>FluVaxLast12</th>\n",
       "      <th>PneumoVaxEver</th>\n",
       "      <th>TetanusLast10Tdap</th>\n",
       "      <th>HighRiskLastYear</th>\n",
       "    </tr>\n",
       "  </thead>\n",
       "  <tbody>\n",
       "    <tr>\n",
       "      <th>0</th>\n",
       "      <td>0</td>\n",
       "      <td>0</td>\n",
       "      <td>1</td>\n",
       "      <td>0</td>\n",
       "      <td>1</td>\n",
       "      <td>0</td>\n",
       "    </tr>\n",
       "    <tr>\n",
       "      <th>1</th>\n",
       "      <td>0</td>\n",
       "      <td>0</td>\n",
       "      <td>0</td>\n",
       "      <td>0</td>\n",
       "      <td>0</td>\n",
       "      <td>0</td>\n",
       "    </tr>\n",
       "    <tr>\n",
       "      <th>3</th>\n",
       "      <td>1</td>\n",
       "      <td>0</td>\n",
       "      <td>1</td>\n",
       "      <td>1</td>\n",
       "      <td>0</td>\n",
       "      <td>0</td>\n",
       "    </tr>\n",
       "    <tr>\n",
       "      <th>4</th>\n",
       "      <td>1</td>\n",
       "      <td>0</td>\n",
       "      <td>0</td>\n",
       "      <td>1</td>\n",
       "      <td>0</td>\n",
       "      <td>0</td>\n",
       "    </tr>\n",
       "    <tr>\n",
       "      <th>5</th>\n",
       "      <td>0</td>\n",
       "      <td>0</td>\n",
       "      <td>0</td>\n",
       "      <td>1</td>\n",
       "      <td>0</td>\n",
       "      <td>0</td>\n",
       "    </tr>\n",
       "    <tr>\n",
       "      <th>...</th>\n",
       "      <td>...</td>\n",
       "      <td>...</td>\n",
       "      <td>...</td>\n",
       "      <td>...</td>\n",
       "      <td>...</td>\n",
       "      <td>...</td>\n",
       "    </tr>\n",
       "    <tr>\n",
       "      <th>445123</th>\n",
       "      <td>0</td>\n",
       "      <td>0</td>\n",
       "      <td>0</td>\n",
       "      <td>0</td>\n",
       "      <td>0</td>\n",
       "      <td>0</td>\n",
       "    </tr>\n",
       "    <tr>\n",
       "      <th>445124</th>\n",
       "      <td>0</td>\n",
       "      <td>1</td>\n",
       "      <td>1</td>\n",
       "      <td>1</td>\n",
       "      <td>1</td>\n",
       "      <td>0</td>\n",
       "    </tr>\n",
       "    <tr>\n",
       "      <th>445128</th>\n",
       "      <td>0</td>\n",
       "      <td>1</td>\n",
       "      <td>1</td>\n",
       "      <td>0</td>\n",
       "      <td>1</td>\n",
       "      <td>0</td>\n",
       "    </tr>\n",
       "    <tr>\n",
       "      <th>445130</th>\n",
       "      <td>1</td>\n",
       "      <td>1</td>\n",
       "      <td>1</td>\n",
       "      <td>1</td>\n",
       "      <td>0</td>\n",
       "      <td>0</td>\n",
       "    </tr>\n",
       "    <tr>\n",
       "      <th>445131</th>\n",
       "      <td>1</td>\n",
       "      <td>0</td>\n",
       "      <td>0</td>\n",
       "      <td>0</td>\n",
       "      <td>1</td>\n",
       "      <td>0</td>\n",
       "    </tr>\n",
       "  </tbody>\n",
       "</table>\n",
       "<p>273614 rows × 6 columns</p>\n",
       "</div>"
      ],
      "text/plain": [
       "        ChestScan  HIVTesting  FluVaxLast12  PneumoVaxEver  TetanusLast10Tdap  \\\n",
       "0               0           0             1              0                  1   \n",
       "1               0           0             0              0                  0   \n",
       "3               1           0             1              1                  0   \n",
       "4               1           0             0              1                  0   \n",
       "5               0           0             0              1                  0   \n",
       "...           ...         ...           ...            ...                ...   \n",
       "445123          0           0             0              0                  0   \n",
       "445124          0           1             1              1                  1   \n",
       "445128          0           1             1              0                  1   \n",
       "445130          1           1             1              1                  0   \n",
       "445131          1           0             0              0                  1   \n",
       "\n",
       "        HighRiskLastYear  \n",
       "0                      0  \n",
       "1                      0  \n",
       "3                      0  \n",
       "4                      0  \n",
       "5                      0  \n",
       "...                  ...  \n",
       "445123                 0  \n",
       "445124                 0  \n",
       "445128                 0  \n",
       "445130                 0  \n",
       "445131                 0  \n",
       "\n",
       "[273614 rows x 6 columns]"
      ]
     },
     "execution_count": 74,
     "metadata": {},
     "output_type": "execute_result"
    }
   ],
   "source": [
    "Data[Data_vaccine.columns]"
   ]
  },
  {
   "cell_type": "markdown",
   "id": "92c7fdd8",
   "metadata": {},
   "source": [
    "###  Step: Cleaning <b>Target Features</b>\n",
    "\n",
    "We reviewed the target columns to ensure completeness and consistency.  \n",
    "Missing values were identified and handled to maintain data reliability.  \n",
    "This step prepares the target variables for accurate model training and evaluation.\n"
   ]
  },
  {
   "cell_type": "code",
   "execution_count": 75,
   "id": "3dd9f7e5",
   "metadata": {
    "execution": {
     "iopub.execute_input": "2025-10-15T15:15:56.034803Z",
     "iopub.status.busy": "2025-10-15T15:15:56.034564Z",
     "iopub.status.idle": "2025-10-15T15:15:56.048824Z",
     "shell.execute_reply": "2025-10-15T15:15:56.048288Z"
    }
   },
   "outputs": [
    {
     "data": {
      "text/html": [
       "<div>\n",
       "<style scoped>\n",
       "    .dataframe tbody tr th:only-of-type {\n",
       "        vertical-align: middle;\n",
       "    }\n",
       "\n",
       "    .dataframe tbody tr th {\n",
       "        vertical-align: top;\n",
       "    }\n",
       "\n",
       "    .dataframe thead th {\n",
       "        text-align: right;\n",
       "    }\n",
       "</style>\n",
       "<table border=\"1\" class=\"dataframe\">\n",
       "  <thead>\n",
       "    <tr style=\"text-align: right;\">\n",
       "      <th></th>\n",
       "      <th>HadHeartAttack</th>\n",
       "      <th>CovidPos</th>\n",
       "    </tr>\n",
       "  </thead>\n",
       "  <tbody>\n",
       "    <tr>\n",
       "      <th>308950</th>\n",
       "      <td>No</td>\n",
       "      <td>Yes</td>\n",
       "    </tr>\n",
       "    <tr>\n",
       "      <th>366667</th>\n",
       "      <td>Yes</td>\n",
       "      <td>No</td>\n",
       "    </tr>\n",
       "    <tr>\n",
       "      <th>95557</th>\n",
       "      <td>No</td>\n",
       "      <td>No</td>\n",
       "    </tr>\n",
       "    <tr>\n",
       "      <th>392937</th>\n",
       "      <td>No</td>\n",
       "      <td>No</td>\n",
       "    </tr>\n",
       "    <tr>\n",
       "      <th>128901</th>\n",
       "      <td>No</td>\n",
       "      <td>No</td>\n",
       "    </tr>\n",
       "  </tbody>\n",
       "</table>\n",
       "</div>"
      ],
      "text/plain": [
       "       HadHeartAttack CovidPos\n",
       "308950             No      Yes\n",
       "366667            Yes       No\n",
       "95557              No       No\n",
       "392937             No       No\n",
       "128901             No       No"
      ]
     },
     "execution_count": 75,
     "metadata": {},
     "output_type": "execute_result"
    }
   ],
   "source": [
    "target.sample(5)"
   ]
  },
  {
   "cell_type": "code",
   "execution_count": 76,
   "id": "7c57b03d",
   "metadata": {
    "execution": {
     "iopub.execute_input": "2025-10-15T15:15:56.050683Z",
     "iopub.status.busy": "2025-10-15T15:15:56.050504Z",
     "iopub.status.idle": "2025-10-15T15:15:56.077376Z",
     "shell.execute_reply": "2025-10-15T15:15:56.076762Z"
    }
   },
   "outputs": [
    {
     "name": "stdout",
     "output_type": "stream",
     "text": [
      "<class 'pandas.core.frame.DataFrame'>\n",
      "RangeIndex: 445132 entries, 0 to 445131\n",
      "Data columns (total 2 columns):\n",
      " #   Column          Non-Null Count   Dtype \n",
      "---  ------          --------------   ----- \n",
      " 0   HadHeartAttack  442067 non-null  object\n",
      " 1   CovidPos        394368 non-null  object\n",
      "dtypes: object(2)\n",
      "memory usage: 6.8+ MB\n"
     ]
    }
   ],
   "source": [
    "target.info()"
   ]
  },
  {
   "cell_type": "code",
   "execution_count": 77,
   "id": "299e14b1",
   "metadata": {
    "execution": {
     "iopub.execute_input": "2025-10-15T15:15:56.079450Z",
     "iopub.status.busy": "2025-10-15T15:15:56.079270Z",
     "iopub.status.idle": "2025-10-15T15:15:56.141358Z",
     "shell.execute_reply": "2025-10-15T15:15:56.140739Z"
    }
   },
   "outputs": [
    {
     "data": {
      "text/html": [
       "<div>\n",
       "<style scoped>\n",
       "    .dataframe tbody tr th:only-of-type {\n",
       "        vertical-align: middle;\n",
       "    }\n",
       "\n",
       "    .dataframe tbody tr th {\n",
       "        vertical-align: top;\n",
       "    }\n",
       "\n",
       "    .dataframe thead th {\n",
       "        text-align: right;\n",
       "    }\n",
       "</style>\n",
       "<table border=\"1\" class=\"dataframe\">\n",
       "  <thead>\n",
       "    <tr style=\"text-align: right;\">\n",
       "      <th></th>\n",
       "      <th>HadHeartAttack</th>\n",
       "      <th>CovidPos</th>\n",
       "    </tr>\n",
       "  </thead>\n",
       "  <tbody>\n",
       "    <tr>\n",
       "      <th>count</th>\n",
       "      <td>442067</td>\n",
       "      <td>394368</td>\n",
       "    </tr>\n",
       "    <tr>\n",
       "      <th>unique</th>\n",
       "      <td>2</td>\n",
       "      <td>3</td>\n",
       "    </tr>\n",
       "    <tr>\n",
       "      <th>top</th>\n",
       "      <td>No</td>\n",
       "      <td>No</td>\n",
       "    </tr>\n",
       "    <tr>\n",
       "      <th>freq</th>\n",
       "      <td>416959</td>\n",
       "      <td>270055</td>\n",
       "    </tr>\n",
       "  </tbody>\n",
       "</table>\n",
       "</div>"
      ],
      "text/plain": [
       "       HadHeartAttack CovidPos\n",
       "count          442067   394368\n",
       "unique              2        3\n",
       "top                No       No\n",
       "freq           416959   270055"
      ]
     },
     "execution_count": 77,
     "metadata": {},
     "output_type": "execute_result"
    }
   ],
   "source": [
    "target.describe()"
   ]
  },
  {
   "cell_type": "code",
   "execution_count": 78,
   "id": "13bf907a",
   "metadata": {
    "execution": {
     "iopub.execute_input": "2025-10-15T15:15:56.143707Z",
     "iopub.status.busy": "2025-10-15T15:15:56.143429Z",
     "iopub.status.idle": "2025-10-15T15:15:56.171002Z",
     "shell.execute_reply": "2025-10-15T15:15:56.170381Z"
    }
   },
   "outputs": [
    {
     "data": {
      "text/plain": [
       "HadHeartAttack     3065\n",
       "CovidPos          50764\n",
       "dtype: int64"
      ]
     },
     "execution_count": 78,
     "metadata": {},
     "output_type": "execute_result"
    }
   ],
   "source": [
    "target.isna().sum()"
   ]
  },
  {
   "cell_type": "code",
   "execution_count": 79,
   "id": "11a92bba",
   "metadata": {
    "execution": {
     "iopub.execute_input": "2025-10-15T15:15:56.173239Z",
     "iopub.status.busy": "2025-10-15T15:15:56.173049Z",
     "iopub.status.idle": "2025-10-15T15:15:56.221408Z",
     "shell.execute_reply": "2025-10-15T15:15:56.220559Z"
    }
   },
   "outputs": [],
   "source": [
    "Data.drop(columns='CovidPos',axis=1,inplace=True)"
   ]
  },
  {
   "cell_type": "code",
   "execution_count": 80,
   "id": "122fc628",
   "metadata": {
    "execution": {
     "iopub.execute_input": "2025-10-15T15:15:56.223637Z",
     "iopub.status.busy": "2025-10-15T15:15:56.223450Z",
     "iopub.status.idle": "2025-10-15T15:15:56.297151Z",
     "shell.execute_reply": "2025-10-15T15:15:56.296523Z"
    }
   },
   "outputs": [],
   "source": [
    "Data.dropna(subset=['HadHeartAttack'], inplace=True)"
   ]
  },
  {
   "cell_type": "code",
   "execution_count": 81,
   "id": "c7d7e0a6",
   "metadata": {
    "execution": {
     "iopub.execute_input": "2025-10-15T15:15:56.299186Z",
     "iopub.status.busy": "2025-10-15T15:15:56.299005Z",
     "iopub.status.idle": "2025-10-15T15:15:56.384811Z",
     "shell.execute_reply": "2025-10-15T15:15:56.384222Z"
    }
   },
   "outputs": [
    {
     "data": {
      "text/plain": [
       "State                        0\n",
       "Sex                          0\n",
       "GeneralHealth                0\n",
       "PhysicalHealthDays           0\n",
       "MentalHealthDays             0\n",
       "LastCheckupTime              0\n",
       "PhysicalActivities           0\n",
       "SleepHours                   0\n",
       "RemovedTeeth                 0\n",
       "HadHeartAttack               0\n",
       "HadAngina                    0\n",
       "HadStroke                    0\n",
       "HadAsthma                    0\n",
       "HadSkinCancer                0\n",
       "HadCOPD                      0\n",
       "HadDepressiveDisorder        0\n",
       "HadKidneyDisease             0\n",
       "HadArthritis                 0\n",
       "HadDiabetes                  0\n",
       "DeafOrHardOfHearing          0\n",
       "BlindOrVisionDifficulty      0\n",
       "DifficultyConcentrating      0\n",
       "DifficultyWalking            0\n",
       "DifficultyDressingBathing    0\n",
       "DifficultyErrands            0\n",
       "SmokerStatus                 0\n",
       "ECigaretteUsage              0\n",
       "ChestScan                    0\n",
       "RaceEthnicityCategory        0\n",
       "AgeCategory                  0\n",
       "HeightInMeters               0\n",
       "WeightInKilograms            0\n",
       "BMI                          0\n",
       "AlcoholDrinkers              0\n",
       "HIVTesting                   0\n",
       "FluVaxLast12                 0\n",
       "PneumoVaxEver                0\n",
       "TetanusLast10Tdap            0\n",
       "HighRiskLastYear             0\n",
       "dtype: int64"
      ]
     },
     "execution_count": 81,
     "metadata": {},
     "output_type": "execute_result"
    }
   ],
   "source": [
    "Data.isna().sum()"
   ]
  },
  {
   "cell_type": "code",
   "execution_count": 82,
   "id": "b56112ea",
   "metadata": {
    "execution": {
     "iopub.execute_input": "2025-10-15T15:15:56.386676Z",
     "iopub.status.busy": "2025-10-15T15:15:56.386497Z",
     "iopub.status.idle": "2025-10-15T15:15:56.389809Z",
     "shell.execute_reply": "2025-10-15T15:15:56.389334Z"
    }
   },
   "outputs": [
    {
     "data": {
      "text/plain": [
       "(273614, 39)"
      ]
     },
     "execution_count": 82,
     "metadata": {},
     "output_type": "execute_result"
    }
   ],
   "source": [
    "Data.shape"
   ]
  },
  {
   "cell_type": "code",
   "execution_count": 83,
   "id": "cfe9a50b",
   "metadata": {
    "execution": {
     "iopub.execute_input": "2025-10-15T15:15:56.391700Z",
     "iopub.status.busy": "2025-10-15T15:15:56.391482Z",
     "iopub.status.idle": "2025-10-15T15:15:56.803165Z",
     "shell.execute_reply": "2025-10-15T15:15:56.802525Z"
    }
   },
   "outputs": [
    {
     "data": {
      "text/plain": [
       "State    Sex     GeneralHealth  PhysicalHealthDays  MentalHealthDays  LastCheckupTime                                          PhysicalActivities  SleepHours  RemovedTeeth            HadHeartAttack  HadAngina  HadStroke  HadAsthma  HadSkinCancer  HadCOPD  HadDepressiveDisorder  HadKidneyDisease  HadArthritis  HadDiabetes  DeafOrHardOfHearing  BlindOrVisionDifficulty  DifficultyConcentrating  DifficultyWalking  DifficultyDressingBathing  DifficultyErrands  SmokerStatus   ECigaretteUsage                            ChestScan  RaceEthnicityCategory     AgeCategory   HeightInMeters  WeightInKilograms  BMI    AlcoholDrinkers  HIVTesting  FluVaxLast12  PneumoVaxEver  TetanusLast10Tdap  HighRiskLastYear\n",
       "Guam     Male    Good           0.0                 0.0               Within past year (anytime less than 12 months ago)       No                  7.0         1 to 5                  0               0          0          0          0              0        0                      0                 0             0            1                    1                        0                        0                  0                          0                  Never smoked   Never used e-cigarettes in my entire life  1          White only, Non-Hispanic  Age 65 to 69  1.83            92.99              27.77  Yes              0           0             0              0                  0                   2\n",
       "Arizona  Female  Excellent      0.0                 0.0               Within past year (anytime less than 12 months ago)       Yes                 7.0         None of them            0               0          0          0          1              0        0                      0                 1             0            0                    0                        0                        0                  0                          0                  Never smoked   Never used e-cigarettes in my entire life  0          White only, Non-Hispanic  Age 75 to 79  1.63            56.70              21.34  Yes              0           1             1              1                  0                   2\n",
       "Kansas   Female  Very good      0.0                 0.0               Within past year (anytime less than 12 months ago)       Yes                 7.0         None of them            0               0          0          0          0              0        0                      0                 0             0            0                    0                        0                        0                  0                          0                  Never smoked   Never used e-cigarettes in my entire life  0          White only, Non-Hispanic  Age 65 to 69  1.68            63.50              22.50  No               0           1             0              1                  0                   2\n",
       "Maine    Female  Very good      0.0                 0.0               Within past year (anytime less than 12 months ago)       Yes                 9.0         6 or more, but not all  0               0          0          0          0              0        0                      0                 0             0            0                    0                        0                        0                  0                          0                  Former smoker  Never used e-cigarettes in my entire life  0          White only, Non-Hispanic  Age 60 to 64  1.50            44.00              19.56  Yes              0           0             0              1                  0                   2\n",
       "         Male    Excellent      0.0                 0.0               Within past year (anytime less than 12 months ago)       Yes                 7.0         None of them            0               0          0          0          0              0        0                      0                 0             0            0                    0                        0                        0                  0                          0                  Never smoked   Never used e-cigarettes in my entire life  0          White only, Non-Hispanic  Age 65 to 69  1.85            79.38              23.19  No               0           1             0              1                  0                   2\n",
       "                                                                                                                                                                                                                                                                                                                                                                                                                                                                                                                                                                                                                                                                                                                                   ..\n",
       "Wyoming  Male    Very good      30.0                0.0               Within past 5 years (2 years but less than 5 years ago)  Yes                 7.0         None of them            0               0          0          0          1              0        0                      0                 1             0            0                    0                        0                        0                  0                          0                  Never smoked   Never used e-cigarettes in my entire life  1          White only, Non-Hispanic  Age 70 to 74  1.83            83.46              24.92  Yes              0           1             1              0                  0                   1\n",
       "                                                                      Within past year (anytime less than 12 months ago)       No                  8.0         None of them            0               0          0          0          0              0        0                      0                 0             0            1                    0                        0                        0                  0                          0                  Never smoked   Never used e-cigarettes in my entire life  1          White only, Non-Hispanic  Age 70 to 74  1.80            106.59             32.90  No               0           1             1              0                  0                   1\n",
       "                                                                                                                               Yes                 6.0         None of them            0               0          0          0          1              0        0                      0                 1             0            0                    0                        0                        0                  0                          0                  Never smoked   Never used e-cigarettes in my entire life  0          White only, Non-Hispanic  Age 65 to 69  1.93            117.03             31.42  No               1           0             0              1                  0                   1\n",
       "                                                                                                                                                   7.0         None of them            0               0          0          0          0              0        0                      0                 0             0            0                    0                        0                        0                  0                          0                  Never smoked   Never used e-cigarettes in my entire life  1          White only, Non-Hispanic  Age 55 to 59  1.85            79.38              23.19  Yes              0           0             0              1                  0                   1\n",
       "Alabama  Female  Excellent      0.0                 0.0               Within past 2 years (1 year but less than 2 years ago)   Yes                 6.0         None of them            0               0          0          0          0              0        0                      0                 0             0            0                    0                        0                        0                  0                          0                  Never smoked   Never used e-cigarettes in my entire life  1          White only, Non-Hispanic  Age 40 to 44  1.60            58.97              23.04  No               0           1             0              1                  0                   1\n",
       "Name: count, Length: 273593, dtype: int64"
      ]
     },
     "metadata": {},
     "output_type": "display_data"
    }
   ],
   "source": [
    "display(Data.value_counts())"
   ]
  },
  {
   "cell_type": "code",
   "execution_count": 84,
   "id": "d7b0eea2",
   "metadata": {
    "execution": {
     "iopub.execute_input": "2025-10-15T15:15:56.805122Z",
     "iopub.status.busy": "2025-10-15T15:15:56.804943Z",
     "iopub.status.idle": "2025-10-15T15:15:59.502864Z",
     "shell.execute_reply": "2025-10-15T15:15:59.502187Z"
    }
   },
   "outputs": [],
   "source": [
    "Data.to_csv('Data_Heart_clean.csv', index=False)"
   ]
  }
 ],
 "metadata": {
  "kernelspec": {
   "display_name": "Python 3",
   "language": "python",
   "name": "python3"
  },
  "language_info": {
   "codemirror_mode": {
    "name": "ipython",
    "version": 3
   },
   "file_extension": ".py",
   "mimetype": "text/x-python",
   "name": "python",
   "nbconvert_exporter": "python",
   "pygments_lexer": "ipython3",
   "version": "3.13.6"
  }
 },
 "nbformat": 4,
 "nbformat_minor": 5
}
