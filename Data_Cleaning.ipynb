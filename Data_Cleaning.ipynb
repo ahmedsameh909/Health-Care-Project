{
 "cells": [
  {
   "cell_type": "markdown",
   "id": "11d73dbb",
   "metadata": {},
   "source": [
    "### <b> Step 1: Importing Required Libraries </b>\n",
    "We import essential Python libraries for data manipulation and visualization:  \n",
    "- **Pandas** for handling datasets.  \n",
    "- **NumPy** for numerical computations.  \n",
    "- **Matplotlib** and **Seaborn** for static data visualizations.  \n",
    "- **Plotly Express** for interactive charts.\n"
   ]
  },
  {
   "cell_type": "code",
   "execution_count": 416,
   "id": "bd96b7de",
   "metadata": {},
   "outputs": [],
   "source": [
    "import pandas as pd\n",
    "import numpy as np\n",
    "import matplotlib.pyplot as plt\n",
    "import seaborn as sns\n",
    "import plotly.express as px\n",
    "import kagglehub\n",
    "import warnings\n",
    "warnings.filterwarnings('ignore')\n",
    "\n",
    "colors = [\"#89CFF0\", \"#FF69B4\", \"#FFD700\", \"#7B68EE\", \"#FF4500\",\n",
    "          \"#9370DB\", \"#32CD32\", \"#8A2BE2\", \"#AE4532\", \"#20B2AA\",\n",
    "          \"#FF69B4\", \"#00CED1\", \"#FF7F50\", \"#7FFF00\", \"#DA70D6\"]"
   ]
  },
  {
   "cell_type": "markdown",
   "id": "cb90761c",
   "metadata": {},
   "source": [
    "### <b> Step2: Downloading the Dataset from Kaggle </b>\n",
    "\n",
    "In this step, we use the **KaggleHub** library to download the dataset directly from Kaggle.  \n",
    "- `kagglehub.dataset_download(\"kamilpytlak/personal-key-indicators-of-heart-disease\")` fetches the dataset titled *\"Personal Key Indicators of Heart Disease\"* from Kaggle and stores it locally.  \n",
    "- The variable `path` stores the local directory path where the dataset files are downloaded.  \n",
    "- `print(\"Path to dataset files:\", path)` displays the location so we can easily access and load the data in the next steps.\n"
   ]
  },
  {
   "cell_type": "code",
   "execution_count": 417,
   "id": "139f8695",
   "metadata": {},
   "outputs": [
    {
     "name": "stdout",
     "output_type": "stream",
     "text": [
      "Path to dataset files: C:\\Users\\Lenovo\\.cache\\kagglehub\\datasets\\kamilpytlak\\personal-key-indicators-of-heart-disease\\versions\\6\n"
     ]
    }
   ],
   "source": [
    "path = kagglehub.dataset_download(\"kamilpytlak/personal-key-indicators-of-heart-disease\")\n",
    "\n",
    "print(\"Path to dataset files:\", path)"
   ]
  },
  {
   "cell_type": "code",
   "execution_count": 418,
   "id": "c4bf181d",
   "metadata": {},
   "outputs": [],
   "source": [
    "Data_path=path+'/2022/heart_2022_with_nans.csv'\n",
    "Data =pd.read_csv(Data_path)"
   ]
  },
  {
   "cell_type": "markdown",
   "id": "276f72ea",
   "metadata": {},
   "source": [
    "### <b> Step 3: Exploring the Dataset </b>\n",
    "We start exploring the dataset to understand its structure and content.  \n",
    "- `Data.info()` → shows data types and missing values.  \n",
    "- `Data.head()` → displays the first few rows.  \n",
    "- `Data.describe()` → gives statistical summaries of numerical columns.\n",
    "- `Data.columns` → to display the names of all columns (features) in the dataset."
   ]
  },
  {
   "cell_type": "code",
   "execution_count": 419,
   "id": "f5cba99d",
   "metadata": {},
   "outputs": [
    {
     "data": {
      "text/html": [
       "<div>\n",
       "<style scoped>\n",
       "    .dataframe tbody tr th:only-of-type {\n",
       "        vertical-align: middle;\n",
       "    }\n",
       "\n",
       "    .dataframe tbody tr th {\n",
       "        vertical-align: top;\n",
       "    }\n",
       "\n",
       "    .dataframe thead th {\n",
       "        text-align: right;\n",
       "    }\n",
       "</style>\n",
       "<table border=\"1\" class=\"dataframe\">\n",
       "  <thead>\n",
       "    <tr style=\"text-align: right;\">\n",
       "      <th></th>\n",
       "      <th>State</th>\n",
       "      <th>Sex</th>\n",
       "      <th>GeneralHealth</th>\n",
       "      <th>PhysicalHealthDays</th>\n",
       "      <th>MentalHealthDays</th>\n",
       "      <th>LastCheckupTime</th>\n",
       "      <th>PhysicalActivities</th>\n",
       "      <th>SleepHours</th>\n",
       "      <th>RemovedTeeth</th>\n",
       "      <th>HadHeartAttack</th>\n",
       "      <th>...</th>\n",
       "      <th>HeightInMeters</th>\n",
       "      <th>WeightInKilograms</th>\n",
       "      <th>BMI</th>\n",
       "      <th>AlcoholDrinkers</th>\n",
       "      <th>HIVTesting</th>\n",
       "      <th>FluVaxLast12</th>\n",
       "      <th>PneumoVaxEver</th>\n",
       "      <th>TetanusLast10Tdap</th>\n",
       "      <th>HighRiskLastYear</th>\n",
       "      <th>CovidPos</th>\n",
       "    </tr>\n",
       "  </thead>\n",
       "  <tbody>\n",
       "    <tr>\n",
       "      <th>0</th>\n",
       "      <td>Alabama</td>\n",
       "      <td>Female</td>\n",
       "      <td>Very good</td>\n",
       "      <td>0.0</td>\n",
       "      <td>0.0</td>\n",
       "      <td>Within past year (anytime less than 12 months ...</td>\n",
       "      <td>No</td>\n",
       "      <td>8.0</td>\n",
       "      <td>NaN</td>\n",
       "      <td>No</td>\n",
       "      <td>...</td>\n",
       "      <td>NaN</td>\n",
       "      <td>NaN</td>\n",
       "      <td>NaN</td>\n",
       "      <td>No</td>\n",
       "      <td>No</td>\n",
       "      <td>Yes</td>\n",
       "      <td>No</td>\n",
       "      <td>Yes, received tetanus shot but not sure what type</td>\n",
       "      <td>No</td>\n",
       "      <td>No</td>\n",
       "    </tr>\n",
       "    <tr>\n",
       "      <th>1</th>\n",
       "      <td>Alabama</td>\n",
       "      <td>Female</td>\n",
       "      <td>Excellent</td>\n",
       "      <td>0.0</td>\n",
       "      <td>0.0</td>\n",
       "      <td>NaN</td>\n",
       "      <td>No</td>\n",
       "      <td>6.0</td>\n",
       "      <td>NaN</td>\n",
       "      <td>No</td>\n",
       "      <td>...</td>\n",
       "      <td>1.60</td>\n",
       "      <td>68.04</td>\n",
       "      <td>26.57</td>\n",
       "      <td>No</td>\n",
       "      <td>No</td>\n",
       "      <td>No</td>\n",
       "      <td>No</td>\n",
       "      <td>No, did not receive any tetanus shot in the pa...</td>\n",
       "      <td>No</td>\n",
       "      <td>No</td>\n",
       "    </tr>\n",
       "    <tr>\n",
       "      <th>2</th>\n",
       "      <td>Alabama</td>\n",
       "      <td>Female</td>\n",
       "      <td>Very good</td>\n",
       "      <td>2.0</td>\n",
       "      <td>3.0</td>\n",
       "      <td>Within past year (anytime less than 12 months ...</td>\n",
       "      <td>Yes</td>\n",
       "      <td>5.0</td>\n",
       "      <td>NaN</td>\n",
       "      <td>No</td>\n",
       "      <td>...</td>\n",
       "      <td>1.57</td>\n",
       "      <td>63.50</td>\n",
       "      <td>25.61</td>\n",
       "      <td>No</td>\n",
       "      <td>No</td>\n",
       "      <td>No</td>\n",
       "      <td>No</td>\n",
       "      <td>NaN</td>\n",
       "      <td>No</td>\n",
       "      <td>Yes</td>\n",
       "    </tr>\n",
       "    <tr>\n",
       "      <th>3</th>\n",
       "      <td>Alabama</td>\n",
       "      <td>Female</td>\n",
       "      <td>Excellent</td>\n",
       "      <td>0.0</td>\n",
       "      <td>0.0</td>\n",
       "      <td>Within past year (anytime less than 12 months ...</td>\n",
       "      <td>Yes</td>\n",
       "      <td>7.0</td>\n",
       "      <td>NaN</td>\n",
       "      <td>No</td>\n",
       "      <td>...</td>\n",
       "      <td>1.65</td>\n",
       "      <td>63.50</td>\n",
       "      <td>23.30</td>\n",
       "      <td>No</td>\n",
       "      <td>No</td>\n",
       "      <td>Yes</td>\n",
       "      <td>Yes</td>\n",
       "      <td>No, did not receive any tetanus shot in the pa...</td>\n",
       "      <td>No</td>\n",
       "      <td>No</td>\n",
       "    </tr>\n",
       "    <tr>\n",
       "      <th>4</th>\n",
       "      <td>Alabama</td>\n",
       "      <td>Female</td>\n",
       "      <td>Fair</td>\n",
       "      <td>2.0</td>\n",
       "      <td>0.0</td>\n",
       "      <td>Within past year (anytime less than 12 months ...</td>\n",
       "      <td>Yes</td>\n",
       "      <td>9.0</td>\n",
       "      <td>NaN</td>\n",
       "      <td>No</td>\n",
       "      <td>...</td>\n",
       "      <td>1.57</td>\n",
       "      <td>53.98</td>\n",
       "      <td>21.77</td>\n",
       "      <td>Yes</td>\n",
       "      <td>No</td>\n",
       "      <td>No</td>\n",
       "      <td>Yes</td>\n",
       "      <td>No, did not receive any tetanus shot in the pa...</td>\n",
       "      <td>No</td>\n",
       "      <td>No</td>\n",
       "    </tr>\n",
       "  </tbody>\n",
       "</table>\n",
       "<p>5 rows × 40 columns</p>\n",
       "</div>"
      ],
      "text/plain": [
       "     State     Sex GeneralHealth  PhysicalHealthDays  MentalHealthDays  \\\n",
       "0  Alabama  Female     Very good                 0.0               0.0   \n",
       "1  Alabama  Female     Excellent                 0.0               0.0   \n",
       "2  Alabama  Female     Very good                 2.0               3.0   \n",
       "3  Alabama  Female     Excellent                 0.0               0.0   \n",
       "4  Alabama  Female          Fair                 2.0               0.0   \n",
       "\n",
       "                                     LastCheckupTime PhysicalActivities  \\\n",
       "0  Within past year (anytime less than 12 months ...                 No   \n",
       "1                                                NaN                 No   \n",
       "2  Within past year (anytime less than 12 months ...                Yes   \n",
       "3  Within past year (anytime less than 12 months ...                Yes   \n",
       "4  Within past year (anytime less than 12 months ...                Yes   \n",
       "\n",
       "   SleepHours RemovedTeeth HadHeartAttack  ... HeightInMeters  \\\n",
       "0         8.0          NaN             No  ...            NaN   \n",
       "1         6.0          NaN             No  ...           1.60   \n",
       "2         5.0          NaN             No  ...           1.57   \n",
       "3         7.0          NaN             No  ...           1.65   \n",
       "4         9.0          NaN             No  ...           1.57   \n",
       "\n",
       "  WeightInKilograms    BMI AlcoholDrinkers HIVTesting FluVaxLast12  \\\n",
       "0               NaN    NaN              No         No          Yes   \n",
       "1             68.04  26.57              No         No           No   \n",
       "2             63.50  25.61              No         No           No   \n",
       "3             63.50  23.30              No         No          Yes   \n",
       "4             53.98  21.77             Yes         No           No   \n",
       "\n",
       "  PneumoVaxEver                                  TetanusLast10Tdap  \\\n",
       "0            No  Yes, received tetanus shot but not sure what type   \n",
       "1            No  No, did not receive any tetanus shot in the pa...   \n",
       "2            No                                                NaN   \n",
       "3           Yes  No, did not receive any tetanus shot in the pa...   \n",
       "4           Yes  No, did not receive any tetanus shot in the pa...   \n",
       "\n",
       "  HighRiskLastYear CovidPos  \n",
       "0               No       No  \n",
       "1               No       No  \n",
       "2               No      Yes  \n",
       "3               No       No  \n",
       "4               No       No  \n",
       "\n",
       "[5 rows x 40 columns]"
      ]
     },
     "execution_count": 419,
     "metadata": {},
     "output_type": "execute_result"
    }
   ],
   "source": [
    "Data.head()"
   ]
  },
  {
   "cell_type": "code",
   "execution_count": 420,
   "id": "0eeab731",
   "metadata": {},
   "outputs": [
    {
     "name": "stdout",
     "output_type": "stream",
     "text": [
      "<class 'pandas.core.frame.DataFrame'>\n",
      "RangeIndex: 445132 entries, 0 to 445131\n",
      "Data columns (total 40 columns):\n",
      " #   Column                     Non-Null Count   Dtype  \n",
      "---  ------                     --------------   -----  \n",
      " 0   State                      445132 non-null  object \n",
      " 1   Sex                        445132 non-null  object \n",
      " 2   GeneralHealth              443934 non-null  object \n",
      " 3   PhysicalHealthDays         434205 non-null  float64\n",
      " 4   MentalHealthDays           436065 non-null  float64\n",
      " 5   LastCheckupTime            436824 non-null  object \n",
      " 6   PhysicalActivities         444039 non-null  object \n",
      " 7   SleepHours                 439679 non-null  float64\n",
      " 8   RemovedTeeth               433772 non-null  object \n",
      " 9   HadHeartAttack             442067 non-null  object \n",
      " 10  HadAngina                  440727 non-null  object \n",
      " 11  HadStroke                  443575 non-null  object \n",
      " 12  HadAsthma                  443359 non-null  object \n",
      " 13  HadSkinCancer              441989 non-null  object \n",
      " 14  HadCOPD                    442913 non-null  object \n",
      " 15  HadDepressiveDisorder      442320 non-null  object \n",
      " 16  HadKidneyDisease           443206 non-null  object \n",
      " 17  HadArthritis               442499 non-null  object \n",
      " 18  HadDiabetes                444045 non-null  object \n",
      " 19  DeafOrHardOfHearing        424485 non-null  object \n",
      " 20  BlindOrVisionDifficulty    423568 non-null  object \n",
      " 21  DifficultyConcentrating    420892 non-null  object \n",
      " 22  DifficultyWalking          421120 non-null  object \n",
      " 23  DifficultyDressingBathing  421217 non-null  object \n",
      " 24  DifficultyErrands          419476 non-null  object \n",
      " 25  SmokerStatus               409670 non-null  object \n",
      " 26  ECigaretteUsage            409472 non-null  object \n",
      " 27  ChestScan                  389086 non-null  object \n",
      " 28  RaceEthnicityCategory      431075 non-null  object \n",
      " 29  AgeCategory                436053 non-null  object \n",
      " 30  HeightInMeters             416480 non-null  float64\n",
      " 31  WeightInKilograms          403054 non-null  float64\n",
      " 32  BMI                        396326 non-null  float64\n",
      " 33  AlcoholDrinkers            398558 non-null  object \n",
      " 34  HIVTesting                 379005 non-null  object \n",
      " 35  FluVaxLast12               398011 non-null  object \n",
      " 36  PneumoVaxEver              368092 non-null  object \n",
      " 37  TetanusLast10Tdap          362616 non-null  object \n",
      " 38  HighRiskLastYear           394509 non-null  object \n",
      " 39  CovidPos                   394368 non-null  object \n",
      "dtypes: float64(6), object(34)\n",
      "memory usage: 135.8+ MB\n"
     ]
    }
   ],
   "source": [
    "Data.info()"
   ]
  },
  {
   "cell_type": "code",
   "execution_count": 421,
   "id": "857a15cf",
   "metadata": {},
   "outputs": [
    {
     "data": {
      "text/html": [
       "<div>\n",
       "<style scoped>\n",
       "    .dataframe tbody tr th:only-of-type {\n",
       "        vertical-align: middle;\n",
       "    }\n",
       "\n",
       "    .dataframe tbody tr th {\n",
       "        vertical-align: top;\n",
       "    }\n",
       "\n",
       "    .dataframe thead th {\n",
       "        text-align: right;\n",
       "    }\n",
       "</style>\n",
       "<table border=\"1\" class=\"dataframe\">\n",
       "  <thead>\n",
       "    <tr style=\"text-align: right;\">\n",
       "      <th></th>\n",
       "      <th>PhysicalHealthDays</th>\n",
       "      <th>MentalHealthDays</th>\n",
       "      <th>SleepHours</th>\n",
       "      <th>HeightInMeters</th>\n",
       "      <th>WeightInKilograms</th>\n",
       "      <th>BMI</th>\n",
       "    </tr>\n",
       "  </thead>\n",
       "  <tbody>\n",
       "    <tr>\n",
       "      <th>count</th>\n",
       "      <td>434205.000000</td>\n",
       "      <td>436065.000000</td>\n",
       "      <td>439679.000000</td>\n",
       "      <td>416480.000000</td>\n",
       "      <td>403054.000000</td>\n",
       "      <td>396326.000000</td>\n",
       "    </tr>\n",
       "    <tr>\n",
       "      <th>mean</th>\n",
       "      <td>4.347919</td>\n",
       "      <td>4.382649</td>\n",
       "      <td>7.022983</td>\n",
       "      <td>1.702691</td>\n",
       "      <td>83.074470</td>\n",
       "      <td>28.529842</td>\n",
       "    </tr>\n",
       "    <tr>\n",
       "      <th>std</th>\n",
       "      <td>8.688912</td>\n",
       "      <td>8.387475</td>\n",
       "      <td>1.502425</td>\n",
       "      <td>0.107177</td>\n",
       "      <td>21.448173</td>\n",
       "      <td>6.554889</td>\n",
       "    </tr>\n",
       "    <tr>\n",
       "      <th>min</th>\n",
       "      <td>0.000000</td>\n",
       "      <td>0.000000</td>\n",
       "      <td>1.000000</td>\n",
       "      <td>0.910000</td>\n",
       "      <td>22.680000</td>\n",
       "      <td>12.020000</td>\n",
       "    </tr>\n",
       "    <tr>\n",
       "      <th>25%</th>\n",
       "      <td>0.000000</td>\n",
       "      <td>0.000000</td>\n",
       "      <td>6.000000</td>\n",
       "      <td>1.630000</td>\n",
       "      <td>68.040000</td>\n",
       "      <td>24.130000</td>\n",
       "    </tr>\n",
       "    <tr>\n",
       "      <th>50%</th>\n",
       "      <td>0.000000</td>\n",
       "      <td>0.000000</td>\n",
       "      <td>7.000000</td>\n",
       "      <td>1.700000</td>\n",
       "      <td>80.740000</td>\n",
       "      <td>27.440000</td>\n",
       "    </tr>\n",
       "    <tr>\n",
       "      <th>75%</th>\n",
       "      <td>3.000000</td>\n",
       "      <td>5.000000</td>\n",
       "      <td>8.000000</td>\n",
       "      <td>1.780000</td>\n",
       "      <td>95.250000</td>\n",
       "      <td>31.750000</td>\n",
       "    </tr>\n",
       "    <tr>\n",
       "      <th>max</th>\n",
       "      <td>30.000000</td>\n",
       "      <td>30.000000</td>\n",
       "      <td>24.000000</td>\n",
       "      <td>2.410000</td>\n",
       "      <td>292.570000</td>\n",
       "      <td>99.640000</td>\n",
       "    </tr>\n",
       "  </tbody>\n",
       "</table>\n",
       "</div>"
      ],
      "text/plain": [
       "       PhysicalHealthDays  MentalHealthDays     SleepHours  HeightInMeters  \\\n",
       "count       434205.000000     436065.000000  439679.000000   416480.000000   \n",
       "mean             4.347919          4.382649       7.022983        1.702691   \n",
       "std              8.688912          8.387475       1.502425        0.107177   \n",
       "min              0.000000          0.000000       1.000000        0.910000   \n",
       "25%              0.000000          0.000000       6.000000        1.630000   \n",
       "50%              0.000000          0.000000       7.000000        1.700000   \n",
       "75%              3.000000          5.000000       8.000000        1.780000   \n",
       "max             30.000000         30.000000      24.000000        2.410000   \n",
       "\n",
       "       WeightInKilograms            BMI  \n",
       "count      403054.000000  396326.000000  \n",
       "mean           83.074470      28.529842  \n",
       "std            21.448173       6.554889  \n",
       "min            22.680000      12.020000  \n",
       "25%            68.040000      24.130000  \n",
       "50%            80.740000      27.440000  \n",
       "75%            95.250000      31.750000  \n",
       "max           292.570000      99.640000  "
      ]
     },
     "execution_count": 421,
     "metadata": {},
     "output_type": "execute_result"
    }
   ],
   "source": [
    "Data.describe()"
   ]
  },
  {
   "cell_type": "code",
   "execution_count": 422,
   "id": "c508588f",
   "metadata": {},
   "outputs": [
    {
     "data": {
      "text/plain": [
       "Index(['State', 'Sex', 'GeneralHealth', 'PhysicalHealthDays',\n",
       "       'MentalHealthDays', 'LastCheckupTime', 'PhysicalActivities',\n",
       "       'SleepHours', 'RemovedTeeth', 'HadHeartAttack', 'HadAngina',\n",
       "       'HadStroke', 'HadAsthma', 'HadSkinCancer', 'HadCOPD',\n",
       "       'HadDepressiveDisorder', 'HadKidneyDisease', 'HadArthritis',\n",
       "       'HadDiabetes', 'DeafOrHardOfHearing', 'BlindOrVisionDifficulty',\n",
       "       'DifficultyConcentrating', 'DifficultyWalking',\n",
       "       'DifficultyDressingBathing', 'DifficultyErrands', 'SmokerStatus',\n",
       "       'ECigaretteUsage', 'ChestScan', 'RaceEthnicityCategory', 'AgeCategory',\n",
       "       'HeightInMeters', 'WeightInKilograms', 'BMI', 'AlcoholDrinkers',\n",
       "       'HIVTesting', 'FluVaxLast12', 'PneumoVaxEver', 'TetanusLast10Tdap',\n",
       "       'HighRiskLastYear', 'CovidPos'],\n",
       "      dtype='object')"
      ]
     },
     "execution_count": 422,
     "metadata": {},
     "output_type": "execute_result"
    }
   ],
   "source": [
    "Data.columns"
   ]
  },
  {
   "cell_type": "code",
   "execution_count": 423,
   "id": "ef173b30",
   "metadata": {},
   "outputs": [
    {
     "data": {
      "text/plain": [
       "State                            0\n",
       "Sex                              0\n",
       "GeneralHealth                 1198\n",
       "PhysicalHealthDays           10927\n",
       "MentalHealthDays              9067\n",
       "LastCheckupTime               8308\n",
       "PhysicalActivities            1093\n",
       "SleepHours                    5453\n",
       "RemovedTeeth                 11360\n",
       "HadHeartAttack                3065\n",
       "HadAngina                     4405\n",
       "HadStroke                     1557\n",
       "HadAsthma                     1773\n",
       "HadSkinCancer                 3143\n",
       "HadCOPD                       2219\n",
       "HadDepressiveDisorder         2812\n",
       "HadKidneyDisease              1926\n",
       "HadArthritis                  2633\n",
       "HadDiabetes                   1087\n",
       "DeafOrHardOfHearing          20647\n",
       "BlindOrVisionDifficulty      21564\n",
       "DifficultyConcentrating      24240\n",
       "DifficultyWalking            24012\n",
       "DifficultyDressingBathing    23915\n",
       "DifficultyErrands            25656\n",
       "SmokerStatus                 35462\n",
       "ECigaretteUsage              35660\n",
       "ChestScan                    56046\n",
       "RaceEthnicityCategory        14057\n",
       "AgeCategory                   9079\n",
       "HeightInMeters               28652\n",
       "WeightInKilograms            42078\n",
       "BMI                          48806\n",
       "AlcoholDrinkers              46574\n",
       "HIVTesting                   66127\n",
       "FluVaxLast12                 47121\n",
       "PneumoVaxEver                77040\n",
       "TetanusLast10Tdap            82516\n",
       "HighRiskLastYear             50623\n",
       "CovidPos                     50764\n",
       "dtype: int64"
      ]
     },
     "execution_count": 423,
     "metadata": {},
     "output_type": "execute_result"
    }
   ],
   "source": [
    "Data.isna().sum()"
   ]
  },
  {
   "cell_type": "markdown",
   "id": "13451912",
   "metadata": {},
   "source": [
    "###  <b>Step 4: Splitting the Dataset into Logical Feature Groups</b>\n",
    "\n",
    "In this step, we organize the dataset into multiple smaller DataFrames based on feature categories.  \n",
    "This makes the analysis, cleaning, and visualization process more structured and manageable, especially since the dataset has many columns.\n",
    "\n",
    "- **`Data_Demographics`** →\n",
    "  *These features describe personal and social background.*\n",
    "\n",
    "- **`Data_lifestyle`** →\n",
    "  *Used to study how daily habits affect health risks.*\n",
    "\n",
    "- **`Data_general`** → \n",
    "  *Helps understand overall well-being and recent checkup frequency.*\n",
    "\n",
    "- **`Data_disease`** → \n",
    "  *These columns will be key predictors for heart disease risk.*\n",
    "\n",
    "- **`Data_disability`** → \n",
    "  *Represents functional limitations that may correlate with health status.*\n",
    "\n",
    "- **`Data_body`** → \n",
    "  *Useful for identifying patterns related to obesity or general physical condition.*\n",
    "\n",
    "- **`Data_vaccine`** →  *May help assess preventive healthcare behavior.*\n",
    "\n",
    "- **`target`** →  *These are the outcomes that predictive models can be trained on later.*\n",
    "\n",
    "<b> Overall, this segmentation improves clarity, reduces complexity, and prepares the dataset for focused EDA and modeling. </b>\n"
   ]
  },
  {
   "cell_type": "code",
   "execution_count": 424,
   "id": "b1d5a648",
   "metadata": {},
   "outputs": [],
   "source": [
    "Data_Demographics=Data[['State','Sex','RaceEthnicityCategory','AgeCategory']]\n",
    "Data_lifestyle = Data[['PhysicalActivities', 'SleepHours', 'SmokerStatus', 'AlcoholDrinkers', 'ECigaretteUsage']]\n",
    "Data_general = Data[['GeneralHealth', 'PhysicalHealthDays', 'MentalHealthDays', 'LastCheckupTime']]\n",
    "Data_disease = Data[['HadHeartAttack','HadAngina','HadStroke','HadAsthma','HadSkinCancer','HadCOPD','HadDepressiveDisorder','HadKidneyDisease','HadArthritis','HadDiabetes']]\n",
    "Data_disability = Data[['DeafOrHardOfHearing','BlindOrVisionDifficulty','DifficultyConcentrating','DifficultyWalking','DifficultyDressingBathing','DifficultyErrands']]\n",
    "Data_body = Data[['HeightInMeters','WeightInKilograms','BMI','RemovedTeeth']]\n",
    "Data_vaccine = Data[['ChestScan','HIVTesting','FluVaxLast12','PneumoVaxEver','TetanusLast10Tdap','HighRiskLastYear']]\n",
    "target = Data[['HadHeartAttack','CovidPos']]"
   ]
  },
  {
   "cell_type": "markdown",
   "id": "cebf0f1f",
   "metadata": {},
   "source": [
    "### <b> Detecting Outliers Using IQR </b>\n",
    "\n",
    "This function identifies outliers in a numeric column using the **Interquartile Range (IQR)** method.\n",
    "\n",
    "- Calculates the **25th percentile (Q1)** and **75th percentile (Q3)**.  \n",
    "- Computes the **IQR** as Q3 − Q1.  \n",
    "- Defines outliers as values below Q1 − 1.5×IQR or above Q3 + 1.5×IQR.  \n",
    "- Returns only the rows containing these outlier values.\n",
    "\n",
    "**Purpose:**  \n",
    "<b>To detect extreme values that may distort analysis or modeling results.</b>\n"
   ]
  },
  {
   "cell_type": "code",
   "execution_count": 425,
   "id": "12dcab9d",
   "metadata": {},
   "outputs": [],
   "source": [
    "def detect_outliers(df, column):\n",
    "    \"\"\"\n",
    "    Detect outliers in a specific column using the IQR method.\n",
    "    Returns only the rows that contain outliers.\n",
    "    \"\"\"\n",
    "    Q1 = df[column].quantile(0.25)\n",
    "    Q3 = df[column].quantile(0.75)\n",
    "    IQR = Q3 - Q1\n",
    "    lower_bound = Q1 - 1.5 * IQR\n",
    "    upper_bound = Q3 + 1.5 * IQR\n",
    "    outliers = df[(df[column] < lower_bound) | (df[column] > upper_bound)]\n",
    "    return outliers"
   ]
  },
  {
   "cell_type": "markdown",
   "id": "07b9cf1e",
   "metadata": {},
   "source": [
    "### <b> Imputing Missing Values Using Distribution </b>\n",
    "\n",
    "This function fills missing values in a column while preserving the original distribution of categories.  \n",
    "\n",
    "- It first identifies missing entries in the specified column.  \n",
    "- If there are no missing values, it returns the column unchanged.  \n",
    "- Otherwise, it calculates the relative frequency (probability) of each category.  \n",
    "- Missing values are then randomly assigned based on these probabilities, ensuring the distribution remains consistent.  \n",
    "\n",
    "**Purpose:**  \n",
    "<b>To handle missing categorical data without distorting the dataset’s natural proportions. </b>"
   ]
  },
  {
   "cell_type": "code",
   "execution_count": 426,
   "id": "0eb9e396",
   "metadata": {},
   "outputs": [],
   "source": [
    "def fill_column_by_distribution(df, col_name):\n",
    "    column = df[col_name]\n",
    "    mask = column.isna()\n",
    "    \n",
    "    if mask.sum() == 0:\n",
    "        return column\n",
    "    \n",
    "    probs = column.value_counts(normalize=True)\n",
    "    categories = probs.index\n",
    "    weights = probs.values\n",
    "    \n",
    "    column.loc[mask] = np.random.choice(categories, size=mask.sum(), p=weights)\n",
    "    return column\n"
   ]
  },
  {
   "cell_type": "markdown",
   "id": "90b13084",
   "metadata": {},
   "source": [
    "### Step: Cleaning <b>Demographic Data</b>\n",
    "\n",
    "We checked the demographic features for missing values and inconsistencies.  \n",
    "Missing `RaceEthnicityCategory` values were replaced with the most frequent category.  \n",
    "Missing `AgeCategory` values were filled while keeping the original distribution.  \n",
    "<b> Now, the demographic data is complete, consistent, and ready for analysis.</b>\n"
   ]
  },
  {
   "cell_type": "code",
   "execution_count": 427,
   "id": "2e4a0eb7",
   "metadata": {},
   "outputs": [
    {
     "data": {
      "text/html": [
       "<div>\n",
       "<style scoped>\n",
       "    .dataframe tbody tr th:only-of-type {\n",
       "        vertical-align: middle;\n",
       "    }\n",
       "\n",
       "    .dataframe tbody tr th {\n",
       "        vertical-align: top;\n",
       "    }\n",
       "\n",
       "    .dataframe thead th {\n",
       "        text-align: right;\n",
       "    }\n",
       "</style>\n",
       "<table border=\"1\" class=\"dataframe\">\n",
       "  <thead>\n",
       "    <tr style=\"text-align: right;\">\n",
       "      <th></th>\n",
       "      <th>State</th>\n",
       "      <th>Sex</th>\n",
       "      <th>RaceEthnicityCategory</th>\n",
       "      <th>AgeCategory</th>\n",
       "    </tr>\n",
       "  </thead>\n",
       "  <tbody>\n",
       "    <tr>\n",
       "      <th>3201</th>\n",
       "      <td>Alabama</td>\n",
       "      <td>Male</td>\n",
       "      <td>White only, Non-Hispanic</td>\n",
       "      <td>Age 25 to 29</td>\n",
       "    </tr>\n",
       "    <tr>\n",
       "      <th>271513</th>\n",
       "      <td>New York</td>\n",
       "      <td>Male</td>\n",
       "      <td>White only, Non-Hispanic</td>\n",
       "      <td>Age 18 to 24</td>\n",
       "    </tr>\n",
       "    <tr>\n",
       "      <th>94915</th>\n",
       "      <td>Idaho</td>\n",
       "      <td>Male</td>\n",
       "      <td>White only, Non-Hispanic</td>\n",
       "      <td>Age 65 to 69</td>\n",
       "    </tr>\n",
       "    <tr>\n",
       "      <th>16666</th>\n",
       "      <td>Arizona</td>\n",
       "      <td>Male</td>\n",
       "      <td>White only, Non-Hispanic</td>\n",
       "      <td>Age 60 to 64</td>\n",
       "    </tr>\n",
       "    <tr>\n",
       "      <th>111321</th>\n",
       "      <td>Indiana</td>\n",
       "      <td>Female</td>\n",
       "      <td>White only, Non-Hispanic</td>\n",
       "      <td>Age 50 to 54</td>\n",
       "    </tr>\n",
       "  </tbody>\n",
       "</table>\n",
       "</div>"
      ],
      "text/plain": [
       "           State     Sex     RaceEthnicityCategory   AgeCategory\n",
       "3201     Alabama    Male  White only, Non-Hispanic  Age 25 to 29\n",
       "271513  New York    Male  White only, Non-Hispanic  Age 18 to 24\n",
       "94915      Idaho    Male  White only, Non-Hispanic  Age 65 to 69\n",
       "16666    Arizona    Male  White only, Non-Hispanic  Age 60 to 64\n",
       "111321   Indiana  Female  White only, Non-Hispanic  Age 50 to 54"
      ]
     },
     "execution_count": 427,
     "metadata": {},
     "output_type": "execute_result"
    }
   ],
   "source": [
    "Data_Demographics.sample(5)"
   ]
  },
  {
   "cell_type": "code",
   "execution_count": 428,
   "id": "c6850ea0",
   "metadata": {},
   "outputs": [
    {
     "name": "stdout",
     "output_type": "stream",
     "text": [
      "<class 'pandas.core.frame.DataFrame'>\n",
      "RangeIndex: 445132 entries, 0 to 445131\n",
      "Data columns (total 4 columns):\n",
      " #   Column                 Non-Null Count   Dtype \n",
      "---  ------                 --------------   ----- \n",
      " 0   State                  445132 non-null  object\n",
      " 1   Sex                    445132 non-null  object\n",
      " 2   RaceEthnicityCategory  431075 non-null  object\n",
      " 3   AgeCategory            436053 non-null  object\n",
      "dtypes: object(4)\n",
      "memory usage: 13.6+ MB\n"
     ]
    }
   ],
   "source": [
    "Data_Demographics.info()"
   ]
  },
  {
   "cell_type": "code",
   "execution_count": 429,
   "id": "5ab51faa",
   "metadata": {},
   "outputs": [
    {
     "data": {
      "text/html": [
       "<div>\n",
       "<style scoped>\n",
       "    .dataframe tbody tr th:only-of-type {\n",
       "        vertical-align: middle;\n",
       "    }\n",
       "\n",
       "    .dataframe tbody tr th {\n",
       "        vertical-align: top;\n",
       "    }\n",
       "\n",
       "    .dataframe thead th {\n",
       "        text-align: right;\n",
       "    }\n",
       "</style>\n",
       "<table border=\"1\" class=\"dataframe\">\n",
       "  <thead>\n",
       "    <tr style=\"text-align: right;\">\n",
       "      <th></th>\n",
       "      <th>State</th>\n",
       "      <th>Sex</th>\n",
       "      <th>RaceEthnicityCategory</th>\n",
       "      <th>AgeCategory</th>\n",
       "    </tr>\n",
       "  </thead>\n",
       "  <tbody>\n",
       "    <tr>\n",
       "      <th>count</th>\n",
       "      <td>445132</td>\n",
       "      <td>445132</td>\n",
       "      <td>431075</td>\n",
       "      <td>436053</td>\n",
       "    </tr>\n",
       "    <tr>\n",
       "      <th>unique</th>\n",
       "      <td>54</td>\n",
       "      <td>2</td>\n",
       "      <td>5</td>\n",
       "      <td>13</td>\n",
       "    </tr>\n",
       "    <tr>\n",
       "      <th>top</th>\n",
       "      <td>Washington</td>\n",
       "      <td>Female</td>\n",
       "      <td>White only, Non-Hispanic</td>\n",
       "      <td>Age 65 to 69</td>\n",
       "    </tr>\n",
       "    <tr>\n",
       "      <th>freq</th>\n",
       "      <td>26152</td>\n",
       "      <td>235893</td>\n",
       "      <td>320421</td>\n",
       "      <td>47099</td>\n",
       "    </tr>\n",
       "  </tbody>\n",
       "</table>\n",
       "</div>"
      ],
      "text/plain": [
       "             State     Sex     RaceEthnicityCategory   AgeCategory\n",
       "count       445132  445132                    431075        436053\n",
       "unique          54       2                         5            13\n",
       "top     Washington  Female  White only, Non-Hispanic  Age 65 to 69\n",
       "freq         26152  235893                    320421         47099"
      ]
     },
     "execution_count": 429,
     "metadata": {},
     "output_type": "execute_result"
    }
   ],
   "source": [
    "Data_Demographics.describe()"
   ]
  },
  {
   "cell_type": "code",
   "execution_count": 430,
   "id": "5249b316",
   "metadata": {},
   "outputs": [
    {
     "data": {
      "text/plain": [
       "State                        0\n",
       "Sex                          0\n",
       "RaceEthnicityCategory    14057\n",
       "AgeCategory               9079\n",
       "dtype: int64"
      ]
     },
     "execution_count": 430,
     "metadata": {},
     "output_type": "execute_result"
    }
   ],
   "source": [
    "Data_Demographics.isna().sum()"
   ]
  },
  {
   "cell_type": "code",
   "execution_count": 431,
   "id": "aaf220dd",
   "metadata": {},
   "outputs": [],
   "source": [
    "Data['RaceEthnicityCategory'].fillna(Data['RaceEthnicityCategory'].mode()[0], inplace=True)"
   ]
  },
  {
   "cell_type": "code",
   "execution_count": 432,
   "id": "b712ca50",
   "metadata": {},
   "outputs": [
    {
     "data": {
      "text/plain": [
       "AgeCategory\n",
       "Age 65 to 69       0.108012\n",
       "Age 60 to 64       0.102077\n",
       "Age 70 to 74       0.099694\n",
       "Age 55 to 59       0.084442\n",
       "Age 80 or older    0.083134\n",
       "Age 50 to 54       0.077156\n",
       "Age 75 to 79       0.074574\n",
       "Age 40 to 44       0.068666\n",
       "Age 45 to 49       0.065430\n",
       "Age 35 to 39       0.065419\n",
       "Age 18 to 24       0.061784\n",
       "Age 30 to 34       0.059183\n",
       "Age 25 to 29       0.050430\n",
       "Name: proportion, dtype: float64"
      ]
     },
     "execution_count": 432,
     "metadata": {},
     "output_type": "execute_result"
    }
   ],
   "source": [
    "probs=Data['AgeCategory'].value_counts(normalize=True)\n",
    "probs"
   ]
  },
  {
   "cell_type": "code",
   "execution_count": 433,
   "id": "2906a11a",
   "metadata": {},
   "outputs": [
    {
     "data": {
      "text/plain": [
       "0         Age 80 or older\n",
       "1         Age 80 or older\n",
       "2            Age 55 to 59\n",
       "3            Age 35 to 39\n",
       "4            Age 40 to 44\n",
       "               ...       \n",
       "445127       Age 18 to 24\n",
       "445128       Age 50 to 54\n",
       "445129       Age 65 to 69\n",
       "445130       Age 70 to 74\n",
       "445131       Age 40 to 44\n",
       "Name: AgeCategory, Length: 445132, dtype: object"
      ]
     },
     "execution_count": 433,
     "metadata": {},
     "output_type": "execute_result"
    }
   ],
   "source": [
    "fill_column_by_distribution(Data,'AgeCategory')"
   ]
  },
  {
   "cell_type": "code",
   "execution_count": 434,
   "id": "b87c2c27",
   "metadata": {},
   "outputs": [
    {
     "data": {
      "text/plain": [
       "AgeCategory              0\n",
       "RaceEthnicityCategory    0\n",
       "dtype: int64"
      ]
     },
     "execution_count": 434,
     "metadata": {},
     "output_type": "execute_result"
    }
   ],
   "source": [
    "Data[['AgeCategory','RaceEthnicityCategory']].isna().sum()"
   ]
  },
  {
   "cell_type": "markdown",
   "id": "e77217f1",
   "metadata": {},
   "source": [
    "### Step: Cleaning <b>Lifestyle Data</b>\n",
    "\n",
    "In this step, we focused on ensuring the lifestyle-related features are complete and accurate.  \n",
    "We started by checking the dataset for missing values and inspecting the overall structure.  \n",
    "Rows with missing entries in key columns such as `PhysicalActivities`, `SleepHours`, `SmokerStatus`, `AlcoholDrinkers`, and `ECigaretteUsage` were removed to maintain data integrity.  \n",
    "Next, we identified extreme values in `SleepHours` using the <b>IQR method</b> and removed these outliers to avoid skewing the analysis.  \n",
    "After these steps, the `Data_lifestyle` dataset is clean, consistent, and ready for exploration, visualization, and further analysis.\n"
   ]
  },
  {
   "cell_type": "code",
   "execution_count": 435,
   "id": "1828e72d",
   "metadata": {},
   "outputs": [
    {
     "data": {
      "text/html": [
       "<div>\n",
       "<style scoped>\n",
       "    .dataframe tbody tr th:only-of-type {\n",
       "        vertical-align: middle;\n",
       "    }\n",
       "\n",
       "    .dataframe tbody tr th {\n",
       "        vertical-align: top;\n",
       "    }\n",
       "\n",
       "    .dataframe thead th {\n",
       "        text-align: right;\n",
       "    }\n",
       "</style>\n",
       "<table border=\"1\" class=\"dataframe\">\n",
       "  <thead>\n",
       "    <tr style=\"text-align: right;\">\n",
       "      <th></th>\n",
       "      <th>PhysicalActivities</th>\n",
       "      <th>SleepHours</th>\n",
       "      <th>SmokerStatus</th>\n",
       "      <th>AlcoholDrinkers</th>\n",
       "      <th>ECigaretteUsage</th>\n",
       "    </tr>\n",
       "  </thead>\n",
       "  <tbody>\n",
       "    <tr>\n",
       "      <th>377429</th>\n",
       "      <td>Yes</td>\n",
       "      <td>6.0</td>\n",
       "      <td>Never smoked</td>\n",
       "      <td>Yes</td>\n",
       "      <td>Not at all (right now)</td>\n",
       "    </tr>\n",
       "    <tr>\n",
       "      <th>401898</th>\n",
       "      <td>Yes</td>\n",
       "      <td>7.0</td>\n",
       "      <td>Never smoked</td>\n",
       "      <td>Yes</td>\n",
       "      <td>Never used e-cigarettes in my entire life</td>\n",
       "    </tr>\n",
       "    <tr>\n",
       "      <th>254250</th>\n",
       "      <td>Yes</td>\n",
       "      <td>5.0</td>\n",
       "      <td>Former smoker</td>\n",
       "      <td>No</td>\n",
       "      <td>Never used e-cigarettes in my entire life</td>\n",
       "    </tr>\n",
       "    <tr>\n",
       "      <th>152539</th>\n",
       "      <td>Yes</td>\n",
       "      <td>8.0</td>\n",
       "      <td>Never smoked</td>\n",
       "      <td>No</td>\n",
       "      <td>Never used e-cigarettes in my entire life</td>\n",
       "    </tr>\n",
       "    <tr>\n",
       "      <th>35502</th>\n",
       "      <td>Yes</td>\n",
       "      <td>6.0</td>\n",
       "      <td>Never smoked</td>\n",
       "      <td>Yes</td>\n",
       "      <td>Not at all (right now)</td>\n",
       "    </tr>\n",
       "  </tbody>\n",
       "</table>\n",
       "</div>"
      ],
      "text/plain": [
       "       PhysicalActivities  SleepHours   SmokerStatus AlcoholDrinkers  \\\n",
       "377429                Yes         6.0   Never smoked             Yes   \n",
       "401898                Yes         7.0   Never smoked             Yes   \n",
       "254250                Yes         5.0  Former smoker              No   \n",
       "152539                Yes         8.0   Never smoked              No   \n",
       "35502                 Yes         6.0   Never smoked             Yes   \n",
       "\n",
       "                                  ECigaretteUsage  \n",
       "377429                     Not at all (right now)  \n",
       "401898  Never used e-cigarettes in my entire life  \n",
       "254250  Never used e-cigarettes in my entire life  \n",
       "152539  Never used e-cigarettes in my entire life  \n",
       "35502                      Not at all (right now)  "
      ]
     },
     "execution_count": 435,
     "metadata": {},
     "output_type": "execute_result"
    }
   ],
   "source": [
    "Data_lifestyle.sample(5)"
   ]
  },
  {
   "cell_type": "code",
   "execution_count": 436,
   "id": "8a2f2093",
   "metadata": {},
   "outputs": [
    {
     "name": "stdout",
     "output_type": "stream",
     "text": [
      "<class 'pandas.core.frame.DataFrame'>\n",
      "RangeIndex: 445132 entries, 0 to 445131\n",
      "Data columns (total 5 columns):\n",
      " #   Column              Non-Null Count   Dtype  \n",
      "---  ------              --------------   -----  \n",
      " 0   PhysicalActivities  444039 non-null  object \n",
      " 1   SleepHours          439679 non-null  float64\n",
      " 2   SmokerStatus        409670 non-null  object \n",
      " 3   AlcoholDrinkers     398558 non-null  object \n",
      " 4   ECigaretteUsage     409472 non-null  object \n",
      "dtypes: float64(1), object(4)\n",
      "memory usage: 17.0+ MB\n"
     ]
    }
   ],
   "source": [
    "Data_lifestyle.info()"
   ]
  },
  {
   "cell_type": "code",
   "execution_count": 437,
   "id": "9a7cb951",
   "metadata": {},
   "outputs": [
    {
     "data": {
      "text/html": [
       "<div>\n",
       "<style scoped>\n",
       "    .dataframe tbody tr th:only-of-type {\n",
       "        vertical-align: middle;\n",
       "    }\n",
       "\n",
       "    .dataframe tbody tr th {\n",
       "        vertical-align: top;\n",
       "    }\n",
       "\n",
       "    .dataframe thead th {\n",
       "        text-align: right;\n",
       "    }\n",
       "</style>\n",
       "<table border=\"1\" class=\"dataframe\">\n",
       "  <thead>\n",
       "    <tr style=\"text-align: right;\">\n",
       "      <th></th>\n",
       "      <th>PhysicalActivities</th>\n",
       "      <th>SmokerStatus</th>\n",
       "      <th>AlcoholDrinkers</th>\n",
       "      <th>ECigaretteUsage</th>\n",
       "    </tr>\n",
       "  </thead>\n",
       "  <tbody>\n",
       "    <tr>\n",
       "      <th>count</th>\n",
       "      <td>444039</td>\n",
       "      <td>409670</td>\n",
       "      <td>398558</td>\n",
       "      <td>409472</td>\n",
       "    </tr>\n",
       "    <tr>\n",
       "      <th>unique</th>\n",
       "      <td>2</td>\n",
       "      <td>4</td>\n",
       "      <td>2</td>\n",
       "      <td>4</td>\n",
       "    </tr>\n",
       "    <tr>\n",
       "      <th>top</th>\n",
       "      <td>Yes</td>\n",
       "      <td>Never smoked</td>\n",
       "      <td>Yes</td>\n",
       "      <td>Never used e-cigarettes in my entire life</td>\n",
       "    </tr>\n",
       "    <tr>\n",
       "      <th>freq</th>\n",
       "      <td>337559</td>\n",
       "      <td>245955</td>\n",
       "      <td>210891</td>\n",
       "      <td>311988</td>\n",
       "    </tr>\n",
       "  </tbody>\n",
       "</table>\n",
       "</div>"
      ],
      "text/plain": [
       "       PhysicalActivities  SmokerStatus AlcoholDrinkers  \\\n",
       "count              444039        409670          398558   \n",
       "unique                  2             4               2   \n",
       "top                   Yes  Never smoked             Yes   \n",
       "freq               337559        245955          210891   \n",
       "\n",
       "                                  ECigaretteUsage  \n",
       "count                                      409472  \n",
       "unique                                          4  \n",
       "top     Never used e-cigarettes in my entire life  \n",
       "freq                                       311988  "
      ]
     },
     "metadata": {},
     "output_type": "display_data"
    },
    {
     "data": {
      "text/html": [
       "<div>\n",
       "<style scoped>\n",
       "    .dataframe tbody tr th:only-of-type {\n",
       "        vertical-align: middle;\n",
       "    }\n",
       "\n",
       "    .dataframe tbody tr th {\n",
       "        vertical-align: top;\n",
       "    }\n",
       "\n",
       "    .dataframe thead th {\n",
       "        text-align: right;\n",
       "    }\n",
       "</style>\n",
       "<table border=\"1\" class=\"dataframe\">\n",
       "  <thead>\n",
       "    <tr style=\"text-align: right;\">\n",
       "      <th></th>\n",
       "      <th>SleepHours</th>\n",
       "    </tr>\n",
       "  </thead>\n",
       "  <tbody>\n",
       "    <tr>\n",
       "      <th>count</th>\n",
       "      <td>439679.000000</td>\n",
       "    </tr>\n",
       "    <tr>\n",
       "      <th>mean</th>\n",
       "      <td>7.022983</td>\n",
       "    </tr>\n",
       "    <tr>\n",
       "      <th>std</th>\n",
       "      <td>1.502425</td>\n",
       "    </tr>\n",
       "    <tr>\n",
       "      <th>min</th>\n",
       "      <td>1.000000</td>\n",
       "    </tr>\n",
       "    <tr>\n",
       "      <th>25%</th>\n",
       "      <td>6.000000</td>\n",
       "    </tr>\n",
       "    <tr>\n",
       "      <th>50%</th>\n",
       "      <td>7.000000</td>\n",
       "    </tr>\n",
       "    <tr>\n",
       "      <th>75%</th>\n",
       "      <td>8.000000</td>\n",
       "    </tr>\n",
       "    <tr>\n",
       "      <th>max</th>\n",
       "      <td>24.000000</td>\n",
       "    </tr>\n",
       "  </tbody>\n",
       "</table>\n",
       "</div>"
      ],
      "text/plain": [
       "          SleepHours\n",
       "count  439679.000000\n",
       "mean        7.022983\n",
       "std         1.502425\n",
       "min         1.000000\n",
       "25%         6.000000\n",
       "50%         7.000000\n",
       "75%         8.000000\n",
       "max        24.000000"
      ]
     },
     "metadata": {},
     "output_type": "display_data"
    }
   ],
   "source": [
    "display(Data_lifestyle.describe(include=object),Data_lifestyle.describe())"
   ]
  },
  {
   "cell_type": "code",
   "execution_count": 438,
   "id": "a287ae65",
   "metadata": {},
   "outputs": [
    {
     "data": {
      "text/plain": [
       "PhysicalActivities     1093\n",
       "SleepHours             5453\n",
       "SmokerStatus          35462\n",
       "AlcoholDrinkers       46574\n",
       "ECigaretteUsage       35660\n",
       "dtype: int64"
      ]
     },
     "execution_count": 438,
     "metadata": {},
     "output_type": "execute_result"
    }
   ],
   "source": [
    "Data_lifestyle.isna().sum()"
   ]
  },
  {
   "cell_type": "code",
   "execution_count": 439,
   "id": "9d2d8212",
   "metadata": {},
   "outputs": [],
   "source": [
    "Data.dropna(subset=['PhysicalActivities','SleepHours','SmokerStatus','AlcoholDrinkers','ECigaretteUsage'],inplace=True)"
   ]
  },
  {
   "cell_type": "code",
   "execution_count": 440,
   "id": "a66d6114",
   "metadata": {},
   "outputs": [
    {
     "data": {
      "text/plain": [
       "SleepHours            0\n",
       "PhysicalActivities    0\n",
       "SmokerStatus          0\n",
       "AlcoholDrinkers       0\n",
       "ECigaretteUsage       0\n",
       "dtype: int64"
      ]
     },
     "execution_count": 440,
     "metadata": {},
     "output_type": "execute_result"
    }
   ],
   "source": [
    "Data[['SleepHours','PhysicalActivities','SmokerStatus','AlcoholDrinkers','ECigaretteUsage']].isna().sum()"
   ]
  },
  {
   "cell_type": "code",
   "execution_count": 441,
   "id": "12984744",
   "metadata": {},
   "outputs": [],
   "source": [
    "outliers = detect_outliers(Data, 'SleepHours')\n",
    "Data = Data.drop(outliers.index)"
   ]
  },
  {
   "cell_type": "markdown",
   "id": "5f6dff15",
   "metadata": {},
   "source": [
    "### Step: Cleaning <b>General Health Features</b>\n",
    "\n",
    "We reviewed the general health data for completeness and accuracy.  \n",
    "Missing values in `LastCheckupTime` were replaced with the most common category.  \n",
    "Missing entries in `GeneralHealth` were filled using probability-based sampling to maintain the original distribution.  \n",
    "The dataset is now clean, consistent, and ready for further analysis.\n"
   ]
  },
  {
   "cell_type": "code",
   "execution_count": 442,
   "id": "df7e517b",
   "metadata": {},
   "outputs": [
    {
     "data": {
      "text/html": [
       "<div>\n",
       "<style scoped>\n",
       "    .dataframe tbody tr th:only-of-type {\n",
       "        vertical-align: middle;\n",
       "    }\n",
       "\n",
       "    .dataframe tbody tr th {\n",
       "        vertical-align: top;\n",
       "    }\n",
       "\n",
       "    .dataframe thead th {\n",
       "        text-align: right;\n",
       "    }\n",
       "</style>\n",
       "<table border=\"1\" class=\"dataframe\">\n",
       "  <thead>\n",
       "    <tr style=\"text-align: right;\">\n",
       "      <th></th>\n",
       "      <th>GeneralHealth</th>\n",
       "      <th>PhysicalHealthDays</th>\n",
       "      <th>MentalHealthDays</th>\n",
       "      <th>LastCheckupTime</th>\n",
       "    </tr>\n",
       "  </thead>\n",
       "  <tbody>\n",
       "    <tr>\n",
       "      <th>176396</th>\n",
       "      <td>Very good</td>\n",
       "      <td>3.0</td>\n",
       "      <td>0.0</td>\n",
       "      <td>Within past year (anytime less than 12 months ...</td>\n",
       "    </tr>\n",
       "    <tr>\n",
       "      <th>108411</th>\n",
       "      <td>Fair</td>\n",
       "      <td>5.0</td>\n",
       "      <td>2.0</td>\n",
       "      <td>Within past year (anytime less than 12 months ...</td>\n",
       "    </tr>\n",
       "    <tr>\n",
       "      <th>414652</th>\n",
       "      <td>Poor</td>\n",
       "      <td>30.0</td>\n",
       "      <td>5.0</td>\n",
       "      <td>Within past year (anytime less than 12 months ...</td>\n",
       "    </tr>\n",
       "    <tr>\n",
       "      <th>87102</th>\n",
       "      <td>Excellent</td>\n",
       "      <td>0.0</td>\n",
       "      <td>3.0</td>\n",
       "      <td>Within past year (anytime less than 12 months ...</td>\n",
       "    </tr>\n",
       "    <tr>\n",
       "      <th>370620</th>\n",
       "      <td>Very good</td>\n",
       "      <td>0.0</td>\n",
       "      <td>0.0</td>\n",
       "      <td>Within past year (anytime less than 12 months ...</td>\n",
       "    </tr>\n",
       "  </tbody>\n",
       "</table>\n",
       "</div>"
      ],
      "text/plain": [
       "       GeneralHealth  PhysicalHealthDays  MentalHealthDays  \\\n",
       "176396     Very good                 3.0               0.0   \n",
       "108411          Fair                 5.0               2.0   \n",
       "414652          Poor                30.0               5.0   \n",
       "87102      Excellent                 0.0               3.0   \n",
       "370620     Very good                 0.0               0.0   \n",
       "\n",
       "                                          LastCheckupTime  \n",
       "176396  Within past year (anytime less than 12 months ...  \n",
       "108411  Within past year (anytime less than 12 months ...  \n",
       "414652  Within past year (anytime less than 12 months ...  \n",
       "87102   Within past year (anytime less than 12 months ...  \n",
       "370620  Within past year (anytime less than 12 months ...  "
      ]
     },
     "execution_count": 442,
     "metadata": {},
     "output_type": "execute_result"
    }
   ],
   "source": [
    "Data_general.sample(5)"
   ]
  },
  {
   "cell_type": "code",
   "execution_count": 443,
   "id": "f8baee82",
   "metadata": {},
   "outputs": [
    {
     "name": "stdout",
     "output_type": "stream",
     "text": [
      "<class 'pandas.core.frame.DataFrame'>\n",
      "RangeIndex: 445132 entries, 0 to 445131\n",
      "Data columns (total 4 columns):\n",
      " #   Column              Non-Null Count   Dtype  \n",
      "---  ------              --------------   -----  \n",
      " 0   GeneralHealth       443934 non-null  object \n",
      " 1   PhysicalHealthDays  434205 non-null  float64\n",
      " 2   MentalHealthDays    436065 non-null  float64\n",
      " 3   LastCheckupTime     436824 non-null  object \n",
      "dtypes: float64(2), object(2)\n",
      "memory usage: 13.6+ MB\n"
     ]
    }
   ],
   "source": [
    "Data_general.info()"
   ]
  },
  {
   "cell_type": "code",
   "execution_count": 444,
   "id": "ec9a6394",
   "metadata": {},
   "outputs": [
    {
     "data": {
      "text/html": [
       "<div>\n",
       "<style scoped>\n",
       "    .dataframe tbody tr th:only-of-type {\n",
       "        vertical-align: middle;\n",
       "    }\n",
       "\n",
       "    .dataframe tbody tr th {\n",
       "        vertical-align: top;\n",
       "    }\n",
       "\n",
       "    .dataframe thead th {\n",
       "        text-align: right;\n",
       "    }\n",
       "</style>\n",
       "<table border=\"1\" class=\"dataframe\">\n",
       "  <thead>\n",
       "    <tr style=\"text-align: right;\">\n",
       "      <th></th>\n",
       "      <th>GeneralHealth</th>\n",
       "      <th>LastCheckupTime</th>\n",
       "    </tr>\n",
       "  </thead>\n",
       "  <tbody>\n",
       "    <tr>\n",
       "      <th>count</th>\n",
       "      <td>443934</td>\n",
       "      <td>436824</td>\n",
       "    </tr>\n",
       "    <tr>\n",
       "      <th>unique</th>\n",
       "      <td>5</td>\n",
       "      <td>4</td>\n",
       "    </tr>\n",
       "    <tr>\n",
       "      <th>top</th>\n",
       "      <td>Very good</td>\n",
       "      <td>Within past year (anytime less than 12 months ...</td>\n",
       "    </tr>\n",
       "    <tr>\n",
       "      <th>freq</th>\n",
       "      <td>148444</td>\n",
       "      <td>350944</td>\n",
       "    </tr>\n",
       "  </tbody>\n",
       "</table>\n",
       "</div>"
      ],
      "text/plain": [
       "       GeneralHealth                                    LastCheckupTime\n",
       "count         443934                                             436824\n",
       "unique             5                                                  4\n",
       "top        Very good  Within past year (anytime less than 12 months ...\n",
       "freq          148444                                             350944"
      ]
     },
     "metadata": {},
     "output_type": "display_data"
    },
    {
     "data": {
      "text/html": [
       "<div>\n",
       "<style scoped>\n",
       "    .dataframe tbody tr th:only-of-type {\n",
       "        vertical-align: middle;\n",
       "    }\n",
       "\n",
       "    .dataframe tbody tr th {\n",
       "        vertical-align: top;\n",
       "    }\n",
       "\n",
       "    .dataframe thead th {\n",
       "        text-align: right;\n",
       "    }\n",
       "</style>\n",
       "<table border=\"1\" class=\"dataframe\">\n",
       "  <thead>\n",
       "    <tr style=\"text-align: right;\">\n",
       "      <th></th>\n",
       "      <th>PhysicalHealthDays</th>\n",
       "      <th>MentalHealthDays</th>\n",
       "    </tr>\n",
       "  </thead>\n",
       "  <tbody>\n",
       "    <tr>\n",
       "      <th>count</th>\n",
       "      <td>434205.000000</td>\n",
       "      <td>436065.000000</td>\n",
       "    </tr>\n",
       "    <tr>\n",
       "      <th>mean</th>\n",
       "      <td>4.347919</td>\n",
       "      <td>4.382649</td>\n",
       "    </tr>\n",
       "    <tr>\n",
       "      <th>std</th>\n",
       "      <td>8.688912</td>\n",
       "      <td>8.387475</td>\n",
       "    </tr>\n",
       "    <tr>\n",
       "      <th>min</th>\n",
       "      <td>0.000000</td>\n",
       "      <td>0.000000</td>\n",
       "    </tr>\n",
       "    <tr>\n",
       "      <th>25%</th>\n",
       "      <td>0.000000</td>\n",
       "      <td>0.000000</td>\n",
       "    </tr>\n",
       "    <tr>\n",
       "      <th>50%</th>\n",
       "      <td>0.000000</td>\n",
       "      <td>0.000000</td>\n",
       "    </tr>\n",
       "    <tr>\n",
       "      <th>75%</th>\n",
       "      <td>3.000000</td>\n",
       "      <td>5.000000</td>\n",
       "    </tr>\n",
       "    <tr>\n",
       "      <th>max</th>\n",
       "      <td>30.000000</td>\n",
       "      <td>30.000000</td>\n",
       "    </tr>\n",
       "  </tbody>\n",
       "</table>\n",
       "</div>"
      ],
      "text/plain": [
       "       PhysicalHealthDays  MentalHealthDays\n",
       "count       434205.000000     436065.000000\n",
       "mean             4.347919          4.382649\n",
       "std              8.688912          8.387475\n",
       "min              0.000000          0.000000\n",
       "25%              0.000000          0.000000\n",
       "50%              0.000000          0.000000\n",
       "75%              3.000000          5.000000\n",
       "max             30.000000         30.000000"
      ]
     },
     "metadata": {},
     "output_type": "display_data"
    }
   ],
   "source": [
    "display(Data_general.describe(include=object),Data_general.describe())"
   ]
  },
  {
   "cell_type": "code",
   "execution_count": 445,
   "id": "8484621a",
   "metadata": {},
   "outputs": [
    {
     "data": {
      "text/plain": [
       "GeneralHealth          1198\n",
       "PhysicalHealthDays    10927\n",
       "MentalHealthDays       9067\n",
       "LastCheckupTime        8308\n",
       "dtype: int64"
      ]
     },
     "execution_count": 445,
     "metadata": {},
     "output_type": "execute_result"
    }
   ],
   "source": [
    "Data_general.isna().sum()"
   ]
  },
  {
   "cell_type": "code",
   "execution_count": 446,
   "id": "7cb167d9",
   "metadata": {},
   "outputs": [],
   "source": [
    "Data.dropna(subset=['MentalHealthDays','PhysicalHealthDays'], inplace=True)"
   ]
  },
  {
   "cell_type": "code",
   "execution_count": 447,
   "id": "eb7dc953",
   "metadata": {},
   "outputs": [
    {
     "data": {
      "text/plain": [
       "MentalHealthDays      0\n",
       "PhysicalHealthDays    0\n",
       "dtype: int64"
      ]
     },
     "execution_count": 447,
     "metadata": {},
     "output_type": "execute_result"
    }
   ],
   "source": [
    "Data[['MentalHealthDays','PhysicalHealthDays']].isna().sum()"
   ]
  },
  {
   "cell_type": "code",
   "execution_count": 448,
   "id": "20b5a7fc",
   "metadata": {},
   "outputs": [
    {
     "data": {
      "text/plain": [
       "GeneralHealth\n",
       "Very good    0.346887\n",
       "Good         0.321439\n",
       "Excellent    0.163782\n",
       "Fair         0.128635\n",
       "Poor         0.039256\n",
       "Name: proportion, dtype: float64"
      ]
     },
     "execution_count": 448,
     "metadata": {},
     "output_type": "execute_result"
    }
   ],
   "source": [
    "Data['GeneralHealth'].value_counts(normalize=True)"
   ]
  },
  {
   "cell_type": "code",
   "execution_count": 449,
   "id": "5d82f4cf",
   "metadata": {},
   "outputs": [
    {
     "data": {
      "text/plain": [
       "0         Very good\n",
       "1         Excellent\n",
       "2         Very good\n",
       "3         Excellent\n",
       "4              Fair\n",
       "            ...    \n",
       "445124         Good\n",
       "445126         Good\n",
       "445128    Excellent\n",
       "445130    Very good\n",
       "445131    Very good\n",
       "Name: GeneralHealth, Length: 371174, dtype: object"
      ]
     },
     "execution_count": 449,
     "metadata": {},
     "output_type": "execute_result"
    }
   ],
   "source": [
    "Data['LastCheckupTime'].fillna(Data['LastCheckupTime'].mode()[0],inplace=True)\n",
    "fill_column_by_distribution(Data,'GeneralHealth')"
   ]
  },
  {
   "cell_type": "code",
   "execution_count": 450,
   "id": "26baa0b3",
   "metadata": {},
   "outputs": [
    {
     "data": {
      "text/plain": [
       "LastCheckupTime    0\n",
       "GeneralHealth      0\n",
       "dtype: int64"
      ]
     },
     "execution_count": 450,
     "metadata": {},
     "output_type": "execute_result"
    }
   ],
   "source": [
    "Data[['LastCheckupTime','GeneralHealth']].isna().sum()"
   ]
  },
  {
   "cell_type": "markdown",
   "id": "7cd25f89",
   "metadata": {},
   "source": [
    "### Step: Cleaning <b>Disease Features</b>\n",
    "\n",
    "We reviewed the disease-related columns for missing values.  \n",
    "Rows with missing data in key features were removed, as the proportion of nulls was small.  \n",
    "Categorical responses (`Yes`/`No`) were converted to numeric values (1/0) for consistency.  \n",
    "Removing these few nulls ensures data integrity and reliable analysis.  \n",
    "The dataset is now complete, clean, and ready for modeling.  \n",
    "All disease features are consistent and numeric.\n"
   ]
  },
  {
   "cell_type": "code",
   "execution_count": 451,
   "id": "d6290070",
   "metadata": {},
   "outputs": [
    {
     "data": {
      "text/html": [
       "<div>\n",
       "<style scoped>\n",
       "    .dataframe tbody tr th:only-of-type {\n",
       "        vertical-align: middle;\n",
       "    }\n",
       "\n",
       "    .dataframe tbody tr th {\n",
       "        vertical-align: top;\n",
       "    }\n",
       "\n",
       "    .dataframe thead th {\n",
       "        text-align: right;\n",
       "    }\n",
       "</style>\n",
       "<table border=\"1\" class=\"dataframe\">\n",
       "  <thead>\n",
       "    <tr style=\"text-align: right;\">\n",
       "      <th></th>\n",
       "      <th>HadHeartAttack</th>\n",
       "      <th>HadAngina</th>\n",
       "      <th>HadStroke</th>\n",
       "      <th>HadAsthma</th>\n",
       "      <th>HadSkinCancer</th>\n",
       "      <th>HadCOPD</th>\n",
       "      <th>HadDepressiveDisorder</th>\n",
       "      <th>HadKidneyDisease</th>\n",
       "      <th>HadArthritis</th>\n",
       "      <th>HadDiabetes</th>\n",
       "    </tr>\n",
       "  </thead>\n",
       "  <tbody>\n",
       "    <tr>\n",
       "      <th>357507</th>\n",
       "      <td>No</td>\n",
       "      <td>No</td>\n",
       "      <td>Yes</td>\n",
       "      <td>No</td>\n",
       "      <td>No</td>\n",
       "      <td>No</td>\n",
       "      <td>Yes</td>\n",
       "      <td>No</td>\n",
       "      <td>Yes</td>\n",
       "      <td>Yes</td>\n",
       "    </tr>\n",
       "    <tr>\n",
       "      <th>358926</th>\n",
       "      <td>No</td>\n",
       "      <td>No</td>\n",
       "      <td>No</td>\n",
       "      <td>No</td>\n",
       "      <td>Yes</td>\n",
       "      <td>No</td>\n",
       "      <td>No</td>\n",
       "      <td>No</td>\n",
       "      <td>No</td>\n",
       "      <td>No</td>\n",
       "    </tr>\n",
       "    <tr>\n",
       "      <th>407061</th>\n",
       "      <td>No</td>\n",
       "      <td>No</td>\n",
       "      <td>No</td>\n",
       "      <td>No</td>\n",
       "      <td>No</td>\n",
       "      <td>No</td>\n",
       "      <td>Yes</td>\n",
       "      <td>No</td>\n",
       "      <td>No</td>\n",
       "      <td>No</td>\n",
       "    </tr>\n",
       "    <tr>\n",
       "      <th>277573</th>\n",
       "      <td>No</td>\n",
       "      <td>No</td>\n",
       "      <td>No</td>\n",
       "      <td>No</td>\n",
       "      <td>No</td>\n",
       "      <td>No</td>\n",
       "      <td>No</td>\n",
       "      <td>No</td>\n",
       "      <td>Yes</td>\n",
       "      <td>No</td>\n",
       "    </tr>\n",
       "    <tr>\n",
       "      <th>389682</th>\n",
       "      <td>No</td>\n",
       "      <td>No</td>\n",
       "      <td>No</td>\n",
       "      <td>No</td>\n",
       "      <td>No</td>\n",
       "      <td>No</td>\n",
       "      <td>Yes</td>\n",
       "      <td>No</td>\n",
       "      <td>Yes</td>\n",
       "      <td>No</td>\n",
       "    </tr>\n",
       "  </tbody>\n",
       "</table>\n",
       "</div>"
      ],
      "text/plain": [
       "       HadHeartAttack HadAngina HadStroke HadAsthma HadSkinCancer HadCOPD  \\\n",
       "357507             No        No       Yes        No            No      No   \n",
       "358926             No        No        No        No           Yes      No   \n",
       "407061             No        No        No        No            No      No   \n",
       "277573             No        No        No        No            No      No   \n",
       "389682             No        No        No        No            No      No   \n",
       "\n",
       "       HadDepressiveDisorder HadKidneyDisease HadArthritis HadDiabetes  \n",
       "357507                   Yes               No          Yes         Yes  \n",
       "358926                    No               No           No          No  \n",
       "407061                   Yes               No           No          No  \n",
       "277573                    No               No          Yes          No  \n",
       "389682                   Yes               No          Yes          No  "
      ]
     },
     "execution_count": 451,
     "metadata": {},
     "output_type": "execute_result"
    }
   ],
   "source": [
    "Data_disease.sample(5)"
   ]
  },
  {
   "cell_type": "code",
   "execution_count": 452,
   "id": "45aa07ab",
   "metadata": {},
   "outputs": [
    {
     "name": "stdout",
     "output_type": "stream",
     "text": [
      "<class 'pandas.core.frame.DataFrame'>\n",
      "RangeIndex: 445132 entries, 0 to 445131\n",
      "Data columns (total 10 columns):\n",
      " #   Column                 Non-Null Count   Dtype \n",
      "---  ------                 --------------   ----- \n",
      " 0   HadHeartAttack         442067 non-null  object\n",
      " 1   HadAngina              440727 non-null  object\n",
      " 2   HadStroke              443575 non-null  object\n",
      " 3   HadAsthma              443359 non-null  object\n",
      " 4   HadSkinCancer          441989 non-null  object\n",
      " 5   HadCOPD                442913 non-null  object\n",
      " 6   HadDepressiveDisorder  442320 non-null  object\n",
      " 7   HadKidneyDisease       443206 non-null  object\n",
      " 8   HadArthritis           442499 non-null  object\n",
      " 9   HadDiabetes            444045 non-null  object\n",
      "dtypes: object(10)\n",
      "memory usage: 34.0+ MB\n"
     ]
    }
   ],
   "source": [
    "Data_disease.info()"
   ]
  },
  {
   "cell_type": "code",
   "execution_count": 453,
   "id": "7e7914b4",
   "metadata": {},
   "outputs": [
    {
     "data": {
      "text/html": [
       "<div>\n",
       "<style scoped>\n",
       "    .dataframe tbody tr th:only-of-type {\n",
       "        vertical-align: middle;\n",
       "    }\n",
       "\n",
       "    .dataframe tbody tr th {\n",
       "        vertical-align: top;\n",
       "    }\n",
       "\n",
       "    .dataframe thead th {\n",
       "        text-align: right;\n",
       "    }\n",
       "</style>\n",
       "<table border=\"1\" class=\"dataframe\">\n",
       "  <thead>\n",
       "    <tr style=\"text-align: right;\">\n",
       "      <th></th>\n",
       "      <th>HadHeartAttack</th>\n",
       "      <th>HadAngina</th>\n",
       "      <th>HadStroke</th>\n",
       "      <th>HadAsthma</th>\n",
       "      <th>HadSkinCancer</th>\n",
       "      <th>HadCOPD</th>\n",
       "      <th>HadDepressiveDisorder</th>\n",
       "      <th>HadKidneyDisease</th>\n",
       "      <th>HadArthritis</th>\n",
       "      <th>HadDiabetes</th>\n",
       "    </tr>\n",
       "  </thead>\n",
       "  <tbody>\n",
       "    <tr>\n",
       "      <th>count</th>\n",
       "      <td>442067</td>\n",
       "      <td>440727</td>\n",
       "      <td>443575</td>\n",
       "      <td>443359</td>\n",
       "      <td>441989</td>\n",
       "      <td>442913</td>\n",
       "      <td>442320</td>\n",
       "      <td>443206</td>\n",
       "      <td>442499</td>\n",
       "      <td>444045</td>\n",
       "    </tr>\n",
       "    <tr>\n",
       "      <th>unique</th>\n",
       "      <td>2</td>\n",
       "      <td>2</td>\n",
       "      <td>2</td>\n",
       "      <td>2</td>\n",
       "      <td>2</td>\n",
       "      <td>2</td>\n",
       "      <td>2</td>\n",
       "      <td>2</td>\n",
       "      <td>2</td>\n",
       "      <td>4</td>\n",
       "    </tr>\n",
       "    <tr>\n",
       "      <th>top</th>\n",
       "      <td>No</td>\n",
       "      <td>No</td>\n",
       "      <td>No</td>\n",
       "      <td>No</td>\n",
       "      <td>No</td>\n",
       "      <td>No</td>\n",
       "      <td>No</td>\n",
       "      <td>No</td>\n",
       "      <td>No</td>\n",
       "      <td>No</td>\n",
       "    </tr>\n",
       "    <tr>\n",
       "      <th>freq</th>\n",
       "      <td>416959</td>\n",
       "      <td>414176</td>\n",
       "      <td>424336</td>\n",
       "      <td>376665</td>\n",
       "      <td>406504</td>\n",
       "      <td>407257</td>\n",
       "      <td>350910</td>\n",
       "      <td>422891</td>\n",
       "      <td>291351</td>\n",
       "      <td>368722</td>\n",
       "    </tr>\n",
       "  </tbody>\n",
       "</table>\n",
       "</div>"
      ],
      "text/plain": [
       "       HadHeartAttack HadAngina HadStroke HadAsthma HadSkinCancer HadCOPD  \\\n",
       "count          442067    440727    443575    443359        441989  442913   \n",
       "unique              2         2         2         2             2       2   \n",
       "top                No        No        No        No            No      No   \n",
       "freq           416959    414176    424336    376665        406504  407257   \n",
       "\n",
       "       HadDepressiveDisorder HadKidneyDisease HadArthritis HadDiabetes  \n",
       "count                 442320           443206       442499      444045  \n",
       "unique                     2                2            2           4  \n",
       "top                       No               No           No          No  \n",
       "freq                  350910           422891       291351      368722  "
      ]
     },
     "execution_count": 453,
     "metadata": {},
     "output_type": "execute_result"
    }
   ],
   "source": [
    "Data_disease.describe()"
   ]
  },
  {
   "cell_type": "code",
   "execution_count": 454,
   "id": "4fb6dee3",
   "metadata": {},
   "outputs": [
    {
     "data": {
      "text/plain": [
       "HadDiabetes\n",
       "No                                         309016\n",
       "Yes                                         49828\n",
       "No, pre-diabetes or borderline diabetes      8531\n",
       "Yes, but only during pregnancy (female)      3194\n",
       "NaN                                           605\n",
       "Name: count, dtype: int64"
      ]
     },
     "execution_count": 454,
     "metadata": {},
     "output_type": "execute_result"
    }
   ],
   "source": [
    "Data['HadDiabetes'].value_counts(dropna=False)"
   ]
  },
  {
   "cell_type": "code",
   "execution_count": 455,
   "id": "9b1ff827",
   "metadata": {},
   "outputs": [
    {
     "data": {
      "text/html": [
       "<div>\n",
       "<style scoped>\n",
       "    .dataframe tbody tr th:only-of-type {\n",
       "        vertical-align: middle;\n",
       "    }\n",
       "\n",
       "    .dataframe tbody tr th {\n",
       "        vertical-align: top;\n",
       "    }\n",
       "\n",
       "    .dataframe thead th {\n",
       "        text-align: right;\n",
       "    }\n",
       "</style>\n",
       "<table border=\"1\" class=\"dataframe\">\n",
       "  <thead>\n",
       "    <tr style=\"text-align: right;\">\n",
       "      <th></th>\n",
       "      <th>MissingCount</th>\n",
       "      <th>MissingPercentage</th>\n",
       "    </tr>\n",
       "  </thead>\n",
       "  <tbody>\n",
       "    <tr>\n",
       "      <th>HadAngina</th>\n",
       "      <td>4405</td>\n",
       "      <td>1.187</td>\n",
       "    </tr>\n",
       "    <tr>\n",
       "      <th>HadSkinCancer</th>\n",
       "      <td>3143</td>\n",
       "      <td>0.847</td>\n",
       "    </tr>\n",
       "    <tr>\n",
       "      <th>HadHeartAttack</th>\n",
       "      <td>3065</td>\n",
       "      <td>0.826</td>\n",
       "    </tr>\n",
       "    <tr>\n",
       "      <th>HadDepressiveDisorder</th>\n",
       "      <td>2812</td>\n",
       "      <td>0.758</td>\n",
       "    </tr>\n",
       "    <tr>\n",
       "      <th>HadArthritis</th>\n",
       "      <td>2633</td>\n",
       "      <td>0.709</td>\n",
       "    </tr>\n",
       "    <tr>\n",
       "      <th>HadCOPD</th>\n",
       "      <td>2219</td>\n",
       "      <td>0.598</td>\n",
       "    </tr>\n",
       "    <tr>\n",
       "      <th>HadKidneyDisease</th>\n",
       "      <td>1926</td>\n",
       "      <td>0.519</td>\n",
       "    </tr>\n",
       "    <tr>\n",
       "      <th>HadAsthma</th>\n",
       "      <td>1773</td>\n",
       "      <td>0.478</td>\n",
       "    </tr>\n",
       "    <tr>\n",
       "      <th>HadStroke</th>\n",
       "      <td>1557</td>\n",
       "      <td>0.419</td>\n",
       "    </tr>\n",
       "    <tr>\n",
       "      <th>HadDiabetes</th>\n",
       "      <td>1087</td>\n",
       "      <td>0.293</td>\n",
       "    </tr>\n",
       "  </tbody>\n",
       "</table>\n",
       "</div>"
      ],
      "text/plain": [
       "                       MissingCount  MissingPercentage\n",
       "HadAngina                      4405              1.187\n",
       "HadSkinCancer                  3143              0.847\n",
       "HadHeartAttack                 3065              0.826\n",
       "HadDepressiveDisorder          2812              0.758\n",
       "HadArthritis                   2633              0.709\n",
       "HadCOPD                        2219              0.598\n",
       "HadKidneyDisease               1926              0.519\n",
       "HadAsthma                      1773              0.478\n",
       "HadStroke                      1557              0.419\n",
       "HadDiabetes                    1087              0.293"
      ]
     },
     "execution_count": 455,
     "metadata": {},
     "output_type": "execute_result"
    }
   ],
   "source": [
    "missing_count = Data_disease.isna().sum()\n",
    "missing_percentage = ((missing_count / len(Data)) * 100).round(3)\n",
    "missing_summary = pd.DataFrame({'MissingCount': missing_count,'MissingPercentage': missing_percentage})\n",
    "missing_summary[missing_summary['MissingCount'] > 0].sort_values(by='MissingPercentage', ascending=False)"
   ]
  },
  {
   "cell_type": "code",
   "execution_count": 456,
   "id": "9bf6ca28",
   "metadata": {},
   "outputs": [],
   "source": [
    "columns = ['HadAngina','HadSkinCancer','HadHeartAttack','HadDepressiveDisorder',\n",
    "           'HadArthritis','HadCOPD','HadKidneyDisease','HadAsthma','HadStroke','HadDiabetes']\n",
    "Data.dropna(subset=columns, inplace=True)"
   ]
  },
  {
   "cell_type": "code",
   "execution_count": 457,
   "id": "13290503",
   "metadata": {},
   "outputs": [
    {
     "data": {
      "text/plain": [
       "HadAngina                0\n",
       "HadSkinCancer            0\n",
       "HadHeartAttack           0\n",
       "HadDepressiveDisorder    0\n",
       "HadArthritis             0\n",
       "HadCOPD                  0\n",
       "HadKidneyDisease         0\n",
       "HadAsthma                0\n",
       "HadStroke                0\n",
       "HadDiabetes              0\n",
       "dtype: int64"
      ]
     },
     "execution_count": 457,
     "metadata": {},
     "output_type": "execute_result"
    }
   ],
   "source": [
    "Data[columns].isna().sum()"
   ]
  },
  {
   "cell_type": "code",
   "execution_count": 458,
   "id": "fc6c47d5",
   "metadata": {},
   "outputs": [],
   "source": [
    "Data[columns] = Data[columns].replace({'Yes':1,'No':0})\n",
    "Data['HadDiabetes'] = Data['HadDiabetes'].replace({'No, pre-diabetes or borderline diabetes': 0,'Yes, but only during pregnancy (female)': 1})"
   ]
  },
  {
   "cell_type": "code",
   "execution_count": 459,
   "id": "8353af63",
   "metadata": {},
   "outputs": [
    {
     "data": {
      "text/html": [
       "<div>\n",
       "<style scoped>\n",
       "    .dataframe tbody tr th:only-of-type {\n",
       "        vertical-align: middle;\n",
       "    }\n",
       "\n",
       "    .dataframe tbody tr th {\n",
       "        vertical-align: top;\n",
       "    }\n",
       "\n",
       "    .dataframe thead th {\n",
       "        text-align: right;\n",
       "    }\n",
       "</style>\n",
       "<table border=\"1\" class=\"dataframe\">\n",
       "  <thead>\n",
       "    <tr style=\"text-align: right;\">\n",
       "      <th></th>\n",
       "      <th>HadAngina</th>\n",
       "      <th>HadSkinCancer</th>\n",
       "      <th>HadHeartAttack</th>\n",
       "      <th>HadDepressiveDisorder</th>\n",
       "      <th>HadArthritis</th>\n",
       "      <th>HadCOPD</th>\n",
       "      <th>HadKidneyDisease</th>\n",
       "      <th>HadAsthma</th>\n",
       "      <th>HadStroke</th>\n",
       "      <th>HadDiabetes</th>\n",
       "    </tr>\n",
       "  </thead>\n",
       "  <tbody>\n",
       "    <tr>\n",
       "      <th>0</th>\n",
       "      <td>0</td>\n",
       "      <td>0</td>\n",
       "      <td>0</td>\n",
       "      <td>0</td>\n",
       "      <td>0</td>\n",
       "      <td>0</td>\n",
       "      <td>0</td>\n",
       "      <td>0</td>\n",
       "      <td>0</td>\n",
       "      <td>1</td>\n",
       "    </tr>\n",
       "    <tr>\n",
       "      <th>1</th>\n",
       "      <td>0</td>\n",
       "      <td>1</td>\n",
       "      <td>0</td>\n",
       "      <td>0</td>\n",
       "      <td>0</td>\n",
       "      <td>0</td>\n",
       "      <td>0</td>\n",
       "      <td>0</td>\n",
       "      <td>0</td>\n",
       "      <td>0</td>\n",
       "    </tr>\n",
       "    <tr>\n",
       "      <th>2</th>\n",
       "      <td>0</td>\n",
       "      <td>1</td>\n",
       "      <td>0</td>\n",
       "      <td>0</td>\n",
       "      <td>0</td>\n",
       "      <td>0</td>\n",
       "      <td>0</td>\n",
       "      <td>0</td>\n",
       "      <td>0</td>\n",
       "      <td>0</td>\n",
       "    </tr>\n",
       "    <tr>\n",
       "      <th>3</th>\n",
       "      <td>0</td>\n",
       "      <td>0</td>\n",
       "      <td>0</td>\n",
       "      <td>0</td>\n",
       "      <td>1</td>\n",
       "      <td>0</td>\n",
       "      <td>0</td>\n",
       "      <td>1</td>\n",
       "      <td>0</td>\n",
       "      <td>0</td>\n",
       "    </tr>\n",
       "    <tr>\n",
       "      <th>4</th>\n",
       "      <td>0</td>\n",
       "      <td>0</td>\n",
       "      <td>0</td>\n",
       "      <td>0</td>\n",
       "      <td>0</td>\n",
       "      <td>0</td>\n",
       "      <td>0</td>\n",
       "      <td>0</td>\n",
       "      <td>0</td>\n",
       "      <td>0</td>\n",
       "    </tr>\n",
       "    <tr>\n",
       "      <th>...</th>\n",
       "      <td>...</td>\n",
       "      <td>...</td>\n",
       "      <td>...</td>\n",
       "      <td>...</td>\n",
       "      <td>...</td>\n",
       "      <td>...</td>\n",
       "      <td>...</td>\n",
       "      <td>...</td>\n",
       "      <td>...</td>\n",
       "      <td>...</td>\n",
       "    </tr>\n",
       "    <tr>\n",
       "      <th>445124</th>\n",
       "      <td>0</td>\n",
       "      <td>0</td>\n",
       "      <td>0</td>\n",
       "      <td>0</td>\n",
       "      <td>1</td>\n",
       "      <td>0</td>\n",
       "      <td>0</td>\n",
       "      <td>0</td>\n",
       "      <td>1</td>\n",
       "      <td>1</td>\n",
       "    </tr>\n",
       "    <tr>\n",
       "      <th>445126</th>\n",
       "      <td>0</td>\n",
       "      <td>0</td>\n",
       "      <td>0</td>\n",
       "      <td>0</td>\n",
       "      <td>0</td>\n",
       "      <td>0</td>\n",
       "      <td>0</td>\n",
       "      <td>0</td>\n",
       "      <td>0</td>\n",
       "      <td>0</td>\n",
       "    </tr>\n",
       "    <tr>\n",
       "      <th>445128</th>\n",
       "      <td>0</td>\n",
       "      <td>0</td>\n",
       "      <td>0</td>\n",
       "      <td>0</td>\n",
       "      <td>0</td>\n",
       "      <td>0</td>\n",
       "      <td>0</td>\n",
       "      <td>0</td>\n",
       "      <td>0</td>\n",
       "      <td>0</td>\n",
       "    </tr>\n",
       "    <tr>\n",
       "      <th>445130</th>\n",
       "      <td>0</td>\n",
       "      <td>0</td>\n",
       "      <td>1</td>\n",
       "      <td>0</td>\n",
       "      <td>0</td>\n",
       "      <td>0</td>\n",
       "      <td>0</td>\n",
       "      <td>1</td>\n",
       "      <td>0</td>\n",
       "      <td>0</td>\n",
       "    </tr>\n",
       "    <tr>\n",
       "      <th>445131</th>\n",
       "      <td>0</td>\n",
       "      <td>0</td>\n",
       "      <td>0</td>\n",
       "      <td>0</td>\n",
       "      <td>0</td>\n",
       "      <td>0</td>\n",
       "      <td>0</td>\n",
       "      <td>0</td>\n",
       "      <td>0</td>\n",
       "      <td>0</td>\n",
       "    </tr>\n",
       "  </tbody>\n",
       "</table>\n",
       "<p>357944 rows × 10 columns</p>\n",
       "</div>"
      ],
      "text/plain": [
       "        HadAngina  HadSkinCancer  HadHeartAttack  HadDepressiveDisorder  \\\n",
       "0               0              0               0                      0   \n",
       "1               0              1               0                      0   \n",
       "2               0              1               0                      0   \n",
       "3               0              0               0                      0   \n",
       "4               0              0               0                      0   \n",
       "...           ...            ...             ...                    ...   \n",
       "445124          0              0               0                      0   \n",
       "445126          0              0               0                      0   \n",
       "445128          0              0               0                      0   \n",
       "445130          0              0               1                      0   \n",
       "445131          0              0               0                      0   \n",
       "\n",
       "        HadArthritis  HadCOPD  HadKidneyDisease  HadAsthma  HadStroke  \\\n",
       "0                  0        0                 0          0          0   \n",
       "1                  0        0                 0          0          0   \n",
       "2                  0        0                 0          0          0   \n",
       "3                  1        0                 0          1          0   \n",
       "4                  0        0                 0          0          0   \n",
       "...              ...      ...               ...        ...        ...   \n",
       "445124             1        0                 0          0          1   \n",
       "445126             0        0                 0          0          0   \n",
       "445128             0        0                 0          0          0   \n",
       "445130             0        0                 0          1          0   \n",
       "445131             0        0                 0          0          0   \n",
       "\n",
       "        HadDiabetes  \n",
       "0                 1  \n",
       "1                 0  \n",
       "2                 0  \n",
       "3                 0  \n",
       "4                 0  \n",
       "...             ...  \n",
       "445124            1  \n",
       "445126            0  \n",
       "445128            0  \n",
       "445130            0  \n",
       "445131            0  \n",
       "\n",
       "[357944 rows x 10 columns]"
      ]
     },
     "execution_count": 459,
     "metadata": {},
     "output_type": "execute_result"
    }
   ],
   "source": [
    "Data[columns]"
   ]
  },
  {
   "cell_type": "code",
   "execution_count": 460,
   "id": "bc465f39",
   "metadata": {},
   "outputs": [
    {
     "name": "stdout",
     "output_type": "stream",
     "text": [
      "<class 'pandas.core.frame.DataFrame'>\n",
      "Index: 357944 entries, 0 to 445131\n",
      "Data columns (total 10 columns):\n",
      " #   Column                 Non-Null Count   Dtype\n",
      "---  ------                 --------------   -----\n",
      " 0   HadAngina              357944 non-null  int64\n",
      " 1   HadSkinCancer          357944 non-null  int64\n",
      " 2   HadHeartAttack         357944 non-null  int64\n",
      " 3   HadDepressiveDisorder  357944 non-null  int64\n",
      " 4   HadArthritis           357944 non-null  int64\n",
      " 5   HadCOPD                357944 non-null  int64\n",
      " 6   HadKidneyDisease       357944 non-null  int64\n",
      " 7   HadAsthma              357944 non-null  int64\n",
      " 8   HadStroke              357944 non-null  int64\n",
      " 9   HadDiabetes            357944 non-null  int64\n",
      "dtypes: int64(10)\n",
      "memory usage: 30.0 MB\n"
     ]
    }
   ],
   "source": [
    "(Data[columns]).info()"
   ]
  },
  {
   "cell_type": "code",
   "execution_count": 461,
   "id": "a3602944",
   "metadata": {},
   "outputs": [
    {
     "data": {
      "text/plain": [
       "HadDiabetes\n",
       "0    307633\n",
       "1     50311\n",
       "Name: count, dtype: int64"
      ]
     },
     "execution_count": 461,
     "metadata": {},
     "output_type": "execute_result"
    }
   ],
   "source": [
    "Data['HadDiabetes'].value_counts()"
   ]
  },
  {
   "cell_type": "markdown",
   "id": "9da4352a",
   "metadata": {},
   "source": [
    "### STEP :cleaning  <b>Disability features</b>\n",
    "We identified missing values within the Disability columns.\n",
    "Since the proportion of nulls was minimal, those rows were removed to maintain data quality.\n",
    "All categorical responses `(Yes/No)` were then encoded as numeric values `(1/0)` for uniformity.\n",
    "By eliminating the few missing entries, the dataset became more consistent and reliable for analysis.\n",
    "Now, all disability-related features are `numeric` , `clean` , and `fully prepared for modeling` ."
   ]
  },
  {
   "cell_type": "code",
   "execution_count": 462,
   "id": "e0a48d17",
   "metadata": {},
   "outputs": [
    {
     "data": {
      "text/html": [
       "<div>\n",
       "<style scoped>\n",
       "    .dataframe tbody tr th:only-of-type {\n",
       "        vertical-align: middle;\n",
       "    }\n",
       "\n",
       "    .dataframe tbody tr th {\n",
       "        vertical-align: top;\n",
       "    }\n",
       "\n",
       "    .dataframe thead th {\n",
       "        text-align: right;\n",
       "    }\n",
       "</style>\n",
       "<table border=\"1\" class=\"dataframe\">\n",
       "  <thead>\n",
       "    <tr style=\"text-align: right;\">\n",
       "      <th></th>\n",
       "      <th>DeafOrHardOfHearing</th>\n",
       "      <th>BlindOrVisionDifficulty</th>\n",
       "      <th>DifficultyConcentrating</th>\n",
       "      <th>DifficultyWalking</th>\n",
       "      <th>DifficultyDressingBathing</th>\n",
       "      <th>DifficultyErrands</th>\n",
       "    </tr>\n",
       "  </thead>\n",
       "  <tbody>\n",
       "    <tr>\n",
       "      <th>73206</th>\n",
       "      <td>No</td>\n",
       "      <td>No</td>\n",
       "      <td>No</td>\n",
       "      <td>No</td>\n",
       "      <td>No</td>\n",
       "      <td>No</td>\n",
       "    </tr>\n",
       "    <tr>\n",
       "      <th>213196</th>\n",
       "      <td>No</td>\n",
       "      <td>Yes</td>\n",
       "      <td>NaN</td>\n",
       "      <td>Yes</td>\n",
       "      <td>No</td>\n",
       "      <td>Yes</td>\n",
       "    </tr>\n",
       "    <tr>\n",
       "      <th>358968</th>\n",
       "      <td>No</td>\n",
       "      <td>No</td>\n",
       "      <td>No</td>\n",
       "      <td>No</td>\n",
       "      <td>No</td>\n",
       "      <td>No</td>\n",
       "    </tr>\n",
       "    <tr>\n",
       "      <th>380121</th>\n",
       "      <td>No</td>\n",
       "      <td>No</td>\n",
       "      <td>No</td>\n",
       "      <td>No</td>\n",
       "      <td>No</td>\n",
       "      <td>No</td>\n",
       "    </tr>\n",
       "    <tr>\n",
       "      <th>397086</th>\n",
       "      <td>No</td>\n",
       "      <td>Yes</td>\n",
       "      <td>Yes</td>\n",
       "      <td>Yes</td>\n",
       "      <td>NaN</td>\n",
       "      <td>Yes</td>\n",
       "    </tr>\n",
       "  </tbody>\n",
       "</table>\n",
       "</div>"
      ],
      "text/plain": [
       "       DeafOrHardOfHearing BlindOrVisionDifficulty DifficultyConcentrating  \\\n",
       "73206                   No                      No                      No   \n",
       "213196                  No                     Yes                     NaN   \n",
       "358968                  No                      No                      No   \n",
       "380121                  No                      No                      No   \n",
       "397086                  No                     Yes                     Yes   \n",
       "\n",
       "       DifficultyWalking DifficultyDressingBathing DifficultyErrands  \n",
       "73206                 No                        No                No  \n",
       "213196               Yes                        No               Yes  \n",
       "358968                No                        No                No  \n",
       "380121                No                        No                No  \n",
       "397086               Yes                       NaN               Yes  "
      ]
     },
     "execution_count": 462,
     "metadata": {},
     "output_type": "execute_result"
    }
   ],
   "source": [
    "Data_disability.sample(5)"
   ]
  },
  {
   "cell_type": "code",
   "execution_count": 463,
   "id": "9f611d09",
   "metadata": {},
   "outputs": [
    {
     "name": "stdout",
     "output_type": "stream",
     "text": [
      "<class 'pandas.core.frame.DataFrame'>\n",
      "RangeIndex: 445132 entries, 0 to 445131\n",
      "Data columns (total 6 columns):\n",
      " #   Column                     Non-Null Count   Dtype \n",
      "---  ------                     --------------   ----- \n",
      " 0   DeafOrHardOfHearing        424485 non-null  object\n",
      " 1   BlindOrVisionDifficulty    423568 non-null  object\n",
      " 2   DifficultyConcentrating    420892 non-null  object\n",
      " 3   DifficultyWalking          421120 non-null  object\n",
      " 4   DifficultyDressingBathing  421217 non-null  object\n",
      " 5   DifficultyErrands          419476 non-null  object\n",
      "dtypes: object(6)\n",
      "memory usage: 20.4+ MB\n"
     ]
    }
   ],
   "source": [
    "Data_disability.info()"
   ]
  },
  {
   "cell_type": "code",
   "execution_count": 464,
   "id": "b18c2633",
   "metadata": {},
   "outputs": [
    {
     "data": {
      "text/html": [
       "<div>\n",
       "<style scoped>\n",
       "    .dataframe tbody tr th:only-of-type {\n",
       "        vertical-align: middle;\n",
       "    }\n",
       "\n",
       "    .dataframe tbody tr th {\n",
       "        vertical-align: top;\n",
       "    }\n",
       "\n",
       "    .dataframe thead th {\n",
       "        text-align: right;\n",
       "    }\n",
       "</style>\n",
       "<table border=\"1\" class=\"dataframe\">\n",
       "  <thead>\n",
       "    <tr style=\"text-align: right;\">\n",
       "      <th></th>\n",
       "      <th>Non-Null Count</th>\n",
       "      <th>Missing Count</th>\n",
       "      <th>Missing Percentage</th>\n",
       "    </tr>\n",
       "  </thead>\n",
       "  <tbody>\n",
       "    <tr>\n",
       "      <th>DeafOrHardOfHearing</th>\n",
       "      <td>424485</td>\n",
       "      <td>20647</td>\n",
       "      <td>4.638</td>\n",
       "    </tr>\n",
       "    <tr>\n",
       "      <th>BlindOrVisionDifficulty</th>\n",
       "      <td>423568</td>\n",
       "      <td>21564</td>\n",
       "      <td>4.844</td>\n",
       "    </tr>\n",
       "    <tr>\n",
       "      <th>DifficultyConcentrating</th>\n",
       "      <td>420892</td>\n",
       "      <td>24240</td>\n",
       "      <td>5.446</td>\n",
       "    </tr>\n",
       "    <tr>\n",
       "      <th>DifficultyWalking</th>\n",
       "      <td>421120</td>\n",
       "      <td>24012</td>\n",
       "      <td>5.394</td>\n",
       "    </tr>\n",
       "    <tr>\n",
       "      <th>DifficultyDressingBathing</th>\n",
       "      <td>421217</td>\n",
       "      <td>23915</td>\n",
       "      <td>5.373</td>\n",
       "    </tr>\n",
       "    <tr>\n",
       "      <th>DifficultyErrands</th>\n",
       "      <td>419476</td>\n",
       "      <td>25656</td>\n",
       "      <td>5.764</td>\n",
       "    </tr>\n",
       "  </tbody>\n",
       "</table>\n",
       "</div>"
      ],
      "text/plain": [
       "                           Non-Null Count  Missing Count  Missing Percentage\n",
       "DeafOrHardOfHearing                424485          20647               4.638\n",
       "BlindOrVisionDifficulty            423568          21564               4.844\n",
       "DifficultyConcentrating            420892          24240               5.446\n",
       "DifficultyWalking                  421120          24012               5.394\n",
       "DifficultyDressingBathing          421217          23915               5.373\n",
       "DifficultyErrands                  419476          25656               5.764"
      ]
     },
     "metadata": {},
     "output_type": "display_data"
    }
   ],
   "source": [
    "display(pd.DataFrame({\n",
    "    'Non-Null Count': Data_disability.count(),\n",
    "    'Missing Count': Data_disability.isna().sum(),\n",
    "    'Missing Percentage': (Data_disability.isna().sum() / len(Data_disability) * 100).round(3),\n",
    "}))\n"
   ]
  },
  {
   "cell_type": "code",
   "execution_count": 465,
   "id": "72baaff0",
   "metadata": {},
   "outputs": [],
   "source": [
    "disability_columns = ['DeafOrHardOfHearing','BlindOrVisionDifficulty','DifficultyConcentrating',\n",
    "                    'DifficultyWalking','DifficultyDressingBathing','DifficultyErrands']\n",
    "Data.dropna(subset=disability_columns,inplace=True)"
   ]
  },
  {
   "cell_type": "code",
   "execution_count": 466,
   "id": "2c9ce6aa",
   "metadata": {},
   "outputs": [
    {
     "data": {
      "text/plain": [
       "DeafOrHardOfHearing          0\n",
       "BlindOrVisionDifficulty      0\n",
       "DifficultyConcentrating      0\n",
       "DifficultyWalking            0\n",
       "DifficultyDressingBathing    0\n",
       "DifficultyErrands            0\n",
       "dtype: int64"
      ]
     },
     "execution_count": 466,
     "metadata": {},
     "output_type": "execute_result"
    }
   ],
   "source": [
    "Data[disability_columns].isna().sum()"
   ]
  },
  {
   "cell_type": "code",
   "execution_count": 467,
   "id": "a7fc6027",
   "metadata": {},
   "outputs": [
    {
     "name": "stdout",
     "output_type": "stream",
     "text": [
      "\n",
      "DeafOrHardOfHearing : 2 unique values\n",
      "['No' 'Yes']\n",
      "\n",
      "BlindOrVisionDifficulty : 2 unique values\n",
      "['No' 'Yes']\n",
      "\n",
      "DifficultyConcentrating : 2 unique values\n",
      "['No' 'Yes']\n",
      "\n",
      "DifficultyWalking : 2 unique values\n",
      "['No' 'Yes']\n",
      "\n",
      "DifficultyDressingBathing : 2 unique values\n",
      "['No' 'Yes']\n",
      "\n",
      "DifficultyErrands : 2 unique values\n",
      "['No' 'Yes']\n"
     ]
    }
   ],
   "source": [
    "for col in Data[disability_columns]:\n",
    "    print(f\"\\n{col} : {Data[col].nunique()} unique values\")\n",
    "    print(Data[col].unique())\n"
   ]
  },
  {
   "cell_type": "code",
   "execution_count": 468,
   "id": "c082ce46",
   "metadata": {},
   "outputs": [],
   "source": [
    "Data[disability_columns] = Data[disability_columns].replace({'Yes':1,'No':0})\n"
   ]
  },
  {
   "cell_type": "markdown",
   "id": "de085e4a",
   "metadata": {},
   "source": [
    "### STEP : cleaning <b>Body features </b>\n",
    "We handled missing values in the HeightInMeters, WeightInKilograms, and BMI columns carefully to ensure realistic and consistent data.\n",
    "Since the missing proportion was small, missing values were replaced using the `median` , which is `less sensitive` to outliers and preserves the overall data distribution.\n",
    "All extreme values were examined and retained, as they represent possible real human variations.\n",
    "\n",
    "The outliers were real values but rare so not deleted.\n",
    "\n",
    "For the RemovedTeeth column, which contained categorical responses (None of them, 1 to 5, 6 or more, but not all, All), missing values were filled based on the `Mode` becouse, the missing proportion was small.\n"
   ]
  },
  {
   "cell_type": "code",
   "execution_count": 469,
   "id": "1a42c830",
   "metadata": {},
   "outputs": [
    {
     "data": {
      "text/html": [
       "<div>\n",
       "<style scoped>\n",
       "    .dataframe tbody tr th:only-of-type {\n",
       "        vertical-align: middle;\n",
       "    }\n",
       "\n",
       "    .dataframe tbody tr th {\n",
       "        vertical-align: top;\n",
       "    }\n",
       "\n",
       "    .dataframe thead th {\n",
       "        text-align: right;\n",
       "    }\n",
       "</style>\n",
       "<table border=\"1\" class=\"dataframe\">\n",
       "  <thead>\n",
       "    <tr style=\"text-align: right;\">\n",
       "      <th></th>\n",
       "      <th>HeightInMeters</th>\n",
       "      <th>WeightInKilograms</th>\n",
       "      <th>BMI</th>\n",
       "      <th>RemovedTeeth</th>\n",
       "    </tr>\n",
       "  </thead>\n",
       "  <tbody>\n",
       "    <tr>\n",
       "      <th>105474</th>\n",
       "      <td>1.75</td>\n",
       "      <td>102.06</td>\n",
       "      <td>33.23</td>\n",
       "      <td>1 to 5</td>\n",
       "    </tr>\n",
       "    <tr>\n",
       "      <th>17087</th>\n",
       "      <td>1.88</td>\n",
       "      <td>83.91</td>\n",
       "      <td>23.75</td>\n",
       "      <td>6 or more, but not all</td>\n",
       "    </tr>\n",
       "    <tr>\n",
       "      <th>232021</th>\n",
       "      <td>1.83</td>\n",
       "      <td>92.99</td>\n",
       "      <td>27.80</td>\n",
       "      <td>All</td>\n",
       "    </tr>\n",
       "    <tr>\n",
       "      <th>85670</th>\n",
       "      <td>1.60</td>\n",
       "      <td>89.81</td>\n",
       "      <td>35.07</td>\n",
       "      <td>None of them</td>\n",
       "    </tr>\n",
       "    <tr>\n",
       "      <th>50283</th>\n",
       "      <td>1.68</td>\n",
       "      <td>72.57</td>\n",
       "      <td>25.82</td>\n",
       "      <td>None of them</td>\n",
       "    </tr>\n",
       "  </tbody>\n",
       "</table>\n",
       "</div>"
      ],
      "text/plain": [
       "        HeightInMeters  WeightInKilograms    BMI            RemovedTeeth\n",
       "105474            1.75             102.06  33.23                  1 to 5\n",
       "17087             1.88              83.91  23.75  6 or more, but not all\n",
       "232021            1.83              92.99  27.80                     All\n",
       "85670             1.60              89.81  35.07            None of them\n",
       "50283             1.68              72.57  25.82            None of them"
      ]
     },
     "execution_count": 469,
     "metadata": {},
     "output_type": "execute_result"
    }
   ],
   "source": [
    "Data_body.sample(5)"
   ]
  },
  {
   "cell_type": "code",
   "execution_count": 470,
   "id": "abed4435",
   "metadata": {},
   "outputs": [
    {
     "name": "stdout",
     "output_type": "stream",
     "text": [
      "<class 'pandas.core.frame.DataFrame'>\n",
      "RangeIndex: 445132 entries, 0 to 445131\n",
      "Data columns (total 4 columns):\n",
      " #   Column             Non-Null Count   Dtype  \n",
      "---  ------             --------------   -----  \n",
      " 0   HeightInMeters     416480 non-null  float64\n",
      " 1   WeightInKilograms  403054 non-null  float64\n",
      " 2   BMI                396326 non-null  float64\n",
      " 3   RemovedTeeth       433772 non-null  object \n",
      "dtypes: float64(3), object(1)\n",
      "memory usage: 13.6+ MB\n"
     ]
    }
   ],
   "source": [
    "Data_body.info()"
   ]
  },
  {
   "cell_type": "code",
   "execution_count": 471,
   "id": "f7d6b18e",
   "metadata": {},
   "outputs": [
    {
     "data": {
      "text/html": [
       "<div>\n",
       "<style scoped>\n",
       "    .dataframe tbody tr th:only-of-type {\n",
       "        vertical-align: middle;\n",
       "    }\n",
       "\n",
       "    .dataframe tbody tr th {\n",
       "        vertical-align: top;\n",
       "    }\n",
       "\n",
       "    .dataframe thead th {\n",
       "        text-align: right;\n",
       "    }\n",
       "</style>\n",
       "<table border=\"1\" class=\"dataframe\">\n",
       "  <thead>\n",
       "    <tr style=\"text-align: right;\">\n",
       "      <th></th>\n",
       "      <th>HeightInMeters</th>\n",
       "      <th>WeightInKilograms</th>\n",
       "      <th>BMI</th>\n",
       "      <th>RemovedTeeth</th>\n",
       "    </tr>\n",
       "  </thead>\n",
       "  <tbody>\n",
       "    <tr>\n",
       "      <th>555</th>\n",
       "      <td>1.24</td>\n",
       "      <td>86.18</td>\n",
       "      <td>55.64</td>\n",
       "      <td>6 or more, but not all</td>\n",
       "    </tr>\n",
       "    <tr>\n",
       "      <th>874</th>\n",
       "      <td>1.22</td>\n",
       "      <td>136.08</td>\n",
       "      <td>91.55</td>\n",
       "      <td>1 to 5</td>\n",
       "    </tr>\n",
       "    <tr>\n",
       "      <th>902</th>\n",
       "      <td>1.22</td>\n",
       "      <td>44.91</td>\n",
       "      <td>30.21</td>\n",
       "      <td>All</td>\n",
       "    </tr>\n",
       "    <tr>\n",
       "      <th>1534</th>\n",
       "      <td>2.03</td>\n",
       "      <td>70.31</td>\n",
       "      <td>17.03</td>\n",
       "      <td>NaN</td>\n",
       "    </tr>\n",
       "    <tr>\n",
       "      <th>1551</th>\n",
       "      <td>2.01</td>\n",
       "      <td>95.25</td>\n",
       "      <td>23.66</td>\n",
       "      <td>NaN</td>\n",
       "    </tr>\n",
       "    <tr>\n",
       "      <th>...</th>\n",
       "      <td>...</td>\n",
       "      <td>...</td>\n",
       "      <td>...</td>\n",
       "      <td>...</td>\n",
       "    </tr>\n",
       "    <tr>\n",
       "      <th>444695</th>\n",
       "      <td>2.13</td>\n",
       "      <td>68.04</td>\n",
       "      <td>14.95</td>\n",
       "      <td>1 to 5</td>\n",
       "    </tr>\n",
       "    <tr>\n",
       "      <th>444721</th>\n",
       "      <td>1.27</td>\n",
       "      <td>63.50</td>\n",
       "      <td>39.37</td>\n",
       "      <td>None of them</td>\n",
       "    </tr>\n",
       "    <tr>\n",
       "      <th>444851</th>\n",
       "      <td>2.01</td>\n",
       "      <td>106.14</td>\n",
       "      <td>26.36</td>\n",
       "      <td>NaN</td>\n",
       "    </tr>\n",
       "    <tr>\n",
       "      <th>444939</th>\n",
       "      <td>1.35</td>\n",
       "      <td>63.05</td>\n",
       "      <td>34.79</td>\n",
       "      <td>6 or more, but not all</td>\n",
       "    </tr>\n",
       "    <tr>\n",
       "      <th>445109</th>\n",
       "      <td>1.35</td>\n",
       "      <td>36.29</td>\n",
       "      <td>20.02</td>\n",
       "      <td>None of them</td>\n",
       "    </tr>\n",
       "  </tbody>\n",
       "</table>\n",
       "<p>1556 rows × 4 columns</p>\n",
       "</div>"
      ],
      "text/plain": [
       "        HeightInMeters  WeightInKilograms    BMI            RemovedTeeth\n",
       "555               1.24              86.18  55.64  6 or more, but not all\n",
       "874               1.22             136.08  91.55                  1 to 5\n",
       "902               1.22              44.91  30.21                     All\n",
       "1534              2.03              70.31  17.03                     NaN\n",
       "1551              2.01              95.25  23.66                     NaN\n",
       "...                ...                ...    ...                     ...\n",
       "444695            2.13              68.04  14.95                  1 to 5\n",
       "444721            1.27              63.50  39.37            None of them\n",
       "444851            2.01             106.14  26.36                     NaN\n",
       "444939            1.35              63.05  34.79  6 or more, but not all\n",
       "445109            1.35              36.29  20.02            None of them\n",
       "\n",
       "[1556 rows x 4 columns]"
      ]
     },
     "execution_count": 471,
     "metadata": {},
     "output_type": "execute_result"
    }
   ],
   "source": [
    "outliers_height= detect_outliers(Data_body,'HeightInMeters')\n",
    "outliers_height"
   ]
  },
  {
   "cell_type": "code",
   "execution_count": 472,
   "id": "2198510b",
   "metadata": {},
   "outputs": [
    {
     "data": {
      "text/html": [
       "<div>\n",
       "<style scoped>\n",
       "    .dataframe tbody tr th:only-of-type {\n",
       "        vertical-align: middle;\n",
       "    }\n",
       "\n",
       "    .dataframe tbody tr th {\n",
       "        vertical-align: top;\n",
       "    }\n",
       "\n",
       "    .dataframe thead th {\n",
       "        text-align: right;\n",
       "    }\n",
       "</style>\n",
       "<table border=\"1\" class=\"dataframe\">\n",
       "  <thead>\n",
       "    <tr style=\"text-align: right;\">\n",
       "      <th></th>\n",
       "      <th>HeightInMeters</th>\n",
       "      <th>WeightInKilograms</th>\n",
       "      <th>BMI</th>\n",
       "      <th>RemovedTeeth</th>\n",
       "    </tr>\n",
       "  </thead>\n",
       "  <tbody>\n",
       "    <tr>\n",
       "      <th>48</th>\n",
       "      <td>1.73</td>\n",
       "      <td>136.08</td>\n",
       "      <td>45.61</td>\n",
       "      <td>NaN</td>\n",
       "    </tr>\n",
       "    <tr>\n",
       "      <th>142</th>\n",
       "      <td>1.60</td>\n",
       "      <td>145.15</td>\n",
       "      <td>56.68</td>\n",
       "      <td>NaN</td>\n",
       "    </tr>\n",
       "    <tr>\n",
       "      <th>158</th>\n",
       "      <td>1.83</td>\n",
       "      <td>158.76</td>\n",
       "      <td>47.47</td>\n",
       "      <td>NaN</td>\n",
       "    </tr>\n",
       "    <tr>\n",
       "      <th>208</th>\n",
       "      <td>1.63</td>\n",
       "      <td>136.08</td>\n",
       "      <td>51.49</td>\n",
       "      <td>NaN</td>\n",
       "    </tr>\n",
       "    <tr>\n",
       "      <th>336</th>\n",
       "      <td>1.85</td>\n",
       "      <td>136.08</td>\n",
       "      <td>39.58</td>\n",
       "      <td>NaN</td>\n",
       "    </tr>\n",
       "    <tr>\n",
       "      <th>...</th>\n",
       "      <td>...</td>\n",
       "      <td>...</td>\n",
       "      <td>...</td>\n",
       "      <td>...</td>\n",
       "    </tr>\n",
       "    <tr>\n",
       "      <th>444674</th>\n",
       "      <td>1.73</td>\n",
       "      <td>136.08</td>\n",
       "      <td>45.61</td>\n",
       "      <td>6 or more, but not all</td>\n",
       "    </tr>\n",
       "    <tr>\n",
       "      <th>444854</th>\n",
       "      <td>1.83</td>\n",
       "      <td>158.76</td>\n",
       "      <td>47.47</td>\n",
       "      <td>1 to 5</td>\n",
       "    </tr>\n",
       "    <tr>\n",
       "      <th>444987</th>\n",
       "      <td>1.83</td>\n",
       "      <td>170.10</td>\n",
       "      <td>50.86</td>\n",
       "      <td>1 to 5</td>\n",
       "    </tr>\n",
       "    <tr>\n",
       "      <th>445008</th>\n",
       "      <td>1.68</td>\n",
       "      <td>163.29</td>\n",
       "      <td>58.10</td>\n",
       "      <td>1 to 5</td>\n",
       "    </tr>\n",
       "    <tr>\n",
       "      <th>445081</th>\n",
       "      <td>1.73</td>\n",
       "      <td>142.88</td>\n",
       "      <td>47.90</td>\n",
       "      <td>6 or more, but not all</td>\n",
       "    </tr>\n",
       "  </tbody>\n",
       "</table>\n",
       "<p>9643 rows × 4 columns</p>\n",
       "</div>"
      ],
      "text/plain": [
       "        HeightInMeters  WeightInKilograms    BMI            RemovedTeeth\n",
       "48                1.73             136.08  45.61                     NaN\n",
       "142               1.60             145.15  56.68                     NaN\n",
       "158               1.83             158.76  47.47                     NaN\n",
       "208               1.63             136.08  51.49                     NaN\n",
       "336               1.85             136.08  39.58                     NaN\n",
       "...                ...                ...    ...                     ...\n",
       "444674            1.73             136.08  45.61  6 or more, but not all\n",
       "444854            1.83             158.76  47.47                  1 to 5\n",
       "444987            1.83             170.10  50.86                  1 to 5\n",
       "445008            1.68             163.29  58.10                  1 to 5\n",
       "445081            1.73             142.88  47.90  6 or more, but not all\n",
       "\n",
       "[9643 rows x 4 columns]"
      ]
     },
     "execution_count": 472,
     "metadata": {},
     "output_type": "execute_result"
    }
   ],
   "source": [
    "outliers_weight= detect_outliers(Data_body, 'WeightInKilograms')\n",
    "outliers_weight"
   ]
  },
  {
   "cell_type": "code",
   "execution_count": 473,
   "id": "6fc6abc3",
   "metadata": {},
   "outputs": [
    {
     "name": "stdout",
     "output_type": "stream",
     "text": [
      "Max height: 2.41\n",
      "Min height: 0.91\n",
      "Max weight: 292.57\n",
      "Min weight: 22.68\n"
     ]
    }
   ],
   "source": [
    "print(\"Max height:\", Data_body['HeightInMeters'].max())\n",
    "print(\"Min height:\", Data_body['HeightInMeters'].min())\n",
    "print(\"Max weight:\", Data_body['WeightInKilograms'].max())\n",
    "print(\"Min weight:\", Data_body['WeightInKilograms'].min())"
   ]
  },
  {
   "cell_type": "code",
   "execution_count": 474,
   "id": "16ab8e51",
   "metadata": {},
   "outputs": [
    {
     "data": {
      "text/html": [
       "<div>\n",
       "<style scoped>\n",
       "    .dataframe tbody tr th:only-of-type {\n",
       "        vertical-align: middle;\n",
       "    }\n",
       "\n",
       "    .dataframe tbody tr th {\n",
       "        vertical-align: top;\n",
       "    }\n",
       "\n",
       "    .dataframe thead th {\n",
       "        text-align: right;\n",
       "    }\n",
       "</style>\n",
       "<table border=\"1\" class=\"dataframe\">\n",
       "  <thead>\n",
       "    <tr style=\"text-align: right;\">\n",
       "      <th></th>\n",
       "      <th>Non-Null Count</th>\n",
       "      <th>Missing Count</th>\n",
       "      <th>Missing Percentage</th>\n",
       "    </tr>\n",
       "  </thead>\n",
       "  <tbody>\n",
       "    <tr>\n",
       "      <th>HeightInMeters</th>\n",
       "      <td>416480</td>\n",
       "      <td>28652</td>\n",
       "      <td>6.437</td>\n",
       "    </tr>\n",
       "    <tr>\n",
       "      <th>WeightInKilograms</th>\n",
       "      <td>403054</td>\n",
       "      <td>42078</td>\n",
       "      <td>9.453</td>\n",
       "    </tr>\n",
       "    <tr>\n",
       "      <th>BMI</th>\n",
       "      <td>396326</td>\n",
       "      <td>48806</td>\n",
       "      <td>10.964</td>\n",
       "    </tr>\n",
       "    <tr>\n",
       "      <th>RemovedTeeth</th>\n",
       "      <td>433772</td>\n",
       "      <td>11360</td>\n",
       "      <td>2.552</td>\n",
       "    </tr>\n",
       "  </tbody>\n",
       "</table>\n",
       "</div>"
      ],
      "text/plain": [
       "                   Non-Null Count  Missing Count  Missing Percentage\n",
       "HeightInMeters             416480          28652               6.437\n",
       "WeightInKilograms          403054          42078               9.453\n",
       "BMI                        396326          48806              10.964\n",
       "RemovedTeeth               433772          11360               2.552"
      ]
     },
     "metadata": {},
     "output_type": "display_data"
    }
   ],
   "source": [
    "display(pd.DataFrame({\n",
    "    'Non-Null Count': Data_body.count(),\n",
    "    'Missing Count': Data_body.isna().sum(),\n",
    "    'Missing Percentage': (Data_body.isna().sum() / len(Data_body) * 100).round(3),\n",
    "}))"
   ]
  },
  {
   "cell_type": "code",
   "execution_count": 475,
   "id": "c2f2026f",
   "metadata": {},
   "outputs": [
    {
     "name": "stdout",
     "output_type": "stream",
     "text": [
      "[nan 'None of them' '1 to 5' '6 or more, but not all' 'All']\n"
     ]
    }
   ],
   "source": [
    "print(Data_body['RemovedTeeth'].unique())"
   ]
  },
  {
   "cell_type": "code",
   "execution_count": 476,
   "id": "f5eb8dcc",
   "metadata": {},
   "outputs": [],
   "source": [
    "Data['HeightInMeters'].fillna(Data['HeightInMeters'].median(), inplace=True)\n",
    "Data['WeightInKilograms'].fillna(Data['WeightInKilograms'].median(), inplace=True)\n",
    "Data['BMI'] = (Data['WeightInKilograms'] / (Data['HeightInMeters'] ** 2)).round(2)\n",
    "Data['RemovedTeeth'].fillna(Data['RemovedTeeth'].mode()[0], inplace=True)"
   ]
  },
  {
   "cell_type": "code",
   "execution_count": 477,
   "id": "8761479b",
   "metadata": {},
   "outputs": [
    {
     "data": {
      "text/html": [
       "<div>\n",
       "<style scoped>\n",
       "    .dataframe tbody tr th:only-of-type {\n",
       "        vertical-align: middle;\n",
       "    }\n",
       "\n",
       "    .dataframe tbody tr th {\n",
       "        vertical-align: top;\n",
       "    }\n",
       "\n",
       "    .dataframe thead th {\n",
       "        text-align: right;\n",
       "    }\n",
       "</style>\n",
       "<table border=\"1\" class=\"dataframe\">\n",
       "  <thead>\n",
       "    <tr style=\"text-align: right;\">\n",
       "      <th></th>\n",
       "      <th>HeightInMeters</th>\n",
       "      <th>WeightInKilograms</th>\n",
       "      <th>BMI</th>\n",
       "      <th>RemovedTeeth</th>\n",
       "    </tr>\n",
       "  </thead>\n",
       "  <tbody>\n",
       "    <tr>\n",
       "      <th>268178</th>\n",
       "      <td>1.57</td>\n",
       "      <td>81.65</td>\n",
       "      <td>33.13</td>\n",
       "      <td>1 to 5</td>\n",
       "    </tr>\n",
       "    <tr>\n",
       "      <th>54334</th>\n",
       "      <td>1.70</td>\n",
       "      <td>86.18</td>\n",
       "      <td>29.82</td>\n",
       "      <td>None of them</td>\n",
       "    </tr>\n",
       "    <tr>\n",
       "      <th>253744</th>\n",
       "      <td>1.63</td>\n",
       "      <td>81.65</td>\n",
       "      <td>30.73</td>\n",
       "      <td>None of them</td>\n",
       "    </tr>\n",
       "    <tr>\n",
       "      <th>364571</th>\n",
       "      <td>1.73</td>\n",
       "      <td>113.40</td>\n",
       "      <td>37.89</td>\n",
       "      <td>None of them</td>\n",
       "    </tr>\n",
       "    <tr>\n",
       "      <th>403506</th>\n",
       "      <td>1.65</td>\n",
       "      <td>127.01</td>\n",
       "      <td>46.65</td>\n",
       "      <td>None of them</td>\n",
       "    </tr>\n",
       "  </tbody>\n",
       "</table>\n",
       "</div>"
      ],
      "text/plain": [
       "        HeightInMeters  WeightInKilograms    BMI  RemovedTeeth\n",
       "268178            1.57              81.65  33.13        1 to 5\n",
       "54334             1.70              86.18  29.82  None of them\n",
       "253744            1.63              81.65  30.73  None of them\n",
       "364571            1.73             113.40  37.89  None of them\n",
       "403506            1.65             127.01  46.65  None of them"
      ]
     },
     "execution_count": 477,
     "metadata": {},
     "output_type": "execute_result"
    }
   ],
   "source": [
    "body_columns = ['HeightInMeters','WeightInKilograms','BMI','RemovedTeeth']\n",
    "Data[body_columns].sample(5)"
   ]
  },
  {
   "cell_type": "code",
   "execution_count": 478,
   "id": "2ecd5c72",
   "metadata": {},
   "outputs": [
    {
     "data": {
      "text/plain": [
       "HeightInMeters       0\n",
       "WeightInKilograms    0\n",
       "BMI                  0\n",
       "RemovedTeeth         0\n",
       "dtype: int64"
      ]
     },
     "execution_count": 478,
     "metadata": {},
     "output_type": "execute_result"
    }
   ],
   "source": [
    "Data[body_columns].isna().sum()"
   ]
  },
  {
   "cell_type": "markdown",
   "id": "f94709d8",
   "metadata": {},
   "source": [
    "###  STEP: Cleaning **Vaccine Tests**\n",
    "\n",
    "We standardized the values in the **`TetanusLast10Tdap`** column by:\n",
    "- Replacing all valid entries with either **`Yes`** or **`No`**.\n",
    "- Handling and imputing **missing values** to maintain data consistency."
   ]
  },
  {
   "cell_type": "code",
   "execution_count": 479,
   "id": "4c9374c7",
   "metadata": {},
   "outputs": [
    {
     "data": {
      "text/html": [
       "<div>\n",
       "<style scoped>\n",
       "    .dataframe tbody tr th:only-of-type {\n",
       "        vertical-align: middle;\n",
       "    }\n",
       "\n",
       "    .dataframe tbody tr th {\n",
       "        vertical-align: top;\n",
       "    }\n",
       "\n",
       "    .dataframe thead th {\n",
       "        text-align: right;\n",
       "    }\n",
       "</style>\n",
       "<table border=\"1\" class=\"dataframe\">\n",
       "  <thead>\n",
       "    <tr style=\"text-align: right;\">\n",
       "      <th></th>\n",
       "      <th>ChestScan</th>\n",
       "      <th>HIVTesting</th>\n",
       "      <th>FluVaxLast12</th>\n",
       "      <th>PneumoVaxEver</th>\n",
       "      <th>TetanusLast10Tdap</th>\n",
       "      <th>HighRiskLastYear</th>\n",
       "    </tr>\n",
       "  </thead>\n",
       "  <tbody>\n",
       "    <tr>\n",
       "      <th>136074</th>\n",
       "      <td>No</td>\n",
       "      <td>No</td>\n",
       "      <td>No</td>\n",
       "      <td>NaN</td>\n",
       "      <td>No, did not receive any tetanus shot in the pa...</td>\n",
       "      <td>No</td>\n",
       "    </tr>\n",
       "    <tr>\n",
       "      <th>407106</th>\n",
       "      <td>No</td>\n",
       "      <td>No</td>\n",
       "      <td>No</td>\n",
       "      <td>No</td>\n",
       "      <td>Yes, received tetanus shot but not sure what type</td>\n",
       "      <td>No</td>\n",
       "    </tr>\n",
       "    <tr>\n",
       "      <th>320559</th>\n",
       "      <td>No</td>\n",
       "      <td>Yes</td>\n",
       "      <td>No</td>\n",
       "      <td>Yes</td>\n",
       "      <td>No, did not receive any tetanus shot in the pa...</td>\n",
       "      <td>No</td>\n",
       "    </tr>\n",
       "    <tr>\n",
       "      <th>435373</th>\n",
       "      <td>No</td>\n",
       "      <td>No</td>\n",
       "      <td>No</td>\n",
       "      <td>No</td>\n",
       "      <td>No, did not receive any tetanus shot in the pa...</td>\n",
       "      <td>No</td>\n",
       "    </tr>\n",
       "    <tr>\n",
       "      <th>4272</th>\n",
       "      <td>Yes</td>\n",
       "      <td>Yes</td>\n",
       "      <td>Yes</td>\n",
       "      <td>Yes</td>\n",
       "      <td>Yes, received Tdap</td>\n",
       "      <td>No</td>\n",
       "    </tr>\n",
       "  </tbody>\n",
       "</table>\n",
       "</div>"
      ],
      "text/plain": [
       "       ChestScan HIVTesting FluVaxLast12 PneumoVaxEver  \\\n",
       "136074        No         No           No           NaN   \n",
       "407106        No         No           No            No   \n",
       "320559        No        Yes           No           Yes   \n",
       "435373        No         No           No            No   \n",
       "4272         Yes        Yes          Yes           Yes   \n",
       "\n",
       "                                        TetanusLast10Tdap HighRiskLastYear  \n",
       "136074  No, did not receive any tetanus shot in the pa...               No  \n",
       "407106  Yes, received tetanus shot but not sure what type               No  \n",
       "320559  No, did not receive any tetanus shot in the pa...               No  \n",
       "435373  No, did not receive any tetanus shot in the pa...               No  \n",
       "4272                                   Yes, received Tdap               No  "
      ]
     },
     "execution_count": 479,
     "metadata": {},
     "output_type": "execute_result"
    }
   ],
   "source": [
    "Data_vaccine.sample(5)"
   ]
  },
  {
   "cell_type": "code",
   "execution_count": 480,
   "id": "18a10500",
   "metadata": {},
   "outputs": [
    {
     "name": "stdout",
     "output_type": "stream",
     "text": [
      "<class 'pandas.core.frame.DataFrame'>\n",
      "RangeIndex: 445132 entries, 0 to 445131\n",
      "Data columns (total 6 columns):\n",
      " #   Column             Non-Null Count   Dtype \n",
      "---  ------             --------------   ----- \n",
      " 0   ChestScan          389086 non-null  object\n",
      " 1   HIVTesting         379005 non-null  object\n",
      " 2   FluVaxLast12       398011 non-null  object\n",
      " 3   PneumoVaxEver      368092 non-null  object\n",
      " 4   TetanusLast10Tdap  362616 non-null  object\n",
      " 5   HighRiskLastYear   394509 non-null  object\n",
      "dtypes: object(6)\n",
      "memory usage: 20.4+ MB\n"
     ]
    }
   ],
   "source": [
    "Data_vaccine.info()"
   ]
  },
  {
   "cell_type": "code",
   "execution_count": 481,
   "id": "28290db7",
   "metadata": {},
   "outputs": [
    {
     "data": {
      "text/html": [
       "<div>\n",
       "<style scoped>\n",
       "    .dataframe tbody tr th:only-of-type {\n",
       "        vertical-align: middle;\n",
       "    }\n",
       "\n",
       "    .dataframe tbody tr th {\n",
       "        vertical-align: top;\n",
       "    }\n",
       "\n",
       "    .dataframe thead th {\n",
       "        text-align: right;\n",
       "    }\n",
       "</style>\n",
       "<table border=\"1\" class=\"dataframe\">\n",
       "  <thead>\n",
       "    <tr style=\"text-align: right;\">\n",
       "      <th></th>\n",
       "      <th>ChestScan</th>\n",
       "      <th>HIVTesting</th>\n",
       "      <th>FluVaxLast12</th>\n",
       "      <th>PneumoVaxEver</th>\n",
       "      <th>TetanusLast10Tdap</th>\n",
       "      <th>HighRiskLastYear</th>\n",
       "    </tr>\n",
       "  </thead>\n",
       "  <tbody>\n",
       "    <tr>\n",
       "      <th>count</th>\n",
       "      <td>389086</td>\n",
       "      <td>379005</td>\n",
       "      <td>398011</td>\n",
       "      <td>368092</td>\n",
       "      <td>362616</td>\n",
       "      <td>394509</td>\n",
       "    </tr>\n",
       "    <tr>\n",
       "      <th>unique</th>\n",
       "      <td>2</td>\n",
       "      <td>2</td>\n",
       "      <td>2</td>\n",
       "      <td>2</td>\n",
       "      <td>4</td>\n",
       "      <td>2</td>\n",
       "    </tr>\n",
       "    <tr>\n",
       "      <th>top</th>\n",
       "      <td>No</td>\n",
       "      <td>No</td>\n",
       "      <td>Yes</td>\n",
       "      <td>No</td>\n",
       "      <td>No, did not receive any tetanus shot in the pa...</td>\n",
       "      <td>No</td>\n",
       "    </tr>\n",
       "    <tr>\n",
       "      <th>freq</th>\n",
       "      <td>223221</td>\n",
       "      <td>249919</td>\n",
       "      <td>209256</td>\n",
       "      <td>215604</td>\n",
       "      <td>121493</td>\n",
       "      <td>377324</td>\n",
       "    </tr>\n",
       "  </tbody>\n",
       "</table>\n",
       "</div>"
      ],
      "text/plain": [
       "       ChestScan HIVTesting FluVaxLast12 PneumoVaxEver  \\\n",
       "count     389086     379005       398011        368092   \n",
       "unique         2          2            2             2   \n",
       "top           No         No          Yes            No   \n",
       "freq      223221     249919       209256        215604   \n",
       "\n",
       "                                        TetanusLast10Tdap HighRiskLastYear  \n",
       "count                                              362616           394509  \n",
       "unique                                                  4                2  \n",
       "top     No, did not receive any tetanus shot in the pa...               No  \n",
       "freq                                               121493           377324  "
      ]
     },
     "execution_count": 481,
     "metadata": {},
     "output_type": "execute_result"
    }
   ],
   "source": [
    "Data_vaccine.describe()"
   ]
  },
  {
   "cell_type": "code",
   "execution_count": 482,
   "id": "0a104258",
   "metadata": {},
   "outputs": [
    {
     "data": {
      "text/plain": [
       "array(['Yes, received tetanus shot but not sure what type',\n",
       "       'No, did not receive any tetanus shot in the past 10 years', nan,\n",
       "       'Yes, received Tdap', 'Yes, received tetanus shot, but not Tdap'],\n",
       "      dtype=object)"
      ]
     },
     "execution_count": 482,
     "metadata": {},
     "output_type": "execute_result"
    }
   ],
   "source": [
    "Data_vaccine['TetanusLast10Tdap'].unique()"
   ]
  },
  {
   "cell_type": "code",
   "execution_count": 483,
   "id": "b042ad68",
   "metadata": {},
   "outputs": [],
   "source": [
    "Data['TetanusLast10Tdap'].replace({'Yes, received tetanus shot but not sure what type': 'Yes',\n",
    "                                           'No, did not receive any tetanus shot in the past 10 years': 'No',\n",
    "                                           'Yes, received Tdap': 'Yes',\n",
    "                                           'Yes, received tetanus shot, but not Tdap': 'Yes'}, inplace=True)"
   ]
  },
  {
   "cell_type": "code",
   "execution_count": 484,
   "id": "562534c1",
   "metadata": {},
   "outputs": [
    {
     "data": {
      "text/plain": [
       "ChestScan            56046\n",
       "HIVTesting           66127\n",
       "FluVaxLast12         47121\n",
       "PneumoVaxEver        77040\n",
       "TetanusLast10Tdap    82516\n",
       "HighRiskLastYear     50623\n",
       "dtype: int64"
      ]
     },
     "metadata": {},
     "output_type": "display_data"
    }
   ],
   "source": [
    "display(Data_vaccine.isna().sum())"
   ]
  },
  {
   "cell_type": "code",
   "execution_count": 485,
   "id": "384c13d6",
   "metadata": {},
   "outputs": [
    {
     "data": {
      "text/plain": [
       "(273614, 40)"
      ]
     },
     "execution_count": 485,
     "metadata": {},
     "output_type": "execute_result"
    }
   ],
   "source": [
    "Data.dropna(subset=Data_vaccine.columns, inplace=True)\n",
    "Data.shape"
   ]
  },
  {
   "cell_type": "code",
   "execution_count": 486,
   "id": "850a1e71",
   "metadata": {},
   "outputs": [
    {
     "data": {
      "text/plain": [
       "ChestScan            0\n",
       "HIVTesting           0\n",
       "FluVaxLast12         0\n",
       "PneumoVaxEver        0\n",
       "TetanusLast10Tdap    0\n",
       "HighRiskLastYear     0\n",
       "dtype: int64"
      ]
     },
     "execution_count": 486,
     "metadata": {},
     "output_type": "execute_result"
    }
   ],
   "source": [
    "Data[Data_vaccine.columns].isna().sum()"
   ]
  },
  {
   "cell_type": "code",
   "execution_count": 487,
   "id": "d26d1fcd",
   "metadata": {},
   "outputs": [],
   "source": [
    "Data[Data_vaccine.columns]=Data[Data_vaccine.columns].replace({'Yes':1,'No':0})"
   ]
  },
  {
   "cell_type": "code",
   "execution_count": 488,
   "id": "8708bf0a",
   "metadata": {},
   "outputs": [
    {
     "data": {
      "text/html": [
       "<div>\n",
       "<style scoped>\n",
       "    .dataframe tbody tr th:only-of-type {\n",
       "        vertical-align: middle;\n",
       "    }\n",
       "\n",
       "    .dataframe tbody tr th {\n",
       "        vertical-align: top;\n",
       "    }\n",
       "\n",
       "    .dataframe thead th {\n",
       "        text-align: right;\n",
       "    }\n",
       "</style>\n",
       "<table border=\"1\" class=\"dataframe\">\n",
       "  <thead>\n",
       "    <tr style=\"text-align: right;\">\n",
       "      <th></th>\n",
       "      <th>ChestScan</th>\n",
       "      <th>HIVTesting</th>\n",
       "      <th>FluVaxLast12</th>\n",
       "      <th>PneumoVaxEver</th>\n",
       "      <th>TetanusLast10Tdap</th>\n",
       "      <th>HighRiskLastYear</th>\n",
       "    </tr>\n",
       "  </thead>\n",
       "  <tbody>\n",
       "    <tr>\n",
       "      <th>0</th>\n",
       "      <td>0</td>\n",
       "      <td>0</td>\n",
       "      <td>1</td>\n",
       "      <td>0</td>\n",
       "      <td>1</td>\n",
       "      <td>0</td>\n",
       "    </tr>\n",
       "    <tr>\n",
       "      <th>1</th>\n",
       "      <td>0</td>\n",
       "      <td>0</td>\n",
       "      <td>0</td>\n",
       "      <td>0</td>\n",
       "      <td>0</td>\n",
       "      <td>0</td>\n",
       "    </tr>\n",
       "    <tr>\n",
       "      <th>3</th>\n",
       "      <td>1</td>\n",
       "      <td>0</td>\n",
       "      <td>1</td>\n",
       "      <td>1</td>\n",
       "      <td>0</td>\n",
       "      <td>0</td>\n",
       "    </tr>\n",
       "    <tr>\n",
       "      <th>4</th>\n",
       "      <td>1</td>\n",
       "      <td>0</td>\n",
       "      <td>0</td>\n",
       "      <td>1</td>\n",
       "      <td>0</td>\n",
       "      <td>0</td>\n",
       "    </tr>\n",
       "    <tr>\n",
       "      <th>5</th>\n",
       "      <td>0</td>\n",
       "      <td>0</td>\n",
       "      <td>0</td>\n",
       "      <td>1</td>\n",
       "      <td>0</td>\n",
       "      <td>0</td>\n",
       "    </tr>\n",
       "    <tr>\n",
       "      <th>...</th>\n",
       "      <td>...</td>\n",
       "      <td>...</td>\n",
       "      <td>...</td>\n",
       "      <td>...</td>\n",
       "      <td>...</td>\n",
       "      <td>...</td>\n",
       "    </tr>\n",
       "    <tr>\n",
       "      <th>445123</th>\n",
       "      <td>0</td>\n",
       "      <td>0</td>\n",
       "      <td>0</td>\n",
       "      <td>0</td>\n",
       "      <td>0</td>\n",
       "      <td>0</td>\n",
       "    </tr>\n",
       "    <tr>\n",
       "      <th>445124</th>\n",
       "      <td>0</td>\n",
       "      <td>1</td>\n",
       "      <td>1</td>\n",
       "      <td>1</td>\n",
       "      <td>1</td>\n",
       "      <td>0</td>\n",
       "    </tr>\n",
       "    <tr>\n",
       "      <th>445128</th>\n",
       "      <td>0</td>\n",
       "      <td>1</td>\n",
       "      <td>1</td>\n",
       "      <td>0</td>\n",
       "      <td>1</td>\n",
       "      <td>0</td>\n",
       "    </tr>\n",
       "    <tr>\n",
       "      <th>445130</th>\n",
       "      <td>1</td>\n",
       "      <td>1</td>\n",
       "      <td>1</td>\n",
       "      <td>1</td>\n",
       "      <td>0</td>\n",
       "      <td>0</td>\n",
       "    </tr>\n",
       "    <tr>\n",
       "      <th>445131</th>\n",
       "      <td>1</td>\n",
       "      <td>0</td>\n",
       "      <td>0</td>\n",
       "      <td>0</td>\n",
       "      <td>1</td>\n",
       "      <td>0</td>\n",
       "    </tr>\n",
       "  </tbody>\n",
       "</table>\n",
       "<p>273614 rows × 6 columns</p>\n",
       "</div>"
      ],
      "text/plain": [
       "        ChestScan  HIVTesting  FluVaxLast12  PneumoVaxEver  TetanusLast10Tdap  \\\n",
       "0               0           0             1              0                  1   \n",
       "1               0           0             0              0                  0   \n",
       "3               1           0             1              1                  0   \n",
       "4               1           0             0              1                  0   \n",
       "5               0           0             0              1                  0   \n",
       "...           ...         ...           ...            ...                ...   \n",
       "445123          0           0             0              0                  0   \n",
       "445124          0           1             1              1                  1   \n",
       "445128          0           1             1              0                  1   \n",
       "445130          1           1             1              1                  0   \n",
       "445131          1           0             0              0                  1   \n",
       "\n",
       "        HighRiskLastYear  \n",
       "0                      0  \n",
       "1                      0  \n",
       "3                      0  \n",
       "4                      0  \n",
       "5                      0  \n",
       "...                  ...  \n",
       "445123                 0  \n",
       "445124                 0  \n",
       "445128                 0  \n",
       "445130                 0  \n",
       "445131                 0  \n",
       "\n",
       "[273614 rows x 6 columns]"
      ]
     },
     "execution_count": 488,
     "metadata": {},
     "output_type": "execute_result"
    }
   ],
   "source": [
    "Data[Data_vaccine.columns]"
   ]
  },
  {
   "cell_type": "markdown",
   "id": "92c7fdd8",
   "metadata": {},
   "source": [
    "###  Step: Cleaning <b>Target Features</b>\n",
    "\n",
    "We reviewed the target columns to ensure completeness and consistency.  \n",
    "Missing values were identified and handled to maintain data reliability.  \n",
    "This step prepares the target variables for accurate model training and evaluation.\n"
   ]
  },
  {
   "cell_type": "code",
   "execution_count": 489,
   "id": "3dd9f7e5",
   "metadata": {},
   "outputs": [
    {
     "data": {
      "text/html": [
       "<div>\n",
       "<style scoped>\n",
       "    .dataframe tbody tr th:only-of-type {\n",
       "        vertical-align: middle;\n",
       "    }\n",
       "\n",
       "    .dataframe tbody tr th {\n",
       "        vertical-align: top;\n",
       "    }\n",
       "\n",
       "    .dataframe thead th {\n",
       "        text-align: right;\n",
       "    }\n",
       "</style>\n",
       "<table border=\"1\" class=\"dataframe\">\n",
       "  <thead>\n",
       "    <tr style=\"text-align: right;\">\n",
       "      <th></th>\n",
       "      <th>HadHeartAttack</th>\n",
       "      <th>CovidPos</th>\n",
       "    </tr>\n",
       "  </thead>\n",
       "  <tbody>\n",
       "    <tr>\n",
       "      <th>62160</th>\n",
       "      <td>No</td>\n",
       "      <td>NaN</td>\n",
       "    </tr>\n",
       "    <tr>\n",
       "      <th>185874</th>\n",
       "      <td>No</td>\n",
       "      <td>No</td>\n",
       "    </tr>\n",
       "    <tr>\n",
       "      <th>348854</th>\n",
       "      <td>No</td>\n",
       "      <td>NaN</td>\n",
       "    </tr>\n",
       "    <tr>\n",
       "      <th>250599</th>\n",
       "      <td>No</td>\n",
       "      <td>No</td>\n",
       "    </tr>\n",
       "    <tr>\n",
       "      <th>155145</th>\n",
       "      <td>No</td>\n",
       "      <td>Yes</td>\n",
       "    </tr>\n",
       "  </tbody>\n",
       "</table>\n",
       "</div>"
      ],
      "text/plain": [
       "       HadHeartAttack CovidPos\n",
       "62160              No      NaN\n",
       "185874             No       No\n",
       "348854             No      NaN\n",
       "250599             No       No\n",
       "155145             No      Yes"
      ]
     },
     "execution_count": 489,
     "metadata": {},
     "output_type": "execute_result"
    }
   ],
   "source": [
    "target.sample(5)"
   ]
  },
  {
   "cell_type": "code",
   "execution_count": 490,
   "id": "7c57b03d",
   "metadata": {},
   "outputs": [
    {
     "name": "stdout",
     "output_type": "stream",
     "text": [
      "<class 'pandas.core.frame.DataFrame'>\n",
      "RangeIndex: 445132 entries, 0 to 445131\n",
      "Data columns (total 2 columns):\n",
      " #   Column          Non-Null Count   Dtype \n",
      "---  ------          --------------   ----- \n",
      " 0   HadHeartAttack  442067 non-null  object\n",
      " 1   CovidPos        394368 non-null  object\n",
      "dtypes: object(2)\n",
      "memory usage: 6.8+ MB\n"
     ]
    }
   ],
   "source": [
    "target.info()"
   ]
  },
  {
   "cell_type": "code",
   "execution_count": 491,
   "id": "299e14b1",
   "metadata": {},
   "outputs": [
    {
     "data": {
      "text/html": [
       "<div>\n",
       "<style scoped>\n",
       "    .dataframe tbody tr th:only-of-type {\n",
       "        vertical-align: middle;\n",
       "    }\n",
       "\n",
       "    .dataframe tbody tr th {\n",
       "        vertical-align: top;\n",
       "    }\n",
       "\n",
       "    .dataframe thead th {\n",
       "        text-align: right;\n",
       "    }\n",
       "</style>\n",
       "<table border=\"1\" class=\"dataframe\">\n",
       "  <thead>\n",
       "    <tr style=\"text-align: right;\">\n",
       "      <th></th>\n",
       "      <th>HadHeartAttack</th>\n",
       "      <th>CovidPos</th>\n",
       "    </tr>\n",
       "  </thead>\n",
       "  <tbody>\n",
       "    <tr>\n",
       "      <th>count</th>\n",
       "      <td>442067</td>\n",
       "      <td>394368</td>\n",
       "    </tr>\n",
       "    <tr>\n",
       "      <th>unique</th>\n",
       "      <td>2</td>\n",
       "      <td>3</td>\n",
       "    </tr>\n",
       "    <tr>\n",
       "      <th>top</th>\n",
       "      <td>No</td>\n",
       "      <td>No</td>\n",
       "    </tr>\n",
       "    <tr>\n",
       "      <th>freq</th>\n",
       "      <td>416959</td>\n",
       "      <td>270055</td>\n",
       "    </tr>\n",
       "  </tbody>\n",
       "</table>\n",
       "</div>"
      ],
      "text/plain": [
       "       HadHeartAttack CovidPos\n",
       "count          442067   394368\n",
       "unique              2        3\n",
       "top                No       No\n",
       "freq           416959   270055"
      ]
     },
     "execution_count": 491,
     "metadata": {},
     "output_type": "execute_result"
    }
   ],
   "source": [
    "target.describe()"
   ]
  },
  {
   "cell_type": "code",
   "execution_count": 492,
   "id": "13bf907a",
   "metadata": {},
   "outputs": [
    {
     "data": {
      "text/plain": [
       "HadHeartAttack     3065\n",
       "CovidPos          50764\n",
       "dtype: int64"
      ]
     },
     "execution_count": 492,
     "metadata": {},
     "output_type": "execute_result"
    }
   ],
   "source": [
    "target.isna().sum()"
   ]
  },
  {
   "cell_type": "code",
   "execution_count": 493,
   "id": "11a92bba",
   "metadata": {},
   "outputs": [],
   "source": [
    "Data.drop(columns='CovidPos',axis=1,inplace=True)"
   ]
  },
  {
   "cell_type": "code",
   "execution_count": 494,
   "id": "122fc628",
   "metadata": {},
   "outputs": [],
   "source": [
    "Data.dropna(subset=['HadHeartAttack'], inplace=True)"
   ]
  },
  {
   "cell_type": "code",
   "execution_count": 495,
   "id": "c7d7e0a6",
   "metadata": {},
   "outputs": [
    {
     "data": {
      "text/plain": [
       "State                        0\n",
       "Sex                          0\n",
       "GeneralHealth                0\n",
       "PhysicalHealthDays           0\n",
       "MentalHealthDays             0\n",
       "LastCheckupTime              0\n",
       "PhysicalActivities           0\n",
       "SleepHours                   0\n",
       "RemovedTeeth                 0\n",
       "HadHeartAttack               0\n",
       "HadAngina                    0\n",
       "HadStroke                    0\n",
       "HadAsthma                    0\n",
       "HadSkinCancer                0\n",
       "HadCOPD                      0\n",
       "HadDepressiveDisorder        0\n",
       "HadKidneyDisease             0\n",
       "HadArthritis                 0\n",
       "HadDiabetes                  0\n",
       "DeafOrHardOfHearing          0\n",
       "BlindOrVisionDifficulty      0\n",
       "DifficultyConcentrating      0\n",
       "DifficultyWalking            0\n",
       "DifficultyDressingBathing    0\n",
       "DifficultyErrands            0\n",
       "SmokerStatus                 0\n",
       "ECigaretteUsage              0\n",
       "ChestScan                    0\n",
       "RaceEthnicityCategory        0\n",
       "AgeCategory                  0\n",
       "HeightInMeters               0\n",
       "WeightInKilograms            0\n",
       "BMI                          0\n",
       "AlcoholDrinkers              0\n",
       "HIVTesting                   0\n",
       "FluVaxLast12                 0\n",
       "PneumoVaxEver                0\n",
       "TetanusLast10Tdap            0\n",
       "HighRiskLastYear             0\n",
       "dtype: int64"
      ]
     },
     "execution_count": 495,
     "metadata": {},
     "output_type": "execute_result"
    }
   ],
   "source": [
    "Data.isna().sum()"
   ]
  },
  {
   "cell_type": "code",
   "execution_count": 498,
   "id": "b56112ea",
   "metadata": {},
   "outputs": [
    {
     "data": {
      "text/plain": [
       "(273614, 39)"
      ]
     },
     "execution_count": 498,
     "metadata": {},
     "output_type": "execute_result"
    }
   ],
   "source": [
    "Data.shape"
   ]
  },
  {
   "cell_type": "code",
   "execution_count": 497,
   "id": "cfe9a50b",
   "metadata": {},
   "outputs": [
    {
     "data": {
      "text/plain": [
       "State     Sex     GeneralHealth  PhysicalHealthDays  MentalHealthDays  LastCheckupTime                                          PhysicalActivities  SleepHours  RemovedTeeth            HadHeartAttack  HadAngina  HadStroke  HadAsthma  HadSkinCancer  HadCOPD  HadDepressiveDisorder  HadKidneyDisease  HadArthritis  HadDiabetes  DeafOrHardOfHearing  BlindOrVisionDifficulty  DifficultyConcentrating  DifficultyWalking  DifficultyDressingBathing  DifficultyErrands  SmokerStatus   ECigaretteUsage                            ChestScan  RaceEthnicityCategory     AgeCategory   HeightInMeters  WeightInKilograms  BMI    AlcoholDrinkers  HIVTesting  FluVaxLast12  PneumoVaxEver  TetanusLast10Tdap  HighRiskLastYear\n",
       "Alaska    Male    Very good      1.0                 0.0               Within past year (anytime less than 12 months ago)       No                  9.0         1 to 5                  0               0          0          0          0              0        0                      0                 0             0            0                    0                        0                        0                  0                          0                  Never smoked   Never used e-cigarettes in my entire life  1          White only, Non-Hispanic  Age 55 to 59  1.93            158.76             42.62  No               1           0             1              1                  0                   2\n",
       "Maine     Female  Very good      0.0                 0.0               Within past year (anytime less than 12 months ago)       Yes                 9.0         6 or more, but not all  0               0          0          0          0              0        0                      0                 0             0            0                    0                        0                        0                  0                          0                  Former smoker  Never used e-cigarettes in my entire life  0          White only, Non-Hispanic  Age 60 to 64  1.50            44.00              19.56  Yes              0           0             0              1                  0                   2\n",
       "Maryland  Male    Excellent      0.0                 0.0               Within past year (anytime less than 12 months ago)       Yes                 8.0         None of them            0               0          0          0          0              0        0                      0                 0             0            0                    0                        0                        0                  0                          0                  Never smoked   Never used e-cigarettes in my entire life  0          White only, Non-Hispanic  Age 50 to 54  1.75            65.77              21.48  Yes              0           1             1              1                  0                   2\n",
       "Maine     Male    Excellent      0.0                 0.0               Within past year (anytime less than 12 months ago)       Yes                 7.0         None of them            0               0          0          0          0              0        0                      0                 0             0            0                    0                        0                        0                  0                          0                  Never smoked   Never used e-cigarettes in my entire life  0          White only, Non-Hispanic  Age 65 to 69  1.85            79.38              23.19  No               0           1             0              1                  0                   2\n",
       "Maryland  Female  Good           0.0                 0.0               Within past year (anytime less than 12 months ago)       Yes                 8.0         None of them            0               0          0          1          0              0        0                      0                 0             0            0                    0                        0                        0                  0                          0                  Former smoker  Never used e-cigarettes in my entire life  1          White only, Non-Hispanic  Age 65 to 69  1.65            45.36              16.66  Yes              0           1             1              1                  0                   2\n",
       "                                                                                                                                                                                                                                                                                                                                                                                                                                                                                                                                                                                                                                                                                                                                    ..\n",
       "Wyoming   Male    Very good      30.0                0.0               Within past 5 years (2 years but less than 5 years ago)  Yes                 7.0         None of them            0               0          0          0          1              0        0                      0                 1             0            0                    0                        0                        0                  0                          0                  Never smoked   Never used e-cigarettes in my entire life  1          White only, Non-Hispanic  Age 70 to 74  1.83            83.46              24.92  Yes              0           1             1              0                  0                   1\n",
       "                                                                       Within past year (anytime less than 12 months ago)       No                  8.0         None of them            0               0          0          0          0              0        0                      0                 0             0            1                    0                        0                        0                  0                          0                  Never smoked   Never used e-cigarettes in my entire life  1          White only, Non-Hispanic  Age 70 to 74  1.80            106.59             32.90  No               0           1             1              0                  0                   1\n",
       "                                                                                                                                Yes                 6.0         None of them            0               0          0          0          1              0        0                      0                 1             0            0                    0                        0                        0                  0                          0                  Never smoked   Never used e-cigarettes in my entire life  0          White only, Non-Hispanic  Age 65 to 69  1.93            117.03             31.42  No               1           0             0              1                  0                   1\n",
       "                                                                                                                                                    7.0         None of them            0               0          0          0          0              0        0                      0                 0             0            0                    0                        0                        0                  0                          0                  Never smoked   Never used e-cigarettes in my entire life  1          White only, Non-Hispanic  Age 55 to 59  1.85            79.38              23.19  Yes              0           0             0              1                  0                   1\n",
       "Alabama   Female  Excellent      0.0                 0.0               Within past year (anytime less than 12 months ago)       No                  8.0         None of them            0               0          0          0          0              0        0                      0                 0             0            0                    0                        0                        0                  0                          0                  Never smoked   Never used e-cigarettes in my entire life  0          Black only, Non-Hispanic  Age 18 to 24  1.47            49.90              23.09  Yes              1           0             0              0                  0                   1\n",
       "Name: count, Length: 273594, dtype: int64"
      ]
     },
     "execution_count": 497,
     "metadata": {},
     "output_type": "execute_result"
    }
   ],
   "source": [
    "Data.value_counts()"
   ]
  },
  {
   "cell_type": "code",
   "execution_count": 500,
   "id": "d7b0eea2",
   "metadata": {},
   "outputs": [],
   "source": [
    "Data.to_csv('Data_Heart_clean.csv', index=False)"
   ]
  }
 ],
 "metadata": {
  "kernelspec": {
   "display_name": "Python 3",
   "language": "python",
   "name": "python3"
  },
  "language_info": {
   "codemirror_mode": {
    "name": "ipython",
    "version": 3
   },
   "file_extension": ".py",
   "mimetype": "text/x-python",
   "name": "python",
   "nbconvert_exporter": "python",
   "pygments_lexer": "ipython3",
   "version": "3.13.6"
  }
 },
 "nbformat": 4,
 "nbformat_minor": 5
}
